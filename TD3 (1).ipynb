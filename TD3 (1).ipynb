{
 "cells": [
  {
   "cell_type": "markdown",
   "metadata": {},
   "source": [
    "# Sentiment Analysis of ARA Corpus"
   ]
  },
  {
   "cell_type": "markdown",
   "metadata": {},
   "source": [
    "**Outline:**\n",
    "1. Read raw data\n",
    "2. Text preprocessing & cleaning\n",
    "3. Document representation (feature vectors)\n",
    "4. Build sentiment classifier based on BOW vectors\n",
    "5. Build sentiment classifier based on fasstext vectors\n",
    "\n",
    "**What you need to do:** \n",
    "- Read and execute the source code below and answer the questions in **EXERCISE 1 - EXERCISE 4**.\n",
    "- **Submit** the modifiled file ``TD3.ipynb`` on google drive."
   ]
  },
  {
   "cell_type": "code",
   "execution_count": 1,
   "metadata": {},
   "outputs": [],
   "source": [
    "import pandas as pd\n",
    "import numpy as np"
   ]
  },
  {
   "cell_type": "code",
   "execution_count": 2,
   "metadata": {},
   "outputs": [],
   "source": [
    "from matplotlib import pyplot as plt\n",
    "%matplotlib inline\n",
    "\n",
    "# set the font size of plots\n",
    "plt.rcParams['font.size'] = 14"
   ]
  },
  {
   "cell_type": "code",
   "execution_count": 3,
   "metadata": {},
   "outputs": [],
   "source": [
    "np.set_printoptions(precision=3)"
   ]
  },
  {
   "cell_type": "markdown",
   "metadata": {},
   "source": [
    "*****"
   ]
  },
  {
   "cell_type": "markdown",
   "metadata": {},
   "source": [
    "## Read corpus\n",
    "We are going to use a different corpus. This corpus is already labelled."
   ]
  },
  {
   "cell_type": "code",
   "execution_count": 4,
   "metadata": {},
   "outputs": [],
   "source": [
    "corpus_files = [ './sentiment_data_ARA_pos.txt', './sentiment_data_ARA_neg.txt' ]"
   ]
  },
  {
   "cell_type": "code",
   "execution_count": 5,
   "metadata": {},
   "outputs": [],
   "source": [
    "def read_text_file(filename):\n",
    "    print('Reading file ' + filename + \"...\")\n",
    "    with open(filename, \"r\", encoding='utf8') as textfile:\n",
    "        L = []\n",
    "        for line in textfile:\n",
    "            L.append(line.strip())\n",
    "        print('File contains ', len(L), \"lines.\\n\")\n",
    "        return L"
   ]
  },
  {
   "cell_type": "code",
   "execution_count": 6,
   "metadata": {},
   "outputs": [
    {
     "name": "stdout",
     "output_type": "stream",
     "text": [
      "Reading file ./sentiment_data_ARA_pos.txt...\n"
     ]
    },
    {
     "ename": "FileNotFoundError",
     "evalue": "[Errno 2] No such file or directory: './sentiment_data_ARA_pos.txt'",
     "output_type": "error",
     "traceback": [
      "\u001b[1;31m---------------------------------------------------------------------------\u001b[0m",
      "\u001b[1;31mFileNotFoundError\u001b[0m                         Traceback (most recent call last)",
      "\u001b[1;32m<ipython-input-6-06ca0845943d>\u001b[0m in \u001b[0;36m<module>\u001b[1;34m()\u001b[0m\n\u001b[1;32m----> 1\u001b[1;33m \u001b[0mara_corpus_pos\u001b[0m \u001b[1;33m=\u001b[0m \u001b[0mread_text_file\u001b[0m\u001b[1;33m(\u001b[0m\u001b[0mcorpus_files\u001b[0m\u001b[1;33m[\u001b[0m\u001b[1;36m0\u001b[0m\u001b[1;33m]\u001b[0m\u001b[1;33m)\u001b[0m\u001b[1;33m\u001b[0m\u001b[0m\n\u001b[0m\u001b[0;32m      2\u001b[0m \u001b[0mara_corpus_neg\u001b[0m \u001b[1;33m=\u001b[0m \u001b[0mread_text_file\u001b[0m\u001b[1;33m(\u001b[0m\u001b[0mcorpus_files\u001b[0m\u001b[1;33m[\u001b[0m\u001b[1;36m1\u001b[0m\u001b[1;33m]\u001b[0m\u001b[1;33m)\u001b[0m\u001b[1;33m\u001b[0m\u001b[0m\n",
      "\u001b[1;32m<ipython-input-5-49b1960d4d0a>\u001b[0m in \u001b[0;36mread_text_file\u001b[1;34m(filename)\u001b[0m\n\u001b[0;32m      1\u001b[0m \u001b[1;32mdef\u001b[0m \u001b[0mread_text_file\u001b[0m\u001b[1;33m(\u001b[0m\u001b[0mfilename\u001b[0m\u001b[1;33m)\u001b[0m\u001b[1;33m:\u001b[0m\u001b[1;33m\u001b[0m\u001b[0m\n\u001b[0;32m      2\u001b[0m     \u001b[0mprint\u001b[0m\u001b[1;33m(\u001b[0m\u001b[1;34m'Reading file '\u001b[0m \u001b[1;33m+\u001b[0m \u001b[0mfilename\u001b[0m \u001b[1;33m+\u001b[0m \u001b[1;34m\"...\"\u001b[0m\u001b[1;33m)\u001b[0m\u001b[1;33m\u001b[0m\u001b[0m\n\u001b[1;32m----> 3\u001b[1;33m     \u001b[1;32mwith\u001b[0m \u001b[0mopen\u001b[0m\u001b[1;33m(\u001b[0m\u001b[0mfilename\u001b[0m\u001b[1;33m,\u001b[0m \u001b[1;34m\"r\"\u001b[0m\u001b[1;33m,\u001b[0m \u001b[0mencoding\u001b[0m\u001b[1;33m=\u001b[0m\u001b[1;34m'utf8'\u001b[0m\u001b[1;33m)\u001b[0m \u001b[1;32mas\u001b[0m \u001b[0mtextfile\u001b[0m\u001b[1;33m:\u001b[0m\u001b[1;33m\u001b[0m\u001b[0m\n\u001b[0m\u001b[0;32m      4\u001b[0m         \u001b[0mL\u001b[0m \u001b[1;33m=\u001b[0m \u001b[1;33m[\u001b[0m\u001b[1;33m]\u001b[0m\u001b[1;33m\u001b[0m\u001b[0m\n\u001b[0;32m      5\u001b[0m         \u001b[1;32mfor\u001b[0m \u001b[0mline\u001b[0m \u001b[1;32min\u001b[0m \u001b[0mtextfile\u001b[0m\u001b[1;33m:\u001b[0m\u001b[1;33m\u001b[0m\u001b[0m\n",
      "\u001b[1;31mFileNotFoundError\u001b[0m: [Errno 2] No such file or directory: './sentiment_data_ARA_pos.txt'"
     ]
    }
   ],
   "source": [
    "ara_corpus_pos = read_text_file(corpus_files[0])\n",
    "ara_corpus_neg = read_text_file(corpus_files[1])"
   ]
  },
  {
   "cell_type": "code",
   "execution_count": null,
   "metadata": {},
   "outputs": [],
   "source": [
    "## Verify corpus\n",
    "\n",
    "type(ara_corpus_pos),type(ara_corpus_neg)"
   ]
  },
  {
   "cell_type": "code",
   "execution_count": null,
   "metadata": {},
   "outputs": [],
   "source": [
    "len(ara_corpus_pos),len(ara_corpus_neg)"
   ]
  },
  {
   "cell_type": "code",
   "execution_count": null,
   "metadata": {},
   "outputs": [],
   "source": [
    "print(ara_corpus_pos[0])\n",
    "print(ara_corpus_neg[0])"
   ]
  },
  {
   "cell_type": "code",
   "execution_count": null,
   "metadata": {},
   "outputs": [],
   "source": [
    "## Combine pos and neg corpus into a single corpus for easy manipulation\n",
    "\n",
    "ara_corpus = ara_corpus_pos + ara_corpus_neg\n",
    "ara_corpus_sentiment = len(ara_corpus_pos)*[1] + len(ara_corpus_neg)*[-1]"
   ]
  },
  {
   "cell_type": "code",
   "execution_count": null,
   "metadata": {},
   "outputs": [],
   "source": [
    "len(ara_corpus),len(ara_corpus_sentiment)"
   ]
  },
  {
   "cell_type": "markdown",
   "metadata": {},
   "source": [
    "***"
   ]
  },
  {
   "cell_type": "markdown",
   "metadata": {},
   "source": [
    "## Text Preprocessing & Cleaning\n",
    "\n",
    "We are going to follow the same pipeline of TD1, except that here the operations should be **adapted to the Arabic language** (instead of the French language).\n",
    "\n",
    "1. Remove useless characters (using ``cleanup_text`` function from TD2)\n",
    "2. Language identification and filtering (using language identification model from TD2)\n",
    "3. Letter normalization\n",
    "4. Tokenization\n",
    "5. Remove stop words\n",
    "6. Word normalization (stemming)\n",
    "7. Remove words that are too short or too long."
   ]
  },
  {
   "cell_type": "markdown",
   "metadata": {},
   "source": [
    "### EXERCISE 1\n",
    "\n",
    "Apply the above text cleaning operations by completing the code below (follow the instructins in the comments).\n",
    "\n",
    "**However in order to save time, you will skip some steps in class and complete them at home.**"
   ]
  },
  {
   "cell_type": "code",
   "execution_count": null,
   "metadata": {},
   "outputs": [],
   "source": [
    "## COMPLETE THE SOURCE CODE IN THE CELLS BELOW. FOLLOW THE INSTRUCTIONS AND HINTS GIVEN IN THE COMMENTS.\n"
   ]
  },
  {
   "cell_type": "code",
   "execution_count": null,
   "metadata": {},
   "outputs": [],
   "source": [
    "import re\n",
    "import string\n",
    "import unicodedata as ud\n",
    "import nltk\n",
    "from nltk.corpus import stopwords\n",
    "from nltk.tokenize import RegexpTokenizer\n",
    "\n",
    "stop_words_ar = stopwords.words('arabic')\n",
    "\n",
    "# regexp for word elongation: matches 3 or more repetitions of a word character.\n",
    "two_plus_letters_RE = re.compile(r\"(\\w)\\1{1,}\", re.DOTALL)\n",
    "three_plus_letters_RE = re.compile(r\"(\\w)\\1{2,}\", re.DOTALL)\n",
    "\n",
    "# regexp for repeated words\n",
    "two_plus_words_RE = re.compile(r\"(\\w+\\s+)\\1{1,}\", re.DOTALL)\n",
    "#arabic ponctuation\n",
    "arabic_punctuations = '''`÷×؛<>_()*&^%][ـ،/:\"؟.,'{}~¦+|!”…“–ـ'''\n",
    "english_punctuations = string.punctuation\n",
    "punctuations_list = arabic_punctuations + english_punctuations\n",
    "\n",
    "def cleanup_text(text):\n",
    "   \n",
    "    # Remove URLs\n",
    "    text = re.sub('((www\\.[^\\s]+)|(https?://[^\\s]+))', '', text)\n",
    "\n",
    "    # Remove user mentions of the form @username\n",
    "    text = re.sub('@[^\\s]+', '', text)\n",
    "    \n",
    "    # Remove special useless characters such as _x000D_\n",
    "    text = re.sub(r'_[xX]000[dD]_', '', text)\n",
    "\n",
    "    # Remove redundant white spaces\n",
    "    text = text.strip()\n",
    "    text = re.sub('[\\s]+', ' ', text)\n",
    "\n",
    "    # normalize word elongations (characters repeated more than twice)\n",
    "    text = two_plus_letters_RE.sub(r\"\\1\\1\", text)\n",
    "\n",
    "    # remove repeated words\n",
    "    text = two_plus_words_RE.sub(r\"\\1\", text)\n",
    "\n",
    "    #remove repeating char\n",
    "    re.sub(r'(.)\\1+', r'\\1', text)\n",
    "    \n",
    "    #remove diactritic\n",
    "    arabic_diacritics = re.compile(\"\"\"\n",
    "                             ّ    | # Tashdid\n",
    "                             َ    | # Fatha\n",
    "                             ً    | # Tanwin Fath\n",
    "                             ُ    | # Damma\n",
    "                             ٌ    | # Tanwin Damm\n",
    "                             ِ    | # Kasra\n",
    "                             ٍ    | # Tanwin Kasr\n",
    "                             ْ    | # Sukun\n",
    "                             ـ     # Tatwil/Kashida\n",
    "                             \"\"\", re.VERBOSE)\n",
    "    text = re.sub(\"[إأآا]\", \"ا\", text)\n",
    "    text = re.sub(\"ى\", \"ي\", text)\n",
    "    text = re.sub(\"ؤ\", \"ء\", text)\n",
    "    text = re.sub(\"ئ\", \"ء\", text)\n",
    "    text = re.sub(\"ة\", \"ه\", text)\n",
    "    text = re.sub(\"گ\", \"ك\", text)\n",
    "    text = re.sub(arabic_diacritics, '', text)\n",
    "    \n",
    "    #remove ponctuation\n",
    "    translator = str.maketrans('', '', punctuations_list)\n",
    "    text=text.translate(translator)\n",
    "    \n",
    "    return text"
   ]
  },
  {
   "cell_type": "code",
   "execution_count": 14,
   "metadata": {},
   "outputs": [],
   "source": [
    "# Apply this function to each document in the corpus\n",
    "ara_corpus_clean = []\n",
    "for doc in ara_corpus:\n",
    "    ara_corpus_clean.append(cleanup_text(doc))"
   ]
  },
  {
   "cell_type": "code",
   "execution_count": 15,
   "metadata": {},
   "outputs": [
    {
     "name": "stdout",
     "output_type": "stream",
     "text": [
      "مكان الرجل الحقيقي كل شي نضيف واصلي وماركات صح غالي شوي بس لبس روعه\n"
     ]
    }
   ],
   "source": [
    "assert(len(ara_corpus_clean)==len(ara_corpus))\n",
    "print(ara_corpus_clean[0])"
   ]
  },
  {
   "cell_type": "code",
   "execution_count": 16,
   "metadata": {},
   "outputs": [],
   "source": [
    "##2. Language identification and filtering\n",
    "# You should just the machine-learning based model that you constructed in TD2 (load it from a file)\n",
    "\n",
    "# MODIFY THIS STEP AT HOME AS EXPLAINED ABOVE.\n",
    "\n",
    "# Remove the code below later\n",
    "# Quick method to save time in class: remove documents that contain more than 30% latin characters\n",
    "MAX_LAT_FRAC = 0.3\n",
    "ara_corpus_clean = [doc for doc in ara_corpus_clean if (len(re.findall('[a-zA-Z]',doc)) / len(doc)) < MAX_LAT_FRAC]\n"
   ]
  },
  {
   "cell_type": "code",
   "execution_count": 17,
   "metadata": {},
   "outputs": [
    {
     "name": "stdout",
     "output_type": "stream",
     "text": [
      "10898 10773\n",
      "مكان الرجل الحقيقي كل شي نضيف واصلي وماركات صح غالي شوي بس لبس روعه\n"
     ]
    }
   ],
   "source": [
    "assert(len(ara_corpus_clean)<=len(ara_corpus))\n",
    "print(len(ara_corpus),len(ara_corpus_clean))\n",
    "print(ara_corpus_clean[0])"
   ]
  },
  {
   "cell_type": "code",
   "execution_count": 18,
   "metadata": {},
   "outputs": [],
   "source": [
    "##3. Letter normalization\n",
    "# Hint: which Arabic letters are equivalent n social media text?  e.g. alef, tah marbuta, dhad and dhad toushel, etc.\n",
    "\n",
    "# SKIP THIS STEP IN CLASS. COMPLETE IT AT HOME.\n"
   ]
  },
  {
   "cell_type": "code",
   "execution_count": 19,
   "metadata": {},
   "outputs": [
    {
     "name": "stdout",
     "output_type": "stream",
     "text": [
      "[['مكان', 'الرجل', 'الحقيقي', 'كل', 'شي', 'نضيف', 'واصلي', 'وماركات', 'صح', 'غالي', 'شوي', 'بس', 'لبس', 'روعه'], ['جيد', 'جدا', 'المكان', 'يتمتع', 'بطاقم', 'ضيافة', 'علي', 'مستوي', 'عالي', 'منذ', 'دخولك', 'وهم', 'يستقبلوك', 'بالابتسامة', 'يتمتع', 'بموسيقي', 'هادئة', 'ولكن', 'ذلك', 'عندما', 'يكون', 'المطعم', 'غير', 'ممتليء', 'ولكني', 'لاحظت', 'العكس', 'عند', 'امتلاؤه', 'واتوقع', 'ان', 'هذا', 'لكي', 'يجعل', 'الزبائن', 'تأكل', 'بسرعة', 'اكبر', 'لكي', 'يتوافر', 'اماكن', 'اخري', 'لغيرهم', 'بالنسبة', 'للاكل', 'فهو', 'له', 'مذاق', 'جميل', 'وطيب', 'من', 'اللحطة', 'الاولي', 'تشعر', 'بان', 'كمية', 'الاكل', 'غير', 'كافية', 'وغير', 'مناسبة', 'للسعر', 'ولكن', 'عند', 'بدايتك', 'في', 'الاكل', 'تشعر', 'بجودته', 'وتشعر', 'بان', 'الكمية', 'معقولة', 'فعلا', 'الجلسات', 'مريحة', 'جدا', 'فيه', 'واسعاره', 'مناسبة', 'بالنسبة', 'لجودة', 'الاكل'], ['فندق', 'رائع', 'في', 'الواقع', 'الفندق', 'رائع', 'وكذلك', 'العاملين', 'أروع', 'فيه', 'من', 'ناحية', 'التعامل', 'والخدمة', 'الغرف', 'نظيفة', 'ولكنها', 'ضيقة', 'نوعا', 'ما', 'ولكن', 'هذه', 'فنادق', 'نيويورك', 'عجبني', 'ايضا', 'الفطور', 'الصباحي', 'الموقع', 'الرائع', 'للفندق', 'القريب', 'من', 'بقالة', 'والتايمز', 'سكوير', 'والفيفث', 'افنيو'], ['جميل', 'فندق', 'جميل', 'جدا', 'استمتعت', 'بالاقامه', 'فيه', 'كنت', 'هناك', 'من', 'اجل', 'التسوق', 'وقد', 'ساعدنى', 'موظفى', 'الاستقبال', 'فى', 'ذلك', 'كما', 'ان', 'الغرف', 'كانت', 'مريحه', 'جدا', 'واسلوب', 'الضيافه', 'كان', 'رائعا', 'الكل', 'كانوا', 'لطاف', 'معى', 'لم', 'يعطوننى', 'احساس', 'اننى', 'بعيدا', 'عن', 'وطنى'], ['ممتاز', 'بكل', 'المقاييس'], ['جميلة', 'وعملية', 'وسهلة', 'الاستخدام', 'والحمل', 'والتخزين', 'ملائمة', 'للاستعمال', 'الشخصى', 'والمنزلى', 'لا', 'تحتاج', 'الى', 'احترافية', 'فى', 'الاستخدام', 'تعطى', 'تموجات', 'حلزونية', 'جميلة'], ['السعر', 'معقول', 'و', 'العطر', 'طيب', 'جدا'], ['جيد', 'جدا', 'مطعم', 'يهتم', 'بالصحه', 'والاكل', 'نظيف', 'خالي', 'من', 'الدهون', 'اغلب', 'الرواد', 'من', 'المهتمين', 'بصحتهم', 'والمهتمين', 'بالاكل', 'الصحي', 'لايقدم', 'المشروبات', 'الكحوليه'], ['فندق', 'رائع', 'وفخم', 'من', 'اجمل', 'فنادق', 'القاهرة', 'فندق', 'رائع', 'وفخم', 'من', 'اجمل', 'فنادق', 'القاهرة', 'اقمت', 'في', 'الفندق', 'اخر', 'شهر', 'فبراير', '2013', 'غرف', 'فخمه', 'ورائعه', 'من', 'جميع', 'النواحي', 'حمام', 'بتنسيق', 'جميل', 'جدا', 'اعجبني', 'جدا', 'الجاكوزي', 'وحمامات', 'السباحه', 'وجميع', 'خدمات', 'السبا', 'فريق', 'العمل', 'كان', 'ودود', 'جدا'], ['Le', 'Lido', 'من', 'افضل', 'العروض', 'الترفيهية', 'في', 'باريس', 'يستحق', 'الزيارة', 'وسعره', 'مناسب', 'ولكن', 'لا', 'يصلح', 'للأطفال', 'السعر', 'يشمل', 'العشاء', 'مع', 'مشروب', 'وبالإستطاعة', 'الحجز', 'عن', 'طريق', 'الموقع', 'الإلكتروني', 'والزي', 'المناسب', 'لدخول', 'المكان', 'هو', 'الزي', 'الشبه', 'رسمي', 'قميص', 'وبنطلون'], ['فندق', 'ممتاز', 'أقمت', 'في', 'هذا', 'الفندق', 'خلال', 'الفترة', 'من', '12', 'إلى', '15', 'نوفمبر', '2014', 'في', 'رحلة', 'عمل', 'تحديد', 'ا', 'في', 'غرفة', 'كريستال', 'كلوب', 'كان', 'كل', 'شيء', 'مثالي', 'ا', 'الغرفة', 'كانت', 'نظيفة', 'وفسيحة', 'وتوافرت', 'لي', 'إمكانية', 'استخدام', 'نادي', 'رجال', 'الأعمال', 'في', 'الطابق', 'العاشر', 'لأخذ', 'قسط', 'من', 'الترفيه', 'حيث', 'المقب', 'لات', 'والمأكولات', 'والقهوة', 'والمشروبات', 'طوال', 'اليوم', 'كان', 'المكان', 'جيد', 'ا', 'لمقابلة', 'عملاء', 'الشركة', 'يضم', 'الفندق', 'أيض', 'ا', 'غرفة', 'مؤتمرات', 'متوسطة', 'المساحة', 'وجميع', 'هذه', 'المرافق', 'مجانية', 'وكانت', 'الغرفة', 'متألقة', 'ونظيفة', 'ومزودة', 'بالقهوة', 'والشاي', 'ومياه', 'الشرب', 'أما', 'الموظفون', 'فكانوا', 'لطفاء', 'ومتعاونين', 'سوف', 'أقيم', 'في', 'هذا', 'الفندق', 'مجدد', 'ا', 'في', 'رحلة', 'عملي', 'التالية'], ['جهاز', 'دقيق', 'في', 'النتائج', 'وبامكانك', 'اختيار', 'نوعية', 'القراءة', 'مرة', 'واحدة', 'أو', 'ثلاث', 'مرات', 'ويعطيك', 'المتوسط', 'الحسابي', 'للقراءات'], ['معلم', 'سياحي', 'جميل', 'عندما', 'تنظر', 'للسور', 'وتعلم', 'ان', 'هذا', 'المعلم', 'قائم', 'من', 'ايام', 'البيزنطيين', 'تدهش', 'لحجمة', 'الكبير', 'وبناء', 'الرائع'], ['على', 'أعلى', 'مستوى', 'وغير', 'باهظ', 'وصلنا', 'الساعة', '4', '00', 'صباح', 'ا', 'من', 'إسطنبول', 'وظللنا', 'نائمين', 'حتى', 'الساعة', '11', '30', 'صباح', 'ا', 'تم', 'تجهيز', 'الإفطار', 'بالرغم', 'من', 'انتهاء', 'الفترة', 'التي', 'يتم', 'تقديمه', 'فيها', 'فريق', 'العمل', 'كان', 'مرحب', 'متفهم', 'ومحترف', 'يستحق', 'أعلي', 'الدرجات', 'على', 'الغرف', 'الجميلة', 'بالفعل', 'والتي', 'تم', 'تصميمها', 'للأشخاص', 'الحقيقيين', 'وللاحتياجات', 'الفعلية', 'للمسافرين', 'من', 'أجل', 'العمل', 'يوجد', 'بالحمام', 'دش', 'ساخن', 'رائع', 'الإضاءة', 'وتوصيلات', 'الكهرباء', 'الخاصة', 'بطاولة', 'العمل', 'ممتازة', 'تستحق', 'أعلى', 'الدرجات'], ['فندق', 'صغير', 'رائع', 'أقمنا', 'هنا', 'لمدة', 'ثلاث', 'ليال', 'في', 'أغسطس', 'وأذهلنا', 'الترحيب', 'الودود', 'وكيف', 'ظهرنا', 'استثنائيين', 'وقد', 'اعتنى', 'بنا', 'المالكون', 'وطاقم', 'العاملين', 'بالفندق', 'الموقع', 'رائع', 'كذلك', 'التماثيل', 'العملاقة', 'على', 'بعد', 'مسافة', 'سير', 'يسيرة', 'وكان', 'لطيف', 'ا', 'أن', 'أعود', 'للغرف', 'النظيفة', 'والمريحة', 'بعد', 'يوم', 'من', 'الاستكشاف', 'فإذا', 'عدنا', 'مجدد', 'ا', 'سنزوره', 'مرة', 'أخرى'], ['فندق', 'جيد', 'بسعر', 'مناسب', 'فندق', 'متميز', 'بسعر', 'مناسب', 'الغرف', 'نظيفة', 'و', 'طاقم', 'الخدمة', 'ودود', 'و', 'متعاون'], ['تجربة', 'لطيفة', 'للغاية', 'لقد', 'قمنا', 'بالحجز', 'من', 'الإنترنت', 'لمعرض', 'آي', 'تي', 'بي', 'برلين', 'وعندما', 'رأيت', 'الصور', 'لم', 'أكن', 'متأكد', 'ا', 'مما', 'إذا', 'كان', 'الفندق', 'أعجبني', 'أم', 'لا', 'لكني', 'عندما', 'وصلنا', 'إلى', 'الفندق', 'عرفنا', 'مع', 'أصدقائي', 'أن', 'هذا', 'كان', 'هو', 'الخيار', 'الصحيح', 'المبنى', 'قديم', 'جد', 'ا', 'وجميل', 'مثل', 'كل', 'برلين', 'لكنه', 'واسع', 'جد', 'ا', 'وبه', 'غرف', 'مريحة', 'وموقع', 'جيد', 'جد', 'ا', 'وأقدم', 'شكري', 'الخاص', 'لكل', 'موظفي', 'الاستقبال', 'كلهم', 'كانوا', 'أناس', 'ا', 'رائعين', 'وبشوشين', 'ومتعاونين', 'وودودين', 'جد', 'ا', 'وأنا', 'أوصي', 'بالتأكيد', 'بهذا', 'الفندق'], ['متعة', 'فعلا', 'لاتشعر', 'بالطريق', 'من', 'المتعة', 'والمناظر', 'الطبيعية', 'الخلابة', 'حولك', 'النمسا', 'كلها', 'عموما', 'رائعة', 'وطرقها', 'مريحة', 'وكل', 'من', 'يسافر', 'فيها', 'يتمنى', 'أن', 'الوقت', 'يطول', 'عكس', 'الطرق', 'في', 'أي', 'بلد', 'آخر'], ['مكان', 'رائع', 'مع', 'الأطفال', 'مكثنا', 'لليلة', 'واحدة', 'مع', 'الأطفال', 'الغرف', 'سعتها', 'جيدة', 'غرفتنا', 'كانت', 'نظيفة', 'و', 'مطلة', 'على', 'حديقة', 'الحيوانات', 'حديقة', 'الحيوانات', 'جيدة', 'جدا', 'ليست', 'كبيرة', 'جدا', 'خاصة', 'اذا', 'كان', 'لديك', 'أطفال', 'صغار', 'أطفالي', 'استمتعوا', 'كثيرا', 'بتجربة', 'اطعام', 'الحيوانات', 'باليد', 'الغرف', 'مجهزة', 'بمطبخ', 'صغير', 'لا', 'توجد', 'طاهية', 'مع', 'بالوعة', 'ثلاجة', 'صغيرة', 'و', 'خزائن', 'حائط'], ['الاهرمات', 'یوجد', 'بها', 'احدی', 'عجاب', 'الدنیا', 'السبع', 'وفخرل', 'مصری', 'انها', 'من', 'اگثر', 'الاماگن', 'التی', 'یوجد', 'بها', 'اثار', 'صامدا', 'فی', 'وجه', 'الدهر'], ['مدينة', 'العاب', 'لها', 'طابع', 'خاص', 'زرنا', 'المدينة', 'لمدة', 'يوم', 'لكن', 'المشكلة', 'مايكفي', 'لها', 'يوم', 'مدينة', 'متنوعه', 'بقطارات', 'الموت', 'والعاب', 'الاطفال', 'مدينة', 'جمعت', 'جميع', 'الفئات', 'العمرية', 'كانت', 'زيارتنا', 'لها', 'بالسيارة', 'من', 'سلوفاكيا', 'الى', 'فيينا', 'ثم', 'ميونخ', 'ثم', 'راست', 'مدينة', 'الالعاب'], ['مجمع', 'يوفر', 'كل', 'شئ', 'من', 'اجهزة', 'الكترونية', 'و', 'لوازم', 'منزلية', 'و', 'العاب', 'و', 'ملابس', 'و', 'هو', 'متعة', 'العائلة', 'انصح', 'زيارته', 'للتمعة', 'الكبيرة', 'الخدمات', 'التي', 'يوفرها'], ['هذا', 'ما', 'كان', 'ينتظره', 'اليمنييون', 'ولا', 'زلنا', 'نتعطش', 'للمزيد', 'والمزيد', 'في', 'ظل', 'قيادتكم', 'الحكيمة', 'اصبحنا', 'اليمنيينون', 'في', 'المهجر', 'نتوق', 'الى', 'بناء', 'بلدنا', 'بايدينا'], ['فندق', 'رائع', 'لقد', 'استمتعت', 'في', 'فندق', 'الشعله', 'بالدوحه', 'انه', 'فعلا', 'فندق', 'رائع', 'وجميل', 'من', 'افضل', 'الاماكن', 'هناك', 'المطعم', 'الموجود', 'في', 'الطابق', '47', 'المنظر', 'مريح', 'للغايه', 'يمكنك', 'ان', 'تري', 'الدوحه', 'بالكامل', 'خلال', 'وجبه', 'العشاء', 'انصح', 'الجميع', 'من', 'السعوديه', 'بهذه', 'التجربه', 'لدي', 'تعليق', 'واحد', 'وهو', 'ليس', 'هناك', 'قنوات', 'تليفيزيون', 'للاطفال'], ['قبل', '22', 'يوم', 'المطعم', 'المفضل', 'لي', 'لأسباب', 'كثيرة', 'منهـا', '1', 'روعة', 'التصميم', 'التراثي', 'الذي', 'بالتأكيد', 'يأسرني', 'في', 'كل', 'مرة', '2', 'جودة', 'الأكل', 'وناحية', 'النظافة', 'لدى', 'العمـالة', '3', 'يذكرني', 'كثيرا', 'بطبخ', 'البيت', 'وهنا', 'الاصناف', 'التي', 'جربتها', 'في', 'المطعم', 'وجميعهـا', 'رائعة', '1', 'سلطة', 'حارة', 'سلطة', 'بصل', 'سلطة', 'خضار', '2', 'شوربة', 'جريش', 'شوربة', 'ضلوع', 'لحم', 'مرقة', 'خضار', '3', 'مقلقل', 'لحم', 'حاشي', 'غنم', 'حميس', '4', 'كبسة', 'لحم', 'حاشي', 'كبسة', 'لحم', 'غنم', 'كبسة', 'دجاج', '5', 'بادية', 'حاشي', 'بادية', 'غنم', 'بادية', 'دجاج', 'للتوضيح', 'البادية', 'عبارة', 'عن', 'رز', 'قرصان', 'جريش', '6', 'مقلوبة', 'دجاج', 'مقلوبة', 'لحم', '7', 'مضغوط', 'دجاج', 'مضغوط', 'لحم', '8', 'جريش', 'سليق', 'قرصان', 'مرقوق', 'مطازيز', 'باقي', 'الأصناف', 'ما', 'جربتهــا', 'إلا', 'الآن', 'انصح', 'الجميع', 'بزيارته', 'راائع', 'للغاية']]\n"
     ]
    }
   ],
   "source": [
    "##4. Tokenization -- Complete code below (same as in TD1)\n",
    "\n",
    "# COMPLETE THE CODE BELOW\n",
    "\n",
    "from nltk.tokenize import RegexpTokenizer\n",
    "\n",
    "tokenizer = RegexpTokenizer('[^_\\W]+')\n",
    "ara_corpus_tokenized = [tokenizer.tokenize(doc) for doc in ara_corpus_clean]\n",
    "print(ara_corpus_tokenized[:25])"
   ]
  },
  {
   "cell_type": "code",
   "execution_count": 20,
   "metadata": {},
   "outputs": [],
   "source": [
    "# verify corpus after tokenization\n",
    "assert(len(ara_corpus_clean) == len(ara_corpus_tokenized))\n",
    "assert(type(ara_corpus_tokenized[0]) == list and type(ara_corpus_tokenized[0][0]) ==str)"
   ]
  },
  {
   "cell_type": "code",
   "execution_count": 21,
   "metadata": {},
   "outputs": [
    {
     "data": {
      "text/plain": [
       "['مكان',\n",
       " 'الرجل',\n",
       " 'الحقيقي',\n",
       " 'كل',\n",
       " 'شي',\n",
       " 'نضيف',\n",
       " 'واصلي',\n",
       " 'وماركات',\n",
       " 'صح',\n",
       " 'غالي',\n",
       " 'شوي',\n",
       " 'بس',\n",
       " 'لبس',\n",
       " 'روعه']"
      ]
     },
     "execution_count": 21,
     "metadata": {},
     "output_type": "execute_result"
    }
   ],
   "source": [
    "# verify first document in corpus\n",
    "ara_corpus_tokenized[0]"
   ]
  },
  {
   "cell_type": "code",
   "execution_count": 22,
   "metadata": {},
   "outputs": [
    {
     "name": "stderr",
     "output_type": "stream",
     "text": [
      "[nltk_data] Downloading package stopwords to\n",
      "[nltk_data]     C:\\Users\\Monta\\AppData\\Roaming\\nltk_data...\n",
      "[nltk_data]   Package stopwords is already up-to-date!\n"
     ]
    },
    {
     "name": "stdout",
     "output_type": "stream",
     "text": [
      "['إذ', 'إذا', 'إذما', 'إذن', 'أف', 'أقل', 'أكثر', 'ألا', 'إلا', 'التي']\n",
      "10773\n"
     ]
    }
   ],
   "source": [
    "##5. Remove stop words -- based on a 'standard' list of stopwords for the Arabic language.\n",
    "\n",
    "# COMPLETE THE CODE BELOW  (See TD1)\n",
    "\n",
    "# Load stop words from NLTK library\n",
    "import nltk\n",
    "from nltk.corpus import stopwords\n",
    "nltk.download('stopwords')\n",
    "stop_words_ar = stopwords.words('arabic')\n",
    "type(stop_words_ar),len(stop_words_ar)\n",
    "print(stop_words_ar[0:10])\n",
    "\n",
    "# FEEL FREE TO ADD MORE WORDS TO THIS LIST IF YOU WANT ...\n",
    "\n",
    "\n",
    "# For each document, remove stop words\n",
    "ara_corpus_tokenized = [[word for word in doc  if word not in stop_words_ar] for doc in ara_corpus_tokenized]\n",
    "print(len(ara_corpus_tokenized))\n",
    "\n"
   ]
  },
  {
   "cell_type": "code",
   "execution_count": 23,
   "metadata": {},
   "outputs": [],
   "source": [
    "# verify corpus after removing stop words\n",
    "assert(len(ara_corpus_clean) == len(ara_corpus_tokenized))\n",
    "assert(type(ara_corpus_tokenized[0]) == list and type(ara_corpus_tokenized[0][0]) ==str)"
   ]
  },
  {
   "cell_type": "code",
   "execution_count": 24,
   "metadata": {},
   "outputs": [
    {
     "data": {
      "text/plain": [
       "['مكان',\n",
       " 'الرجل',\n",
       " 'الحقيقي',\n",
       " 'شي',\n",
       " 'نضيف',\n",
       " 'واصلي',\n",
       " 'وماركات',\n",
       " 'صح',\n",
       " 'غالي',\n",
       " 'شوي',\n",
       " 'لبس',\n",
       " 'روعه']"
      ]
     },
     "execution_count": 24,
     "metadata": {},
     "output_type": "execute_result"
    }
   ],
   "source": [
    "# verify first document\n",
    "ara_corpus_tokenized[0]"
   ]
  },
  {
   "cell_type": "code",
   "execution_count": 25,
   "metadata": {},
   "outputs": [
    {
     "name": "stdout",
     "output_type": "stream",
     "text": [
      "['مكان', 'رجل', 'حقيق', 'شي', 'نضيف', 'واصل', 'ماركا', 'صح', 'غال', 'شو', 'لبس', 'روع']\n",
      "10773\n"
     ]
    }
   ],
   "source": [
    "##6. Stemming\n",
    "# Hints: stemming is a difficult task for the Arabic language because words are often combined into one word (called agglutination).\n",
    "#     You should first visually inspect all the words in your corpus to get an idea about which words are good candidates for stemming ...\n",
    "#     Then try to think of a few simple stemming heuristics (regular expressions), such as: remove certain prefixes (e.g. al), remove certain suffixes (e.g. 'ouna') ...\n",
    "# SKIP THIS STEP IN CLASS TO SAVE TIME. COMPLETE IT AT HOME.\n",
    "from snowballstemmer import stemmer\n",
    "ara_corpus_doc= []\n",
    "ara_corpus_stemmed=[]\n",
    "ar_stemmer = stemmer(\"arabic\")\n",
    "for doc in ara_corpus_tokenized:\n",
    "    for word in doc:\n",
    "        ara_corpus_doc.append(ar_stemmer.stemWord(word))\n",
    "    \n",
    "    ara_corpus_stemmed.append(ara_corpus_doc)\n",
    "    ara_corpus_doc= []\n",
    "print(ara_corpus_stemmed[0])\n",
    "print(len(ara_corpus_stemmed))"
   ]
  },
  {
   "cell_type": "code",
   "execution_count": 26,
   "metadata": {},
   "outputs": [],
   "source": [
    "##7. Remove words that are too short or too long.\n",
    "# Very short words are usually not very meaningful.\n",
    "# Very long words are usually either wrong, or elongated, or derived words that should be stemmed (normalized).\n",
    "\n",
    "# ENTER YOUR CODE BELOW. See TD1."
   ]
  },
  {
   "cell_type": "code",
   "execution_count": 27,
   "metadata": {},
   "outputs": [],
   "source": [
    "#ara_corpus_stemmed = [[word for word in doc if len(word)>=2] for doc in ara_corpus_stemmed]\n",
    "\n",
    "\n",
    "#this stemming is not very helpfull in our case"
   ]
  },
  {
   "cell_type": "markdown",
   "metadata": {},
   "source": [
    "****"
   ]
  },
  {
   "cell_type": "markdown",
   "metadata": {},
   "source": [
    "## Document Representation\n",
    "Remember that the goal of this step is to transform each document from a list of words to a numeric *feature vector*. Each feature corresponds to a distinct word in a selected vocabulary. These feature vectors are stored in a numeric matrix called the **Document-Term Matrix (DTM)**.\n",
    "\n",
    "We will achieve this using *tfidf-BOW* method, as we did in **TD1**."
   ]
  },
  {
   "cell_type": "code",
   "execution_count": 28,
   "metadata": {},
   "outputs": [],
   "source": [
    "# EXECUTE THE CODE BELOW THEN ANSWER THE QUESTIONS IN THE EXERCISE.\n"
   ]
  },
  {
   "cell_type": "markdown",
   "metadata": {},
   "source": [
    "#### Prepare the corpus for BOW"
   ]
  },
  {
   "cell_type": "code",
   "execution_count": 29,
   "metadata": {},
   "outputs": [],
   "source": [
    "# First, concatenate the words in the cleaned corpus (because BOW method in scikit-learn requires this format)\n",
    "ara_corpus_bow = [' '.join(doc) for doc in ara_corpus_stemmed]"
   ]
  },
  {
   "cell_type": "code",
   "execution_count": 30,
   "metadata": {},
   "outputs": [],
   "source": [
    "assert(len(ara_corpus_stemmed)==len(ara_corpus_bow))"
   ]
  },
  {
   "cell_type": "code",
   "execution_count": 31,
   "metadata": {},
   "outputs": [
    {
     "name": "stdout",
     "output_type": "stream",
     "text": [
      "مكان رجل حقيق شي نضيف واصل ماركا صح غال شو لبس روع\n"
     ]
    }
   ],
   "source": [
    "print(ara_corpus_bow[0])"
   ]
  },
  {
   "cell_type": "markdown",
   "metadata": {},
   "source": [
    "#### Build the vocabulary set\n",
    "Extract the vocabulary set from our corpus and calculate IDF values of each word in this set."
   ]
  },
  {
   "cell_type": "code",
   "execution_count": 32,
   "metadata": {},
   "outputs": [],
   "source": [
    "from sklearn.feature_extraction.text import TfidfVectorizer"
   ]
  },
  {
   "cell_type": "code",
   "execution_count": 33,
   "metadata": {},
   "outputs": [],
   "source": [
    "# Configuration parameters of the BOW model\n",
    "# FEEL FREE TO MODIFY THESE PARAMETERS AS NEEDED ...\n",
    "max_words = 10000\n",
    "maxdf = 1.0\n",
    "mindf = 0.01"
   ]
  },
  {
   "cell_type": "code",
   "execution_count": 34,
   "metadata": {},
   "outputs": [],
   "source": [
    "# create an instance of this class\n",
    "bow_model = TfidfVectorizer(max_df=maxdf, min_df=mindf, max_features=max_words, stop_words=[], use_idf = True)"
   ]
  },
  {
   "cell_type": "code",
   "execution_count": 35,
   "metadata": {},
   "outputs": [
    {
     "data": {
      "text/plain": [
       "TfidfVectorizer(analyzer='word', binary=False, decode_error='strict',\n",
       "        dtype=<class 'numpy.int64'>, encoding='utf-8', input='content',\n",
       "        lowercase=True, max_df=1.0, max_features=10000, min_df=0.01,\n",
       "        ngram_range=(1, 1), norm='l2', preprocessor=None, smooth_idf=True,\n",
       "        stop_words=[], strip_accents=None, sublinear_tf=False,\n",
       "        token_pattern='(?u)\\\\b\\\\w\\\\w+\\\\b', tokenizer=None, use_idf=True,\n",
       "        vocabulary=None)"
      ]
     },
     "execution_count": 35,
     "metadata": {},
     "output_type": "execute_result"
    }
   ],
   "source": [
    "# call fit() method in order to prepare BOW method (determine vocabulary and IDF values)\n",
    "bow_model.fit(ara_corpus_bow)"
   ]
  },
  {
   "cell_type": "markdown",
   "metadata": {},
   "source": [
    "#### Build the DTM matrix"
   ]
  },
  {
   "cell_type": "code",
   "execution_count": 36,
   "metadata": {},
   "outputs": [],
   "source": [
    "# Call the transform method in order to calculate DTM matrix of our corpus\n",
    "ara_bow_dtm = bow_model.transform(ara_corpus_bow)"
   ]
  },
  {
   "cell_type": "code",
   "execution_count": 37,
   "metadata": {},
   "outputs": [
    {
     "name": "stdout",
     "output_type": "stream",
     "text": [
      "<class 'scipy.sparse.csr.csr_matrix'>\n",
      "(10773, 767)\n"
     ]
    }
   ],
   "source": [
    "# Verify the type and size of this matrix\n",
    "print(type(ara_bow_dtm))\n",
    "print(ara_bow_dtm.shape)"
   ]
  },
  {
   "cell_type": "markdown",
   "metadata": {},
   "source": [
    "#### Visually inspect the vocabulary\n",
    "This should help you **tune** the BOW configuration parameters (i.e. min_df, max_df, etc.) ..."
   ]
  },
  {
   "cell_type": "code",
   "execution_count": 38,
   "metadata": {},
   "outputs": [
    {
     "data": {
      "text/plain": [
       "(list, 767)"
      ]
     },
     "execution_count": 38,
     "metadata": {},
     "output_type": "execute_result"
    }
   ],
   "source": [
    "# The vocabulary of BOW -- i.e. the words that were selected by BOW method to be in the vocabulary\n",
    "bow_vocab = bow_model.get_feature_names()\n",
    "type(bow_vocab), len(bow_vocab)"
   ]
  },
  {
   "cell_type": "code",
   "execution_count": 39,
   "metadata": {},
   "outputs": [
    {
     "data": {
      "text/plain": [
       "(set, 29298)"
      ]
     },
     "execution_count": 39,
     "metadata": {},
     "output_type": "execute_result"
    }
   ],
   "source": [
    "# The words that were ignored (and were not included in the vocabulary)\n",
    "ignored_words = bow_model.stop_words_\n",
    "type(ignored_words),len(ignored_words)"
   ]
  },
  {
   "cell_type": "code",
   "execution_count": 95,
   "metadata": {},
   "outputs": [
    {
     "name": "stdout",
     "output_type": "stream",
     "text": [
      "{'ممتازللاقام', 'واتفرج', 'اصول', 'sim', 'تجاذب', 'ياصاحب', 'يكسب', 'زوق', 'موير', 'تقطت', 'عيوب', 'كلن', 'كباق', 'تتخربط', 'لاري', 'انخلع', 'متعلقات', 'يستعمل', 'شنو', 'رواعه', 'بالقو', 'معوقا', 'يشاور', 'ششهر', 'اطيل', 'تسود', 'اغذ', 'مننتجع', 'الجيش', 'لتهاب', 'عصر', 'فصل', 'يقتر', 'جوتل', 'سيدي', 'اضرب', 'كنصب', 'نتوج', 'خاصةحصل', 'معتبر', 'اسعا', 'رضع', 'هاديه', 'ذمه', 'ابدل', 'تانلستيل', 'يمشي', '225', 'سالت', 'يبرق', 'انيمش', 'المش', 'مسوال', 'جاكوب', 'ميريتوس', 'حذرني', 'ازصي', 'يرووح', 'كثاف', 'يجرء', 'حنرجع', 'ايس', 'اثق', 'دلت', 'اادر', 'توكابتك', 'مغلقه', 'اتوب', 'اوملي', 'شاق', 'والمس', 'بانا', 'يدار', 'كوزم', 'وتوغراف', 'ورلد', 'ممتيز', 'متحمس', 'besarabsky', 'عشاان', 'ظاهرا', 'فندقيه', 'ندوق', 'تشويق', 'ماتلاقي', 'اتجد', 'صلي', 'اندا', 'غلط', 'الجص', 'بلح', 'ابحر', 'استنشاق', 'اوعد', 'تعود', 'لانجر', 'ب38', 'مجمد', 'كقيم', 'شفط', 'ديجول', 'نتظر', 'والكو', 'ماخوذ', 'امبروسي', 'كليمار', 'يبار', 'ايظ', 'اصطحاب', 'يذهل', 'ينتيد', 'لبناني', 'مستور', 'سجلا', 'عادا', 'سمن', 'تلفز', 'تتش', 'تود', 'دكان', 'ثكن', 'ازدواج', 'اسطمبول', 'انتسغرام', 'ضلل', 'ايريك', 'تتحل', 'يتفاجء', 'سرفيس', 'تختبر', 'تقال', 'شناوي', 'قتال', 'ويل', 'فرجه', 'يوقف', 'سدد', 'park', 'والس', 'ابهيشيخ', 'كتشب', 'خناق', 'والب', 'يقو', 'جمميلل', 'يتاهل', 'كورد', 'اتجاوز', 'ارت', 'همهم', 'ياباني', 'دينيه', 'باسم', 'حصين', 'رونق', 'شاورل', 'يقدر', 'جدناس', 'انتظارف', 'نزكر', 'كده', 'نوافق', 'قوت', 'ياس', 'موعد', 'نطمء', 'ملتف', 'ذبح', 'معبد', 'وجاها', 'بتسام', 'طوييل', 'يلووع', 'طاج', 'باستثناء', 'وابق', 'هستير', 'باستمتاع', 'حقيب', 'خايف', 'باستصغار', 'يد', 'استجمام', 'راون', 'كابينيه', 'ينبع', 'ياللسخف', 'ابوتشين', 'شروط', 'انب', '28جن', '20014', 'حوضين', 'of', 'مدت', 'مزاح', 'يلخبط', 'شاوينج', 'اني', 'ياضا', 'غزي', '2013الي', 'سكارفا', 'جبس', 'عمبتاكل', 'تتوقف', 'مقيت', 'متبقي', 'yee', 'يفوت', 'لطخ', 'تصاعد', 'احتجاز', 'جلاليب', 'اري', 'احلی', 'ديكورا', 'عنايي', 'لاء', 'customer', 'غراهام', 'عبدرب', 'تساقط', 'عزت', 'اتعرض', 'مبارح', 'تتمثل', 'خربول', 'معابد', 'ماذل', 'اترب', 'دقا', 'يتوجه', 'يقام', 'ترفيهيه', 'ننكر', 'اسواالاستف', 'رووف', 'اوكر', 'حضرم', 'طورير', 'حتشبسو', 'قنع', 'يمني', 'تتاسف', 'ناسف', 'عملاق', 'مادري', 'تالم', 'مقامر', 'نتغد', 'اربد', 'نومت', 'واخماد', 'غذاييه', 'نعيب', 'تو', 'rayhaan', 'بلدم', 'مراقب', 'والمح', 'تعايش', 'احتاياجا', 'غافل', 'الاغذ', 'اعترف', 'موسوع', 'لانش', 'بانهيار', 'ومي', 'ارجاء', 'see', 'اسواق', 'اسيب', 'والرء', 'اثري', 'قفز', 'لفايف', 'دايمه', 'افتكر', 'واطعم', 'مذقا', 'مستحضرا', 'طرازفنادق', 'اكتوبر', 'خبث', 'فوول', 'مغفره', 'حدوديه', 'يتمثل', 'براج', 'يامتلحقش', 'نخشي', 'سىد', 'يحكول', 'تجمع', 'يخير', 'يخدش', 'يكوجد', 'نعزم', 'هيتعدل', 'منثور', 'تبن', 'متبع', 'محافظ', 'وذل', 'اصلاحا', 'عنيف', '21يوم', 'جيمز', 'يامشير', 'مني', 'ومبارد', 'sinaway', 'القص', 'مرتد', 'مابعجب', '280', 'وانصب', 'حقوق', 'استتاف', 'دعيل', 'international', 'نختلف', 'ممتازحت', 'انكورتار', '69', 'موجها', 'ماتكل', 'نترول', '1429لم', 'وكتيل', 'يدع', 'لضيف', 'ءاخير', 'جواهر', 'وسن', 'يحفض', 'عوجاء', 'اعشق', 'احبط', 'لربع', 'اسكريم', 'تحريك', 'باله', 'واللذ', 'اتيزي', 'متجانس', 'ينعم', 'محضر', 'اثيف', 'واتباع', 'وبا', 'معسول', 'نتعب', 'مستشفيا', 'باربيك', 'دهل', '22', 'تسعير', 'راو', 'واسسعار', 'فشار', 'اغوص', 'احتساء', '309', 'ارز', 'تاسس', 'فاستغل', 'elbatin', 'تراستيفير', 'منص', 'ختصار', 'تحذر', 'متناوب', 'اميك', 'لقلب', 'بساط', 'قيمت', 'يفرط', 'سامسونج', 'مشان', 'جبات', 'مليو', 'رحلاتي', 'ملذا', 'مديينت', 'ومك', 'سوت', 'وميتال', 'بيرر', 'نحمل', 'ملاصقه', 'قطعه', 'تقتنع', 'ساراسوات', 'وانظاف', 'قبول', '636', 'المطعم', 'االفجر', 'فاجع', 'اومليت', 'جبه', 'مدربا', 'متننمق', 'سمرلاند', 'يبع', 'واسعارد', 'تتسم', 'امومه', 'better', 'قداس', 'يشتر', 'معقد', 'بايفعل', 'منته', 'رتقال', 'صحبات', 'اختطاف', 'واختيارا', 'يزداد', 'ابانوب', 'ماترهور', 'زوء', 'ايت', 'وافترض', 'يفتش', 'غلرف', 'الوم', 'مضيء', 'moulim', 'قزر', 'مصطلح', 'اتظهر', 'تاون', 'يبتسم', 'دوانتس', 'يناري', 'مزود', 'شموع', 'ثدي', 'واحتيال', 'غطايا', 'امميز', 'ظراف', 'رامج', 'لشرم', '9حتي20', 'شريك', 'تحصل', 'iraq', 'انازر', 'كتيب', 'قوج', 'توبكابي', 'واحقر', 'عاز', 'راط', 'يزرو', 'يلامس', 'واليس', 'اجتماعيه', 'عاوز', 'كابه', 'اصطياف', 'تحيات', 'تهنء', 'ترو', 'فكن', 'انترلوك', 'يكس', 'يقمون', 'دخيل', 'activator', 'كناف', 'خايب', 'واستجمام', 'احمق', 'لاجر', 'مناظرالت', 'لهول', 'كراش', 'ناسو', 'نس', 'تعزم', 'ينتو', 'سجاير', '110', 'تداخل', 'ميرا', 'جمام', 'اشنع', 'مطف', 'بالاف', 'تنسون', 'يجاور', 'جربت', 'تتبيل', 'تشوفش', 'ونتيننتال', '717', 'زبرجد', 'حلوء', 'متقلب', 'متذمر', 'رعد', 'ملحوط', 'بالشا', 'مصيب', 'ينام', 'استورد', 'مقيته', 'غربه', 'سحل', 'فروع', 'مصايف', 'مكافح', 'اناكم', 'عجو', '3500', 'بطن', 'ويترز', 'تغميس', 'تنسحب', 'ورنرز', 'يخنق', 'سمت', 'وانار', 'مرووع', 'ضياع', 'بالحد', 'عصاير', 'هىالمواصفا', 'جاو', 'واوقح', '16', 'متضمننء', 'لقب', 'رووعه', 'قارص', 'نادل', 'امنن', 'بابتسام', 'صلو', 'حار', 'شوفل', 'هاولاء', 'قماش', 'هناكمك', 'وحبه', 'تاي', 'جليط', 'محيسني', 'اسبير', 'سكوت', 'هسال', 'مزحوم', 'متلهف', 'جيري', 'طالبا', '365', '76', 'نبه', 'نتحقق', 'ايش', '93', 'جلاب', 'ويج', 'وكال', 'سنوص', 'مييزه', 'فااشل', 'لبنين', 'مشاء', 'انترلاك', 'عوج', 'دهر',\n"
     ]
    }
   ],
   "source": [
    "#### DON'T DO THIS !!! THERE ARE TOO MANY IGNORED WORDS\n",
    "print(str(ignored_words)[:50])"
   ]
  },
  {
   "cell_type": "code",
   "execution_count": 41,
   "metadata": {},
   "outputs": [],
   "source": [
    "# Put vocavulary and their IDF values in a data frame\n",
    "df = pd.DataFrame(dict(Word=bow_vocab,IDF=bow_model.idf_))"
   ]
  },
  {
   "cell_type": "code",
   "execution_count": 42,
   "metadata": {},
   "outputs": [
    {
     "data": {
      "text/html": [
       "<div>\n",
       "<style scoped>\n",
       "    .dataframe tbody tr th:only-of-type {\n",
       "        vertical-align: middle;\n",
       "    }\n",
       "\n",
       "    .dataframe tbody tr th {\n",
       "        vertical-align: top;\n",
       "    }\n",
       "\n",
       "    .dataframe thead th {\n",
       "        text-align: right;\n",
       "    }\n",
       "</style>\n",
       "<table border=\"1\" class=\"dataframe\">\n",
       "  <thead>\n",
       "    <tr style=\"text-align: right;\">\n",
       "      <th></th>\n",
       "      <th>IDF</th>\n",
       "      <th>Word</th>\n",
       "    </tr>\n",
       "  </thead>\n",
       "  <tbody>\n",
       "    <tr>\n",
       "      <th>0</th>\n",
       "      <td>4.336856</td>\n",
       "      <td>10</td>\n",
       "    </tr>\n",
       "    <tr>\n",
       "      <th>1</th>\n",
       "      <td>5.514206</td>\n",
       "      <td>100</td>\n",
       "    </tr>\n",
       "    <tr>\n",
       "      <th>2</th>\n",
       "      <td>5.505768</td>\n",
       "      <td>11</td>\n",
       "    </tr>\n",
       "    <tr>\n",
       "      <th>3</th>\n",
       "      <td>5.329064</td>\n",
       "      <td>12</td>\n",
       "    </tr>\n",
       "    <tr>\n",
       "      <th>4</th>\n",
       "      <td>5.172903</td>\n",
       "      <td>15</td>\n",
       "    </tr>\n",
       "  </tbody>\n",
       "</table>\n",
       "</div>"
      ],
      "text/plain": [
       "        IDF Word\n",
       "0  4.336856   10\n",
       "1  5.514206  100\n",
       "2  5.505768   11\n",
       "3  5.329064   12\n",
       "4  5.172903   15"
      ]
     },
     "execution_count": 42,
     "metadata": {},
     "output_type": "execute_result"
    }
   ],
   "source": [
    "df.head()"
   ]
  },
  {
   "cell_type": "code",
   "execution_count": 43,
   "metadata": {},
   "outputs": [
    {
     "data": {
      "text/html": [
       "<div>\n",
       "<style scoped>\n",
       "    .dataframe tbody tr th:only-of-type {\n",
       "        vertical-align: middle;\n",
       "    }\n",
       "\n",
       "    .dataframe tbody tr th {\n",
       "        vertical-align: top;\n",
       "    }\n",
       "\n",
       "    .dataframe thead th {\n",
       "        text-align: right;\n",
       "    }\n",
       "</style>\n",
       "<table border=\"1\" class=\"dataframe\">\n",
       "  <thead>\n",
       "    <tr style=\"text-align: right;\">\n",
       "      <th></th>\n",
       "      <th>IDF</th>\n",
       "      <th>Word</th>\n",
       "    </tr>\n",
       "  </thead>\n",
       "  <tbody>\n",
       "    <tr>\n",
       "      <th>762</th>\n",
       "      <td>3.168497</td>\n",
       "      <td>يوجد</td>\n",
       "    </tr>\n",
       "    <tr>\n",
       "      <th>763</th>\n",
       "      <td>5.522717</td>\n",
       "      <td>يورو</td>\n",
       "    </tr>\n",
       "    <tr>\n",
       "      <th>764</th>\n",
       "      <td>5.593543</td>\n",
       "      <td>يوفر</td>\n",
       "    </tr>\n",
       "    <tr>\n",
       "      <th>765</th>\n",
       "      <td>3.225273</td>\n",
       "      <td>يوم</td>\n",
       "    </tr>\n",
       "    <tr>\n",
       "      <th>766</th>\n",
       "      <td>5.514206</td>\n",
       "      <td>يومين</td>\n",
       "    </tr>\n",
       "  </tbody>\n",
       "</table>\n",
       "</div>"
      ],
      "text/plain": [
       "          IDF   Word\n",
       "762  3.168497   يوجد\n",
       "763  5.522717   يورو\n",
       "764  5.593543   يوفر\n",
       "765  3.225273    يوم\n",
       "766  5.514206  يومين"
      ]
     },
     "execution_count": 43,
     "metadata": {},
     "output_type": "execute_result"
    }
   ],
   "source": [
    "df.tail()"
   ]
  },
  {
   "cell_type": "code",
   "execution_count": 44,
   "metadata": {},
   "outputs": [
    {
     "data": {
      "text/plain": [
       "0          10\n",
       "1         100\n",
       "2          11\n",
       "3          12\n",
       "4          15\n",
       "5          20\n",
       "6        2012\n",
       "7          30\n",
       "8          50\n",
       "9         ابد\n",
       "10      اتصال\n",
       "11       اتصل\n",
       "12      اتمني\n",
       "13       اثاث\n",
       "14      اثناء\n",
       "15       اجاز\n",
       "16        اجد\n",
       "17        اجر\n",
       "18        اجل\n",
       "19       اجمل\n",
       "20        احب\n",
       "21       احبب\n",
       "22     احترام\n",
       "23        احد\n",
       "24        احس\n",
       "25       احمد\n",
       "26       اخبر\n",
       "27     اختيار\n",
       "28        اخذ\n",
       "29        اخر\n",
       "        ...  \n",
       "737       ويم\n",
       "738      يارا\n",
       "739      يبدو\n",
       "740      يبعد\n",
       "741       يتم\n",
       "742     يتميز\n",
       "743       يجب\n",
       "744      يجعل\n",
       "745     يحتاج\n",
       "746      يحتو\n",
       "747      يريد\n",
       "748     يعتبر\n",
       "749      يعرف\n",
       "750       يعط\n",
       "751      يعمل\n",
       "752       يعن\n",
       "753      يقدم\n",
       "754       يقع\n",
       "755      يقول\n",
       "756      يقوم\n",
       "757       يكن\n",
       "758      يكون\n",
       "759       يمك\n",
       "760       ينم\n",
       "761       يهم\n",
       "762      يوجد\n",
       "763      يورو\n",
       "764      يوفر\n",
       "765       يوم\n",
       "766     يومين\n",
       "Name: Word, Length: 767, dtype: object"
      ]
     },
     "execution_count": 44,
     "metadata": {},
     "output_type": "execute_result"
    }
   ],
   "source": [
    "# Show vocabulary words that have SMALLEST IDF values (i.e. that have the largest document frequencies)\n",
    "df.sort_values(\"IDF\", inplace=False, ascending = True).head(10)\n",
    "df['Word']"
   ]
  },
  {
   "cell_type": "code",
   "execution_count": 45,
   "metadata": {},
   "outputs": [
    {
     "data": {
      "text/html": [
       "<div>\n",
       "<style scoped>\n",
       "    .dataframe tbody tr th:only-of-type {\n",
       "        vertical-align: middle;\n",
       "    }\n",
       "\n",
       "    .dataframe tbody tr th {\n",
       "        vertical-align: top;\n",
       "    }\n",
       "\n",
       "    .dataframe thead th {\n",
       "        text-align: right;\n",
       "    }\n",
       "</style>\n",
       "<table border=\"1\" class=\"dataframe\">\n",
       "  <thead>\n",
       "    <tr style=\"text-align: right;\">\n",
       "      <th></th>\n",
       "      <th>IDF</th>\n",
       "      <th>Word</th>\n",
       "    </tr>\n",
       "  </thead>\n",
       "  <tbody>\n",
       "    <tr>\n",
       "      <th>16</th>\n",
       "      <td>5.593543</td>\n",
       "      <td>اجد</td>\n",
       "    </tr>\n",
       "    <tr>\n",
       "      <th>8</th>\n",
       "      <td>5.593543</td>\n",
       "      <td>50</td>\n",
       "    </tr>\n",
       "    <tr>\n",
       "      <th>629</th>\n",
       "      <td>5.593543</td>\n",
       "      <td>مفيد</td>\n",
       "    </tr>\n",
       "    <tr>\n",
       "      <th>234</th>\n",
       "      <td>5.593543</td>\n",
       "      <td>جو</td>\n",
       "    </tr>\n",
       "    <tr>\n",
       "      <th>42</th>\n",
       "      <td>5.593543</td>\n",
       "      <td>استاهل</td>\n",
       "    </tr>\n",
       "    <tr>\n",
       "      <th>594</th>\n",
       "      <td>5.593543</td>\n",
       "      <td>مرور</td>\n",
       "    </tr>\n",
       "    <tr>\n",
       "      <th>472</th>\n",
       "      <td>5.593543</td>\n",
       "      <td>فرع</td>\n",
       "    </tr>\n",
       "    <tr>\n",
       "      <th>764</th>\n",
       "      <td>5.593543</td>\n",
       "      <td>يوفر</td>\n",
       "    </tr>\n",
       "    <tr>\n",
       "      <th>194</th>\n",
       "      <td>5.593543</td>\n",
       "      <td>تعرف</td>\n",
       "    </tr>\n",
       "    <tr>\n",
       "      <th>68</th>\n",
       "      <td>5.593543</td>\n",
       "      <td>اطعم</td>\n",
       "    </tr>\n",
       "  </tbody>\n",
       "</table>\n",
       "</div>"
      ],
      "text/plain": [
       "          IDF    Word\n",
       "16   5.593543     اجد\n",
       "8    5.593543      50\n",
       "629  5.593543    مفيد\n",
       "234  5.593543      جو\n",
       "42   5.593543  استاهل\n",
       "594  5.593543    مرور\n",
       "472  5.593543     فرع\n",
       "764  5.593543    يوفر\n",
       "194  5.593543    تعرف\n",
       "68   5.593543    اطعم"
      ]
     },
     "execution_count": 45,
     "metadata": {},
     "output_type": "execute_result"
    }
   ],
   "source": [
    "# Show vocabulary words that have LARGEST IDF values (i.e. that have the smallest document frequencies)\n",
    "df.sort_values(\"IDF\", inplace=False, ascending = False).head(10)"
   ]
  },
  {
   "cell_type": "code",
   "execution_count": 46,
   "metadata": {},
   "outputs": [],
   "source": [
    "# If you want, you can save the vocabulary into a file\n",
    "# df.sort_values(\"IDF\", inplace=False, ascending = True).to_csv(\"./models/bow_vocab.csv\", index=False, header=True)"
   ]
  },
  {
   "cell_type": "markdown",
   "metadata": {},
   "source": [
    "#### Remove documents that do not contain any vocabulary terms\n",
    "i.e. remove rows in the DTM that are all zeros."
   ]
  },
  {
   "cell_type": "code",
   "execution_count": 47,
   "metadata": {},
   "outputs": [
    {
     "data": {
      "text/plain": [
       "((10773, 767), (10773,))"
      ]
     },
     "execution_count": 47,
     "metadata": {},
     "output_type": "execute_result"
    }
   ],
   "source": [
    "nb_terms_per_doc = np.array((ara_bow_dtm>0).sum(axis=1))  # calculate sum of rows of DTM matrix\n",
    "nb_terms_per_doc = nb_terms_per_doc.ravel()  # convert result to a 1D array (instead of 2D array)\n",
    "ara_bow_dtm.shape,nb_terms_per_doc.shape"
   ]
  },
  {
   "cell_type": "code",
   "execution_count": 48,
   "metadata": {},
   "outputs": [
    {
     "data": {
      "text/plain": [
       "count    10773.000000\n",
       "mean        24.224728\n",
       "std         21.419477\n",
       "min          0.000000\n",
       "25%          8.000000\n",
       "50%         19.000000\n",
       "75%         33.000000\n",
       "max        241.000000\n",
       "dtype: float64"
      ]
     },
     "execution_count": 48,
     "metadata": {},
     "output_type": "execute_result"
    }
   ],
   "source": [
    "pd.Series(nb_terms_per_doc).describe()"
   ]
  },
  {
   "cell_type": "code",
   "execution_count": 49,
   "metadata": {},
   "outputs": [
    {
     "data": {
      "text/plain": [
       "<matplotlib.axes._subplots.AxesSubplot at 0x2e0befa25f8>"
      ]
     },
     "execution_count": 49,
     "metadata": {},
     "output_type": "execute_result"
    },
    {
     "data": {
      "image/png": "[encoded data removed]",
      "text/plain": [
       "<Figure size 432x288 with 1 Axes>"
      ]
     },
     "metadata": {},
     "output_type": "display_data"
    }
   ],
   "source": [
    "pd.Series(nb_terms_per_doc).plot(kind='hist')"
   ]
  },
  {
   "cell_type": "code",
   "execution_count": 50,
   "metadata": {},
   "outputs": [
    {
     "data": {
      "text/plain": [
       "<matplotlib.axes._subplots.AxesSubplot at 0x2e0c05a8c50>"
      ]
     },
     "execution_count": 50,
     "metadata": {},
     "output_type": "execute_result"
    },
    {
     "data": {
      "image/png": "[encoded data removed]",
      "text/plain": [
       "<Figure size 432x288 with 1 Axes>"
      ]
     },
     "metadata": {},
     "output_type": "display_data"
    }
   ],
   "source": [
    "pd.Series(nb_terms_per_doc[nb_terms_per_doc<100]).plot(kind='hist')"
   ]
  },
  {
   "cell_type": "code",
   "execution_count": 51,
   "metadata": {},
   "outputs": [
    {
     "data": {
      "text/plain": [
       "1962"
      ]
     },
     "execution_count": 51,
     "metadata": {},
     "output_type": "execute_result"
    }
   ],
   "source": [
    "# Number of documents that contain LESS THAN 5 vocabulary term\n",
    "np.sum(nb_terms_per_doc<=5)"
   ]
  },
  {
   "cell_type": "code",
   "execution_count": 52,
   "metadata": {},
   "outputs": [
    {
     "data": {
      "text/plain": [
       "171"
      ]
     },
     "execution_count": 52,
     "metadata": {},
     "output_type": "execute_result"
    }
   ],
   "source": [
    "# Number of documents that contain ZERO vocabulary terms\n",
    "np.sum(nb_terms_per_doc==0)"
   ]
  },
  {
   "cell_type": "code",
   "execution_count": 53,
   "metadata": {},
   "outputs": [
    {
     "data": {
      "text/plain": [
       "['ايجابيا و سلبيا قطاع ثوم مبتكر',\n",
       " 'سامسونج جالكس اس دوال S7562 اسود شريحت',\n",
       " 'رب يحفظ مارشال يمن دوس مجرم انقلاب',\n",
       " 'دام عز ك طنا',\n",
       " 'هنجم راس',\n",
       " 'هب',\n",
       " 'معجب',\n",
       " 'خام زعيم الفذ',\n",
       " 'دستور',\n",
       " 'مبرو الف مبر',\n",
       " 'موبايل جامد اوي رستيش',\n",
       " 'اعز لله يبطل لام عربيه اسلام',\n",
       " 'حمد لله',\n",
       " 'ايجابيا و سلبيا توكنج توم القط متكلم GP2130',\n",
       " 'ووه',\n",
       " 'ايجابيا و سلبيا خاخ لعصر ليم',\n",
       " 'ممتااز',\n",
       " 'رفع راس يابطال ع ايد حناء',\n",
       " 'راايع',\n",
       " 'وعد اوفي',\n",
       " 'قرارا تثلج صدر',\n",
       " 'صناع سامسونج',\n",
       " 'ممتااز',\n",
       " 'عشت يابطل',\n",
       " 'ربنا يبار فيك ياريس',\n",
       " 'وايد حلوو واحب',\n",
       " 'ودر كولاج',\n",
       " 'اكرم',\n",
       " 'يمن',\n",
       " 'ايجابيا و سلبيا انجر تنكر قطو',\n",
       " 'ايجابيا و سلبيا طقم نيو واتش SW5005 White نساء',\n",
       " 'ايجابيا و سلبيا سامسونج جالكس I9105 اس2 بلس 8 جيجاباي اندرويد كحل غامق',\n",
       " '85',\n",
       " 'شراب كولاج امريك',\n",
       " 'حفظ اله ياصقر',\n",
       " 'ربنا يكرم',\n",
       " 'قرار حكيم ايه زعيم',\n",
       " 'رووع',\n",
       " 'زعيم طراز نادر',\n",
       " 'عجب واحبب',\n",
       " 'سكو ياهاد يدل ع حنك',\n",
       " 'زعيم متواضع وحدو',\n",
       " 'تقيمي متواضع',\n",
       " 'االل معك زعيم',\n",
       " 'راايع',\n",
       " 'حبيبي مرسي',\n",
       " 'راجل',\n",
       " 'ممتازز',\n",
       " '7عغ',\n",
       " 'حميل',\n",
       " 'نعم فيك',\n",
       " 'ابداع',\n",
       " 'حلوو عجب مرر',\n",
       " 'حن',\n",
       " 'امين',\n",
       " 'طاريا تدوم لزم اطول شاح',\n",
       " 'ربنا يعين ريس و ينصر',\n",
       " 'عيت تشتغل وش سالفه',\n",
       " 'كلش عجب اشو مكالمه مصير رجو منكم اسول ارسال فيد',\n",
       " 'ابو حمص شومش اخت واخ تحديثا ماضل زاكر جوال',\n",
       " 'زفت يعلق لعق كلب اجرب',\n",
       " 'اووف ليش مابشتغل علا سامسونج نوت 4',\n",
       " 'لابد اقال',\n",
       " 'عميل',\n",
       " 'ارحم',\n",
       " 'يلع ابو',\n",
       " 'حتود داه',\n",
       " 'ياخروف',\n",
       " 'ايد ذال',\n",
       " 'قرار غب',\n",
       " 'يمن',\n",
       " 'طز',\n",
       " 'كسم',\n",
       " 'قرف',\n",
       " 'ملعون',\n",
       " 'خاين',\n",
       " 'حمار',\n",
       " 'اتحمل مسيول واستقيل وامش ريح',\n",
       " 'يوال يهود يسمح امريك يقتل مواط ايش تتوقع من يسك مجرم',\n",
       " '',\n",
       " 'تسقط مرسي',\n",
       " 'غب',\n",
       " 'اسك توتو',\n",
       " 'ارحل يافاشل',\n",
       " 'وين جا بهيمه',\n",
       " '',\n",
       " 'باطل',\n",
       " 'متبطل متاجر بقي باسم شهداء كفا ضلال',\n",
       " 'خراط',\n",
       " 'خرب بلاد عباد',\n",
       " 'الالالالالالال دستور',\n",
       " 'تبا حقير تطمىء رعي دماج ترسل الجيش يقتل',\n",
       " 'موافق',\n",
       " 'معترض',\n",
       " 'دمنا رخص جوه وبر',\n",
       " 'طظ بيك يامرس',\n",
       " 'كذاب',\n",
       " 'هيحرق بلاد',\n",
       " 'ينفعش كده',\n",
       " 'قرار موفق',\n",
       " 'اخرف',\n",
       " 'فشل ابن فشل',\n",
       " 'كسم',\n",
       " 'باطل',\n",
       " 'منكم لله',\n",
       " 'انعل ابو مرشد كلب',\n",
       " 'ارحل منافق',\n",
       " 'طظ',\n",
       " 'فاكر انفس اذكياء',\n",
       " 'عبيط',\n",
       " 'حقير',\n",
       " 'منافق',\n",
       " 'يسقط مرس مبار',\n",
       " 'نتيج ايه ارحم غلا',\n",
       " 'ياريس نعم تعبان',\n",
       " 'انتبه طابور خامس زراع فتن شعوب',\n",
       " 'لال',\n",
       " 'طظ',\n",
       " 'منافق افاق ورح تاكل خري امريك صحاب اسراييل',\n",
       " 'خلاص فين احك ولل تعب',\n",
       " 'قبح عميل',\n",
       " 'نريد قرارا صارم لمنع تكرار حوادث مستقبلء',\n",
       " 'كفا نهض',\n",
       " 'ارحم شوي',\n",
       " 'ارحم',\n",
       " 'دستور مرس',\n",
       " 'احلق دقن عار تلقي وشك وش مبار',\n",
       " 'افعل شيت ترحل جيت',\n",
       " 'كذاب',\n",
       " 'يلع ابو اللي جاب لاد كلب جزم',\n",
       " 'طرطور',\n",
       " 'خبر فاض',\n",
       " 'ارحل جبان',\n",
       " 'يسقط حكم مرشد خروف',\n",
       " 'عاش خاين يمو خاين لعنه ياطرطور',\n",
       " 'ارحل اصلع',\n",
       " 'غلط',\n",
       " 'مسكين مايعرف يتكلم',\n",
       " 'ربنا يتنقم منك',\n",
       " 'حكوم فاشل فاشل',\n",
       " 'مرسي تفوق ترحل',\n",
       " 'سعرو زياد و فاهم ايس كوف غلط',\n",
       " 'نيفس تهف و تعك',\n",
       " 'زق و ابو كلب',\n",
       " 'لقي صرصور و اظفر',\n",
       " 'قصد دار شهداء دار امو دار مقابر',\n",
       " 'لحد يجي شال يجيب مرض',\n",
       " 'ستاهل هالشهر',\n",
       " 'اسغلال اغلي باريس لند جنيف',\n",
       " 'ماتشتغل',\n",
       " 'شكرل',\n",
       " 'يناسب مع',\n",
       " 'استلم',\n",
       " 'مصنوع خاما تعبان',\n",
       " 'يشح جوال',\n",
       " 'سىء',\n",
       " 'اانصح اقتناء',\n",
       " 'ممتازةوش',\n",
       " 'الو تظهر اعل مطلق',\n",
       " 'تصلح غرض صنع لاجل',\n",
       " 'اتصلح اسعمال جوال',\n",
       " 'مضروب',\n",
       " 'مواد مطابق لصور',\n",
       " 'اا',\n",
       " 'اانصح',\n",
       " 'رووع',\n",
       " 'ايجابيا و سلبيا انجر موديل 030 احمر',\n",
       " 'شكرا',\n",
       " 'ايجابيا و سلبيا تابل ترابيز لاب توب',\n",
       " 'اباس',\n",
       " 'ايجابيا و سلبيا مشد تنحيف جسم']"
      ]
     },
     "execution_count": 53,
     "metadata": {},
     "output_type": "execute_result"
    }
   ],
   "source": [
    "# Which documents have length 0? (i.e. contain 0 words)\n",
    "[doc for i,doc in enumerate(ara_corpus_bow) if nb_terms_per_doc[i]==0]"
   ]
  },
  {
   "cell_type": "code",
   "execution_count": 54,
   "metadata": {},
   "outputs": [],
   "source": [
    "idx = nb_terms_per_doc>0\n",
    "ara_bow_dtm_filt = ara_bow_dtm[nb_terms_per_doc>0,:]\n",
    "ara_corpus_bow_filt = [ara_corpus_bow[i] for i,x in enumerate(idx) if x]\n",
    "ara_corpus_sentiment_filt = [ara_corpus_sentiment[i] for i,x in enumerate(idx) if x]"
   ]
  },
  {
   "cell_type": "code",
   "execution_count": 55,
   "metadata": {},
   "outputs": [
    {
     "data": {
      "text/plain": [
       "((10773, 767), 10773)"
      ]
     },
     "execution_count": 55,
     "metadata": {},
     "output_type": "execute_result"
    }
   ],
   "source": [
    "ara_bow_dtm.shape,len(ara_corpus_bow)"
   ]
  },
  {
   "cell_type": "code",
   "execution_count": 56,
   "metadata": {},
   "outputs": [
    {
     "data": {
      "text/plain": [
       "((10602, 767), 10602, 10602)"
      ]
     },
     "execution_count": 56,
     "metadata": {},
     "output_type": "execute_result"
    }
   ],
   "source": [
    "ara_bow_dtm_filt.shape,len(ara_corpus_bow_filt),len(ara_corpus_sentiment_filt)"
   ]
  },
  {
   "cell_type": "markdown",
   "metadata": {},
   "source": [
    "### EXERCISE 2\n",
    "\n",
    "Answer the following questions based on visual inspection of the above results:\n",
    "\n",
    "1. How many words are then in the BOW vocabulary and how many words were ignored?\n",
    "2. Give examples of 5 words in the vocabulary set of BOW but are not very useful for machine learning.\n",
    "3. Give examples of 5 words that are **not** in the voabulary of BOW but might be useful.\n",
    "4. Give examples of 5 words in the vocabulary set of BOW that are useful but should be stemmed or normalized.\n",
    "5. Propose new values of the configuration parameters of BOW in order to tune the vocabulary to be more satisfactory. \n",
    "\n",
    "**Important Remarks**:\n",
    "- Your answer to all questions will depend on how you do **text cleaning**. So you should rectify your answers after completing text cleaning part (at home).\n",
    "- Your answer to Q4 will be quite **subjective**, so you just need to justify your choice. \n"
   ]
  },
  {
   "cell_type": "markdown",
   "metadata": {},
   "source": [
    "### ANSWER\n",
    "\n",
    "1) there are 767 words in bow vocabulary and 29298 are ignored\n",
    "\n",
    "2) These are 5 words in the vocabulary set of BOW but are not very useful for machine learning.\n",
    "[\n",
    ",اتصال\n",
    ",استخدام\n",
    ",اسعار\n",
    ",برنامج\n",
    ",جهاز\n",
    "]\n",
    "\n",
    "3)These are 5 words that are not in the voabulary of BOW but might be useful.\\n\n",
    "[\n",
    ",عيوب\n",
    ",متننمق\n",
    ",فااشل\n",
    ",مشاء\n",
    ",عنيف\n",
    "]\n",
    "\n",
    "4)an example of a word in the vocabulary set of BOW that is useful but should be stemmed or normalized\n",
    "is يومين which should be يوم \n",
    "\n",
    "5)maybe \n",
    "\n",
    "maxdf = 9.0\n",
    "mindf = 0.1"
   ]
  },
  {
   "cell_type": "markdown",
   "metadata": {},
   "source": [
    "******"
   ]
  },
  {
   "cell_type": "markdown",
   "metadata": {},
   "source": [
    "## Build Sentiment Classifier\n",
    "We will use the machine learning approach, i.e. train a classifier."
   ]
  },
  {
   "cell_type": "code",
   "execution_count": 57,
   "metadata": {},
   "outputs": [],
   "source": [
    "from sklearn.model_selection import train_test_split\n",
    "\n",
    "from sklearn.linear_model import LogisticRegression\n",
    "from sklearn.naive_bayes import MultinomialNB\n",
    "from sklearn import metrics"
   ]
  },
  {
   "cell_type": "code",
   "execution_count": 58,
   "metadata": {},
   "outputs": [
    {
     "data": {
      "text/plain": [
       "[1,\n",
       " 1,\n",
       " 1,\n",
       " 1,\n",
       " 1,\n",
       " 1,\n",
       " 1,\n",
       " 1,\n",
       " 1,\n",
       " 1,\n",
       " 1,\n",
       " 1,\n",
       " 1,\n",
       " 1,\n",
       " 1,\n",
       " 1,\n",
       " 1,\n",
       " 1,\n",
       " 1,\n",
       " 1,\n",
       " 1,\n",
       " 1,\n",
       " 1,\n",
       " 1,\n",
       " 1,\n",
       " 1,\n",
       " 1,\n",
       " 1,\n",
       " 1,\n",
       " 1,\n",
       " 1,\n",
       " 1,\n",
       " 1,\n",
       " 1,\n",
       " 1,\n",
       " 1,\n",
       " 1,\n",
       " 1,\n",
       " 1,\n",
       " 1,\n",
       " 1,\n",
       " 1,\n",
       " 1,\n",
       " 1,\n",
       " 1,\n",
       " 1,\n",
       " 1,\n",
       " 1,\n",
       " 1,\n",
       " 1,\n",
       " 1,\n",
       " 1,\n",
       " 1,\n",
       " 1,\n",
       " 1,\n",
       " 1,\n",
       " 1,\n",
       " 1,\n",
       " 1,\n",
       " 1,\n",
       " 1,\n",
       " 1,\n",
       " 1,\n",
       " 1,\n",
       " 1,\n",
       " 1,\n",
       " 1,\n",
       " 1,\n",
       " 1,\n",
       " 1,\n",
       " 1,\n",
       " 1,\n",
       " 1,\n",
       " 1,\n",
       " 1,\n",
       " 1,\n",
       " 1,\n",
       " 1,\n",
       " 1,\n",
       " 1,\n",
       " 1,\n",
       " 1,\n",
       " 1,\n",
       " 1,\n",
       " 1,\n",
       " 1,\n",
       " 1,\n",
       " 1,\n",
       " 1,\n",
       " 1,\n",
       " 1,\n",
       " 1,\n",
       " 1,\n",
       " 1,\n",
       " 1,\n",
       " 1,\n",
       " 1,\n",
       " 1,\n",
       " 1,\n",
       " 1,\n",
       " 1,\n",
       " 1,\n",
       " 1,\n",
       " 1,\n",
       " 1,\n",
       " 1,\n",
       " 1,\n",
       " 1,\n",
       " 1,\n",
       " 1,\n",
       " 1,\n",
       " 1,\n",
       " 1,\n",
       " 1,\n",
       " 1,\n",
       " 1,\n",
       " 1,\n",
       " 1,\n",
       " 1,\n",
       " 1,\n",
       " 1,\n",
       " 1,\n",
       " 1,\n",
       " 1,\n",
       " 1,\n",
       " 1,\n",
       " 1,\n",
       " 1,\n",
       " 1,\n",
       " 1,\n",
       " 1,\n",
       " 1,\n",
       " 1,\n",
       " 1,\n",
       " 1,\n",
       " 1,\n",
       " 1,\n",
       " 1,\n",
       " 1,\n",
       " 1,\n",
       " 1,\n",
       " 1,\n",
       " 1,\n",
       " 1,\n",
       " 1,\n",
       " 1,\n",
       " 1,\n",
       " 1,\n",
       " 1,\n",
       " 1,\n",
       " 1,\n",
       " 1,\n",
       " 1,\n",
       " 1,\n",
       " 1,\n",
       " 1,\n",
       " 1,\n",
       " 1,\n",
       " 1,\n",
       " 1,\n",
       " 1,\n",
       " 1,\n",
       " 1,\n",
       " 1,\n",
       " 1,\n",
       " 1,\n",
       " 1,\n",
       " 1,\n",
       " 1,\n",
       " 1,\n",
       " 1,\n",
       " 1,\n",
       " 1,\n",
       " 1,\n",
       " 1,\n",
       " 1,\n",
       " 1,\n",
       " 1,\n",
       " 1,\n",
       " 1,\n",
       " 1,\n",
       " 1,\n",
       " 1,\n",
       " 1,\n",
       " 1,\n",
       " 1,\n",
       " 1,\n",
       " 1,\n",
       " 1,\n",
       " 1,\n",
       " 1,\n",
       " 1,\n",
       " 1,\n",
       " 1,\n",
       " 1,\n",
       " 1,\n",
       " 1,\n",
       " 1,\n",
       " 1,\n",
       " 1,\n",
       " 1,\n",
       " 1,\n",
       " 1,\n",
       " 1,\n",
       " 1,\n",
       " 1,\n",
       " 1,\n",
       " 1,\n",
       " 1,\n",
       " 1,\n",
       " 1,\n",
       " 1,\n",
       " 1,\n",
       " 1,\n",
       " 1,\n",
       " 1,\n",
       " 1,\n",
       " 1,\n",
       " 1,\n",
       " 1,\n",
       " 1,\n",
       " 1,\n",
       " 1,\n",
       " 1,\n",
       " 1,\n",
       " 1,\n",
       " 1,\n",
       " 1,\n",
       " 1,\n",
       " 1,\n",
       " 1,\n",
       " 1,\n",
       " 1,\n",
       " 1,\n",
       " 1,\n",
       " 1,\n",
       " 1,\n",
       " 1,\n",
       " 1,\n",
       " 1,\n",
       " 1,\n",
       " 1,\n",
       " 1,\n",
       " 1,\n",
       " 1,\n",
       " 1,\n",
       " 1,\n",
       " 1,\n",
       " 1,\n",
       " 1,\n",
       " 1,\n",
       " 1,\n",
       " 1,\n",
       " 1,\n",
       " 1,\n",
       " 1,\n",
       " 1,\n",
       " 1,\n",
       " 1,\n",
       " 1,\n",
       " 1,\n",
       " 1,\n",
       " 1,\n",
       " 1,\n",
       " 1,\n",
       " 1,\n",
       " 1,\n",
       " 1,\n",
       " 1,\n",
       " 1,\n",
       " 1,\n",
       " 1,\n",
       " 1,\n",
       " 1,\n",
       " 1,\n",
       " 1,\n",
       " 1,\n",
       " 1,\n",
       " 1,\n",
       " 1,\n",
       " 1,\n",
       " 1,\n",
       " 1,\n",
       " 1,\n",
       " 1,\n",
       " 1,\n",
       " 1,\n",
       " 1,\n",
       " 1,\n",
       " 1,\n",
       " 1,\n",
       " 1,\n",
       " 1,\n",
       " 1,\n",
       " 1,\n",
       " 1,\n",
       " 1,\n",
       " 1,\n",
       " 1,\n",
       " 1,\n",
       " 1,\n",
       " 1,\n",
       " 1,\n",
       " 1,\n",
       " 1,\n",
       " 1,\n",
       " 1,\n",
       " 1,\n",
       " 1,\n",
       " 1,\n",
       " 1,\n",
       " 1,\n",
       " 1,\n",
       " 1,\n",
       " 1,\n",
       " 1,\n",
       " 1,\n",
       " 1,\n",
       " 1,\n",
       " 1,\n",
       " 1,\n",
       " 1,\n",
       " 1,\n",
       " 1,\n",
       " 1,\n",
       " 1,\n",
       " 1,\n",
       " 1,\n",
       " 1,\n",
       " 1,\n",
       " 1,\n",
       " 1,\n",
       " 1,\n",
       " 1,\n",
       " 1,\n",
       " 1,\n",
       " 1,\n",
       " 1,\n",
       " 1,\n",
       " 1,\n",
       " 1,\n",
       " 1,\n",
       " 1,\n",
       " 1,\n",
       " 1,\n",
       " 1,\n",
       " 1,\n",
       " 1,\n",
       " 1,\n",
       " 1,\n",
       " 1,\n",
       " 1,\n",
       " 1,\n",
       " 1,\n",
       " 1,\n",
       " 1,\n",
       " 1,\n",
       " 1,\n",
       " 1,\n",
       " 1,\n",
       " 1,\n",
       " 1,\n",
       " 1,\n",
       " 1,\n",
       " 1,\n",
       " 1,\n",
       " 1,\n",
       " 1,\n",
       " 1,\n",
       " 1,\n",
       " 1,\n",
       " 1,\n",
       " 1,\n",
       " 1,\n",
       " 1,\n",
       " 1,\n",
       " 1,\n",
       " 1,\n",
       " 1,\n",
       " 1,\n",
       " 1,\n",
       " 1,\n",
       " 1,\n",
       " 1,\n",
       " 1,\n",
       " 1,\n",
       " 1,\n",
       " 1,\n",
       " 1,\n",
       " 1,\n",
       " 1,\n",
       " 1,\n",
       " 1,\n",
       " 1,\n",
       " 1,\n",
       " 1,\n",
       " 1,\n",
       " 1,\n",
       " 1,\n",
       " 1,\n",
       " 1,\n",
       " 1,\n",
       " 1,\n",
       " 1,\n",
       " 1,\n",
       " 1,\n",
       " 1,\n",
       " 1,\n",
       " 1,\n",
       " 1,\n",
       " 1,\n",
       " 1,\n",
       " 1,\n",
       " 1,\n",
       " 1,\n",
       " 1,\n",
       " 1,\n",
       " 1,\n",
       " 1,\n",
       " 1,\n",
       " 1,\n",
       " 1,\n",
       " 1,\n",
       " 1,\n",
       " 1,\n",
       " 1,\n",
       " 1,\n",
       " 1,\n",
       " 1,\n",
       " 1,\n",
       " 1,\n",
       " 1,\n",
       " 1,\n",
       " 1,\n",
       " 1,\n",
       " 1,\n",
       " 1,\n",
       " 1,\n",
       " 1,\n",
       " 1,\n",
       " 1,\n",
       " 1,\n",
       " 1,\n",
       " 1,\n",
       " 1,\n",
       " 1,\n",
       " 1,\n",
       " 1,\n",
       " 1,\n",
       " 1,\n",
       " 1,\n",
       " 1,\n",
       " 1,\n",
       " 1,\n",
       " 1,\n",
       " 1,\n",
       " 1,\n",
       " 1,\n",
       " 1,\n",
       " 1,\n",
       " 1,\n",
       " 1,\n",
       " 1,\n",
       " 1,\n",
       " 1,\n",
       " 1,\n",
       " 1,\n",
       " 1,\n",
       " 1,\n",
       " 1,\n",
       " 1,\n",
       " 1,\n",
       " 1,\n",
       " 1,\n",
       " 1,\n",
       " 1,\n",
       " 1,\n",
       " 1,\n",
       " 1,\n",
       " 1,\n",
       " 1,\n",
       " 1,\n",
       " 1,\n",
       " 1,\n",
       " 1,\n",
       " 1,\n",
       " 1,\n",
       " 1,\n",
       " 1,\n",
       " 1,\n",
       " 1,\n",
       " 1,\n",
       " 1,\n",
       " 1,\n",
       " 1,\n",
       " 1,\n",
       " 1,\n",
       " 1,\n",
       " 1,\n",
       " 1,\n",
       " 1,\n",
       " 1,\n",
       " 1,\n",
       " 1,\n",
       " 1,\n",
       " 1,\n",
       " 1,\n",
       " 1,\n",
       " 1,\n",
       " 1,\n",
       " 1,\n",
       " 1,\n",
       " 1,\n",
       " 1,\n",
       " 1,\n",
       " 1,\n",
       " 1,\n",
       " 1,\n",
       " 1,\n",
       " 1,\n",
       " 1,\n",
       " 1,\n",
       " 1,\n",
       " 1,\n",
       " 1,\n",
       " 1,\n",
       " 1,\n",
       " 1,\n",
       " 1,\n",
       " 1,\n",
       " 1,\n",
       " 1,\n",
       " 1,\n",
       " 1,\n",
       " 1,\n",
       " 1,\n",
       " 1,\n",
       " 1,\n",
       " 1,\n",
       " 1,\n",
       " 1,\n",
       " 1,\n",
       " 1,\n",
       " 1,\n",
       " 1,\n",
       " 1,\n",
       " 1,\n",
       " 1,\n",
       " 1,\n",
       " 1,\n",
       " 1,\n",
       " 1,\n",
       " 1,\n",
       " 1,\n",
       " 1,\n",
       " 1,\n",
       " 1,\n",
       " 1,\n",
       " 1,\n",
       " 1,\n",
       " 1,\n",
       " 1,\n",
       " 1,\n",
       " 1,\n",
       " 1,\n",
       " 1,\n",
       " 1,\n",
       " 1,\n",
       " 1,\n",
       " 1,\n",
       " 1,\n",
       " 1,\n",
       " 1,\n",
       " 1,\n",
       " 1,\n",
       " 1,\n",
       " 1,\n",
       " 1,\n",
       " 1,\n",
       " 1,\n",
       " 1,\n",
       " 1,\n",
       " 1,\n",
       " 1,\n",
       " 1,\n",
       " 1,\n",
       " 1,\n",
       " 1,\n",
       " 1,\n",
       " 1,\n",
       " 1,\n",
       " 1,\n",
       " 1,\n",
       " 1,\n",
       " 1,\n",
       " 1,\n",
       " 1,\n",
       " 1,\n",
       " 1,\n",
       " 1,\n",
       " 1,\n",
       " 1,\n",
       " 1,\n",
       " 1,\n",
       " 1,\n",
       " 1,\n",
       " 1,\n",
       " 1,\n",
       " 1,\n",
       " 1,\n",
       " 1,\n",
       " 1,\n",
       " 1,\n",
       " 1,\n",
       " 1,\n",
       " 1,\n",
       " 1,\n",
       " 1,\n",
       " 1,\n",
       " 1,\n",
       " 1,\n",
       " 1,\n",
       " 1,\n",
       " 1,\n",
       " 1,\n",
       " 1,\n",
       " 1,\n",
       " 1,\n",
       " 1,\n",
       " 1,\n",
       " 1,\n",
       " 1,\n",
       " 1,\n",
       " 1,\n",
       " 1,\n",
       " 1,\n",
       " 1,\n",
       " 1,\n",
       " 1,\n",
       " 1,\n",
       " 1,\n",
       " 1,\n",
       " 1,\n",
       " 1,\n",
       " 1,\n",
       " 1,\n",
       " 1,\n",
       " 1,\n",
       " 1,\n",
       " 1,\n",
       " 1,\n",
       " 1,\n",
       " 1,\n",
       " 1,\n",
       " 1,\n",
       " 1,\n",
       " 1,\n",
       " 1,\n",
       " 1,\n",
       " 1,\n",
       " 1,\n",
       " 1,\n",
       " 1,\n",
       " 1,\n",
       " 1,\n",
       " 1,\n",
       " 1,\n",
       " 1,\n",
       " 1,\n",
       " 1,\n",
       " 1,\n",
       " 1,\n",
       " 1,\n",
       " 1,\n",
       " 1,\n",
       " 1,\n",
       " 1,\n",
       " 1,\n",
       " 1,\n",
       " 1,\n",
       " 1,\n",
       " 1,\n",
       " 1,\n",
       " 1,\n",
       " 1,\n",
       " 1,\n",
       " 1,\n",
       " 1,\n",
       " 1,\n",
       " 1,\n",
       " 1,\n",
       " 1,\n",
       " 1,\n",
       " 1,\n",
       " 1,\n",
       " 1,\n",
       " 1,\n",
       " 1,\n",
       " 1,\n",
       " 1,\n",
       " 1,\n",
       " 1,\n",
       " 1,\n",
       " 1,\n",
       " 1,\n",
       " 1,\n",
       " 1,\n",
       " 1,\n",
       " 1,\n",
       " 1,\n",
       " 1,\n",
       " 1,\n",
       " 1,\n",
       " 1,\n",
       " 1,\n",
       " 1,\n",
       " 1,\n",
       " 1,\n",
       " 1,\n",
       " 1,\n",
       " 1,\n",
       " 1,\n",
       " 1,\n",
       " 1,\n",
       " 1,\n",
       " 1,\n",
       " 1,\n",
       " 1,\n",
       " 1,\n",
       " 1,\n",
       " 1,\n",
       " 1,\n",
       " 1,\n",
       " 1,\n",
       " 1,\n",
       " 1,\n",
       " 1,\n",
       " 1,\n",
       " 1,\n",
       " 1,\n",
       " 1,\n",
       " 1,\n",
       " 1,\n",
       " 1,\n",
       " 1,\n",
       " 1,\n",
       " 1,\n",
       " 1,\n",
       " 1,\n",
       " 1,\n",
       " 1,\n",
       " 1,\n",
       " 1,\n",
       " 1,\n",
       " 1,\n",
       " 1,\n",
       " 1,\n",
       " 1,\n",
       " 1,\n",
       " 1,\n",
       " 1,\n",
       " 1,\n",
       " 1,\n",
       " 1,\n",
       " 1,\n",
       " 1,\n",
       " 1,\n",
       " 1,\n",
       " 1,\n",
       " 1,\n",
       " 1,\n",
       " 1,\n",
       " 1,\n",
       " 1,\n",
       " 1,\n",
       " 1,\n",
       " 1,\n",
       " 1,\n",
       " 1,\n",
       " 1,\n",
       " 1,\n",
       " 1,\n",
       " 1,\n",
       " 1,\n",
       " 1,\n",
       " 1,\n",
       " 1,\n",
       " 1,\n",
       " 1,\n",
       " 1,\n",
       " 1,\n",
       " 1,\n",
       " 1,\n",
       " 1,\n",
       " 1,\n",
       " 1,\n",
       " 1,\n",
       " 1,\n",
       " 1,\n",
       " 1,\n",
       " 1,\n",
       " 1,\n",
       " 1,\n",
       " 1,\n",
       " 1,\n",
       " 1,\n",
       " 1,\n",
       " 1,\n",
       " 1,\n",
       " 1,\n",
       " 1,\n",
       " 1,\n",
       " 1,\n",
       " 1,\n",
       " 1,\n",
       " 1,\n",
       " 1,\n",
       " 1,\n",
       " 1,\n",
       " 1,\n",
       " 1,\n",
       " 1,\n",
       " 1,\n",
       " 1,\n",
       " 1,\n",
       " 1,\n",
       " 1,\n",
       " 1,\n",
       " 1,\n",
       " 1,\n",
       " 1,\n",
       " 1,\n",
       " 1,\n",
       " 1,\n",
       " 1,\n",
       " 1,\n",
       " 1,\n",
       " 1,\n",
       " 1,\n",
       " 1,\n",
       " 1,\n",
       " 1,\n",
       " 1,\n",
       " 1,\n",
       " 1,\n",
       " 1,\n",
       " 1,\n",
       " 1,\n",
       " 1,\n",
       " 1,\n",
       " 1,\n",
       " 1,\n",
       " 1,\n",
       " 1,\n",
       " 1,\n",
       " 1,\n",
       " 1,\n",
       " 1,\n",
       " 1,\n",
       " 1,\n",
       " 1,\n",
       " 1,\n",
       " 1,\n",
       " 1,\n",
       " 1,\n",
       " 1,\n",
       " 1,\n",
       " 1,\n",
       " 1,\n",
       " 1,\n",
       " 1,\n",
       " 1,\n",
       " 1,\n",
       " 1,\n",
       " 1,\n",
       " 1,\n",
       " 1,\n",
       " 1,\n",
       " 1,\n",
       " 1,\n",
       " 1,\n",
       " 1,\n",
       " 1,\n",
       " 1,\n",
       " 1,\n",
       " 1,\n",
       " 1,\n",
       " 1,\n",
       " 1,\n",
       " 1,\n",
       " 1,\n",
       " 1,\n",
       " 1,\n",
       " 1,\n",
       " 1,\n",
       " 1,\n",
       " 1,\n",
       " 1,\n",
       " 1,\n",
       " 1,\n",
       " 1,\n",
       " 1,\n",
       " 1,\n",
       " 1,\n",
       " 1,\n",
       " 1,\n",
       " 1,\n",
       " 1,\n",
       " 1,\n",
       " 1,\n",
       " 1,\n",
       " 1,\n",
       " 1,\n",
       " 1,\n",
       " 1,\n",
       " 1,\n",
       " 1,\n",
       " 1,\n",
       " 1,\n",
       " 1,\n",
       " 1,\n",
       " 1,\n",
       " 1,\n",
       " 1,\n",
       " 1,\n",
       " 1,\n",
       " 1,\n",
       " 1,\n",
       " 1,\n",
       " 1,\n",
       " 1,\n",
       " 1,\n",
       " 1,\n",
       " 1,\n",
       " 1,\n",
       " 1,\n",
       " 1,\n",
       " 1,\n",
       " 1,\n",
       " 1,\n",
       " 1,\n",
       " 1,\n",
       " 1,\n",
       " 1,\n",
       " 1,\n",
       " 1,\n",
       " 1,\n",
       " 1,\n",
       " 1,\n",
       " 1,\n",
       " 1,\n",
       " 1,\n",
       " 1,\n",
       " 1,\n",
       " 1,\n",
       " 1,\n",
       " 1,\n",
       " 1,\n",
       " 1,\n",
       " 1,\n",
       " 1,\n",
       " 1,\n",
       " 1,\n",
       " 1,\n",
       " 1,\n",
       " 1,\n",
       " 1,\n",
       " 1,\n",
       " 1,\n",
       " 1,\n",
       " 1,\n",
       " 1,\n",
       " 1,\n",
       " 1,\n",
       " 1,\n",
       " 1,\n",
       " 1,\n",
       " 1,\n",
       " 1,\n",
       " 1,\n",
       " 1,\n",
       " 1,\n",
       " 1,\n",
       " 1,\n",
       " 1,\n",
       " 1,\n",
       " 1,\n",
       " 1,\n",
       " 1,\n",
       " 1,\n",
       " 1,\n",
       " 1,\n",
       " 1,\n",
       " 1,\n",
       " 1,\n",
       " 1,\n",
       " 1,\n",
       " 1,\n",
       " 1,\n",
       " 1,\n",
       " ...]"
      ]
     },
     "execution_count": 58,
     "metadata": {},
     "output_type": "execute_result"
    }
   ],
   "source": [
    "X = ara_bow_dtm_filt\n",
    "y = ara_corpus_sentiment_filt\n",
    "y[670:]"
   ]
  },
  {
   "cell_type": "code",
   "execution_count": 59,
   "metadata": {},
   "outputs": [],
   "source": [
    "# Split the data into training and testing\n",
    "\n",
    "X_train, X_test, y_train, y_test = train_test_split(X, y, test_size = 0.3, random_state=1996)"
   ]
  },
  {
   "cell_type": "code",
   "execution_count": 60,
   "metadata": {},
   "outputs": [
    {
     "name": "stdout",
     "output_type": "stream",
     "text": [
      "(7421, 767)\n",
      "7421\n",
      "(3181, 767)\n",
      "3181\n"
     ]
    }
   ],
   "source": [
    "print(X_train.shape)\n",
    "print(len(y_train))\n",
    "print(X_test.shape)\n",
    "print(len(y_test))\n",
    "assert(len(y_test)+len(y_train)==len(y))"
   ]
  },
  {
   "cell_type": "markdown",
   "metadata": {},
   "source": [
    "### Train classifier using logistic regression"
   ]
  },
  {
   "cell_type": "code",
   "execution_count": 61,
   "metadata": {},
   "outputs": [],
   "source": [
    "# Read documentation\n",
    "# ?LogisticRegression"
   ]
  },
  {
   "cell_type": "code",
   "execution_count": 62,
   "metadata": {},
   "outputs": [
    {
     "name": "stdout",
     "output_type": "stream",
     "text": [
      "  (0, 383)\t0.804834816524051\n",
      "  (0, 549)\t0.5934988779354998\n",
      "  (1, 18)\t0.1334486128769071\n",
      "  (1, 49)\t0.12261955000137052\n",
      "  (1, 69)\t0.10511510418424344\n",
      "  (1, 102)\t0.13897345032599753\n",
      "  (1, 117)\t0.16043377643497803\n",
      "  (1, 124)\t0.17150514773404718\n",
      "  (1, 128)\t0.15629699968163174\n",
      "  (1, 134)\t0.20958048954367142\n",
      "  (1, 140)\t0.1057769231341755\n",
      "  (1, 196)\t0.12979811711701975\n",
      "  (1, 214)\t0.1117007130740321\n",
      "  (1, 227)\t0.14122203209349413\n",
      "  (1, 242)\t0.1430904689566383\n",
      "  (1, 248)\t0.38730406065256157\n",
      "  (1, 259)\t0.12910135355085386\n",
      "  (1, 298)\t0.11555020604281023\n",
      "  (1, 305)\t0.06407686482946066\n",
      "  (1, 329)\t0.19477022137307187\n",
      "  (1, 360)\t0.1088151676034125\n",
      "  (1, 367)\t0.13497518580503592\n",
      "  (1, 395)\t0.09271454363446954\n",
      "  (1, 428)\t0.44053734889832286\n",
      "  (1, 481)\t0.1468231967088472\n",
      "  :\t:\n",
      "  (7419, 512)\t0.07553041182270966\n",
      "  (7419, 515)\t0.07057530003858054\n",
      "  (7419, 518)\t0.052479563634621355\n",
      "  (7419, 520)\t0.09113706056485625\n",
      "  (7419, 522)\t0.0750334845488266\n",
      "  (7419, 530)\t0.055691717545269324\n",
      "  (7419, 548)\t0.07756445951157813\n",
      "  (7419, 550)\t0.07394315081207584\n",
      "  (7419, 554)\t0.07604239977000621\n",
      "  (7419, 568)\t0.0634955085477602\n",
      "  (7419, 592)\t0.07513170755389371\n",
      "  (7419, 628)\t0.08801457513938295\n",
      "  (7419, 700)\t0.08286648143749041\n",
      "  (7419, 701)\t0.05173586710055048\n",
      "  (7419, 708)\t0.16149471513106017\n",
      "  (7419, 725)\t0.17710189493606973\n",
      "  (7419, 727)\t0.07291893970095796\n",
      "  (7419, 729)\t0.0758871676584212\n",
      "  (7419, 732)\t0.06700152957616386\n",
      "  (7419, 750)\t0.09315870970148092\n",
      "  (7419, 751)\t0.14317991059386315\n",
      "  (7419, 756)\t0.07802576624064496\n",
      "  (7420, 229)\t0.5010008662184428\n",
      "  (7420, 233)\t0.7764503371806499\n",
      "  (7420, 305)\t0.3822603902321363\n",
      "[-1, 1, 1, 1, 1, 1, 1, -1, -1, 1, 1, -1, -1, 1, 1, 1, -1, -1, -1, 1, -1, 1, 1, 1, -1, -1, 1, 1, 1, -1, 1, 1, 1, -1, 1, 1, 1, 1, -1, -1, -1, 1, -1, 1, 1, -1, -1, 1, -1, 1, -1, -1, -1, -1, -1, 1, 1, -1, -1, -1, 1, 1, 1, -1, 1, -1, 1, 1, -1, 1, 1, 1, -1, -1, 1, -1, 1, 1, -1, 1, -1, 1, 1, -1, 1, -1, 1, 1, 1, -1, 1, 1, 1, -1, -1, 1, 1, 1, -1, 1, 1, -1, -1, 1, 1, -1, 1, 1, 1, 1, 1, 1, -1, -1, 1, 1, -1, 1, 1, -1, 1, -1, -1, -1, -1, 1, 1, -1, -1, 1, 1, 1, 1, -1, -1, -1, 1, 1, -1, -1, 1, 1, 1, 1, -1, -1, -1, -1, 1, 1, 1, 1, -1, 1, -1, -1, -1, -1, -1, 1, 1, 1, -1, 1, -1, 1, 1, 1, -1, 1, 1, 1, -1, 1, -1, 1, 1, -1, 1, 1, -1, 1, 1, 1, 1, -1, 1, -1, 1, 1, -1, 1, -1, 1, 1, -1, 1, 1, -1, 1, -1, -1, -1, 1, -1, 1, -1, 1, -1, 1, 1, 1, -1, -1, 1, -1, 1, -1, -1, -1, 1, -1, 1, 1, 1, -1, 1, 1, -1, -1, 1, 1, -1, 1, -1, -1, -1, 1, 1, 1, -1, 1, -1, -1, 1, -1, -1, -1, 1, 1, 1, -1, 1, -1, 1, 1, -1, -1, -1, 1, 1, -1, 1, -1, 1, -1, 1, 1, -1, -1, -1, 1, 1, 1, -1, 1, -1, 1, 1, -1, -1, -1, 1, 1, -1, -1, 1, -1, -1, 1, -1, -1, 1, 1, -1, -1, 1, 1, 1, -1, 1, 1, 1, -1, 1, -1, 1, 1, -1, 1, -1, 1, 1, 1, 1, 1, 1, 1, -1, -1, 1, -1, -1, -1, -1, 1, 1, 1, 1, 1, 1, -1, 1, -1, 1, 1, 1, -1, 1, -1, -1, 1, 1, -1, 1, 1, 1, -1, 1, -1, 1, -1, -1, -1, 1, 1, -1, 1, -1, 1, -1, -1, 1, 1, 1, -1, -1, 1, 1, 1, -1, 1, -1, -1, -1, 1, 1, 1, -1, 1, 1, 1, 1, 1, 1, -1, 1, -1, -1, 1, 1, 1, -1, -1, -1, 1, 1, 1, 1, -1, 1, 1, -1, 1, -1, -1, -1, 1, -1, 1, 1, 1, 1, 1, 1, -1, 1, 1, -1, 1, -1, 1, -1, 1, -1, 1, -1, -1, 1, 1, -1, 1, 1, -1, 1, -1, 1, 1, 1, 1, -1, -1, 1, 1, -1, -1, 1, -1, -1, -1, 1, -1, -1, 1, -1, 1, 1, 1, -1, 1, 1, -1, -1, 1, -1, 1, 1, -1, 1, -1, 1, 1, -1, -1, 1, -1, 1, 1, 1, 1, 1, -1, 1, -1, 1, -1, 1, 1, -1, 1, 1, 1, 1, 1, -1, -1, 1, 1, 1, 1, -1, 1, -1, -1, -1, 1, 1, 1, -1, 1, -1, 1, -1, 1, -1, 1, 1, -1, -1, -1, 1, -1, 1, 1, 1, 1, 1, -1, 1, 1, 1, -1, -1, -1, 1, 1, -1, 1, 1, 1, -1, 1, 1, -1, 1, 1, 1, -1, 1, 1, 1, 1, -1, 1, 1, 1, 1, 1, -1, 1, 1, 1, 1, -1, 1, -1, -1, 1, 1, 1, 1, 1, 1, -1, 1, -1, 1, 1, 1, -1, 1, 1, -1, -1, 1, 1, -1, -1, 1, 1, 1, 1, -1, -1, 1, 1, 1, 1, 1, -1, 1, 1, 1, -1, -1, 1, 1, -1, -1, 1, -1, 1, -1, 1, 1, -1, 1, -1, 1, 1, -1, 1, -1, -1, 1, 1, 1, 1, 1, -1, 1, -1, 1, -1, 1, 1, -1, 1, 1, -1, -1, 1, 1, -1, 1, -1, -1, 1, -1, -1, -1, 1, 1, 1, -1, 1, 1, -1, 1, 1, 1, 1, -1, 1, 1, 1, 1, 1, -1, 1, -1, 1, 1, 1, -1, 1, -1, 1, -1, 1, 1, 1, 1, -1, -1, 1, 1, -1, 1, -1, 1, -1, -1, -1, -1, 1, 1, -1, 1, -1, 1, 1, 1, -1, 1, -1, 1, -1, -1, -1, 1, -1, 1, 1, -1, 1, -1, 1, 1, 1, 1, 1, -1, 1, 1, 1, 1, -1, -1, 1, -1, -1, -1, -1, -1, -1, 1, 1, 1, -1, -1, 1, 1, 1, 1, -1, -1, 1, 1, 1, 1, 1, 1, 1, -1, -1, 1, 1, -1, -1, -1, -1, -1, -1, -1, -1, -1, -1, 1, -1, -1, -1, 1, 1, 1, -1, 1, -1, 1, -1, 1, -1, 1, 1, 1, -1, -1, -1, -1, 1, -1, -1, 1, 1, -1, 1, 1, -1, 1, -1, 1, 1, 1, 1, -1, 1, 1, 1, -1, -1, -1, 1, -1, -1, 1, -1, -1, 1, 1, 1, 1, -1, -1, 1, -1, -1, -1, 1, -1, -1, 1, 1, 1, -1, -1, -1, -1, 1, 1, 1, -1, 1, 1, 1, -1, -1, 1, 1, 1, 1, 1, -1, -1, -1, 1, -1, 1, 1, -1, -1, 1, 1, -1, -1, 1, 1, 1, 1, -1, 1, 1, -1, -1, 1, -1, 1, -1, -1, 1, 1, 1, 1, 1, 1, -1, 1, -1, 1, 1, 1, -1, 1, -1, -1, -1, 1, 1, 1, 1, -1, -1, -1, 1, -1, -1, -1, -1, -1, -1, 1, -1, 1, -1, -1, 1, 1, -1, -1, 1, -1, 1, 1, -1, 1, 1, 1, 1, 1, 1, 1, 1, 1, -1, -1, 1, 1, -1, 1, 1, -1, 1, 1, 1, 1, 1, -1, -1, 1, 1, -1, 1, -1, -1, 1, -1, -1, 1, -1, 1, -1, -1, -1, 1, -1, 1, 1, -1, -1, -1, -1, 1, 1, -1, -1, 1, 1, -1, -1, 1, -1, -1, 1, 1, 1, -1, 1, -1, 1, -1, -1, -1, -1, 1, 1, -1, 1, 1, 1, -1, 1, 1, 1, 1, -1, 1, -1, 1, 1, 1, 1, 1, 1, 1, 1, 1, -1, 1, -1, 1, 1, 1, 1, -1, -1, 1, 1, 1, 1, -1, -1, 1, 1, 1, -1, 1, -1, -1, 1, 1, -1, 1, 1, -1, -1, 1, -1, 1, -1, 1, -1, -1, 1, 1, -1, -1, 1, 1, -1, 1, 1, 1, -1, -1, 1, 1, -1, 1, -1, 1, 1, 1, 1, 1, -1, 1, 1, 1, 1, 1, -1, -1, 1, 1, 1, 1, -1, 1, -1, -1, 1, 1, 1, 1, 1, 1, 1, -1, -1, -1, -1, 1, 1, -1, 1, -1, -1, 1, 1, 1, 1, 1, 1, -1, -1, 1, -1, -1, -1, 1, 1, 1, -1, 1, 1, 1, 1, 1, -1, -1, 1, 1, -1, -1, -1, 1, 1, -1, 1, 1, -1, -1, -1, 1, 1, 1, 1, -1, 1, 1, 1, 1, 1, 1, 1, 1, -1, -1, -1, -1, 1, -1, 1, 1, 1, 1, 1, 1, -1, -1, -1, 1, 1, 1, 1, 1, -1, 1, -1, 1, 1, -1, -1, 1, 1, 1, 1, 1, 1, -1, -1, -1, 1, 1, -1, 1, -1, -1, 1, 1, 1, 1, -1, 1, -1, 1, -1, 1, -1, 1, 1, 1, 1, 1, 1, -1, 1, 1, 1, 1, -1, 1, 1, -1, 1, -1, 1, 1, -1, 1, -1, 1, -1, 1, -1, 1, -1, -1, -1, 1, 1, 1, 1, -1, 1, -1, 1, -1, -1, -1, -1, 1, -1, -1, -1, -1, -1, -1, -1, -1, -1, 1, 1, 1, 1, 1, 1, 1, -1, 1, 1, -1, 1, -1, 1, -1, 1, 1, -1, -1, -1, -1, 1, 1, 1, -1, 1, 1, 1, 1, 1, 1, 1, -1, 1, 1, 1, 1, 1, -1, 1, 1, -1, -1, 1, 1, 1, 1, 1, -1, 1, 1, 1, 1, -1, -1, 1, -1, 1, 1, -1, 1, -1, 1, -1, -1, 1, 1, 1, 1, 1, 1, 1, -1, 1, 1, 1, -1, 1, -1, 1, -1, 1, -1, 1, 1, 1, -1, 1, -1, 1, 1, -1, -1, 1, -1, 1, 1, 1, 1, -1, 1, 1, -1, 1, 1, 1, -1, -1, 1, 1, 1, 1, 1, 1, 1, -1, 1, -1, -1, 1, -1, 1, -1, -1, 1, 1, 1, 1, -1, -1, 1, -1, 1, -1, 1, 1, -1, -1, -1, -1, -1, -1, 1, -1, 1, 1, 1, -1, 1, -1, -1, 1, 1, -1, 1, 1, -1, -1, -1, 1, -1, -1, -1, -1, 1, -1, -1, 1, 1, 1, -1, 1, -1, -1, 1, 1, 1, -1, 1, 1, 1, -1, -1, -1, 1, 1, 1, 1, -1, -1, -1, -1, 1, -1, 1, 1, 1, 1, -1, 1, -1, 1, 1, -1, 1, -1, 1, 1, 1, 1, 1, -1, -1, -1, 1, 1, 1, -1, -1, 1, -1, 1, 1, 1, -1, 1, 1, -1, 1, 1, 1, -1, 1, -1, 1, -1, 1, -1, -1, 1, -1, 1, 1, -1, -1, 1, 1, -1, -1, 1, 1, -1, -1, -1, -1, 1, 1, -1, -1, 1, -1, -1, -1, 1, 1, 1, 1, -1, 1, 1, 1, 1, -1, -1, 1, 1, 1, -1, 1, -1, -1, 1, -1, 1, 1, 1, -1, 1, 1, -1, -1, 1, -1, 1, -1, -1, 1, 1, 1, 1, -1, 1, -1, 1, -1, 1, 1, -1, -1, -1, -1, -1, -1, -1, -1, -1, 1, 1, 1, 1, 1, 1, 1, 1, -1, -1, -1, 1, -1, -1, -1, -1, -1, 1, 1, 1, -1, 1, 1, 1, 1, 1, 1, -1, 1, 1, -1, -1, -1, 1, -1, -1, 1, 1, 1, 1, -1, 1, 1, 1, 1, 1, -1, -1, -1, 1, 1, 1, 1, -1, 1, -1, 1, 1, -1, -1, 1, 1, 1, -1, 1, -1, -1, -1, -1, -1, 1, -1, 1, 1, -1, -1, 1, 1, 1, -1, -1, 1, 1, 1, -1, 1, 1, 1, -1, -1, -1, 1, 1, 1, -1, 1, 1, 1, 1, -1, 1, 1, -1, -1, -1, -1, -1, 1, 1, 1, -1, 1, -1, -1, -1, -1, 1, 1, -1, 1, -1, 1, 1, -1, -1, -1, -1, 1, -1, 1, 1, -1, -1, 1, 1, 1, 1, 1, -1, -1, 1, -1, 1, 1, -1, -1, 1, 1, 1, 1, 1, 1, 1, 1, -1, -1, 1, -1, -1, -1, 1, 1, 1, -1, -1, 1, 1, -1, 1, -1, 1, -1, 1, 1, -1, 1, -1, 1, 1, 1, -1, -1, -1, 1, 1, 1, -1, -1, -1, 1, 1, 1, 1, 1, 1, -1, 1, 1, -1, 1, -1, 1, 1, -1, -1, -1, -1, -1, -1, -1, 1, 1, 1, -1, 1, -1, -1, -1, 1, -1, -1, -1, 1, -1, 1, 1, 1, 1, 1, -1, -1, 1, 1, 1, 1, -1, 1, 1, -1, -1, -1, -1, -1, 1, -1, 1, -1, 1, -1, -1, -1, -1, 1, 1, -1, 1, 1, -1, -1, -1, -1, -1, 1, -1, -1, 1, -1, -1, 1, 1, -1, -1, 1, -1, 1, 1, -1, 1, 1, 1, 1, -1, -1, 1, 1, -1, 1, -1, 1, -1, 1, -1, 1, 1, 1, -1, -1, -1, 1, 1, 1, 1, -1, -1, -1, 1, 1, -1, -1, 1, 1, -1, 1, -1, 1, 1, 1, -1, 1, 1, 1, 1, 1, 1, -1, -1, 1, 1, -1, -1, -1, 1, 1, 1, -1, 1, -1, 1, -1, 1, 1, -1, -1, -1, 1, -1, 1, 1, 1, 1, 1, -1, -1, 1, 1, -1, -1, 1, 1, 1, 1, 1, -1, 1, -1, -1, 1, -1, 1, 1, 1, 1, -1, 1, -1, 1, -1, 1, 1, -1, -1, 1, -1, -1, -1, -1, 1, 1, 1, -1, 1, 1, 1, -1, -1, -1, 1, -1, -1, -1, 1, -1, -1, -1, 1, 1, 1, 1, -1, -1, 1, -1, -1, -1, 1, -1, 1, 1, -1, 1, -1, -1, 1, 1, -1, -1, -1, 1, 1, 1, 1, 1, 1, 1, 1, -1, -1, 1, -1, 1, -1, 1, 1, 1, 1, 1, 1, -1, -1, 1, 1, -1, 1, -1, -1, 1, -1, -1, -1, 1, 1, 1, 1, 1, 1, -1, -1, -1, -1, -1, 1, 1, 1, 1, 1, 1, -1, 1, 1, -1, -1, -1, 1, 1, 1, 1, 1, 1, -1, 1, 1, -1, -1, -1, 1, 1, -1, 1, 1, 1, 1, -1, -1, 1, 1, 1, 1, 1, -1, 1, -1, 1, -1, -1, -1, 1, 1, 1, -1, -1, 1, -1, 1, -1, 1, -1, 1, 1, 1, -1, -1, -1, -1, 1, 1, 1, -1, 1, -1, 1, 1, 1, -1, -1, 1, -1, 1, -1, 1, -1, 1, -1, 1, -1, -1, 1, 1, 1, 1, -1, -1, 1, -1, -1, 1, -1, -1, -1, 1, -1, -1, 1, 1, -1, 1, 1, 1, -1, -1, 1, -1, -1, -1, 1, -1, -1, 1, 1, 1, -1, 1, 1, -1, 1, 1, 1, 1, -1, -1, 1, -1, -1, 1, 1, 1, 1, -1, 1, 1, 1, 1, 1, -1, 1, 1, 1, 1, 1, 1, -1, -1, 1, 1, -1, -1, -1, 1, -1, -1, 1, -1, 1, -1, -1, -1, -1, 1, -1, -1, 1, 1, -1, -1, 1, 1, 1, 1, -1, -1, -1, -1, 1, 1, 1, 1, 1, -1, 1, -1, -1, 1, -1, -1, -1, 1, -1, -1, 1, 1, -1, 1, 1, 1, 1, -1, 1, -1, -1, 1, 1, 1, -1, -1, -1, 1, -1, -1, 1, 1, 1, 1, 1, -1, -1, -1, -1, -1, -1, -1, -1, -1, -1, 1, 1, 1, -1, 1, 1, 1, -1, 1, 1, -1, -1, 1, -1, 1, -1, -1, -1, -1, 1, 1, 1, 1, 1, -1, 1, 1, 1, -1, -1, -1, 1, -1, -1, -1, 1, -1, 1, 1, 1, 1, 1, -1, 1, 1, -1, 1, -1, -1, 1, 1, 1, -1, 1, 1, -1, 1, -1, -1, 1, 1, 1, 1, -1, 1, 1, -1, 1, 1, -1, -1, -1, 1, -1, 1, 1, -1, -1, -1, -1, -1, -1, 1, 1, -1, 1, -1, 1, 1, -1, 1, 1, 1, 1, 1, 1, -1, -1, 1, 1, 1, 1, 1, 1, 1, -1, 1, -1, 1, -1, -1, -1, 1, -1, 1, -1, -1, 1, -1, -1, -1, -1, -1, 1, 1, 1, 1, -1, -1, 1, 1, 1, -1, -1, 1, 1, 1, 1, -1, -1, 1, 1, 1, -1, 1, -1, 1, 1, -1, 1, 1, 1, -1, -1, -1, 1, 1, 1, 1, 1, 1, 1, -1, 1, 1, 1, 1, -1, 1, -1, -1, 1, 1, -1, 1, -1, -1, -1, -1, -1, -1, 1, -1, -1, 1, 1, -1, 1, -1, 1, 1, -1, 1, -1, -1, 1, 1, 1, -1, 1, 1, 1, 1, 1, -1, -1, -1, 1, 1, -1, 1, 1, -1, 1, -1, -1, 1, -1, 1, -1, 1, 1, 1, 1, -1, -1, 1, 1, -1, -1, 1, 1, 1, -1, -1, -1, 1, 1, 1, -1, 1, 1, 1, 1, 1, -1, 1, 1, 1, -1, -1, 1, -1, 1, 1, 1, 1, 1, -1, -1, -1, 1, -1, -1, 1, 1, 1, -1, -1, -1, -1, -1, 1, -1, 1, -1, 1, -1, -1, -1, 1, -1, 1, 1, -1, -1, -1, -1, -1, -1, -1, 1, -1, 1, -1, -1, -1, -1, 1, -1, -1, 1, 1, 1, -1, -1, 1, -1, 1, -1, 1, -1, -1, 1, 1, -1, 1, 1, -1, -1, -1, -1, 1, -1, 1, -1, -1, 1, 1, -1, -1, 1, 1, 1, 1, 1, 1, 1, -1, -1, 1, 1, -1, -1, 1, 1, -1, 1, -1, 1, 1, -1, 1, -1, -1, -1, 1, -1, -1, -1, 1, 1, -1, 1, 1, -1, 1, 1, -1, 1, 1, 1, -1, 1, 1, -1, -1, 1, 1, 1, 1, 1, 1, -1, 1, 1, -1, -1, 1, 1, -1, -1, -1, 1, 1, 1, -1, -1, -1, -1, -1, 1, -1, 1, 1, 1, 1, 1, -1, 1, 1, 1, -1, 1, -1, -1, -1, -1, 1, 1, 1, -1, 1, 1, -1, -1, 1, -1, 1, -1, -1, 1, 1, 1, 1, 1, 1, 1, -1, -1, -1, -1, 1, 1, 1, -1, 1, 1, 1, 1, 1, -1, 1, -1, -1, 1, 1, 1, 1, 1, 1, -1, -1, 1, -1, 1, 1, 1, 1, 1, 1, 1, -1, -1, 1, -1, 1, -1, 1, -1, -1, -1, 1, 1, 1, -1, 1, 1, 1, -1, 1, 1, 1, -1, 1, 1, -1, -1, 1, -1, 1, 1, 1, 1, -1, 1, 1, 1, 1, 1, 1, 1, 1, 1, -1, -1, 1, 1, -1, 1, 1, -1, 1, -1, -1, -1, 1, 1, 1, 1, -1, 1, -1, -1, 1, -1, -1, 1, 1, -1, -1, 1, 1, -1, -1, 1, -1, 1, 1, 1, -1, -1, 1, 1, 1, 1, -1, -1, -1, 1, -1, 1, 1, -1, 1, -1, -1, 1, -1, -1, 1, -1, -1, -1, 1, 1, 1, 1, 1, -1, -1, -1, -1, -1, 1, 1, 1, -1, 1, -1, -1, 1, 1, 1, -1, 1, -1, 1, 1, 1, -1, -1, -1, 1, 1, -1, 1, 1, -1, 1, -1, 1, -1, 1, 1, -1, 1, -1, 1, 1, 1, 1, 1, 1, -1, 1, 1, 1, -1, 1, -1, -1, 1, -1, 1, -1, 1, 1, -1, -1, -1, -1, 1, -1, 1, 1, 1, 1, 1, 1, 1, 1, 1, -1, 1, -1, 1, 1, -1, 1, -1, 1, -1, -1, -1, 1, -1, -1, 1, 1, -1, 1, 1, 1, 1, -1, -1, 1, -1, -1, -1, 1, -1, 1, -1, -1, 1, 1, -1, 1, 1, -1, -1, -1, -1, -1, 1, -1, -1, 1, 1, 1, 1, -1, -1, -1, 1, 1, 1, 1, 1, -1, 1, 1, -1, -1, -1, -1, -1, 1, -1, 1, -1, -1, -1, 1, 1, -1, -1, 1, 1, 1, -1, -1, 1, -1, 1, -1, 1, 1, 1, 1, 1, 1, -1, 1, 1, 1, 1, -1, -1, 1, 1, 1, 1, 1, -1, -1, -1, 1, 1, 1, -1, -1, 1, -1, -1, 1, -1, -1, 1, -1, 1, 1, 1, -1, -1, 1, 1, -1, 1, 1, 1, 1, 1, -1, 1, -1, 1, 1, 1, 1, 1, -1, 1, 1, -1, 1, -1, 1, 1, 1, -1, 1, -1, 1, 1, 1, 1, 1, 1, -1, 1, 1, 1, 1, 1, -1, 1, 1, -1, -1, 1, -1, -1, -1, -1, -1, -1, -1, 1, -1, -1, 1, 1, -1, 1, 1, -1, -1, 1, -1, -1, 1, -1, 1, 1, -1, -1, 1, 1, -1, -1, -1, -1, 1, 1, -1, 1, -1, 1, -1, -1, 1, 1, 1, -1, 1, -1, -1, -1, 1, -1, 1, 1, 1, -1, -1, -1, -1, 1, 1, -1, 1, 1, 1, -1, -1, -1, -1, -1, 1, -1, 1, -1, 1, -1, 1, -1, -1, 1, 1, -1, 1, -1, 1, 1, -1, 1, -1, -1, 1, 1, 1, -1, 1, 1, 1, -1, 1, 1, 1, 1, 1, 1, 1, -1, -1, -1, 1, 1, 1, -1, 1, -1, 1, 1, -1, -1, 1, -1, -1, 1, 1, -1, -1, -1, 1, -1, -1, -1, -1, 1, 1, -1, 1, -1, -1, -1, 1, -1, 1, -1, 1, 1, -1, -1, -1, 1, 1, -1, -1, 1, 1, -1, 1, 1, -1, -1, 1, -1, 1, -1, 1, 1, 1, -1, 1, 1, -1, 1, 1, -1, 1, -1, -1, 1, 1, -1, 1, 1, 1, 1, 1, -1, -1, 1, 1, -1, -1, 1, -1, 1, -1, -1, -1, -1, 1, 1, 1, -1, -1, -1, 1, -1, 1, 1, 1, -1, -1, 1, 1, 1, 1, 1, -1, 1, 1, 1, 1, 1, 1, -1, -1, 1, 1, 1, 1, 1, 1, -1, 1, -1, 1, -1, 1, 1, -1, 1, -1, 1, 1, -1, 1, 1, -1, -1, 1, -1, -1, 1, 1, -1, 1, 1, 1, 1, 1, 1, -1, -1, -1, 1, 1, -1, -1, 1, -1, -1, -1, 1, -1, -1, -1, 1, -1, 1, 1, 1, 1, 1, -1, -1, 1, 1, -1, -1, 1, 1, -1, 1, 1, 1, 1, -1, 1, 1, -1, -1, -1, -1, -1, 1, 1, 1, 1, 1, -1, 1, 1, 1, 1, -1, -1, 1, 1, 1, 1, 1, 1, -1, -1, 1, -1, 1, 1, 1, 1, 1, 1, 1, 1, 1, -1, -1, 1, 1, -1, -1, 1, -1, -1, -1, 1, -1, 1, -1, 1, 1, -1, 1, 1, -1, 1, 1, -1, -1, -1, -1, 1, -1, -1, 1, -1, 1, -1, 1, -1, -1, -1, 1, 1, -1, 1, 1, 1, 1, 1, -1, -1, -1, -1, -1, -1, -1, -1, 1, 1, -1, -1, 1, 1, 1, -1, 1, 1, 1, -1, -1, -1, -1, -1, 1, 1, -1, 1, 1, 1, 1, 1, 1, 1, -1, 1, 1, -1, 1, 1, 1, 1, 1, 1, 1, 1, -1, 1, 1, 1, 1, 1, 1, 1, -1, 1, -1, 1, -1, 1, 1, -1, -1, -1, -1, 1, 1, 1, 1, 1, 1, 1, -1, 1, -1, 1, 1, -1, 1, -1, -1, 1, -1, -1, 1, 1, -1, 1, 1, -1, 1, 1, 1, -1, 1, -1, 1, 1, -1, -1, 1, -1, 1, 1, 1, -1, 1, -1, -1, 1, 1, -1, 1, -1, -1, -1, 1, 1, -1, -1, -1, -1, 1, -1, -1, 1, 1, -1, 1, 1, 1, -1, 1, -1, 1, -1, 1, -1, 1, 1, 1, 1, -1, 1, 1, 1, 1, -1, 1, -1, -1, 1, 1, -1, 1, -1, 1, 1, -1, 1, 1, 1, -1, 1, -1, 1, -1, 1, -1, -1, 1, -1, -1, -1, -1, -1, -1, 1, -1, 1, -1, -1, 1, 1, 1, -1, 1, -1, -1, 1, -1, -1, -1, -1, -1, 1, -1, 1, 1, -1, -1, 1, 1, -1, 1, -1, 1, 1, -1, -1, -1, 1, -1, -1, 1, -1, -1, -1, -1, -1, 1, -1, 1, 1, 1, -1, -1, -1, -1, -1, 1, -1, 1, -1, -1, -1, -1, 1, 1, -1, -1, 1, -1, 1, 1, 1, 1, -1, -1, -1, -1, -1, -1, 1, 1, 1, -1, -1, 1, -1, -1, -1, 1, -1, 1, 1, 1, 1, -1, 1, -1, -1, -1, 1, -1, -1, 1, -1, -1, 1, -1, 1, -1, 1, 1, -1, 1, 1, 1, 1, -1, -1, -1, -1, -1, 1, 1, 1, 1, 1, 1, 1, 1, 1, 1, 1, -1, 1, 1, -1, -1, 1, -1, 1, -1, -1, -1, -1, -1, -1, 1, -1, 1, -1, 1, 1, -1, 1, -1, -1, -1, 1, 1, -1, -1, 1, 1, 1, 1, 1, 1, 1, -1, -1, 1, -1, 1, 1, -1, 1, 1, -1, -1, 1, 1, 1, -1, 1, 1, 1, -1, 1, 1, 1, 1, 1, 1, -1, 1, -1, -1, -1, -1, -1, 1, -1, 1, 1, -1, 1, 1, 1, -1, 1, 1, 1, 1, 1, 1, -1, 1, -1, 1, 1, 1, -1, -1, 1, 1, 1, 1, 1, 1, 1, 1, 1, 1, -1, -1, 1, 1, 1, -1, -1, -1, 1, 1, 1, 1, 1, 1, -1, 1, 1, -1, -1, 1, -1, -1, -1, -1, -1, 1, -1, -1, -1, 1, 1, -1, 1, 1, -1, 1, 1, 1, 1, -1, 1, 1, -1, -1, -1, 1, -1, -1, -1, -1, -1, 1, 1, 1, -1, -1, 1, 1, 1, 1, -1, 1, 1, -1, -1, 1, 1, -1, -1, 1, 1, 1, -1, -1, -1, -1, -1, -1, 1, -1, 1, -1, 1, 1, -1, -1, 1, 1, -1, -1, -1, -1, 1, 1, 1, 1, -1, -1, -1, -1, 1, -1, 1, -1, 1, -1, -1, 1, -1, 1, 1, -1, 1, -1, -1, 1, -1, 1, -1, -1, -1, 1, 1, 1, -1, 1, 1, 1, -1, -1, -1, 1, 1, 1, 1, 1, 1, 1, 1, -1, -1, 1, 1, 1, -1, 1, -1, -1, 1, -1, 1, -1, 1, -1, 1, -1, -1, 1, -1, -1, -1, 1, -1, 1, -1, 1, 1, -1, -1, 1, 1, -1, -1, 1, 1, 1, 1, -1, 1, 1, -1, -1, -1, -1, -1, 1, 1, 1, 1, 1, 1, 1, 1, -1, -1, -1, 1, -1, -1, -1, 1, 1, -1, 1, -1, 1, 1, 1, 1, -1, -1, -1, 1, 1, 1, -1, 1, 1, 1, 1, -1, 1, -1, 1, 1, 1, 1, -1, -1, -1, -1, 1, -1, 1, 1, -1, -1, 1, -1, 1, -1, -1, -1, -1, 1, -1, -1, 1, -1, 1, 1, 1, 1, 1, 1, 1, -1, -1, -1, -1, 1, -1, -1, -1, 1, 1, -1, -1, 1, -1, 1, -1, 1, 1, -1, 1, 1, -1, -1, 1, 1, 1, -1, -1, 1, 1, 1, 1, 1, 1, -1, 1, 1, -1, 1, 1, 1, 1, 1, -1, -1, -1, -1, 1, 1, 1, 1, -1, 1, -1, -1, 1, -1, 1, -1, 1, 1, -1, -1, 1, 1, -1, 1, 1, 1, -1, -1, 1, -1, -1, -1, -1, 1, 1, -1, 1, 1, 1, 1, 1, 1, 1, -1, 1, 1, 1, 1, -1, -1, -1, 1, 1, 1, -1, -1, -1, 1, 1, 1, 1, -1, -1, -1, -1, -1, -1, 1, 1, -1, -1, -1, 1, 1, 1, 1, -1, 1, -1, 1, -1, -1, 1, 1, -1, -1, -1, 1, -1, -1, 1, -1, -1, 1, 1, 1, -1, 1, 1, 1, -1, -1, 1, 1, 1, 1, -1, 1, -1, -1, -1, -1, -1, -1, -1, 1, -1, 1, -1, 1, 1, -1, 1, -1, -1, 1, 1, 1, -1, -1, 1, -1, 1, 1, -1, 1, -1, 1, 1, 1, -1, -1, 1, -1, -1, 1, 1, 1, -1, -1, 1, 1, 1, -1, -1, -1, 1, -1, 1, 1, -1, -1, -1, 1, 1, 1, 1, 1, -1, -1, 1, 1, -1, -1, -1, -1, 1, 1, 1, -1, -1, 1, -1, -1, 1, 1, 1, 1, 1, -1, 1, 1, -1, -1, -1, 1, 1, 1, -1, -1, 1, 1, 1, 1, -1, 1, 1, -1, 1, -1, -1, -1, 1, 1, -1, 1, 1, 1, -1, -1, -1, -1, 1, 1, -1, 1, 1, 1, 1, 1, -1, -1, -1, 1, -1, -1, 1, 1, -1, 1, -1, -1, 1, -1, -1, 1, -1, -1, -1, 1, 1, 1, -1, -1, 1, -1, 1, -1, -1, 1, -1, 1, -1, -1, -1, 1, -1, -1, -1, -1, -1, 1, 1, -1, -1, -1, -1, 1, 1, 1, 1, 1, -1, -1, -1, -1, -1, 1, -1, 1, -1, -1, 1, 1, -1, 1, -1, 1, 1, 1, 1, 1, -1, -1, -1, 1, -1, -1, -1, -1, 1, 1, 1, -1, -1, 1, 1, 1, 1, 1, -1, 1, 1, 1, 1, 1, -1, 1, 1, 1, -1, -1, 1, -1, 1, -1, -1, 1, 1, 1, -1, -1, -1, 1, 1, -1, -1, 1, 1, 1, -1, 1, -1, -1, -1, -1, 1, 1, -1, -1, 1, 1, 1, -1, -1, 1, -1, 1, -1, -1, -1, -1, 1, -1, 1, 1, 1, 1, 1, -1, 1, -1, 1, 1, 1, 1, -1, 1, -1, -1, -1, 1, -1, 1, 1, 1, 1, 1, -1, -1, 1, 1, -1, 1, 1, 1, -1, 1, 1, -1, 1, 1, 1, 1, -1, 1, -1, -1, -1, 1, 1, 1, -1, 1, 1, 1, 1, -1, -1, 1, 1, 1, -1, 1, 1, -1, 1, 1, -1, -1, 1, 1, -1, 1, -1, -1, 1, 1, 1, -1, -1, 1, 1, -1, -1, 1, 1, 1, 1, -1, -1, 1, -1, 1, 1, -1, 1, 1, 1, 1, 1, 1, -1, -1, -1, 1, -1, -1, 1, 1, 1, -1, -1, -1, 1, 1, 1, -1, 1, 1, -1, -1, 1, 1, 1, -1, 1, -1, 1, 1, 1, 1, 1, 1, 1, -1, 1, 1, 1, 1, -1, 1, 1, -1, -1, 1, -1, 1, 1, -1, -1, -1, -1, 1, 1, 1, 1, -1, -1, -1, -1, -1, 1, -1, -1, 1, -1, 1, 1, 1, 1, -1, 1, 1, -1, 1, -1, 1, 1, -1, 1, 1, 1, 1, -1, -1, -1, 1, 1, 1, 1, 1, 1, 1, 1, 1, -1, 1, 1, -1, 1, -1, 1, 1, 1, -1, 1, 1, 1, 1, 1, 1, 1, -1, 1, -1, 1, 1, -1, 1, 1, -1, 1, -1, 1, 1, 1, 1, -1, 1, 1, -1, -1, 1, -1, -1, 1, -1, 1, -1, 1, 1, 1, -1, -1, -1, 1, 1, -1, -1, 1, 1, 1, 1, -1, 1, 1, -1, 1, -1, -1, -1, -1, -1, -1, -1, -1, 1, 1, 1, -1, 1, 1, 1, -1, 1, 1, 1, 1, 1, 1, -1, -1, 1, -1, 1, -1, -1, -1, 1, 1, -1, 1, 1, 1, 1, 1, -1, 1, -1, 1, -1, 1, 1, 1, 1, 1, -1, 1, 1, -1, 1, 1, 1, -1, -1, -1, 1, 1, 1, 1, -1, -1, -1, 1, 1, 1, 1, -1, -1, 1, 1, -1, 1, -1, 1, 1, 1, -1, -1, 1, 1, 1, -1, -1, -1, -1, 1, -1, 1, 1, 1, 1, 1, -1, 1, 1, 1, 1, -1, -1, -1, -1, -1, -1, 1, -1, 1, 1, 1, 1, 1, 1, 1, 1, -1, -1, 1, 1, -1, -1, -1, 1, -1, -1, 1, 1, -1, -1, 1, 1, 1, 1, -1, 1, -1, 1, 1, 1, -1, -1, 1, -1, 1, 1, -1, 1, 1, 1, 1, -1, 1, 1, -1, 1, 1, 1, -1, -1, 1, 1, 1, 1, 1, 1, 1, -1, 1, 1, -1, 1, 1, -1, -1, -1, -1, -1, 1, -1, -1, -1, 1, 1, 1, 1, 1, -1, -1, -1, 1, 1, 1, -1, 1, -1, 1, -1, -1, -1, 1, 1, -1, -1, 1, 1, 1, 1, -1, -1, 1, 1, 1, 1, 1, -1, 1, -1, -1, -1, 1, 1, 1, 1, 1, -1, 1, 1, 1, -1, -1, -1, -1, 1, 1, -1, 1, 1, -1, 1, -1, 1, -1, 1, 1, -1, 1, -1, 1, 1, -1, 1, 1, 1, -1, 1, 1, 1, 1, 1, 1, 1, -1, -1, 1, 1, -1, 1, 1, 1, 1, 1, 1, -1, -1, 1, 1, 1, -1, -1, 1, -1, 1, -1, -1, -1, 1, -1, 1, 1, 1, -1, 1, -1, -1, 1, -1, 1, -1, 1, 1, -1, 1, -1, 1, 1, 1, 1, 1, -1, -1, 1, 1, 1, -1, -1, -1, 1, -1, -1, 1, 1, 1, -1, 1, 1, 1, -1, -1, -1, -1, -1, -1, -1, 1, 1, 1, -1, -1, 1, 1, 1, -1, 1, -1, 1, 1, -1, 1, -1, 1, -1, -1, -1, 1, -1, -1, -1, 1, 1, 1, 1, 1, -1, 1, 1, -1, -1, 1, 1, 1, 1, -1, 1, -1, 1, -1, 1, -1, -1, 1, -1, -1, 1, 1, 1, -1, -1, -1, 1, -1, 1, 1, 1, 1, 1, -1, 1, -1, -1, -1, 1, 1, 1, -1, -1, -1, -1, 1, 1, -1, -1, -1, -1, -1, 1, -1, -1, 1, 1, 1, -1, -1, -1, -1, 1, 1, 1, -1, 1, -1, 1, 1, 1, -1, 1, 1, 1, -1, 1, 1, 1, 1, 1, -1, 1, 1, -1, 1, 1, 1, 1, -1, 1, 1, 1, -1, 1, -1, -1, -1, -1, 1, -1, 1, -1, 1, 1, 1, -1, -1, 1, 1, -1, -1, 1, 1, 1, -1, -1, 1, -1, -1, 1, 1, 1, -1, 1, 1, 1, -1, -1, 1, -1, -1, 1, 1, 1, 1, 1, 1, 1, 1, 1, 1, 1, 1, 1, -1, 1, -1, 1, -1, -1, -1, -1, -1, 1, -1, 1, 1, 1, -1, -1, 1, 1, 1, -1, -1, 1, 1, 1, -1, 1, -1, -1, 1, 1, -1, 1, 1, 1, 1, -1, 1, 1, -1, 1, 1, -1, 1, 1, -1, 1, 1, 1, 1, 1, 1, -1, 1, -1, -1, -1, -1, -1, 1, -1, -1, 1, -1, 1, -1, 1, 1, -1, -1, -1, 1, 1, -1, -1, 1, -1, -1, 1, 1, -1, 1, 1, -1, -1, 1, 1, -1, 1, 1, 1, 1, 1, -1, -1, -1, -1, 1, 1, 1, -1, 1, -1, 1, 1, -1, 1, 1, 1, 1, -1, -1, -1, 1, 1, -1, 1, 1, -1, 1, 1, 1, 1, 1, 1, -1, 1, -1, 1, -1, 1, 1, 1, -1, -1, 1, 1, 1, 1, 1, 1, 1, 1, 1, 1, 1, 1, -1, -1, 1, -1, 1, 1, -1, 1, -1, -1, 1, -1, 1, 1, 1, -1, -1, -1, 1, -1, 1, -1, -1, 1, -1, 1, -1, 1, 1, -1, 1, 1, -1, 1, 1, 1, 1, 1, -1, 1, 1, 1, -1, 1, -1, -1, 1, -1, -1, 1, -1, -1, 1, -1, -1, -1, 1, 1, 1, 1, 1, 1, 1, -1, -1, 1, -1, -1, 1, -1, -1, 1, 1, 1, -1, -1, -1, -1, 1, -1, -1, -1, 1, -1, -1, 1, 1, -1, -1, 1, 1, -1, -1, 1, 1, -1, 1, -1, 1, 1, -1, -1, -1, 1, 1, -1, 1, -1, -1, -1, 1, 1, -1, 1, 1, 1, 1, 1, -1, -1, 1, -1, 1, 1, 1, 1, -1, 1, 1, 1, 1, -1, 1, -1, 1, -1, 1, -1, -1, 1, -1, 1, 1, -1, 1, -1, 1, -1, 1, -1, 1, -1, 1, 1, 1, -1, 1, 1, 1, -1, -1, 1, 1, -1, -1, 1, -1, -1, 1, 1, 1, 1, 1, 1, 1, -1, 1, -1, 1, -1, -1, 1, -1, 1, 1, 1, -1, 1, -1, 1, -1, 1, -1, 1, 1, -1, -1, 1, -1, 1, 1, 1, 1, -1, -1, 1, -1, 1, 1, -1, -1, -1, -1, -1, 1, -1, 1, -1, 1, 1, -1, 1, 1, 1, 1, -1, 1, 1, -1, -1, 1, 1, -1, 1, 1, -1, 1, 1, -1, -1, 1, 1, 1, 1, 1, -1, 1, 1, -1, 1, -1, -1, -1, 1, 1, 1, -1, 1, -1, 1, 1, -1, 1, 1, -1, 1, -1, 1, -1, 1, -1, 1, -1, 1, 1, -1, 1, -1, 1, 1, -1, -1, 1, 1, 1, 1, 1, -1, 1, -1, -1, 1, 1, 1, 1, 1, -1, 1, -1, 1, 1, -1, 1, -1, 1, 1, 1, -1, 1, -1, 1, 1, -1, 1, -1, -1, 1, -1, 1, 1, 1, -1, -1, 1, -1, -1, -1, -1, 1, 1, -1, 1, 1, 1, 1, 1, -1, -1, 1, 1, -1, 1, 1, 1, 1, 1, -1, -1, -1, 1, -1, -1, -1, 1, 1, 1, -1, 1, -1, -1, 1, 1, 1, 1, 1, -1, 1, -1, 1, 1, 1, 1, -1, -1, -1, 1, 1, 1, 1, 1, 1, 1, 1, -1, 1, 1, -1, 1, -1, 1, 1, -1, 1, -1, 1, -1, 1, 1, 1, -1, -1, 1, 1, 1, 1, -1, -1, 1, -1, -1, 1, -1, -1, -1, 1, -1, 1, 1, 1, 1, 1, -1, 1, -1, 1, -1, -1, -1, 1, 1, -1, 1, 1, -1, 1, -1, 1, 1, -1, -1, 1, 1, 1, -1, -1, 1, 1, -1, 1, 1, 1, 1, 1, -1, 1, -1, -1, 1, -1, 1, -1, -1, -1, 1, -1, 1, 1, 1, 1, -1, -1, 1, 1, 1, 1, 1, -1, -1, -1, 1, 1, -1, 1, -1, 1, -1, 1, 1, -1, -1, -1, -1, 1, -1, -1, -1, -1, 1, 1, 1, 1, 1, 1, 1, -1, -1, 1, -1, -1, 1, 1, 1, -1, -1, 1, -1, 1, 1, 1, 1, 1, 1, 1, 1, -1, -1, -1, 1, 1, 1, 1, 1, -1, -1, -1, -1, -1, 1, 1, 1, -1, -1, -1, -1, -1, -1, 1, 1, 1, -1, 1, -1, -1, -1, 1, 1, 1, -1, 1, 1, -1, 1, -1, 1, -1, -1, 1, -1, 1, -1, -1, 1, -1, 1, 1, 1, 1, 1, -1, 1, -1, -1, 1, 1, 1, 1, -1, 1, 1, 1, 1, -1, -1, -1, 1, 1, 1, 1, 1, -1, -1, 1, 1, 1, 1, 1, 1, 1, -1, 1, 1, 1, -1, -1, -1, -1, -1, 1, -1, -1, 1, 1, 1, -1, 1, 1, 1, 1, -1, 1, -1, 1, 1, 1, 1, 1, -1, -1, -1, 1, 1, -1, 1, -1, -1, 1, 1, 1, 1, 1, -1, -1, -1, 1, 1, -1, -1, 1, -1, 1, 1, -1, 1, 1, 1, 1, 1, -1, 1, -1, 1, 1, 1, -1, -1, -1, 1, 1, 1, -1, -1, 1, 1, -1, -1, 1, -1, 1, -1, -1, 1, 1, -1, 1, 1, 1, 1, -1, 1, -1, 1, 1, -1, -1, 1, 1, 1, -1, 1, 1, -1, 1, -1, 1, 1, 1, -1, 1, 1, 1, 1, 1, -1, -1, 1, 1, -1, -1, 1, 1, -1, 1, -1, -1, 1, 1, 1, 1, 1, 1, -1, -1, 1, 1, 1, 1, 1, -1, 1, -1, -1, 1, -1, -1, 1, -1, 1, 1, -1, 1, 1, 1, -1, 1, 1, -1, 1, 1, 1, 1, -1, 1, 1, 1, 1, 1, 1, 1, 1, -1, 1, -1, -1, -1, -1, -1, 1, 1, -1, 1, 1, -1, 1, -1, 1, 1, -1, -1, 1, 1, 1, -1, -1, 1, 1, 1, -1, -1, 1, -1, -1, -1, 1, -1, 1, 1, -1, 1, 1, 1, -1, 1, 1, 1, 1, 1, 1, 1, -1, -1, 1, 1, 1, 1, 1, -1, 1, -1, 1, 1, 1, 1, -1, 1, 1, 1, -1, -1, 1, 1, 1, -1, 1, 1, -1, 1, 1, -1, -1, -1, 1, 1, -1, -1, -1, 1, -1, -1, 1, -1, -1, 1, -1, -1, -1, -1, -1, 1, -1, -1, 1, 1, 1, 1, 1, -1, 1, -1, 1, -1, -1, -1, -1, 1, 1, -1, 1, 1, 1, 1, 1, 1, -1, 1, -1, 1, -1, 1, -1, 1, 1, -1, -1, 1, 1, -1, 1, -1, 1, 1, 1, 1, -1, -1, -1, -1, -1, 1, 1, -1, 1, -1, 1, -1, -1, 1, -1, 1, 1, 1, 1, -1, -1, 1, -1, 1, -1, -1, 1, 1, 1, 1, 1, -1, 1, -1, 1, 1, -1, 1, 1, -1, -1, 1, 1, 1, -1, 1, 1, 1, -1, -1, -1, 1, 1, 1, 1, 1, -1, -1, 1, -1, 1, -1, -1, 1, 1, 1, 1, -1, 1, -1, -1, -1, -1, -1, -1, -1, 1, 1, 1, 1, -1, -1, -1, -1, 1, -1, -1, 1, 1, 1, 1, 1, -1, -1, 1, 1, -1, 1, -1, -1, 1, 1, 1, -1, -1, 1, 1, 1, -1, 1, 1, 1, 1, 1, -1, -1, -1, 1, -1, 1, -1, 1, 1, -1, -1, -1, 1, 1, 1, -1, 1, 1, 1, 1, 1, 1, 1, -1, 1, 1, 1, 1, 1, 1, 1, -1, -1, 1, 1, 1, 1, 1, 1, 1, -1, -1, -1, -1, 1, 1, -1, 1, 1, -1, 1, 1, 1, 1, -1, -1, -1, -1, -1, -1, -1, -1, 1, 1, -1, 1, -1, 1, 1, 1, -1, -1, 1, 1, 1, 1, 1, -1, 1, 1, 1, -1, 1, 1, 1, 1, 1, -1, 1, -1, -1, -1, 1, -1, -1, 1, 1, 1, -1, -1, -1, -1, 1, -1, 1, -1, -1, -1, -1, -1, 1, 1, -1, 1, 1, 1, -1, 1, 1, -1, 1, -1, 1, 1, 1, 1, -1, 1, -1, 1, 1, -1, -1, 1, -1, 1, -1, -1, 1, 1, 1, 1, -1, -1, -1, 1, -1, 1, 1, -1, -1, 1, -1, 1, -1, 1, -1, -1, 1, 1, 1, 1, 1, 1, 1, 1, 1, -1, 1, 1, 1, 1, 1, -1, 1, 1, 1, -1, 1, 1, -1, -1, -1, 1, -1, 1, 1, 1, 1, 1, -1, 1, -1, 1, -1, -1, 1, 1, -1, -1, 1, 1, -1, -1, -1, 1, 1, 1, 1, 1, -1, 1, -1, 1, -1, -1, 1, 1, -1, -1, -1, 1, -1, 1, -1, -1, -1, -1, 1, -1, 1, -1, 1, 1, -1, -1, 1, 1, -1, -1, 1, 1, 1, 1, 1, 1, 1, 1, 1, 1, 1, -1, 1, 1, -1, -1, -1, 1, -1, 1, -1, -1, 1, -1, 1, 1, 1, -1, -1, 1, 1, 1, 1, -1, 1, 1, -1, 1, 1, 1, -1, 1, 1, 1, -1, -1, 1, -1, 1, -1, -1, -1, -1, -1, -1, -1, 1, -1, -1, -1, 1, 1, 1, 1, 1, -1, -1, -1, -1, 1, -1, -1, 1, 1, -1, -1, -1, 1, 1, 1, 1, 1, 1, 1, -1, 1, -1, 1, -1, 1, -1, 1, -1, 1, 1, -1, 1, 1, 1, 1, -1, -1, 1, 1, 1, 1, 1, -1, 1, 1, 1, 1, -1, -1, 1, 1, 1, -1, 1, 1, -1, -1, -1, -1, -1, -1, -1, -1, 1, 1, 1, 1, 1, 1, -1, 1, -1, -1, 1, 1, -1, 1, -1, 1, -1, 1, 1, 1, 1, -1, 1, -1, -1, 1, 1, 1, 1, -1, 1, 1, 1, 1, -1, -1, -1, -1, -1, -1, 1, 1, -1, -1, 1, 1, -1, -1, 1, -1, 1, 1, -1, -1, 1, 1, -1, 1, -1, -1, -1, -1, 1, 1, -1, 1, 1, -1, -1, -1, 1, 1, 1, 1, -1, 1, -1, 1, 1, -1, 1, -1, -1, -1, -1, -1, -1, 1, -1, 1, 1, 1, 1, 1, -1, 1, 1, 1, -1, -1, -1, -1, 1, 1, -1, 1, -1, 1, -1, -1, 1, 1, -1, -1, -1, 1, 1, -1, 1, 1, 1, 1, -1, 1, 1, -1, -1, -1, 1, 1, 1, 1, -1, 1, -1, -1, 1, 1, -1, 1, -1, 1, -1, 1, -1, 1, -1, -1, -1, 1, -1, 1, -1, 1, -1, -1, -1, 1, 1, 1, 1, 1, -1, 1, 1, -1, 1, 1, 1, 1, 1, -1, -1, 1, -1, -1, -1, -1, 1, -1, 1, -1, 1, -1, -1, -1, 1, 1, 1, 1, 1, -1, 1, 1, -1, -1, -1, -1, 1, -1, 1, 1, -1, -1, -1, 1, -1, -1, 1, -1, -1, -1, -1, 1, 1, 1, 1, 1, -1, -1, -1, 1, -1, 1, 1, -1, -1, 1, -1, 1, 1, -1, 1, -1, -1, -1, -1, -1, 1, -1, 1, -1, -1, 1, 1, -1, -1, -1, 1, -1, -1, 1, 1, -1, 1, 1, 1, -1, 1, -1, -1, -1, -1, 1, 1, -1, 1, 1, 1, 1, 1, -1, 1, 1, -1, -1, 1, 1, 1, -1, 1, -1, 1, 1, 1, 1, 1, -1, -1, 1, -1, -1, -1, -1, 1, -1, 1, 1, 1, 1, -1, -1, 1, -1, -1, 1, 1, 1, 1, 1, -1, -1, -1, -1, 1, -1, 1, 1, -1, -1, -1, -1, -1, -1, 1, -1, 1, -1, 1, 1, 1, -1, -1, -1, -1, 1, -1, -1, 1, 1, -1, 1, 1, -1, -1, -1, 1, 1, -1, 1, 1, 1, -1, 1, -1, 1, -1, -1, -1, -1, 1, -1, -1, -1, 1, 1, 1, -1, 1, 1, 1, 1, 1, -1, 1, 1, 1, 1, 1, -1, 1, -1, -1, -1, -1, -1, 1, -1, -1, 1, 1, -1, 1, -1, -1, -1, 1, -1, -1, 1, -1, 1, -1, 1, 1, 1, 1, 1, 1, -1, -1, -1, -1, 1, -1, 1, 1, -1, -1, 1, -1, -1, -1, -1, 1, 1, 1, -1, -1, -1, -1, 1, 1, -1, -1, 1, 1, 1, -1, 1, 1, 1, 1, -1, -1, 1, 1, 1, -1, 1, 1, 1, -1, -1, 1, -1, 1, -1, 1, 1, -1, 1, 1, -1, -1, 1, 1, -1, 1, 1, -1, -1, 1, 1, -1, 1, 1, 1, -1, -1, 1, 1, 1, -1, 1, -1, 1, 1, -1, 1, -1, 1, 1, 1, -1, -1, -1, 1, 1, 1, 1, -1, 1, -1, -1, 1, -1, 1, -1, -1, -1, 1, 1, -1, 1, 1, -1, -1, 1, 1, 1, -1, -1, 1, 1, -1, -1, 1, 1, -1, 1, -1, -1, 1, 1, 1, 1, 1, 1, 1, -1, 1, 1, 1, -1, -1, 1, 1, 1, 1, -1, 1]\n"
     ]
    }
   ],
   "source": [
    "# Train the model using Logistic Regression method\n",
    "\n",
    "LR_model = LogisticRegression(penalty='l2')\n",
    "LR_model.fit(X_train, y_train)\n",
    "print(X_train)\n",
    "print(y_train)"
   ]
  },
  {
   "cell_type": "code",
   "execution_count": 63,
   "metadata": {},
   "outputs": [],
   "source": [
    "# Use this model to predict the sentiment category of test documents\n",
    "y_pred_LR = LR_model.predict(X_test)"
   ]
  },
  {
   "cell_type": "code",
   "execution_count": 64,
   "metadata": {},
   "outputs": [
    {
     "data": {
      "text/plain": [
       "(numpy.ndarray, 3181)"
      ]
     },
     "execution_count": 64,
     "metadata": {},
     "output_type": "execute_result"
    }
   ],
   "source": [
    "type(y_pred_LR),len(y_pred_LR)"
   ]
  },
  {
   "cell_type": "code",
   "execution_count": 65,
   "metadata": {},
   "outputs": [
    {
     "data": {
      "text/plain": [
       "0.8745677459918265"
      ]
     },
     "execution_count": 65,
     "metadata": {},
     "output_type": "execute_result"
    }
   ],
   "source": [
    "# Calculate the classification rate of this classifier\n",
    "metrics.accuracy_score(y_test, y_pred_LR)"
   ]
  },
  {
   "cell_type": "code",
   "execution_count": 66,
   "metadata": {},
   "outputs": [
    {
     "name": "stdout",
     "output_type": "stream",
     "text": [
      "[[1216  210]\n",
      " [ 189 1566]]\n"
     ]
    }
   ],
   "source": [
    "# Display the confusion matrix\n",
    "print(metrics.confusion_matrix(y_test, y_pred_LR))"
   ]
  },
  {
   "cell_type": "markdown",
   "metadata": {},
   "source": [
    "### Interpret parameter values of  this model\n",
    "- The logistic regression model has one parameter per feature (i.e. vocabulary word).\n",
    "- Most positive values indicate parameters that contribute most to class 1\n",
    "- Most negative values indicate parameters contribute most to class -1"
   ]
  },
  {
   "cell_type": "code",
   "execution_count": 67,
   "metadata": {},
   "outputs": [
    {
     "data": {
      "text/plain": [
       "LogisticRegression(C=1.0, class_weight=None, dual=False, fit_intercept=True,\n",
       "          intercept_scaling=1, max_iter=100, multi_class='ovr', n_jobs=1,\n",
       "          penalty='l2', random_state=None, solver='liblinear', tol=0.0001,\n",
       "          verbose=0, warm_start=False)"
      ]
     },
     "execution_count": 67,
     "metadata": {},
     "output_type": "execute_result"
    }
   ],
   "source": [
    "# Re-train the model using ALL DATA\n",
    "LR_model2 = LogisticRegression(penalty='l2')\n",
    "LR_model2.fit(X, y)"
   ]
  },
  {
   "cell_type": "code",
   "execution_count": 68,
   "metadata": {},
   "outputs": [
    {
     "name": "stdout",
     "output_type": "stream",
     "text": [
      "<class 'numpy.ndarray'>\n",
      "(767,)\n"
     ]
    }
   ],
   "source": [
    "# get the coefficients (parameter) of the LR model\n",
    "LR_coefs = LR_model2.coef_   #2D array with only one row\n",
    "LR_coefs = LR_coefs.ravel()  #convert to a 1D array\n",
    "print(type(LR_coefs))\n",
    "print(LR_coefs.shape)"
   ]
  },
  {
   "cell_type": "code",
   "execution_count": 69,
   "metadata": {},
   "outputs": [],
   "source": [
    "# Verify that the number of coefficients = number of words in vocabulary\n",
    "assert(len(bow_model.get_feature_names())==len(LR_coefs))"
   ]
  },
  {
   "cell_type": "code",
   "execution_count": 70,
   "metadata": {},
   "outputs": [
    {
     "data": {
      "text/plain": [
       "count    767.000000\n",
       "mean       0.146287\n",
       "std        1.139649\n",
       "min       -8.825373\n",
       "25%       -0.450909\n",
       "50%        0.139757\n",
       "75%        0.698925\n",
       "max        8.542629\n",
       "dtype: float64"
      ]
     },
     "execution_count": 70,
     "metadata": {},
     "output_type": "execute_result"
    }
   ],
   "source": [
    "# Put the coefficients in a Pandas Series for ease of visualization\n",
    "pd.Series(LR_coefs).describe()"
   ]
  },
  {
   "cell_type": "code",
   "execution_count": 71,
   "metadata": {},
   "outputs": [
    {
     "data": {
      "text/plain": [
       "<matplotlib.axes._subplots.AxesSubplot at 0x2e0c0689828>"
      ]
     },
     "execution_count": 71,
     "metadata": {},
     "output_type": "execute_result"
    },
    {
     "data": {
      "image/png": "[encoded data removed]",
      "text/plain": [
       "<Figure size 432x288 with 1 Axes>"
      ]
     },
     "metadata": {},
     "output_type": "display_data"
    }
   ],
   "source": [
    "pd.Series(LR_coefs).plot(kind='hist')"
   ]
  },
  {
   "cell_type": "code",
   "execution_count": 97,
   "metadata": {},
   "outputs": [
    {
     "name": "stdout",
     "output_type": "stream",
     "text": [
      "         Coef   Word\n",
      "351  2.490052     سن\n",
      "643  2.507385   مميز\n",
      "702  2.520219   واسع\n",
      "20   2.548937    احب\n",
      "21   2.574019   احبب\n",
      "538  2.623451   لطيف\n",
      "329  2.693935   زيار\n",
      "74   2.784734   اعجب\n",
      "302  2.793359    راق\n",
      "537  2.810146   لذيذ\n",
      "38   2.920442   اروع\n",
      "19   2.970736   اجمل\n",
      "641  3.009011   ممتع\n",
      "378  3.065609    شكر\n",
      "595  3.525490   مريح\n",
      "319  3.536763    روع\n",
      "237  3.878377    جيد\n",
      "230  4.610472   جميل\n",
      "640  6.423544  ممتاز\n",
      "305  8.542629   رايع\n",
      "         Coef   Word\n",
      "358 -8.825373    سيء\n",
      "58  -5.085689   اسوء\n",
      "496 -4.110045    قذر\n",
      "9   -4.099727    ابد\n",
      "607 -3.105039     مش\n",
      "56  -3.028851    اسف\n",
      "313 -2.650020   رديء\n",
      "423 -2.615222    عاد\n",
      "331 -2.594887     سء\n",
      "338 -2.512282    سبب\n",
      "400 -2.325473   ضعيف\n",
      "460 -2.284838    غال\n",
      "287 -2.268465    دفع\n",
      "656 -2.246257     مو\n",
      "488 -2.231787    قال\n",
      "70  -2.182266  اطلاق\n",
      "556 -2.162182  مبالغ\n",
      "243 -2.151523    حجز\n",
      "202 -2.043724    تكن\n",
      "495 -1.956303   قديم\n"
     ]
    }
   ],
   "source": [
    "## COMPLETE THE CODE BELOW BASED ON THE INSTRUCTIONS IN THE COMMENTS.\n",
    "# HINT: put the coefficients and the vocabulary words in a Pandas DataFrame ...\n",
    "\n",
    "\n",
    "# 1) Sort coefficient values in ascending order\n",
    "df = pd.DataFrame(dict(Word=bow_vocab, Coef=LR_coefs))\n",
    "\n",
    "df_sorted=df.sort_values(\"Coef\", inplace=False, ascending = True)\n",
    "# 2) Display the 20 largest coefficients and their corresponding words\n",
    "print(df_sorted.tail(20))\n",
    "\n",
    "# 3) Display the 20 smallest coefficients and their corresponding words\n",
    "\n",
    "print(df_sorted.head(20))"
   ]
  },
  {
   "cell_type": "markdown",
   "metadata": {},
   "source": [
    "### EXERCISE 3\n",
    "\n",
    "Answer the following questions based on the results of the logistic regression model.\n",
    "\n",
    "1. Based on the *confusion matrix* above, is this classifier **biased**?  Note: we say a classifier is *biased* if it makes *significantly* more errors for one class than the other (false positives vs. false negatives).\n",
    "2. Which 5 words are most aossicatd with positive sentiment?  (hint: see most positive coefficients)\n",
    "3. Which 5 words are most aossicatd with negative sentiment?  (hint: see most negative coefficients)\n",
    "4. Do these results make sense?  (if they don't, then there is something wrong with the data and/or processing pipeline ...)\n",
    "5. (OPTIONAL) Show all test documents that are positive but are predicted negative by this classifier. Do you notice any trends?\n",
    "6. (OPTIONAL) Show all test documents that are negative but are predicted positive by this classifier. Do you notice any trends?"
   ]
  },
  {
   "cell_type": "markdown",
   "metadata": {},
   "source": [
    "### ANSWER\n",
    "1) Yes based on the confusion matrix this model is biased.\n",
    "\n",
    "2)\n",
    "سن\n",
    "مميز\n",
    "واسع\n",
    "احب\n",
    "احبب\n",
    "\n",
    "3)\n",
    "سيء\n",
    "اسوء\n",
    "قذر\n",
    "ابد\n",
    "مش\n",
    "\n",
    "4)yes, these results make sense."
   ]
  },
  {
   "cell_type": "markdown",
   "metadata": {},
   "source": [
    "### Train classifier using Naive Bayes"
   ]
  },
  {
   "cell_type": "code",
   "execution_count": 73,
   "metadata": {},
   "outputs": [],
   "source": [
    "# read documentation\n",
    "# ?MultinomialNB"
   ]
  },
  {
   "cell_type": "code",
   "execution_count": 74,
   "metadata": {},
   "outputs": [
    {
     "data": {
      "text/plain": [
       "MultinomialNB(alpha=1.0, class_prior=None, fit_prior=True)"
      ]
     },
     "execution_count": 74,
     "metadata": {},
     "output_type": "execute_result"
    }
   ],
   "source": [
    "## Build Naive Bayes classification model\n",
    "\n",
    "NB_model = MultinomialNB(alpha = 1.0)\n",
    "NB_model.fit(X_train, y_train)"
   ]
  },
  {
   "cell_type": "code",
   "execution_count": 75,
   "metadata": {},
   "outputs": [],
   "source": [
    "# Use this model to predict the sentiment category of test documents\n",
    "y_pred_NB = NB_model.predict(X_test)"
   ]
  },
  {
   "cell_type": "code",
   "execution_count": 76,
   "metadata": {},
   "outputs": [
    {
     "data": {
      "text/plain": [
       "0.8478465891229173"
      ]
     },
     "execution_count": 76,
     "metadata": {},
     "output_type": "execute_result"
    }
   ],
   "source": [
    "# Classification rate\n",
    "metrics.accuracy_score(y_test, y_pred_NB)"
   ]
  },
  {
   "cell_type": "code",
   "execution_count": 77,
   "metadata": {},
   "outputs": [
    {
     "data": {
      "text/plain": [
       "array([[1121,  305],\n",
       "       [ 179, 1576]], dtype=int64)"
      ]
     },
     "execution_count": 77,
     "metadata": {},
     "output_type": "execute_result"
    }
   ],
   "source": [
    "# Confusion matrix\n",
    "metrics.confusion_matrix(y_test, y_pred_NB)"
   ]
  },
  {
   "cell_type": "markdown",
   "metadata": {},
   "source": [
    "### Interpret parameters of  the model\n",
    "- Naive Bayes model has two parameters per feature (i.e. vocabulary word)\n",
    "- These parameters are stored in a 2x$n$ array, where $n$ is the number of vocabulary words\n",
    "- The first row of this array contains **log of conditional probabilities** Pr(xi|class1)\n",
    "- The second row contains **log of conditional probabilities** Pr(xi|class2)\n",
    "- Ideally, if parameter value $\\approx$ 0 then the corresponding vocabulary word is very important for that class\n",
    "- Ideally, if parameter value $\\approx - \\infty$ then the corresponding vocabulary word is not important at all for that class"
   ]
  },
  {
   "cell_type": "code",
   "execution_count": 78,
   "metadata": {},
   "outputs": [
    {
     "data": {
      "text/plain": [
       "MultinomialNB(alpha=1.0, class_prior=None, fit_prior=True)"
      ]
     },
     "execution_count": 78,
     "metadata": {},
     "output_type": "execute_result"
    }
   ],
   "source": [
    "# Re-train the model using ALL DATA\n",
    "NB_model2 = MultinomialNB(alpha = 1.0)\n",
    "NB_model2.fit(X, y)"
   ]
  },
  {
   "cell_type": "code",
   "execution_count": 79,
   "metadata": {},
   "outputs": [
    {
     "name": "stdout",
     "output_type": "stream",
     "text": [
      "<class 'numpy.ndarray'>\n",
      "(2, 767)\n"
     ]
    }
   ],
   "source": [
    "# get NB model's coefficients\n",
    "NB_coefs = NB_model2.feature_log_prob_\n",
    "print(type(NB_coefs))\n",
    "print(NB_coefs.shape)"
   ]
  },
  {
   "cell_type": "code",
   "execution_count": 80,
   "metadata": {},
   "outputs": [],
   "source": [
    "assert(NB_coefs.shape[0] == 2)\n",
    "assert(NB_coefs.shape[1] == len(bow_model.get_feature_names()))"
   ]
  },
  {
   "cell_type": "code",
   "execution_count": 81,
   "metadata": {},
   "outputs": [
    {
     "data": {
      "text/plain": [
       "array([-1,  1])"
      ]
     },
     "execution_count": 81,
     "metadata": {},
     "output_type": "execute_result"
    }
   ],
   "source": [
    "# determine the order of classes in this model\n",
    "NB_model2.classes_"
   ]
  },
  {
   "cell_type": "code",
   "execution_count": 82,
   "metadata": {},
   "outputs": [],
   "source": [
    "# paramaters associated with the NEGATIVE class\n",
    "NB_coefs_neg_class = NB_coefs[0,:]"
   ]
  },
  {
   "cell_type": "code",
   "execution_count": 83,
   "metadata": {},
   "outputs": [],
   "source": [
    "# paramaters associated with the POSITIVE class\n",
    "NB_coefs_pos_class = NB_coefs[1,:]"
   ]
  },
  {
   "cell_type": "code",
   "execution_count": 84,
   "metadata": {},
   "outputs": [
    {
     "data": {
      "text/plain": [
       "count    767.000000\n",
       "mean      -6.928116\n",
       "std        0.723262\n",
       "min       -9.221461\n",
       "25%       -7.409733\n",
       "50%       -6.981655\n",
       "75%       -6.497663\n",
       "max       -4.207456\n",
       "dtype: float64"
      ]
     },
     "execution_count": 84,
     "metadata": {},
     "output_type": "execute_result"
    }
   ],
   "source": [
    "pd.Series(NB_coefs_neg_class).describe()"
   ]
  },
  {
   "cell_type": "code",
   "execution_count": 85,
   "metadata": {},
   "outputs": [
    {
     "data": {
      "text/plain": [
       "<matplotlib.axes._subplots.AxesSubplot at 0x2e0c0758400>"
      ]
     },
     "execution_count": 85,
     "metadata": {},
     "output_type": "execute_result"
    },
    {
     "data": {
      "image/png": "[encoded data removed]",
      "text/plain": [
       "<Figure size 432x288 with 1 Axes>"
      ]
     },
     "metadata": {},
     "output_type": "display_data"
    }
   ],
   "source": [
    "pd.Series(NB_coefs_neg_class).plot(kind='hist')"
   ]
  },
  {
   "cell_type": "code",
   "execution_count": 86,
   "metadata": {},
   "outputs": [
    {
     "data": {
      "text/plain": [
       "<matplotlib.axes._subplots.AxesSubplot at 0x2e0c0667860>"
      ]
     },
     "execution_count": 86,
     "metadata": {},
     "output_type": "execute_result"
    },
    {
     "data": {
      "image/png": "[encoded data removed]",
      "text/plain": [
       "<Figure size 432x288 with 1 Axes>"
      ]
     },
     "metadata": {},
     "output_type": "display_data"
    }
   ],
   "source": [
    "pd.Series(NB_coefs_pos_class).plot(kind='hist')"
   ]
  },
  {
   "cell_type": "code",
   "execution_count": 98,
   "metadata": {},
   "outputs": [
    {
     "name": "stdout",
     "output_type": "stream",
     "text": [
      "         Coef   Word\n",
      "117 -5.365797     ان\n",
      "687 -5.365008   نظيف\n",
      "82  -5.328791   افضل\n",
      "486 -5.304400     في\n",
      "618 -5.292318   مطعم\n",
      "453 -5.292163    عند\n",
      "124 -5.287880   انصح\n",
      "634 -5.269805   مكان\n",
      "661 -5.258978   موقع\n",
      "229 -5.154877   جميع\n",
      "268 -5.000449    خدم\n",
      "674 -4.950977    ندق\n",
      "462 -4.844801    غرف\n",
      "230 -4.680282   جميل\n",
      "237 -4.564261    جيد\n",
      "640 -4.511203  ممتاز\n",
      "480 -4.487416   فندق\n",
      "515 -4.411526    كان\n",
      "221 -4.314320    جدا\n",
      "305 -4.191665   رايع\n",
      "         Coef   Word\n",
      "496 -9.325855    قذر\n",
      "313 -9.045912   رديء\n",
      "355 -8.909264    سوء\n",
      "58  -8.758174   اسوء\n",
      "11  -8.716512   اتصل\n",
      "331 -8.709919     سء\n",
      "416 -8.664309    طلع\n",
      "335 -8.529750    سال\n",
      "26  -8.528116   اخبر\n",
      "246 -8.395234    حدث\n",
      "672 -8.370201    نجم\n",
      "241 -8.331896   حاول\n",
      "48  -8.323018  استطع\n",
      "232 -8.322888    جني\n",
      "387 -8.299094    صار\n",
      "639 -8.248438   مليء\n",
      "309 -8.231526    رحت\n",
      "533 -8.200100   لدرج\n",
      "178 -8.183535   تحدث\n",
      "440 -8.174080   عشان\n",
      "         Coef  Word\n",
      "762 -5.440843  يوجد\n",
      "415 -5.428558   طلب\n",
      "660 -5.427144  موظف\n",
      "486 -5.417970    في\n",
      "342 -5.414721   سعر\n",
      "118 -5.385368   انا\n",
      "674 -5.371078   ندق\n",
      "453 -5.362702   عند\n",
      "237 -5.340434   جيد\n",
      "618 -5.337685  مطعم\n",
      "94  -5.216856   اكل\n",
      "268 -5.190985   خدم\n",
      "607 -5.177580    مش\n",
      "128 -5.174109   انه\n",
      "117 -5.084615    ان\n",
      "462 -4.652962   غرف\n",
      "480 -4.609259  فندق\n",
      "221 -4.561497   جدا\n",
      "358 -4.386802   سيء\n",
      "515 -4.207456   كان\n",
      "         Coef     Word\n",
      "38  -9.221461     اروع\n",
      "21  -9.092358     احبب\n",
      "585 -8.919428     مذهل\n",
      "563 -8.892510    متميز\n",
      "60  -8.862928     اشكر\n",
      "711 -8.666412    وانصح\n",
      "74  -8.580098     اعجب\n",
      "688 -8.517829     نعود\n",
      "697 -8.506558     هدوء\n",
      "47  -8.489493  استرخاء\n",
      "52  -8.425215  استمتاع\n",
      "647 -8.421148    مناظر\n",
      "764 -8.399006     يوفر\n",
      "25  -8.377591     احمد\n",
      "574 -8.370235     مجهز\n",
      "184 -8.356580    ترحيب\n",
      "234 -8.318415       جو\n",
      "354 -8.307173     سهول\n",
      "641 -8.302430     ممتع\n",
      "487 -8.261877     قادم\n"
     ]
    }
   ],
   "source": [
    "## COMPLETE THE CODE BELOW\n",
    "\n",
    "# Sort the coefficient values of the POSITIVE CLASS in ascending order\n",
    "\n",
    "df_pos = pd.DataFrame(dict(Word=bow_vocab, Coef=NB_coefs_pos_class))\n",
    "\n",
    "df_pos_sorted=df_pos.sort_values(\"Coef\", inplace=False, ascending = True)\n",
    "\n",
    "# Display the 20 largest coefficients and their corresponding words\n",
    "\n",
    "print(df_pos_sorted.tail(20))\n",
    "\n",
    "# Display the 20 smallest coefficients and their corresponding words\n",
    "\n",
    "print(df_pos_sorted.head(20))\n",
    "\n",
    "\n",
    "\n",
    "# Repeat the same thing for the coefficients of the negative class\n",
    "\n",
    "\n",
    "df_neg = pd.DataFrame(dict(Word=bow_vocab, Coef=NB_coefs_neg_class))\n",
    "\n",
    "df_neg_sorted=df_neg.sort_values(\"Coef\", inplace=False, ascending = True)\n",
    "\n",
    "# Display the 20 largest coefficients and their corresponding words\n",
    "\n",
    "print(df_neg_sorted.tail(20))\n",
    "\n",
    "# Display the 20 smallest coefficients and their corresponding words\n",
    "\n",
    "print(df_neg_sorted.head(20))\n"
   ]
  },
  {
   "cell_type": "markdown",
   "metadata": {},
   "source": [
    "### EXERCISE 4\n",
    "\n",
    "Answer the following questions based on the results of the Naive Bayes model.\n",
    "\n",
    "1. Based on the *confusion matrix* above, is this Naive Bayes classifier **biased**?  Note: we say a classifier is *biased* if it makes significantly more errors for one class than the other (false positives vs. false negatives).\n",
    "2. Which classification method is more accurate for this data: \n",
    "2. Which 5 words are most aossicatd with positive sentiment?  (hint: see most positive coefficients)\n",
    "3. Which 5 words are most aossicatd with negative sentiment?  (hint: see most negative coefficients)\n",
    "4. Do these results make sense?  (if they don't, then there is something wrong with the data and/or processing pipeline ...)"
   ]
  },
  {
   "cell_type": "markdown",
   "metadata": {},
   "source": [
    "### ANSWER\n",
    "\n",
    "1)Yes, the Naive Bayes classifier is biased.\n",
    "\n",
    "2)The first method is more accurate.\n",
    "\n",
    "3)\n",
    "ان\n",
    "نظيف\n",
    "افضل\n",
    "في\n",
    "مطعم\n",
    "\n",
    "4)\n",
    "يوجد\n",
    "طلب\n",
    "موظف\n",
    "في\n",
    "سعر\n",
    "انا\n",
    "\n",
    "5)These results are not very convincing"
   ]
  },
  {
   "cell_type": "markdown",
   "metadata": {},
   "source": [
    "****"
   ]
  },
  {
   "cell_type": "markdown",
   "metadata": {},
   "source": [
    "### EXERCISE 5 (OPTIONAL)\n",
    "Repeat thE entire TD for TUN corpus.  This is optional for the TD, but you need to do it anyway for the final project."
   ]
  },
  {
   "cell_type": "code",
   "execution_count": 88,
   "metadata": {},
   "outputs": [],
   "source": [
    "tun_corpus_files = [ './sentiment_data_TUN_pos.txt', './sentiment_data_TUN_neg.txt' ]"
   ]
  },
  {
   "cell_type": "code",
   "execution_count": null,
   "metadata": {},
   "outputs": [],
   "source": []
  }
 ],
 "metadata": {
  "kernelspec": {
   "display_name": "Python 3",
   "language": "python",
   "name": "python3"
  },
  "language_info": {
   "codemirror_mode": {
    "name": "ipython",
    "version": 3
   },
   "file_extension": ".py",
   "mimetype": "text/x-python",
   "name": "python",
   "nbconvert_exporter": "python",
   "pygments_lexer": "ipython3",
   "version": "3.6.5"
  }
 },
 "nbformat": 4,
 "nbformat_minor": 2
}
