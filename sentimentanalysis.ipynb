{
 "cells": [
  {
   "cell_type": "markdown",
   "metadata": {},
   "source": [
    "# Sentiment Analysis of ARA Corpus"
   ]
  },
  {
   "cell_type": "markdown",
   "metadata": {},
   "source": [
    "**Outline:**\n",
    "1. Read raw data\n",
    "2. Text preprocessing & cleaning\n",
    "3. Document representation (feature vectors)\n",
    "4. Build sentiment classifier based on BOW vectors\n",
    "5. Build sentiment classifier based on fasstext vectors\n",
    "\n",
    "**What you need to do:** \n",
    "- Read and execute the source code below and answer the questions in **EXERCISE 1 - EXERCISE 4**.\n",
    "- **Submit** the modifiled file ``TD3.ipynb`` on google drive."
   ]
  },
  {
   "cell_type": "code",
   "execution_count": 1,
   "metadata": {},
   "outputs": [],
   "source": [
    "import pandas as pd\n",
    "import numpy as np"
   ]
  },
  {
   "cell_type": "code",
   "execution_count": 2,
   "metadata": {},
   "outputs": [],
   "source": [
    "from matplotlib import pyplot as plt\n",
    "%matplotlib inline\n",
    "\n",
    "# set the font size of plots\n",
    "plt.rcParams['font.size'] = 14"
   ]
  },
  {
   "cell_type": "code",
   "execution_count": 3,
   "metadata": {},
   "outputs": [],
   "source": [
    "np.set_printoptions(precision=3)"
   ]
  },
  {
   "cell_type": "markdown",
   "metadata": {},
   "source": [
    "*****"
   ]
  },
  {
   "cell_type": "markdown",
   "metadata": {},
   "source": [
    "## Read corpus\n",
    "We are going to use a different corpus. This corpus is already labelled."
   ]
  },
  {
   "cell_type": "code",
   "execution_count": 4,
   "metadata": {},
   "outputs": [],
   "source": [
    "corpus_files = [ './sentiment_data_ARA_pos.txt', './sentiment_data_ARA_neg.txt', './sentiment_data_TUN_pos.txt', './sentiment_data_TUN_neg.txt' ]"
   ]
  },
  {
   "cell_type": "code",
   "execution_count": 5,
   "metadata": {},
   "outputs": [],
   "source": [
    "def read_text_file(filename):\n",
    "    print('Reading file ' + filename + \"...\")\n",
    "    with open(filename, \"r\", encoding='utf8') as textfile:\n",
    "        L = []\n",
    "        for line in textfile:\n",
    "            L.append(line.strip())\n",
    "        print('File contains ', len(L), \"lines.\\n\")\n",
    "        return L"
   ]
  },
  {
   "cell_type": "code",
   "execution_count": 6,
   "metadata": {},
   "outputs": [
    {
     "name": "stdout",
     "output_type": "stream",
     "text": [
      "Reading file ./sentiment_data_ARA_pos.txt...\n",
      "File contains  6000 lines.\n",
      "\n",
      "Reading file ./sentiment_data_ARA_neg.txt...\n",
      "File contains  4898 lines.\n",
      "\n",
      "Reading file ./sentiment_data_TUN_pos.txt...\n",
      "File contains  3468 lines.\n",
      "\n",
      "Reading file ./sentiment_data_TUN_neg.txt...\n",
      "File contains  4345 lines.\n",
      "\n"
     ]
    }
   ],
   "source": [
    "ara_corpus_pos = read_text_file(corpus_files[0])\n",
    "ara_corpus_neg = read_text_file(corpus_files[1])\n",
    "tun_corpus_pos = read_text_file(corpus_files[2])\n",
    "tun_corpus_neg = read_text_file(corpus_files[3])"
   ]
  },
  {
   "cell_type": "code",
   "execution_count": 7,
   "metadata": {},
   "outputs": [
    {
     "data": {
      "text/plain": [
       "(list, list, list, list)"
      ]
     },
     "execution_count": 7,
     "metadata": {},
     "output_type": "execute_result"
    }
   ],
   "source": [
    "## Verify corpus\n",
    "\n",
    "type(ara_corpus_pos),type(ara_corpus_neg),type(tun_corpus_pos),type(tun_corpus_neg)"
   ]
  },
  {
   "cell_type": "code",
   "execution_count": 8,
   "metadata": {},
   "outputs": [
    {
     "data": {
      "text/plain": [
       "(6000, 4898, 3468, 4345)"
      ]
     },
     "execution_count": 8,
     "metadata": {},
     "output_type": "execute_result"
    }
   ],
   "source": [
    "len(ara_corpus_pos),len(ara_corpus_neg),len(tun_corpus_pos),len(tun_corpus_neg)"
   ]
  },
  {
   "cell_type": "code",
   "execution_count": 9,
   "metadata": {},
   "outputs": [
    {
     "name": "stdout",
     "output_type": "stream",
     "text": [
      "مكان الرجل الحقيقي كل شي نضيف واصلي وماركات ...صح غالي شوي بس لبس روعه\n",
      "المحادثات المخفية المحادثات المخفية الخاصية دي اتلغت ليه ممكن حد يفهمني\n",
      "تبارك الله عليه\n",
      "ماهيش متربية  و مادام تشجع في لواط هذي موش تونسية و الإسلام متشرفوش وحدة عاهرة\n"
     ]
    }
   ],
   "source": [
    "print(ara_corpus_pos[0])\n",
    "print(ara_corpus_neg[0])\n",
    "print(tun_corpus_pos[0])\n",
    "print(tun_corpus_neg[0])"
   ]
  },
  {
   "cell_type": "code",
   "execution_count": 10,
   "metadata": {},
   "outputs": [],
   "source": [
    "## Combine pos and neg corpus into a single corpus for easy manipulation\n",
    "\n",
    "ara_corpus = ara_corpus_pos + ara_corpus_neg\n",
    "ara_corpus_sentiment = len(ara_corpus_pos)*[\"POS\"] + len(ara_corpus_neg)*[\"NEG\"]\n",
    "tun_corpus = tun_corpus_pos + tun_corpus_neg\n",
    "tun_corpus_sentiment = len(tun_corpus_pos)*[\"POS\"] + len(tun_corpus_neg)*[\"NEG\"]"
   ]
  },
  {
   "cell_type": "code",
   "execution_count": 11,
   "metadata": {},
   "outputs": [
    {
     "data": {
      "text/plain": [
       "(10898, 10898, 7813, 7813)"
      ]
     },
     "execution_count": 11,
     "metadata": {},
     "output_type": "execute_result"
    }
   ],
   "source": [
    "len(ara_corpus),len(ara_corpus_sentiment),len(tun_corpus),len(tun_corpus_sentiment)"
   ]
  },
  {
   "cell_type": "markdown",
   "metadata": {},
   "source": [
    "***"
   ]
  },
  {
   "cell_type": "markdown",
   "metadata": {},
   "source": [
    "## Text Preprocessing & Cleaning\n",
    "\n",
    "We are going to follow the same pipeline of TD1, except that here the operations should be **adapted to the Arabic language** (instead of the French language).\n",
    "\n",
    "1. Remove useless characters (using ``cleanup_text`` function from TD2)\n",
    "2. Language identification and filtering (using language identification model from TD2)\n",
    "3. Letter normalization\n",
    "4. Tokenization\n",
    "5. Remove stop words\n",
    "6. Word normalization (stemming)\n",
    "7. Remove words that are too short or too long."
   ]
  },
  {
   "cell_type": "markdown",
   "metadata": {},
   "source": [
    "### EXERCISE 1\n",
    "\n",
    "Apply the above text cleaning operations by completing the code below (follow the instructins in the comments).\n",
    "\n",
    "**However in order to save time, you will skip some steps in class and complete them at home.**"
   ]
  },
  {
   "cell_type": "code",
   "execution_count": 12,
   "metadata": {},
   "outputs": [],
   "source": [
    "## COMPLETE THE SOURCE CODE IN THE CELLS BELOW. FOLLOW THE INSTRUCTIONS AND HINTS GIVEN IN THE COMMENTS.\n"
   ]
  },
  {
   "cell_type": "code",
   "execution_count": 13,
   "metadata": {},
   "outputs": [],
   "source": [
    "##1. Remove useless characters using cleanup_text function\n",
    "import re\n",
    "import html\n",
    "# regexp for word elongation: matches 3 or more repetitions of a word character.\n",
    "two_plus_letters_RE = re.compile(r\"(\\w)\\1{1,}\", re.DOTALL)\n",
    "three_plus_letters_RE = re.compile(r\"(\\w)\\1{2,}\", re.DOTALL)\n",
    "# regexp for repeated words\n",
    "two_plus_words_RE = re.compile(r\"(\\w+\\s+)\\1{1,}\", re.DOTALL)\n",
    "\n",
    "\n",
    "def cleanup_text(text):\n",
    "    \n",
    "    # REMOVE NUMBERS\n",
    "    text = re.sub('[0-9٠-٩]', '', text)\n",
    "    \n",
    "    # Remove URLs\n",
    "    text = re.sub('((www\\.[^\\s]+)|(https?://[^\\s]+))', '', text)\n",
    "\n",
    "    # Remove user mentions of the form @username\n",
    "    text = re.sub('@[^\\s]+', '', text)\n",
    "    \n",
    "    # Replace special html-encoded characters with their ASCII equivalent, for example: &#39 ==> '\n",
    "    if re.search(\"&#\",text):\n",
    "        text = html.unescape(text)\n",
    "\n",
    "    # Remove special useless characters such as _x000D_\n",
    "    text = re.sub(r'_[xX]000[dD]_', '', text)\n",
    "\n",
    "    # Replace all non-word characters (such as emoticons, punctuation, end of line characters, etc.) with a space\n",
    "    text = re.sub('[\\W_]', ' ', text)\n",
    "\n",
    "    # Remove redundant white spaces\n",
    "    text = text.strip()\n",
    "    text = re.sub('[\\s]+', ' ', text)\n",
    "\n",
    "    # normalize word elongations (characters repeated more than twice)\n",
    "    text = two_plus_letters_RE.sub(r\"\\1\\1\", text)\n",
    "\n",
    "    # remove repeated words\n",
    "    text = two_plus_words_RE.sub(r\"\\1\", text)\n",
    "\n",
    "    return text\n",
    "\n",
    "def cleanup(text):\n",
    "    \n",
    "    #Remove all documents that contain a large fraction of latin characters (for example more than 80%)\n",
    "    text = [doc for doc in text if (len(doc)>0 and len(re.findall('[a-zA-Z]',doc))/len(doc)<0.8)]\n",
    "    \n",
    "    #Remove very short documents\n",
    "    text = [doc for doc in text if len(doc)>=10]\n",
    "    \n",
    "    return text"
   ]
  },
  {
   "cell_type": "code",
   "execution_count": 14,
   "metadata": {},
   "outputs": [
    {
     "name": "stdout",
     "output_type": "stream",
     "text": [
      "6729\n"
     ]
    }
   ],
   "source": [
    "# Apply this function to each document in the corpus\n",
    "ara_corpus_clean = []\n",
    "tun_corpus_clean = []\n",
    "for doc in ara_corpus:\n",
    "    ara_corpus_clean.append(cleanup_text(doc))\n",
    "for doc in tun_corpus:\n",
    "    tun_corpus_clean.append(cleanup_text(doc))\n",
    "\n",
    "ara_corpus_clean = cleanup(ara_corpus_clean)\n",
    "tun_corpus_clean = cleanup(tun_corpus_clean)\n",
    "print(len(tun_corpus_clean))\n"
   ]
  },
  {
   "cell_type": "code",
   "execution_count": 15,
   "metadata": {},
   "outputs": [
    {
     "name": "stdout",
     "output_type": "stream",
     "text": [
      "6729 10683\n"
     ]
    },
    {
     "name": "stderr",
     "output_type": "stream",
     "text": [
      "C:\\Users\\21620\\Anaconda3\\lib\\site-packages\\sklearn\\base.py:311: UserWarning: Trying to unpickle estimator MultinomialNB from version 0.20.2 when using version 0.19.1. This might lead to breaking code or invalid results. Use at your own risk.\n",
      "  UserWarning)\n",
      "C:\\Users\\21620\\Anaconda3\\lib\\site-packages\\sklearn\\base.py:311: UserWarning: Trying to unpickle estimator TfidfTransformer from version 0.20.2 when using version 0.19.1. This might lead to breaking code or invalid results. Use at your own risk.\n",
      "  UserWarning)\n",
      "C:\\Users\\21620\\Anaconda3\\lib\\site-packages\\sklearn\\base.py:311: UserWarning: Trying to unpickle estimator TfidfVectorizer from version 0.20.2 when using version 0.19.1. This might lead to breaking code or invalid results. Use at your own risk.\n",
      "  UserWarning)\n"
     ]
    }
   ],
   "source": [
    "##2. Language identification and filtering\n",
    "# You should just the machine-learning based model that you constructed in TD2 (load it from a file)\n",
    "\n",
    "from sklearn.linear_model import LogisticRegression\n",
    "from sklearn.feature_extraction.text import TfidfVectorizer\n",
    "import pickle\n",
    "\n",
    "\n",
    "#import the model\n",
    "loaded_model = pickle.load(open('C:\\\\Users\\\\21620\\\\TextMiningProject\\\\Language detection\\\\lang_model.sav', 'rb'))\n",
    "\n",
    "#import the bow model\n",
    "bow_model = pickle.load(open('C:\\\\Users\\\\21620\\\\TextMiningProject\\\\Language detection\\\\bow_model.sav', 'rb'))\n",
    "\n",
    "#classification function\n",
    "def predict_lang(text):\n",
    "    inst=[]\n",
    "    inst.append(text)\n",
    "    text_vect=bow_model.transform(inst)\n",
    "    prob=loaded_model.predict_proba(text_vect)[0]\n",
    "    x=prob[0]\n",
    "    #print(x,prob[1])\n",
    "    if x <0.7 and x>0.3:\n",
    "        return(\"OTHER\")\n",
    "    else:\n",
    "        return loaded_model.predict(text_vect)[0]\n",
    "    \n",
    "#test\n",
    "#print(predict_lang(\"مجموعة من الأغاني التي قدمها طارق العربي طرقان و أبناؤه محمد العربي و ديمة و تالة في برنامج صاحبة السعادة\"))\n",
    "ara_corpus_filtered = []\n",
    "tun_corpus_filtered = []\n",
    "ara_corpus_filtered = ara_corpus_clean\n",
    "tun_corpus_filtered = tun_corpus_clean\n",
    "#for doc in ara_corpus_clean:\n",
    " #   if (predict_lang(doc)==\"ARA\"):\n",
    "  #      ara_corpus_filtered.append(doc)\n",
    "#for doc in tun_corpus_clean:\n",
    "    #if (predict_lang(doc)==\"TUN\"):\n",
    "        #tun_corpus_filtered.append(doc)\n",
    "print(len(tun_corpus_filtered),len(ara_corpus_filtered))"
   ]
  },
  {
   "cell_type": "code",
   "execution_count": 16,
   "metadata": {},
   "outputs": [
    {
     "name": "stdout",
     "output_type": "stream",
     "text": [
      "مكان الرجل الحقيقي كل شي نضيف واصلي وماركات صح غالي شوي بس لبس روعه\n",
      "تبارك الله عليه\n"
     ]
    }
   ],
   "source": [
    "print(ara_corpus_filtered[0])\n",
    "print(tun_corpus_filtered[0])"
   ]
  },
  {
   "cell_type": "code",
   "execution_count": 17,
   "metadata": {},
   "outputs": [],
   "source": [
    "##3. Letter normalization\n",
    "# Hint: which Arabic letters are equivalent n social media text?  e.g. alef, tah marbuta, dhad and dhad toushel, etc.\n",
    "\n",
    "def normalize(text):\n",
    "    \n",
    "    alif='[ﺀٱءآإأ]'\n",
    "    baa='[ﺒپ]'\n",
    "    laa='[ﻵﻹﻷ]'\n",
    "    kaf='[کگ]'\n",
    "    noise = re.compile(\"\"\" ّ    | # Tashdid\n",
    "                             َ    | # Fatha\n",
    "                             ً    | # Tanwin Fath\n",
    "                             ُ    | # Damma\n",
    "                             ٌ    | # Tanwin Damm\n",
    "                             ِ    | # Kasra\n",
    "                             ٍ    | # Tanwin Kasr\n",
    "                             ْ    | # Sukun\n",
    "                             ـ     # Tatwil/Kashida\n",
    "                         \"\"\", re.VERBOSE)\n",
    "    k=[]\n",
    "    for doc in text:\n",
    "        doc = re.sub('ة','ت', doc)\n",
    "        doc = re.sub('ظ','ض' ,doc)\n",
    "        doc = re.sub(alif,'ا' ,doc)\n",
    "        doc = re.sub(laa,'لا' ,doc)\n",
    "        doc = re.sub(baa,'ب' ,doc)\n",
    "        doc = re.sub(kaf,'ك' ,doc)\n",
    "        doc = re.sub('چ','ج' ,doc)\n",
    "        doc = re.sub('ڤ','ف' ,doc)\n",
    "        doc = re.sub('ڼ','ن', doc)\n",
    "        doc = re.sub('ۋ','و', doc)\n",
    "        doc = re.sub('ھ','ه', doc)\n",
    "        doc = re.sub('ژ','ر', doc)\n",
    "        doc = re.sub('ڜ','ش', doc)\n",
    "        doc = re.sub(\"ى\", \"ي\", doc)\n",
    "        doc = re.sub(\"ئ\", \"ا\", doc)\n",
    "        doc = re.sub('ؤ','ا', doc)\n",
    "        doc = re.sub(noise, '', doc)  #remove short vowels and other symbols \n",
    "        k.append(doc)\n",
    "\n",
    "    text=k\n",
    "    \n",
    "    return text"
   ]
  },
  {
   "cell_type": "code",
   "execution_count": 18,
   "metadata": {},
   "outputs": [
    {
     "name": "stdout",
     "output_type": "stream",
     "text": [
      "6729\n"
     ]
    }
   ],
   "source": [
    "ara_corpus_filtered = normalize(ara_corpus_filtered)\n",
    "tun_corpus_filtered = normalize(tun_corpus_filtered)\n",
    "print(len(tun_corpus_filtered))"
   ]
  },
  {
   "cell_type": "code",
   "execution_count": 19,
   "metadata": {},
   "outputs": [
    {
     "name": "stdout",
     "output_type": "stream",
     "text": [
      "[['مكان', 'الرجل', 'الحقيقي', 'كل', 'شي', 'نضيف', 'واصلي', 'وماركات', 'صح', 'غالي', 'شوي', 'بس', 'لبس', 'روعه'], ['جيد', 'جدا', 'المكان', 'يتمتع', 'بطاقم', 'ضيافت', 'علي', 'مستوي', 'عالي', 'منذ', 'دخولك', 'وهم', 'يستقبلوك', 'بالابتسامت', 'يتمتع', 'بموسيقي', 'هادات', 'ولكن', 'ذلك', 'عندما', 'يكون', 'المطعم', 'غير', 'ممتليا', 'ولكني', 'لاحضت', 'العكس', 'عند', 'امتلااه', 'واتوقع', 'ان', 'هذا', 'لكي', 'يجعل', 'الزباان', 'تاكل', 'بسرعت', 'اكبر', 'لكي', 'يتوافر', 'اماكن', 'اخري', 'لغيرهم', 'بالنسبت', 'للاكل', 'فهو', 'له', 'مذاق', 'جميل', 'وطيب', 'من', 'اللحطت', 'الاولي', 'تشعر', 'بان', 'كميت', 'الاكل', 'غير', 'كافيت', 'وغير', 'مناسبت', 'للسعر', 'ولكن', 'عند', 'بدايتك', 'في', 'الاكل', 'تشعر', 'بجودته', 'وتشعر', 'بان', 'الكميت', 'معقولت', 'فعلا', 'الجلسات', 'مريحت', 'جدا', 'فيه', 'واسعاره', 'مناسبت', 'بالنسبت', 'لجودت', 'الاكل'], ['فندق', 'رااع', 'في', 'الواقع', 'الفندق', 'رااع', 'وكذلك', 'العاملين', 'اروع', 'فيه', 'من', 'ناحيت', 'التعامل', 'والخدمت', 'الغرف', 'نضيفت', 'ولكنها', 'ضيقت', 'نوعا', 'ما', 'ولكن', 'هذه', 'فنادق', 'نيويورك', 'عجبني', 'ايضا', 'الفطور', 'الصباحي', 'الموقع', 'الرااع', 'للفندق', 'القريب', 'من', 'بقالت', 'والتايمز', 'سكوير', 'والفيفث', 'افنيو'], ['جميل', 'فندق', 'جميل', 'جدا', 'استمتعت', 'بالاقامه', 'فيه', 'كنت', 'هناك', 'من', 'اجل', 'التسوق', 'وقد', 'ساعدني', 'موضفي', 'الاستقبال', 'في', 'ذلك', 'كما', 'ان', 'الغرف', 'كانت', 'مريحه', 'جدا', 'واسلوب', 'الضيافه', 'كان', 'رااعا', 'الكل', 'كانوا', 'لطاف', 'معي', 'لم', 'يعطونني', 'احساس', 'انني', 'بعيدا', 'عن', 'وطني'], ['ممتاز', 'بكل', 'المقاييس']]\n",
      "[['تبارك', 'الله', 'عليه'], ['امرات', 'انيقت', 'و', 'سلست', 'في', 'خطابها', 'و', 'ذكيت', 'و', 'متواضعت'], ['جعفر', 'يحب', 'بلادو', 'ويعمل', 'في', 'الخير', 'يعاون', 'في', 'الناس', 'والحكومت', 'لا', 'علاقت', 'تسرق', 'في', 'الشعب', 'وتشري', 'في', 'الكوش', 'للباجي'], ['والله', 'بكتني', 'برافوو', 'واصل'], ['والله', 'احسن', 'ما', 'صار', 'في', 'قنات', 'الحوار', 'التونسي', 'المنشط', 'هاذا']]\n",
      "6729\n"
     ]
    }
   ],
   "source": [
    "##4. Tokenization -- Complete code below (same as in TD1)\n",
    "\n",
    "# COMPLETE THE CODE BELOW\n",
    "\n",
    "from nltk.tokenize import RegexpTokenizer\n",
    "\n",
    "tokenizer = RegexpTokenizer('[^_\\W]+')\n",
    "ara_corpus_tokenized = [tokenizer.tokenize(doc) for doc in ara_corpus_filtered]\n",
    "tun_corpus_tokenized = [tokenizer.tokenize(doc) for doc in tun_corpus_filtered]\n",
    "print(ara_corpus_tokenized[:5])\n",
    "print(tun_corpus_tokenized[:5])\n",
    "print(len(tun_corpus_tokenized))"
   ]
  },
  {
   "cell_type": "code",
   "execution_count": 20,
   "metadata": {},
   "outputs": [
    {
     "name": "stdout",
     "output_type": "stream",
     "text": [
      "['مكان', 'الرجل', 'الحقيقي', 'كل', 'شي', 'نضيف', 'واصلي', 'وماركات', 'صح', 'غالي', 'شوي', 'بس', 'لبس', 'روعه']\n",
      "['تبارك', 'الله', 'عليه']\n",
      "6729\n"
     ]
    }
   ],
   "source": [
    "# verify first document in corpus\n",
    "print(ara_corpus_tokenized[0])\n",
    "print(tun_corpus_tokenized[0])\n",
    "print(len(tun_corpus_tokenized))"
   ]
  },
  {
   "cell_type": "code",
   "execution_count": 21,
   "metadata": {},
   "outputs": [
    {
     "name": "stdout",
     "output_type": "stream",
     "text": [
      "['إذ', 'إذا', 'إذما', 'إذن', 'أف', 'أقل', 'أكثر', 'ألا', 'إلا', 'التي']\n"
     ]
    },
    {
     "data": {
      "text/plain": [
       "6729"
      ]
     },
     "execution_count": 21,
     "metadata": {},
     "output_type": "execute_result"
    }
   ],
   "source": [
    "##5. Remove stop words -- based on a 'standard' list of stopwords for the Arabic language.\n",
    "\n",
    "# COMPLETE THE CODE BELOW  (See TD1)\n",
    "\n",
    "# Load stop words from NLTK library\n",
    "from nltk.corpus import stopwords\n",
    "stop_words_ar = stopwords.words('arabic')\n",
    "stop_words_ar = stop_words_ar + ['كان','أصبح','أضحى','أمسى','بات','ظلَّ','صار','من','إلى','حتى','خلا','عدا','في',\n",
    "                               'عن','على','مذ','منذ','ومتى','متى','أنت','أنتما','أنتم','أنتن','إياك','إياكما','إياكن','أنا','نحن','هو','هي','هن','هما']\n",
    "type(stop_words_ar),len(stop_words_ar)\n",
    "print(stop_words_ar[0:10])\n",
    "\n",
    "# FEEL FREE TO ADD MORE WORDS TO THIS LIST IF YOU WANT ...\n",
    "\n",
    "\n",
    "# For each document, remove stop words\n",
    "ara_corpus_tokenized = [[word for word in doc  if word not in stop_words_ar] for doc in ara_corpus_tokenized]\n",
    "tun_corpus_tokenized = [[word for word in doc  if word not in stop_words_ar] for doc in tun_corpus_tokenized]\n",
    "len(tun_corpus_tokenized)\n",
    "\n"
   ]
  },
  {
   "cell_type": "code",
   "execution_count": 22,
   "metadata": {},
   "outputs": [
    {
     "name": "stdout",
     "output_type": "stream",
     "text": [
      "10683 6729\n"
     ]
    }
   ],
   "source": [
    "##6. Stemming\n",
    "# Hints: stemming is a difficult task for the Arabic language because words are often combined into one word (called agglutination).\n",
    "#     You should first visually inspect all the words in your corpus to get an idea about which words are good candidates for stemming ...\n",
    "#     Then try to think of a few simple stemming heuristics (regular expressions), such as: remove certain prefixes (e.g. al), remove certain suffixes (e.g. 'ouna') ...\n",
    "# SKIP THIS STEP IN CLASS TO SAVE TIME. COMPLETE IT AT HOME.\n",
    "from snowballstemmer import stemmer\n",
    "ara_corpus_doc= []\n",
    "ara_corpus_stemmed=[]\n",
    "tun_corpus_doc= []\n",
    "tun_corpus_stemmed= []\n",
    "ar_stemmer = stemmer(\"arabic\")\n",
    "for doc in ara_corpus_tokenized:\n",
    "    for word in doc:\n",
    "        ara_corpus_doc.append(ar_stemmer.stemWord(word))\n",
    "    ara_corpus_doc= []\n",
    "    ara_corpus_stemmed.append(ara_corpus_doc)\n",
    "    \n",
    "for doc in tun_corpus_tokenized:\n",
    "    for word in doc:\n",
    "        tun_corpus_doc.append(ar_stemmer.stemWord(word))\n",
    "    tun_corpus_doc= []\n",
    "    tun_corpus_stemmed.append(tun_corpus_doc)\n",
    "print(len(ara_corpus_stemmed),len(tun_corpus_stemmed))"
   ]
  },
  {
   "cell_type": "markdown",
   "metadata": {},
   "source": [
    "****"
   ]
  },
  {
   "cell_type": "markdown",
   "metadata": {},
   "source": [
    "## Document Representation\n",
    "Remember that the goal of this step is to transform each document from a list of words to a numeric *feature vector*. Each feature corresponds to a distinct word in a selected vocabulary. These feature vectors are stored in a numeric matrix called the **Document-Term Matrix (DTM)**.\n",
    "\n",
    "We will achieve this using *tfidf-BOW* method, as we did in **TD1**."
   ]
  },
  {
   "cell_type": "markdown",
   "metadata": {},
   "source": [
    "#### Prepare the corpus for BOW"
   ]
  },
  {
   "cell_type": "code",
   "execution_count": 23,
   "metadata": {},
   "outputs": [],
   "source": [
    "# First, concatenate the words in the cleaned corpus (because BOW method in scikit-learn requires this format)\n",
    "ara_corpus_bow = [' '.join(doc) for doc in ara_corpus_stemmed]\n",
    "tun_corpus_bow = [' '.join(doc) for doc in tun_corpus_stemmed]"
   ]
  },
  {
   "cell_type": "markdown",
   "metadata": {},
   "source": [
    "#### Build the vocabulary set\n",
    "Extract the vocabulary set from our corpus and calculate IDF values of each word in this set."
   ]
  },
  {
   "cell_type": "code",
   "execution_count": 24,
   "metadata": {},
   "outputs": [],
   "source": [
    "from sklearn.feature_extraction.text import TfidfVectorizer"
   ]
  },
  {
   "cell_type": "code",
   "execution_count": 25,
   "metadata": {},
   "outputs": [],
   "source": [
    "# Configuration parameters of the BOW model\n",
    "# FEEL FREE TO MODIFY THESE PARAMETERS AS NEEDED ...\n",
    "max_words = 10000\n",
    "maxdf = 1.0\n",
    "mindf = 0.01"
   ]
  },
  {
   "cell_type": "code",
   "execution_count": 26,
   "metadata": {},
   "outputs": [],
   "source": [
    "# create an instance of this class\n",
    "bow_model_ara = TfidfVectorizer(max_df=maxdf, min_df=mindf, stop_words=[], use_idf = True)\n",
    "bow_model_tun = TfidfVectorizer(max_df=maxdf, min_df=mindf, stop_words=[], use_idf = True)"
   ]
  },
  {
   "cell_type": "code",
   "execution_count": 27,
   "metadata": {},
   "outputs": [
    {
     "data": {
      "text/plain": [
       "TfidfVectorizer(analyzer='word', binary=False, decode_error='strict',\n",
       "        dtype=<class 'numpy.int64'>, encoding='utf-8', input='content',\n",
       "        lowercase=True, max_df=1.0, max_features=None, min_df=0.01,\n",
       "        ngram_range=(1, 1), norm='l2', preprocessor=None, smooth_idf=True,\n",
       "        stop_words=[], strip_accents=None, sublinear_tf=False,\n",
       "        token_pattern='(?u)\\\\b\\\\w\\\\w+\\\\b', tokenizer=None, use_idf=True,\n",
       "        vocabulary=None)"
      ]
     },
     "execution_count": 27,
     "metadata": {},
     "output_type": "execute_result"
    }
   ],
   "source": [
    "# call fit() method in order to prepare BOW method (determine vocabulary and IDF values)\n",
    "bow_model_ara.fit(ara_corpus_bow)\n",
    "bow_model_tun.fit(tun_corpus_bow)"
   ]
  },
  {
   "cell_type": "markdown",
   "metadata": {},
   "source": [
    "#### Build the DTM matrix"
   ]
  },
  {
   "cell_type": "code",
   "execution_count": 28,
   "metadata": {},
   "outputs": [],
   "source": [
    "# Call the transform method in order to calculate DTM matrix of our corpus\n",
    "ara_bow_dtm = bow_model_ara.transform(ara_corpus_bow)\n",
    "tun_bow_dtm = bow_model_tun.transform(tun_corpus_bow)"
   ]
  },
  {
   "cell_type": "code",
   "execution_count": 29,
   "metadata": {},
   "outputs": [
    {
     "name": "stdout",
     "output_type": "stream",
     "text": [
      "<class 'scipy.sparse.csr.csr_matrix'>\n",
      "(10683, 766)\n",
      "<class 'scipy.sparse.csr.csr_matrix'>\n",
      "(6729, 117)\n"
     ]
    }
   ],
   "source": [
    "# Verify the type and size of this matrix\n",
    "print(type(ara_bow_dtm))\n",
    "print(ara_bow_dtm.shape)\n",
    "\n",
    "print(type(tun_bow_dtm))\n",
    "print(tun_bow_dtm.shape)"
   ]
  },
  {
   "cell_type": "markdown",
   "metadata": {},
   "source": [
    "#### Visually inspect the vocabulary\n",
    "This should help you **tune** the BOW configuration parameters (i.e. min_df, max_df, etc.) ..."
   ]
  },
  {
   "cell_type": "code",
   "execution_count": 30,
   "metadata": {},
   "outputs": [
    {
     "name": "stdout",
     "output_type": "stream",
     "text": [
      "<class 'list'> 766\n",
      "<class 'list'> 117\n"
     ]
    }
   ],
   "source": [
    "# The vocabulary of BOW -- i.e. the words that were selected by BOW method to be in the vocabulary\n",
    "bow_vocab_ara = bow_model_ara.get_feature_names()\n",
    "print(type(bow_vocab_ara), len(bow_vocab_ara))\n",
    "bow_vocab_tun = bow_model_tun.get_feature_names()\n",
    "print(type(bow_vocab_tun), len(bow_vocab_tun))"
   ]
  },
  {
   "cell_type": "code",
   "execution_count": 31,
   "metadata": {},
   "outputs": [
    {
     "name": "stdout",
     "output_type": "stream",
     "text": [
      "<class 'set'> 30000\n",
      "<class 'set'> 9958\n"
     ]
    }
   ],
   "source": [
    "# The words that were ignored (and were not included in the vocabulary)\n",
    "ignored_words_ara = bow_model_ara.stop_words_\n",
    "print(type(ignored_words_ara),len(ignored_words_ara))\n",
    "ignored_words_tun = bow_model_tun.stop_words_\n",
    "print(type(ignored_words_tun),len(ignored_words_tun))"
   ]
  },
  {
   "cell_type": "code",
   "execution_count": 32,
   "metadata": {},
   "outputs": [],
   "source": [
    "#### DON'T DO THIS !!! THERE ARE TOO MANY IGNORED WORDS\n",
    "#print(ignored_words)"
   ]
  },
  {
   "cell_type": "code",
   "execution_count": 33,
   "metadata": {},
   "outputs": [],
   "source": [
    "# Put vocavulary and their IDF values in a data frame\n",
    "df_ara = pd.DataFrame(dict(Word=bow_vocab_ara,IDF=bow_model_ara.idf_))\n",
    "df_tun = pd.DataFrame(dict(Word=bow_vocab_tun,IDF=bow_model_tun.idf_))"
   ]
  },
  {
   "cell_type": "code",
   "execution_count": 34,
   "metadata": {},
   "outputs": [
    {
     "name": "stdout",
     "output_type": "stream",
     "text": [
      "0         ابد\n",
      "1       اتصال\n",
      "2        اتصل\n",
      "3         اتم\n",
      "4        اثاث\n",
      "5        اثنا\n",
      "6        اجاز\n",
      "7         اجل\n",
      "8        اجمل\n",
      "9         احب\n",
      "10       احبب\n",
      "11     احترام\n",
      "12        احد\n",
      "13        احس\n",
      "14        احل\n",
      "15       اخبر\n",
      "16     اختيار\n",
      "17        اخذ\n",
      "18        اخر\n",
      "19       اخير\n",
      "20       ادار\n",
      "21      ادارت\n",
      "22        اذا\n",
      "23       اذهب\n",
      "24       اربع\n",
      "25        ارد\n",
      "26        ارض\n",
      "27       اروع\n",
      "28      ازعاج\n",
      "29       اساس\n",
      "        ...  \n",
      "736      يبعد\n",
      "737       يتم\n",
      "738     يتميز\n",
      "739       يجب\n",
      "740      يجعل\n",
      "741     يحتاج\n",
      "742      يحتو\n",
      "743      يريد\n",
      "744     يعتبر\n",
      "745      يعجب\n",
      "746      يعرف\n",
      "747       يعط\n",
      "748      يعمل\n",
      "749       يعن\n",
      "750      يقدم\n",
      "751       يقع\n",
      "752      يقول\n",
      "753      يقوم\n",
      "754       يكف\n",
      "755       يكن\n",
      "756      يكون\n",
      "757       يمك\n",
      "758       ينم\n",
      "759       يهم\n",
      "760      يوجد\n",
      "761      يورو\n",
      "762      يوفر\n",
      "763       يوم\n",
      "764      يومي\n",
      "765     يومين\n",
      "Name: Word, Length: 766, dtype: object\n",
      "0          xd\n",
      "1         احس\n",
      "2         احل\n",
      "3         اخر\n",
      "4       اخلاق\n",
      "5       اعلام\n",
      "6        اكبر\n",
      "7        اكثر\n",
      "8          ال\n",
      "9         الا\n",
      "10       الكل\n",
      "11        الل\n",
      "12       الله\n",
      "13        اما\n",
      "14       امسط\n",
      "15       امين\n",
      "16         ان\n",
      "17        انا\n",
      "18        انت\n",
      "19      انسان\n",
      "20        باش\n",
      "21      بالله\n",
      "22        برب\n",
      "23        برش\n",
      "24     برنامج\n",
      "25         بن\n",
      "26        تاف\n",
      "27        تحك\n",
      "28       تعجب\n",
      "29        تفو\n",
      "        ...  \n",
      "87       متاع\n",
      "88        محل\n",
      "89       مستو\n",
      "90        مسخ\n",
      "91      مسلسل\n",
      "92         مش\n",
      "93        معا\n",
      "94       معلم\n",
      "95      مقداد\n",
      "96        ملا\n",
      "97       ممثل\n",
      "98       ممسط\n",
      "99      منافق\n",
      "100      منحط\n",
      "101       منك\n",
      "102       موش\n",
      "103       ناس\n",
      "104       نان\n",
      "105       نحب\n",
      "106        هه\n",
      "107      واحد\n",
      "108      واصل\n",
      "109      والل\n",
      "110       وحد\n",
      "111       ولد\n",
      "112      ياسر\n",
      "113       يحك\n",
      "114      يعجب\n",
      "115       يعط\n",
      "116      يوفق\n",
      "Name: Word, Length: 117, dtype: object\n"
     ]
    }
   ],
   "source": [
    "# Show vocabulary words that have SMALLEST IDF values (i.e. that have the largest document frequencies)\n",
    "df_ara.sort_values(\"IDF\", inplace=False, ascending = True).head(10)\n",
    "print(df_ara['Word'])\n",
    "df_tun.sort_values(\"IDF\", inplace=False, ascending = True).head(10)\n",
    "print(df_tun['Word'])"
   ]
  },
  {
   "cell_type": "code",
   "execution_count": 35,
   "metadata": {},
   "outputs": [
    {
     "data": {
      "text/html": [
       "<div>\n",
       "<style scoped>\n",
       "    .dataframe tbody tr th:only-of-type {\n",
       "        vertical-align: middle;\n",
       "    }\n",
       "\n",
       "    .dataframe tbody tr th {\n",
       "        vertical-align: top;\n",
       "    }\n",
       "\n",
       "    .dataframe thead th {\n",
       "        text-align: right;\n",
       "    }\n",
       "</style>\n",
       "<table border=\"1\" class=\"dataframe\">\n",
       "  <thead>\n",
       "    <tr style=\"text-align: right;\">\n",
       "      <th></th>\n",
       "      <th>Word</th>\n",
       "      <th>IDF</th>\n",
       "    </tr>\n",
       "  </thead>\n",
       "  <tbody>\n",
       "    <tr>\n",
       "      <th>21</th>\n",
       "      <td>بالله</td>\n",
       "      <td>5.580224</td>\n",
       "    </tr>\n",
       "    <tr>\n",
       "      <th>36</th>\n",
       "      <td>حلو</td>\n",
       "      <td>5.565835</td>\n",
       "    </tr>\n",
       "    <tr>\n",
       "      <th>57</th>\n",
       "      <td>شي</td>\n",
       "      <td>5.565835</td>\n",
       "    </tr>\n",
       "    <tr>\n",
       "      <th>67</th>\n",
       "      <td>علا</td>\n",
       "      <td>5.565835</td>\n",
       "    </tr>\n",
       "    <tr>\n",
       "      <th>116</th>\n",
       "      <td>يوفق</td>\n",
       "      <td>5.551651</td>\n",
       "    </tr>\n",
       "    <tr>\n",
       "      <th>9</th>\n",
       "      <td>الا</td>\n",
       "      <td>5.551651</td>\n",
       "    </tr>\n",
       "    <tr>\n",
       "      <th>81</th>\n",
       "      <td>كيم</td>\n",
       "      <td>5.551651</td>\n",
       "    </tr>\n",
       "    <tr>\n",
       "      <th>69</th>\n",
       "      <td>عمر</td>\n",
       "      <td>5.551651</td>\n",
       "    </tr>\n",
       "    <tr>\n",
       "      <th>98</th>\n",
       "      <td>ممسط</td>\n",
       "      <td>5.537664</td>\n",
       "    </tr>\n",
       "    <tr>\n",
       "      <th>22</th>\n",
       "      <td>برب</td>\n",
       "      <td>5.537664</td>\n",
       "    </tr>\n",
       "  </tbody>\n",
       "</table>\n",
       "</div>"
      ],
      "text/plain": [
       "      Word       IDF\n",
       "21   بالله  5.580224\n",
       "36     حلو  5.565835\n",
       "57      شي  5.565835\n",
       "67     علا  5.565835\n",
       "116   يوفق  5.551651\n",
       "9      الا  5.551651\n",
       "81     كيم  5.551651\n",
       "69     عمر  5.551651\n",
       "98    ممسط  5.537664\n",
       "22     برب  5.537664"
      ]
     },
     "execution_count": 35,
     "metadata": {},
     "output_type": "execute_result"
    }
   ],
   "source": [
    "# Show vocabulary words that have LARGEST IDF values (i.e. that have the smallest document frequencies)\n",
    "df_ara.sort_values(\"IDF\", inplace=False, ascending = False).head(10)\n",
    "df_tun.sort_values(\"IDF\", inplace=False, ascending = False).head(10)"
   ]
  },
  {
   "cell_type": "code",
   "execution_count": 36,
   "metadata": {},
   "outputs": [],
   "source": [
    "# If you want, you can save the vocabulary into a file\n",
    "# df.sort_values(\"IDF\", inplace=False, ascending = True).to_csv(\"./models/bow_vocab.csv\", index=False, header=True)"
   ]
  },
  {
   "cell_type": "markdown",
   "metadata": {},
   "source": [
    "#### Remove documents that do not contain any vocabulary terms\n",
    "i.e. remove rows in the DTM that are all zeros."
   ]
  },
  {
   "cell_type": "code",
   "execution_count": 37,
   "metadata": {},
   "outputs": [],
   "source": [
    "nb_terms_per_doc = np.array((ara_bow_dtm>0).sum(axis=1)) \n",
    "nb_terms_per_doc = nb_terms_per_doc.ravel()\n",
    "idx = nb_terms_per_doc>0\n",
    "ara_bow_dtm_filt = ara_bow_dtm[idx,:]\n",
    "ara_corpus_bow_filt = [ara_corpus_bow[i] for i,x in enumerate(idx) if x]\n",
    "ara_corpus_sentiment_filt = [ara_corpus_sentiment[i] for i,x in enumerate(idx) if x]\n",
    "\n",
    "nb_terms_per_doc1 = np.array((tun_bow_dtm>0).sum(axis=1)) \n",
    "nb_terms_per_doc1 = nb_terms_per_doc1.ravel()\n",
    "idx1 = nb_terms_per_doc1>0\n",
    "tun_bow_dtm_filt = tun_bow_dtm[idx1,:]\n",
    "tun_corpus_bow_filt = [tun_corpus_bow[i] for i,x in enumerate(idx1) if x]\n",
    "tun_corpus_sentiment_filt = [tun_corpus_sentiment[i] for i,x in enumerate(idx1) if x]\n",
    "#print(len(tun_corpus_sentiment),len(idx))"
   ]
  },
  {
   "cell_type": "markdown",
   "metadata": {},
   "source": [
    "## Build Sentiment Classifier\n",
    "We will use the machine learning approach, i.e. train a classifier."
   ]
  },
  {
   "cell_type": "code",
   "execution_count": 38,
   "metadata": {},
   "outputs": [],
   "source": [
    "from sklearn.model_selection import train_test_split\n",
    "\n",
    "from sklearn.linear_model import LogisticRegression\n",
    "from sklearn.naive_bayes import MultinomialNB\n",
    "from sklearn import metrics"
   ]
  },
  {
   "cell_type": "code",
   "execution_count": 39,
   "metadata": {},
   "outputs": [],
   "source": [
    "X_ara = ara_bow_dtm_filt\n",
    "y_ara = ara_corpus_sentiment_filt\n",
    "X_tun = tun_bow_dtm_filt\n",
    "y_tun = tun_corpus_sentiment_filt\n"
   ]
  },
  {
   "cell_type": "code",
   "execution_count": 40,
   "metadata": {},
   "outputs": [],
   "source": [
    "# Split the data into training and testing\n",
    "\n",
    "X_train_ara, X_test_ara, y_train_ara, y_test_ara = train_test_split(X_ara, y_ara, test_size = 0.3, random_state=1996)\n",
    "X_train_tun, X_test_tun, y_train_tun, y_test_tun = train_test_split(X_tun, y_tun, test_size = 0.3, random_state=1996)"
   ]
  },
  {
   "cell_type": "markdown",
   "metadata": {},
   "source": [
    "### Train classifier using logistic regression"
   ]
  },
  {
   "cell_type": "code",
   "execution_count": 41,
   "metadata": {},
   "outputs": [],
   "source": [
    "# Read documentation\n",
    "# ?LogisticRegression"
   ]
  },
  {
   "cell_type": "code",
   "execution_count": 42,
   "metadata": {},
   "outputs": [
    {
     "name": "stdout",
     "output_type": "stream",
     "text": [
      "  (0, 18)\t0.0887336577132558\n",
      "  (0, 60)\t0.1231865974599804\n",
      "  (0, 71)\t0.10104604807515202\n",
      "  (0, 75)\t0.15389664145217377\n",
      "  (0, 82)\t0.20607558001917217\n",
      "  (0, 84)\t0.07000145680970378\n",
      "  (0, 95)\t0.10085637030001372\n",
      "  (0, 142)\t0.16114163647178026\n",
      "  (0, 148)\t0.12972178595585404\n",
      "  (0, 152)\t0.16189161928815488\n",
      "  (0, 166)\t0.16935633651160437\n",
      "  (0, 196)\t0.1339318133236354\n",
      "  (0, 210)\t0.16748651021998887\n",
      "  (0, 216)\t0.09193688426400319\n",
      "  (0, 228)\t0.10223711807367664\n",
      "  (0, 233)\t0.15731004925920808\n",
      "  (0, 254)\t0.08770522398756905\n",
      "  (0, 271)\t0.13278758299027665\n",
      "  (0, 283)\t0.15951710746041825\n",
      "  (0, 288)\t0.07570394710346755\n",
      "  (0, 289)\t0.16344773010250013\n",
      "  (0, 299)\t0.12885106949873623\n",
      "  (0, 354)\t0.1436994077531726\n",
      "  (0, 370)\t0.12430895008182843\n",
      "  (0, 386)\t0.11131047207626676\n",
      "  :\t:\n",
      "  (7377, 509)\t0.07121362706806687\n",
      "  (7377, 511)\t0.06576474507099166\n",
      "  (7377, 556)\t0.1094650486462235\n",
      "  (7377, 580)\t0.10327856382153386\n",
      "  (7377, 585)\t0.09459894639980981\n",
      "  (7377, 610)\t0.2912775373975046\n",
      "  (7377, 611)\t0.1501723421330099\n",
      "  (7377, 613)\t0.06355535565075657\n",
      "  (7377, 626)\t0.06348212540743155\n",
      "  (7377, 641)\t0.10289880759020968\n",
      "  (7377, 671)\t0.08545031931191781\n",
      "  (7377, 693)\t0.12993150108262114\n",
      "  (7377, 705)\t0.11264318195449943\n",
      "  (7377, 715)\t0.09673788370099647\n",
      "  (7377, 718)\t0.09158210005565036\n",
      "  (7377, 733)\t0.11279279983683896\n",
      "  (7377, 740)\t0.10539237365623473\n",
      "  (7377, 754)\t0.11620698234737957\n",
      "  (7377, 756)\t0.07749454248139828\n",
      "  (7377, 760)\t0.3343390832031322\n",
      "  (7377, 763)\t0.13750102171012354\n",
      "  (7378, 32)\t0.6258177226548606\n",
      "  (7378, 207)\t0.3180476854395569\n",
      "  (7378, 288)\t0.3706773189655913\n",
      "  (7378, 664)\t0.608108685188845\n",
      "['POS', 'POS', 'POS', 'POS', 'POS', 'POS', 'NEG', 'NEG', 'NEG', 'NEG', 'POS', 'POS', 'NEG', 'NEG', 'NEG', 'POS', 'POS', 'NEG', 'NEG', 'NEG', 'POS', 'NEG', 'POS', 'NEG', 'POS', 'POS', 'NEG', 'NEG', 'POS', 'POS', 'NEG', 'POS', 'POS', 'NEG', 'POS', 'POS', 'POS', 'NEG', 'POS', 'POS', 'POS', 'POS', 'POS', 'NEG', 'POS', 'POS', 'POS', 'POS', 'NEG', 'POS', 'POS', 'POS', 'POS', 'NEG', 'POS', 'POS', 'NEG', 'NEG', 'NEG', 'POS', 'POS', 'POS', 'NEG', 'POS', 'POS', 'POS', 'POS', 'NEG', 'NEG', 'NEG', 'POS', 'POS', 'POS', 'NEG', 'POS', 'NEG', 'POS', 'NEG', 'NEG', 'POS', 'NEG', 'NEG', 'POS', 'POS', 'POS', 'POS', 'POS', 'NEG', 'NEG', 'POS', 'POS', 'NEG', 'POS', 'POS', 'POS', 'POS', 'POS', 'NEG', 'NEG', 'NEG', 'NEG', 'POS', 'POS', 'NEG', 'POS', 'NEG', 'NEG', 'POS', 'NEG', 'NEG', 'POS', 'POS', 'POS', 'NEG', 'NEG', 'POS', 'NEG', 'POS', 'POS', 'POS', 'NEG', 'POS', 'POS', 'POS', 'NEG', 'POS', 'NEG', 'POS', 'POS', 'POS', 'NEG', 'POS', 'NEG', 'NEG', 'POS', 'POS', 'POS', 'POS', 'POS', 'POS', 'POS', 'POS', 'NEG', 'POS', 'NEG', 'POS', 'NEG', 'NEG', 'POS', 'POS', 'NEG', 'NEG', 'NEG', 'NEG', 'POS', 'POS', 'POS', 'NEG', 'POS', 'NEG', 'POS', 'POS', 'POS', 'POS', 'NEG', 'NEG', 'POS', 'NEG', 'NEG', 'NEG', 'POS', 'NEG', 'POS', 'NEG', 'POS', 'POS', 'POS', 'POS', 'NEG', 'NEG', 'NEG', 'POS', 'NEG', 'POS', 'NEG', 'POS', 'POS', 'POS', 'POS', 'NEG', 'NEG', 'POS', 'NEG', 'POS', 'POS', 'NEG', 'NEG', 'POS', 'POS', 'POS', 'NEG', 'POS', 'NEG', 'POS', 'NEG', 'NEG', 'NEG', 'NEG', 'POS', 'POS', 'NEG', 'POS', 'NEG', 'POS', 'NEG', 'POS', 'POS', 'NEG', 'NEG', 'NEG', 'POS', 'POS', 'POS', 'POS', 'POS', 'NEG', 'POS', 'NEG', 'NEG', 'NEG', 'NEG', 'POS', 'POS', 'NEG', 'NEG', 'POS', 'NEG', 'NEG', 'NEG', 'NEG', 'POS', 'POS', 'NEG', 'POS', 'NEG', 'POS', 'NEG', 'POS', 'POS', 'NEG', 'NEG', 'NEG', 'NEG', 'POS', 'POS', 'NEG', 'POS', 'NEG', 'POS', 'POS', 'POS', 'POS', 'POS', 'POS', 'POS', 'POS', 'NEG', 'POS', 'NEG', 'NEG', 'NEG', 'NEG', 'NEG', 'POS', 'POS', 'NEG', 'POS', 'POS', 'POS', 'POS', 'POS', 'POS', 'POS', 'POS', 'POS', 'POS', 'POS', 'POS', 'POS', 'POS', 'NEG', 'POS', 'NEG', 'POS', 'NEG', 'POS', 'NEG', 'NEG', 'NEG', 'NEG', 'NEG', 'NEG', 'POS', 'NEG', 'NEG', 'NEG', 'POS', 'NEG', 'NEG', 'NEG', 'POS', 'POS', 'POS', 'NEG', 'POS', 'NEG', 'POS', 'NEG', 'NEG', 'NEG', 'NEG', 'NEG', 'POS', 'POS', 'POS', 'NEG', 'POS', 'POS', 'POS', 'POS', 'NEG', 'POS', 'NEG', 'POS', 'NEG', 'NEG', 'POS', 'NEG', 'POS', 'NEG', 'NEG', 'NEG', 'POS', 'POS', 'POS', 'POS', 'NEG', 'POS', 'POS', 'POS', 'POS', 'NEG', 'NEG', 'NEG', 'POS', 'NEG', 'NEG', 'POS', 'POS', 'POS', 'POS', 'NEG', 'POS', 'POS', 'POS', 'NEG', 'POS', 'POS', 'POS', 'NEG', 'POS', 'NEG', 'POS', 'NEG', 'NEG', 'NEG', 'POS', 'NEG', 'POS', 'POS', 'NEG', 'POS', 'NEG', 'NEG', 'POS', 'POS', 'POS', 'NEG', 'POS', 'POS', 'NEG', 'NEG', 'NEG', 'POS', 'NEG', 'POS', 'NEG', 'POS', 'NEG', 'NEG', 'NEG', 'POS', 'POS', 'POS', 'POS', 'NEG', 'POS', 'POS', 'NEG', 'POS', 'POS', 'NEG', 'POS', 'NEG', 'NEG', 'POS', 'POS', 'POS', 'POS', 'POS', 'NEG', 'POS', 'NEG', 'POS', 'POS', 'NEG', 'POS', 'NEG', 'NEG', 'NEG', 'POS', 'NEG', 'POS', 'POS', 'POS', 'POS', 'POS', 'POS', 'POS', 'POS', 'POS', 'NEG', 'POS', 'POS', 'POS', 'POS', 'POS', 'POS', 'POS', 'POS', 'NEG', 'NEG', 'POS', 'POS', 'NEG', 'POS', 'NEG', 'POS', 'NEG', 'POS', 'NEG', 'POS', 'POS', 'NEG', 'NEG', 'POS', 'NEG', 'POS', 'POS', 'POS', 'POS', 'POS', 'NEG', 'NEG', 'NEG', 'NEG', 'NEG', 'NEG', 'NEG', 'POS', 'NEG', 'NEG', 'POS', 'NEG', 'POS', 'NEG', 'POS', 'POS', 'NEG', 'POS', 'POS', 'POS', 'NEG', 'POS', 'POS', 'NEG', 'POS', 'NEG', 'POS', 'POS', 'POS', 'POS', 'POS', 'NEG', 'POS', 'NEG', 'POS', 'POS', 'NEG', 'NEG', 'NEG', 'NEG', 'POS', 'POS', 'POS', 'POS', 'POS', 'POS', 'NEG', 'POS', 'POS', 'POS', 'POS', 'POS', 'POS', 'POS', 'POS', 'NEG', 'POS', 'POS', 'POS', 'NEG', 'NEG', 'NEG', 'NEG', 'POS', 'POS', 'POS', 'POS', 'POS', 'NEG', 'POS', 'POS', 'NEG', 'NEG', 'POS', 'NEG', 'POS', 'NEG', 'POS', 'POS', 'POS', 'NEG', 'POS', 'POS', 'POS', 'NEG', 'POS', 'POS', 'POS', 'POS', 'NEG', 'POS', 'POS', 'NEG', 'POS', 'NEG', 'NEG', 'NEG', 'NEG', 'NEG', 'POS', 'POS', 'POS', 'NEG', 'POS', 'POS', 'POS', 'POS', 'NEG', 'POS', 'POS', 'NEG', 'NEG', 'POS', 'NEG', 'NEG', 'POS', 'NEG', 'POS', 'POS', 'POS', 'NEG', 'NEG', 'POS', 'POS', 'POS', 'NEG', 'POS', 'NEG', 'NEG', 'NEG', 'POS', 'POS', 'POS', 'NEG', 'POS', 'POS', 'POS', 'POS', 'POS', 'NEG', 'POS', 'NEG', 'POS', 'POS', 'POS', 'NEG', 'POS', 'NEG', 'POS', 'POS', 'NEG', 'POS', 'POS', 'POS', 'NEG', 'POS', 'NEG', 'POS', 'NEG', 'POS', 'NEG', 'POS', 'NEG', 'NEG', 'NEG', 'NEG', 'POS', 'POS', 'POS', 'POS', 'NEG', 'POS', 'POS', 'POS', 'NEG', 'POS', 'NEG', 'POS', 'NEG', 'NEG', 'NEG', 'POS', 'POS', 'POS', 'POS', 'NEG', 'POS', 'NEG', 'POS', 'POS', 'POS', 'POS', 'POS', 'NEG', 'POS', 'NEG', 'POS', 'POS', 'NEG', 'NEG', 'NEG', 'NEG', 'NEG', 'NEG', 'NEG', 'NEG', 'NEG', 'POS', 'POS', 'POS', 'NEG', 'NEG', 'POS', 'POS', 'POS', 'POS', 'NEG', 'POS', 'POS', 'POS', 'POS', 'POS', 'POS', 'NEG', 'NEG', 'NEG', 'POS', 'NEG', 'NEG', 'NEG', 'NEG', 'NEG', 'NEG', 'NEG', 'POS', 'NEG', 'NEG', 'NEG', 'POS', 'NEG', 'POS', 'NEG', 'POS', 'POS', 'POS', 'NEG', 'POS', 'NEG', 'POS', 'NEG', 'POS', 'NEG', 'POS', 'POS', 'POS', 'NEG', 'POS', 'NEG', 'NEG', 'POS', 'POS', 'NEG', 'POS', 'POS', 'NEG', 'POS', 'POS', 'NEG', 'POS', 'NEG', 'NEG', 'POS', 'POS', 'POS', 'NEG', 'POS', 'POS', 'POS', 'NEG', 'NEG', 'NEG', 'POS', 'POS', 'NEG', 'POS', 'NEG', 'NEG', 'POS', 'POS', 'POS', 'POS', 'NEG', 'NEG', 'NEG', 'NEG', 'NEG', 'NEG', 'POS', 'NEG', 'NEG', 'POS', 'POS', 'POS', 'NEG', 'POS', 'NEG', 'NEG', 'POS', 'POS', 'POS', 'NEG', 'POS', 'POS', 'POS', 'POS', 'NEG', 'POS', 'POS', 'POS', 'POS', 'POS', 'NEG', 'NEG', 'NEG', 'POS', 'NEG', 'POS', 'POS', 'POS', 'NEG', 'NEG', 'POS', 'NEG', 'NEG', 'POS', 'POS', 'POS', 'POS', 'NEG', 'POS', 'POS', 'NEG', 'NEG', 'POS', 'POS', 'POS', 'NEG', 'NEG', 'POS', 'POS', 'POS', 'POS', 'POS', 'POS', 'NEG', 'POS', 'POS', 'POS', 'POS', 'POS', 'NEG', 'POS', 'POS', 'NEG', 'NEG', 'POS', 'POS', 'NEG', 'POS', 'NEG', 'POS', 'NEG', 'POS', 'NEG', 'POS', 'NEG', 'NEG', 'NEG', 'NEG', 'POS', 'NEG', 'POS', 'NEG', 'NEG', 'POS', 'POS', 'POS', 'NEG', 'NEG', 'POS', 'POS', 'NEG', 'POS', 'POS', 'NEG', 'NEG', 'NEG', 'POS', 'POS', 'POS', 'POS', 'POS', 'NEG', 'POS', 'NEG', 'POS', 'POS', 'NEG', 'NEG', 'POS', 'POS', 'POS', 'NEG', 'NEG', 'POS', 'POS', 'NEG', 'NEG', 'POS', 'POS', 'POS', 'POS', 'NEG', 'NEG', 'NEG', 'POS', 'NEG', 'NEG', 'POS', 'NEG', 'POS', 'POS', 'NEG', 'POS', 'POS', 'POS', 'NEG', 'NEG', 'POS', 'POS', 'NEG', 'POS', 'NEG', 'POS', 'POS', 'POS', 'NEG', 'POS', 'NEG', 'POS', 'POS', 'NEG', 'NEG', 'POS', 'POS', 'NEG', 'NEG', 'NEG', 'NEG', 'NEG', 'NEG', 'POS', 'POS', 'NEG', 'POS', 'POS', 'NEG', 'POS', 'NEG', 'POS', 'NEG', 'NEG', 'NEG', 'POS', 'POS', 'NEG', 'NEG', 'POS', 'POS', 'NEG', 'NEG', 'POS', 'NEG', 'NEG', 'POS', 'POS', 'NEG', 'NEG', 'POS', 'NEG', 'POS', 'NEG', 'NEG', 'NEG', 'NEG', 'POS', 'POS', 'NEG', 'POS', 'POS', 'POS', 'NEG', 'POS', 'POS', 'POS', 'NEG', 'NEG', 'POS', 'NEG', 'POS', 'POS', 'POS', 'POS', 'POS', 'POS', 'POS', 'POS', 'POS', 'NEG', 'POS', 'NEG', 'POS', 'POS', 'NEG', 'NEG', 'POS', 'NEG', 'POS', 'POS', 'POS', 'POS', 'NEG', 'NEG', 'POS', 'POS', 'POS', 'NEG', 'NEG', 'POS', 'NEG', 'NEG', 'POS', 'NEG', 'POS', 'POS', 'NEG', 'NEG', 'POS', 'NEG', 'POS', 'POS', 'NEG', 'NEG', 'NEG', 'POS', 'POS', 'NEG', 'NEG', 'POS', 'POS', 'NEG', 'POS', 'POS', 'NEG', 'NEG', 'POS', 'POS', 'POS', 'POS', 'NEG', 'POS', 'POS', 'POS', 'POS', 'NEG', 'NEG', 'POS', 'NEG', 'POS', 'POS', 'POS', 'POS', 'NEG', 'NEG', 'NEG', 'POS', 'POS', 'NEG', 'POS', 'POS', 'NEG', 'POS', 'POS', 'POS', 'POS', 'POS', 'POS', 'POS', 'NEG', 'NEG', 'POS', 'NEG', 'POS', 'POS', 'NEG', 'POS', 'POS', 'NEG', 'POS', 'POS', 'POS', 'POS', 'POS', 'POS', 'POS', 'NEG', 'POS', 'NEG', 'NEG', 'POS', 'NEG', 'POS', 'POS', 'NEG', 'POS', 'POS', 'POS', 'POS', 'POS', 'NEG', 'NEG', 'POS', 'POS', 'POS', 'POS', 'NEG', 'POS', 'POS', 'NEG', 'POS', 'NEG', 'POS', 'POS', 'NEG', 'POS', 'POS', 'POS', 'POS', 'POS', 'POS', 'POS', 'POS', 'POS', 'POS', 'POS', 'POS', 'POS', 'NEG', 'POS', 'NEG', 'NEG', 'NEG', 'POS', 'POS', 'POS', 'POS', 'POS', 'POS', 'NEG', 'NEG', 'NEG', 'POS', 'POS', 'POS', 'POS', 'POS', 'NEG', 'POS', 'NEG', 'POS', 'POS', 'NEG', 'NEG', 'POS', 'POS', 'POS', 'POS', 'POS', 'POS', 'NEG', 'POS', 'NEG', 'POS', 'NEG', 'NEG', 'POS', 'NEG', 'NEG', 'POS', 'POS', 'POS', 'POS', 'NEG', 'POS', 'NEG', 'NEG', 'POS', 'NEG', 'POS', 'POS', 'POS', 'POS', 'POS', 'POS', 'NEG', 'POS', 'POS', 'POS', 'POS', 'NEG', 'POS', 'POS', 'NEG', 'POS', 'NEG', 'POS', 'POS', 'NEG', 'POS', 'POS', 'POS', 'NEG', 'POS', 'NEG', 'POS', 'NEG', 'NEG', 'NEG', 'POS', 'POS', 'NEG', 'NEG', 'POS', 'NEG', 'POS', 'POS', 'NEG', 'NEG', 'NEG', 'POS', 'NEG', 'NEG', 'POS', 'NEG', 'NEG', 'NEG', 'NEG', 'NEG', 'NEG', 'POS', 'POS', 'POS', 'POS', 'POS', 'POS', 'POS', 'NEG', 'POS', 'POS', 'NEG', 'POS', 'NEG', 'POS', 'NEG', 'POS', 'POS', 'NEG', 'POS', 'POS', 'NEG', 'POS', 'POS', 'NEG', 'NEG', 'POS', 'POS', 'POS', 'POS', 'POS', 'POS', 'POS', 'NEG', 'POS', 'POS', 'POS', 'POS', 'POS', 'NEG', 'POS', 'POS', 'NEG', 'NEG', 'POS', 'POS', 'POS', 'POS', 'POS', 'NEG', 'POS', 'POS', 'POS', 'POS', 'NEG', 'POS', 'POS', 'NEG', 'POS', 'POS', 'NEG', 'POS', 'NEG', 'POS', 'POS', 'NEG', 'NEG', 'POS', 'POS', 'POS', 'POS', 'POS', 'NEG', 'POS', 'POS', 'POS', 'NEG', 'NEG', 'POS', 'POS', 'POS', 'NEG', 'POS', 'NEG', 'POS', 'POS', 'POS', 'NEG', 'POS', 'POS', 'POS', 'POS', 'NEG', 'NEG', 'POS', 'NEG', 'POS', 'POS', 'POS', 'POS', 'NEG', 'NEG', 'POS', 'NEG', 'POS', 'POS', 'POS', 'NEG', 'NEG', 'POS', 'POS', 'POS', 'POS', 'POS', 'POS', 'POS', 'POS', 'POS', 'NEG', 'POS', 'NEG', 'POS', 'NEG', 'NEG', 'POS', 'POS', 'POS', 'NEG', 'NEG', 'NEG', 'NEG', 'NEG', 'POS', 'NEG', 'POS', 'NEG', 'NEG', 'NEG', 'NEG', 'NEG', 'NEG', 'POS', 'NEG', 'POS', 'POS', 'NEG', 'POS', 'NEG', 'POS', 'POS', 'POS', 'NEG', 'POS', 'POS', 'NEG', 'NEG', 'NEG', 'POS', 'NEG', 'POS', 'POS', 'NEG', 'POS', 'NEG', 'NEG', 'POS', 'POS', 'NEG', 'NEG', 'POS', 'NEG', 'NEG', 'NEG', 'POS', 'NEG', 'POS', 'POS', 'POS', 'NEG', 'NEG', 'NEG', 'POS', 'POS', 'POS', 'POS', 'NEG', 'NEG', 'NEG', 'NEG', 'POS', 'POS', 'POS', 'POS', 'POS', 'POS', 'NEG', 'POS', 'NEG', 'POS', 'POS', 'NEG', 'POS', 'NEG', 'POS', 'POS', 'POS', 'POS', 'POS', 'NEG', 'NEG', 'NEG', 'POS', 'POS', 'NEG', 'NEG', 'POS', 'NEG', 'POS', 'POS', 'POS', 'NEG', 'POS', 'POS', 'NEG', 'POS', 'NEG', 'POS', 'NEG', 'NEG', 'POS', 'POS', 'NEG', 'POS', 'NEG', 'NEG', 'POS', 'NEG', 'POS', 'POS', 'NEG', 'NEG', 'POS', 'POS', 'NEG', 'POS', 'POS', 'POS', 'NEG', 'NEG', 'NEG', 'NEG', 'POS', 'POS', 'NEG', 'NEG', 'POS', 'NEG', 'NEG', 'POS', 'POS', 'POS', 'POS', 'POS', 'POS', 'POS', 'POS', 'POS', 'NEG', 'NEG', 'POS', 'POS', 'NEG', 'NEG', 'NEG', 'NEG', 'NEG', 'POS', 'NEG', 'POS', 'POS', 'POS', 'POS', 'POS', 'NEG', 'POS', 'NEG', 'POS', 'NEG', 'POS', 'NEG', 'NEG', 'NEG', 'POS', 'POS', 'POS', 'NEG', 'POS', 'NEG', 'POS', 'NEG', 'POS', 'NEG', 'NEG', 'NEG', 'NEG', 'NEG', 'NEG', 'NEG', 'NEG', 'NEG', 'NEG', 'POS', 'POS', 'POS', 'POS', 'POS', 'POS', 'POS', 'NEG', 'NEG', 'NEG', 'POS', 'POS', 'NEG', 'NEG', 'NEG', 'NEG', 'NEG', 'NEG', 'POS', 'POS', 'NEG', 'POS', 'POS', 'POS', 'NEG', 'POS', 'POS', 'NEG', 'POS', 'POS', 'NEG', 'NEG', 'NEG', 'POS', 'POS', 'NEG', 'POS', 'POS', 'POS', 'POS', 'NEG', 'POS', 'POS', 'POS', 'POS', 'POS', 'POS', 'NEG', 'NEG', 'POS', 'POS', 'POS', 'NEG', 'POS', 'NEG', 'POS', 'POS', 'NEG', 'NEG', 'POS', 'NEG', 'POS', 'NEG', 'NEG', 'NEG', 'NEG', 'NEG', 'POS', 'NEG', 'NEG', 'NEG', 'NEG', 'POS', 'POS', 'POS', 'POS', 'NEG', 'NEG', 'POS', 'POS', 'POS', 'NEG', 'POS', 'POS', 'POS', 'NEG', 'NEG', 'NEG', 'POS', 'POS', 'POS', 'POS', 'POS', 'POS', 'POS', 'POS', 'NEG', 'POS', 'POS', 'NEG', 'NEG', 'NEG', 'POS', 'POS', 'POS', 'POS', 'POS', 'NEG', 'POS', 'NEG', 'NEG', 'POS', 'NEG', 'POS', 'POS', 'NEG', 'POS', 'POS', 'POS', 'NEG', 'NEG', 'NEG', 'NEG', 'NEG', 'POS', 'NEG', 'POS', 'POS', 'NEG', 'NEG', 'POS', 'POS', 'POS', 'NEG', 'POS', 'NEG', 'NEG', 'POS', 'POS', 'POS', 'POS', 'NEG', 'NEG', 'POS', 'POS', 'POS', 'POS', 'POS', 'POS', 'POS', 'POS', 'POS', 'NEG', 'POS', 'NEG', 'NEG', 'NEG', 'POS', 'POS', 'POS', 'NEG', 'NEG', 'POS', 'POS', 'NEG', 'POS', 'NEG', 'POS', 'NEG', 'POS', 'POS', 'NEG', 'POS', 'NEG', 'POS', 'POS', 'POS', 'NEG', 'NEG', 'POS', 'POS', 'POS', 'POS', 'POS', 'NEG', 'NEG', 'POS', 'POS', 'POS', 'POS', 'POS', 'POS', 'NEG', 'POS', 'POS', 'NEG', 'POS', 'NEG', 'POS', 'POS', 'NEG', 'NEG', 'NEG', 'NEG', 'NEG', 'NEG', 'NEG', 'POS', 'POS', 'POS', 'NEG', 'NEG', 'POS', 'NEG', 'NEG', 'POS', 'NEG', 'NEG', 'NEG', 'POS', 'NEG', 'POS', 'POS', 'NEG', 'POS', 'POS', 'NEG', 'POS', 'NEG', 'POS', 'POS', 'POS', 'POS', 'POS', 'NEG', 'NEG', 'NEG', 'NEG', 'NEG', 'POS', 'NEG', 'NEG', 'NEG', 'POS', 'NEG', 'NEG', 'NEG', 'POS', 'POS', 'POS', 'NEG', 'POS', 'POS', 'POS', 'NEG', 'POS', 'NEG', 'NEG', 'POS', 'NEG', 'NEG', 'POS', 'NEG', 'NEG', 'POS', 'POS', 'NEG', 'NEG', 'POS', 'NEG', 'NEG', 'POS', 'NEG', 'POS', 'POS', 'POS', 'POS', 'NEG', 'NEG', 'POS', 'POS', 'NEG', 'POS', 'POS', 'POS', 'NEG', 'POS', 'NEG', 'POS', 'POS', 'POS', 'NEG', 'NEG', 'NEG', 'POS', 'POS', 'POS', 'POS', 'NEG', 'NEG', 'NEG', 'POS', 'POS', 'NEG', 'NEG', 'POS', 'POS', 'NEG', 'POS', 'POS', 'POS', 'POS', 'POS', 'NEG', 'POS', 'POS', 'POS', 'POS', 'POS', 'POS', 'NEG', 'NEG', 'POS', 'POS', 'NEG', 'NEG', 'NEG', 'POS', 'POS', 'POS', 'NEG', 'POS', 'NEG', 'POS', 'NEG', 'POS', 'POS', 'NEG', 'NEG', 'NEG', 'POS', 'NEG', 'POS', 'NEG', 'POS', 'POS', 'POS', 'POS', 'POS', 'POS', 'POS', 'NEG', 'NEG', 'POS', 'POS', 'POS', 'POS', 'POS', 'POS', 'POS', 'NEG', 'NEG', 'POS', 'NEG', 'POS', 'POS', 'POS', 'POS', 'NEG', 'POS', 'NEG', 'POS', 'NEG', 'POS', 'POS', 'NEG', 'NEG', 'POS', 'NEG', 'NEG', 'NEG', 'NEG', 'NEG', 'POS', 'POS', 'NEG', 'POS', 'POS', 'POS', 'NEG', 'NEG', 'NEG', 'POS', 'NEG', 'NEG', 'NEG', 'POS', 'POS', 'NEG', 'NEG', 'POS', 'POS', 'POS', 'POS', 'NEG', 'NEG', 'POS', 'NEG', 'NEG', 'NEG', 'POS', 'NEG', 'POS', 'POS', 'NEG', 'POS', 'POS', 'NEG', 'NEG', 'POS', 'NEG', 'NEG', 'NEG', 'POS', 'POS', 'POS', 'POS', 'POS', 'POS', 'POS', 'POS', 'NEG', 'NEG', 'POS', 'NEG', 'POS', 'POS', 'POS', 'POS', 'POS', 'POS', 'POS', 'POS', 'NEG', 'NEG', 'POS', 'POS', 'NEG', 'NEG', 'NEG', 'NEG', 'NEG', 'NEG', 'NEG', 'NEG', 'POS', 'POS', 'POS', 'POS', 'POS', 'POS', 'NEG', 'NEG', 'NEG', 'NEG', 'NEG', 'POS', 'POS', 'POS', 'POS', 'POS', 'NEG', 'POS', 'POS', 'NEG', 'NEG', 'NEG', 'POS', 'NEG', 'POS', 'POS', 'POS', 'POS', 'NEG', 'POS', 'POS', 'NEG', 'NEG', 'NEG', 'POS', 'POS', 'NEG', 'POS', 'POS', 'POS', 'POS', 'NEG', 'NEG', 'POS', 'POS', 'POS', 'POS', 'POS', 'NEG', 'POS', 'NEG', 'POS', 'NEG', 'NEG', 'NEG', 'POS', 'POS', 'NEG', 'NEG', 'NEG', 'POS', 'NEG', 'POS', 'NEG', 'POS', 'NEG', 'POS', 'POS', 'POS', 'NEG', 'NEG', 'NEG', 'NEG', 'POS', 'POS', 'POS', 'NEG', 'POS', 'NEG', 'POS', 'POS', 'POS', 'NEG', 'NEG', 'POS', 'NEG', 'NEG', 'POS', 'NEG', 'POS', 'NEG', 'POS', 'POS', 'NEG', 'POS', 'POS', 'POS', 'POS', 'POS', 'NEG', 'POS', 'NEG', 'NEG', 'POS', 'NEG', 'NEG', 'NEG', 'POS', 'NEG', 'NEG', 'POS', 'POS', 'NEG', 'POS', 'POS', 'NEG', 'NEG', 'NEG', 'POS', 'NEG', 'NEG', 'NEG', 'POS', 'NEG', 'NEG', 'POS', 'POS', 'POS', 'POS', 'NEG', 'NEG', 'POS', 'POS', 'POS', 'NEG', 'NEG', 'NEG', 'POS', 'NEG', 'NEG', 'POS', 'POS', 'POS', 'POS', 'NEG', 'POS', 'POS', 'POS', 'POS', 'POS', 'NEG', 'POS', 'POS', 'POS', 'POS', 'POS', 'POS', 'NEG', 'NEG', 'NEG', 'POS', 'NEG', 'NEG', 'NEG', 'POS', 'NEG', 'NEG', 'POS', 'NEG', 'POS', 'NEG', 'NEG', 'NEG', 'NEG', 'POS', 'NEG', 'NEG', 'POS', 'POS', 'NEG', 'NEG', 'NEG', 'POS', 'POS', 'POS', 'NEG', 'NEG', 'NEG', 'NEG', 'POS', 'POS', 'POS', 'POS', 'POS', 'NEG', 'POS', 'NEG', 'POS', 'POS', 'NEG', 'NEG', 'NEG', 'POS', 'NEG', 'NEG', 'POS', 'NEG', 'NEG', 'POS', 'NEG', 'POS', 'POS', 'NEG', 'POS', 'NEG', 'NEG', 'POS', 'POS', 'POS', 'NEG', 'NEG', 'NEG', 'NEG', 'NEG', 'NEG', 'POS', 'POS', 'POS', 'POS', 'POS', 'NEG', 'NEG', 'NEG', 'NEG', 'NEG', 'NEG', 'NEG', 'NEG', 'NEG', 'NEG', 'POS', 'POS', 'POS', 'NEG', 'POS', 'POS', 'POS', 'NEG', 'POS', 'POS', 'NEG', 'NEG', 'POS', 'NEG', 'POS', 'NEG', 'NEG', 'NEG', 'NEG', 'POS', 'POS', 'POS', 'POS', 'POS', 'NEG', 'POS', 'POS', 'POS', 'NEG', 'NEG', 'NEG', 'NEG', 'NEG', 'NEG', 'POS', 'NEG', 'POS', 'POS', 'POS', 'POS', 'POS', 'NEG', 'POS', 'POS', 'NEG', 'POS', 'NEG', 'POS', 'POS', 'POS', 'NEG', 'POS', 'POS', 'POS', 'NEG', 'NEG', 'POS', 'POS', 'POS', 'POS', 'NEG', 'POS', 'POS', 'NEG', 'POS', 'POS', 'NEG', 'NEG', 'POS', 'NEG', 'POS', 'NEG', 'NEG', 'NEG', 'POS', 'NEG', 'NEG', 'NEG', 'POS', 'POS', 'POS', 'POS', 'POS', 'POS', 'POS', 'NEG', 'POS', 'POS', 'POS', 'POS', 'POS', 'POS', 'NEG', 'NEG', 'POS', 'POS', 'POS', 'POS', 'POS', 'POS', 'POS', 'NEG', 'POS', 'NEG', 'POS', 'NEG', 'NEG', 'NEG', 'POS', 'NEG', 'POS', 'POS', 'NEG', 'POS', 'NEG', 'NEG', 'NEG', 'NEG', 'NEG', 'POS', 'POS', 'POS', 'POS', 'NEG', 'NEG', 'POS', 'POS', 'POS', 'NEG', 'NEG', 'POS', 'POS', 'POS', 'POS', 'NEG', 'POS', 'POS', 'POS', 'POS', 'NEG', 'POS', 'NEG', 'POS', 'POS', 'NEG', 'POS', 'POS', 'POS', 'NEG', 'NEG', 'NEG', 'POS', 'POS', 'POS', 'POS', 'POS', 'POS', 'POS', 'NEG', 'POS', 'POS', 'POS', 'POS', 'NEG', 'POS', 'NEG', 'NEG', 'POS', 'POS', 'NEG', 'POS', 'NEG', 'NEG', 'NEG', 'NEG', 'NEG', 'NEG', 'POS', 'NEG', 'NEG', 'POS', 'POS', 'NEG', 'POS', 'NEG', 'POS', 'POS', 'NEG', 'POS', 'NEG', 'NEG', 'POS', 'POS', 'POS', 'NEG', 'POS', 'POS', 'POS', 'POS', 'POS', 'NEG', 'NEG', 'NEG', 'POS', 'POS', 'NEG', 'POS', 'POS', 'NEG', 'POS', 'NEG', 'NEG', 'POS', 'NEG', 'POS', 'NEG', 'POS', 'POS', 'POS', 'POS', 'NEG', 'NEG', 'POS', 'POS', 'NEG', 'POS', 'POS', 'POS', 'NEG', 'POS', 'NEG', 'POS', 'POS', 'POS', 'NEG', 'POS', 'POS', 'POS', 'POS', 'POS', 'NEG', 'POS', 'POS', 'POS', 'NEG', 'NEG', 'POS', 'NEG', 'POS', 'POS', 'POS', 'POS', 'POS', 'NEG', 'NEG', 'NEG', 'POS', 'NEG', 'NEG', 'POS', 'POS', 'POS', 'NEG', 'NEG', 'NEG', 'NEG', 'NEG', 'POS', 'NEG', 'POS', 'NEG', 'POS', 'NEG', 'NEG', 'NEG', 'POS', 'NEG', 'POS', 'POS', 'NEG', 'NEG', 'POS', 'NEG', 'NEG', 'NEG', 'NEG', 'POS', 'NEG', 'POS', 'NEG', 'NEG', 'NEG', 'NEG', 'POS', 'NEG', 'NEG', 'POS', 'POS', 'POS', 'NEG', 'NEG', 'POS', 'NEG', 'NEG', 'NEG', 'POS', 'NEG', 'NEG', 'POS', 'POS', 'NEG', 'POS', 'POS', 'NEG', 'NEG', 'NEG', 'NEG', 'POS', 'NEG', 'POS', 'NEG', 'NEG', 'POS', 'POS', 'NEG', 'NEG', 'POS', 'POS', 'POS', 'POS', 'POS', 'POS', 'POS', 'NEG', 'NEG', 'POS', 'POS', 'NEG', 'NEG', 'POS', 'POS', 'NEG', 'POS', 'NEG', 'POS', 'POS', 'NEG', 'POS', 'NEG', 'NEG', 'NEG', 'POS', 'NEG', 'NEG', 'NEG', 'POS', 'POS', 'NEG', 'POS', 'POS', 'NEG', 'NEG', 'POS', 'NEG', 'POS', 'POS', 'POS', 'NEG', 'POS', 'POS', 'NEG', 'NEG', 'POS', 'POS', 'POS', 'POS', 'POS', 'POS', 'NEG', 'POS', 'POS', 'NEG', 'NEG', 'POS', 'POS', 'NEG', 'NEG', 'NEG', 'POS', 'POS', 'POS', 'NEG', 'NEG', 'NEG', 'NEG', 'NEG', 'POS', 'NEG', 'POS', 'POS', 'POS', 'POS', 'POS', 'NEG', 'POS', 'POS', 'POS', 'NEG', 'POS', 'NEG', 'NEG', 'NEG', 'NEG', 'POS', 'POS', 'POS', 'NEG', 'POS', 'POS', 'NEG', 'NEG', 'POS', 'NEG', 'POS', 'NEG', 'NEG', 'POS', 'POS', 'POS', 'POS', 'POS', 'POS', 'POS', 'NEG', 'POS', 'NEG', 'NEG', 'POS', 'POS', 'POS', 'NEG', 'POS', 'POS', 'POS', 'POS', 'POS', 'NEG', 'POS', 'NEG', 'NEG', 'POS', 'POS', 'POS', 'POS', 'POS', 'POS', 'NEG', 'NEG', 'POS', 'NEG', 'POS', 'POS', 'POS', 'POS', 'POS', 'POS', 'POS', 'NEG', 'NEG', 'POS', 'NEG', 'POS', 'NEG', 'POS', 'NEG', 'NEG', 'NEG', 'POS', 'POS', 'POS', 'NEG', 'POS', 'POS', 'POS', 'NEG', 'POS', 'POS', 'POS', 'NEG', 'POS', 'POS', 'NEG', 'NEG', 'POS', 'NEG', 'POS', 'POS', 'POS', 'POS', 'NEG', 'POS', 'POS', 'POS', 'POS', 'POS', 'POS', 'POS', 'POS', 'POS', 'NEG', 'NEG', 'POS', 'POS', 'NEG', 'POS', 'POS', 'NEG', 'POS', 'NEG', 'NEG', 'NEG', 'POS', 'POS', 'POS', 'POS', 'NEG', 'POS', 'NEG', 'NEG', 'POS', 'NEG', 'NEG', 'POS', 'POS', 'NEG', 'NEG', 'POS', 'POS', 'NEG', 'NEG', 'POS', 'NEG', 'POS', 'POS', 'POS', 'NEG', 'NEG', 'POS', 'POS', 'POS', 'POS', 'NEG', 'NEG', 'NEG', 'POS', 'NEG', 'POS', 'POS', 'NEG', 'POS', 'NEG', 'NEG', 'POS', 'NEG', 'NEG', 'POS', 'NEG', 'NEG', 'NEG', 'POS', 'POS', 'POS', 'POS', 'POS', 'NEG', 'NEG', 'NEG', 'NEG', 'NEG', 'POS', 'POS', 'POS', 'POS', 'NEG', 'NEG', 'POS', 'POS', 'POS', 'NEG', 'POS', 'NEG', 'POS', 'POS', 'POS', 'NEG', 'NEG', 'NEG', 'POS', 'POS', 'NEG', 'POS', 'POS', 'NEG', 'POS', 'NEG', 'POS', 'NEG', 'POS', 'POS', 'NEG', 'POS', 'NEG', 'POS', 'POS', 'POS', 'POS', 'POS', 'POS', 'NEG', 'POS', 'POS', 'POS', 'NEG', 'POS', 'NEG', 'NEG', 'POS', 'NEG', 'POS', 'NEG', 'POS', 'POS', 'NEG', 'NEG', 'NEG', 'NEG', 'POS', 'POS', 'POS', 'POS', 'POS', 'POS', 'POS', 'POS', 'POS', 'POS', 'NEG', 'POS', 'NEG', 'POS', 'POS', 'NEG', 'POS', 'NEG', 'POS', 'NEG', 'NEG', 'NEG', 'POS', 'NEG', 'NEG', 'POS', 'POS', 'NEG', 'POS', 'POS', 'POS', 'POS', 'NEG', 'POS', 'NEG', 'NEG', 'NEG', 'POS', 'NEG', 'POS', 'NEG', 'NEG', 'POS', 'POS', 'NEG', 'POS', 'POS', 'NEG', 'NEG', 'NEG', 'NEG', 'NEG', 'POS', 'NEG', 'NEG', 'POS', 'POS', 'POS', 'POS', 'NEG', 'NEG', 'NEG', 'POS', 'POS', 'POS', 'POS', 'POS', 'NEG', 'POS', 'POS', 'NEG', 'NEG', 'NEG', 'NEG', 'NEG', 'POS', 'NEG', 'POS', 'NEG', 'NEG', 'NEG', 'POS', 'POS', 'NEG', 'NEG', 'POS', 'POS', 'POS', 'NEG', 'NEG', 'POS', 'NEG', 'POS', 'NEG', 'POS', 'POS', 'POS', 'POS', 'POS', 'POS', 'NEG', 'POS', 'POS', 'POS', 'POS', 'NEG', 'NEG', 'POS', 'POS', 'POS', 'POS', 'POS', 'NEG', 'NEG', 'NEG', 'POS', 'POS', 'POS', 'NEG', 'NEG', 'POS', 'NEG', 'NEG', 'POS', 'NEG', 'POS', 'NEG', 'POS', 'POS', 'POS', 'NEG', 'NEG', 'POS', 'POS', 'POS', 'POS', 'POS', 'POS', 'POS', 'NEG', 'POS', 'NEG', 'POS', 'POS', 'POS', 'POS', 'POS', 'NEG', 'POS', 'POS', 'NEG', 'POS', 'NEG', 'POS', 'POS', 'POS', 'NEG', 'POS', 'NEG', 'POS', 'POS', 'POS', 'POS', 'POS', 'POS', 'NEG', 'POS', 'POS', 'POS', 'POS', 'POS', 'NEG', 'POS', 'POS', 'NEG', 'NEG', 'POS', 'NEG', 'NEG', 'NEG', 'NEG', 'NEG', 'NEG', 'POS', 'NEG', 'POS', 'POS', 'NEG', 'POS', 'POS', 'NEG', 'NEG', 'POS', 'NEG', 'NEG', 'POS', 'NEG', 'POS', 'POS', 'NEG', 'NEG', 'POS', 'POS', 'NEG', 'NEG', 'NEG', 'NEG', 'POS', 'POS', 'NEG', 'POS', 'NEG', 'POS', 'NEG', 'NEG', 'POS', 'POS', 'POS', 'NEG', 'POS', 'NEG', 'NEG', 'NEG', 'POS', 'NEG', 'POS', 'POS', 'POS', 'NEG', 'NEG', 'NEG', 'NEG', 'POS', 'POS', 'NEG', 'POS', 'POS', 'POS', 'NEG', 'NEG', 'NEG', 'NEG', 'NEG', 'POS', 'NEG', 'POS', 'NEG', 'POS', 'NEG', 'POS', 'NEG', 'POS', 'POS', 'NEG', 'POS', 'NEG', 'POS', 'POS', 'NEG', 'POS', 'NEG', 'NEG', 'POS', 'POS', 'POS', 'NEG', 'POS', 'POS', 'POS', 'NEG', 'POS', 'POS', 'POS', 'POS', 'POS', 'POS', 'POS', 'NEG', 'NEG', 'POS', 'POS', 'POS', 'NEG', 'POS', 'NEG', 'POS', 'POS', 'NEG', 'NEG', 'POS', 'NEG', 'NEG', 'POS', 'POS', 'NEG', 'NEG', 'NEG', 'POS', 'NEG', 'NEG', 'NEG', 'NEG', 'POS', 'POS', 'NEG', 'POS', 'NEG', 'NEG', 'NEG', 'POS', 'NEG', 'POS', 'NEG', 'POS', 'POS', 'NEG', 'NEG', 'NEG', 'POS', 'POS', 'NEG', 'NEG', 'POS', 'NEG', 'NEG', 'POS', 'POS', 'NEG', 'NEG', 'POS', 'NEG', 'POS', 'NEG', 'POS', 'POS', 'POS', 'NEG', 'POS', 'POS', 'NEG', 'POS', 'POS', 'NEG', 'POS', 'NEG', 'NEG', 'POS', 'POS', 'NEG', 'POS', 'POS', 'POS', 'POS', 'POS', 'NEG', 'NEG', 'POS', 'POS', 'NEG', 'NEG', 'POS', 'NEG', 'POS', 'NEG', 'NEG', 'NEG', 'NEG', 'POS', 'POS', 'POS', 'NEG', 'NEG', 'NEG', 'POS', 'NEG', 'POS', 'POS', 'POS', 'NEG', 'NEG', 'POS', 'POS', 'POS', 'POS', 'POS', 'NEG', 'POS', 'POS', 'POS', 'POS', 'POS', 'POS', 'NEG', 'NEG', 'POS', 'POS', 'POS', 'POS', 'POS', 'POS', 'NEG', 'POS', 'NEG', 'POS', 'NEG', 'POS', 'POS', 'NEG', 'POS', 'NEG', 'POS', 'POS', 'NEG', 'POS', 'POS', 'NEG', 'NEG', 'POS', 'NEG', 'NEG', 'POS', 'POS', 'NEG', 'POS', 'POS', 'POS', 'POS', 'POS', 'POS', 'NEG', 'NEG', 'NEG', 'POS', 'POS', 'NEG', 'NEG', 'POS', 'NEG', 'NEG', 'NEG', 'POS', 'NEG', 'NEG', 'NEG', 'POS', 'NEG', 'POS', 'POS', 'POS', 'POS', 'POS', 'NEG', 'NEG', 'POS', 'POS', 'NEG', 'NEG', 'POS', 'POS', 'NEG', 'POS', 'POS', 'POS', 'POS', 'POS', 'POS', 'NEG', 'NEG', 'NEG', 'NEG', 'NEG', 'POS', 'POS', 'POS', 'POS', 'POS', 'NEG', 'POS', 'POS', 'POS', 'POS', 'NEG', 'NEG', 'POS', 'POS', 'POS', 'POS', 'POS', 'POS', 'NEG', 'NEG', 'POS', 'NEG', 'POS', 'POS', 'POS', 'POS', 'POS', 'POS', 'POS', 'POS', 'POS', 'NEG', 'NEG', 'POS', 'POS', 'NEG', 'NEG', 'POS', 'NEG', 'NEG', 'NEG', 'POS', 'NEG', 'POS', 'NEG', 'POS', 'POS', 'NEG', 'POS', 'POS', 'NEG', 'POS', 'POS', 'NEG', 'NEG', 'NEG', 'NEG', 'POS', 'NEG', 'NEG', 'POS', 'NEG', 'POS', 'NEG', 'POS', 'NEG', 'NEG', 'NEG', 'POS', 'POS', 'NEG', 'POS', 'POS', 'POS', 'POS', 'POS', 'NEG', 'NEG', 'NEG', 'NEG', 'NEG', 'NEG', 'NEG', 'NEG', 'POS', 'POS', 'NEG', 'NEG', 'POS', 'POS', 'POS', 'NEG', 'POS', 'POS', 'POS', 'NEG', 'NEG', 'NEG', 'NEG', 'NEG', 'POS', 'POS', 'NEG', 'POS', 'POS', 'POS', 'POS', 'POS', 'POS', 'POS', 'NEG', 'POS', 'POS', 'NEG', 'POS', 'POS', 'POS', 'POS', 'POS', 'POS', 'POS', 'POS', 'NEG', 'POS', 'POS', 'POS', 'POS', 'POS', 'POS', 'POS', 'NEG', 'POS', 'NEG', 'POS', 'NEG', 'POS', 'POS', 'NEG', 'NEG', 'NEG', 'NEG', 'POS', 'POS', 'POS', 'POS', 'POS', 'POS', 'POS', 'NEG', 'POS', 'NEG', 'POS', 'POS', 'NEG', 'POS', 'NEG', 'NEG', 'POS', 'NEG', 'NEG', 'POS', 'POS', 'NEG', 'POS', 'POS', 'NEG', 'POS', 'POS', 'POS', 'NEG', 'POS', 'NEG', 'POS', 'POS', 'NEG', 'NEG', 'POS', 'NEG', 'POS', 'POS', 'POS', 'NEG', 'POS', 'NEG', 'NEG', 'POS', 'POS', 'NEG', 'POS', 'NEG', 'NEG', 'NEG', 'POS', 'POS', 'NEG', 'NEG', 'NEG', 'NEG', 'POS', 'NEG', 'NEG', 'POS', 'POS', 'NEG', 'POS', 'POS', 'POS', 'NEG', 'POS', 'NEG', 'POS', 'NEG', 'POS', 'NEG', 'POS', 'POS', 'POS', 'POS', 'NEG', 'POS', 'POS', 'POS', 'POS', 'NEG', 'POS', 'NEG', 'NEG', 'POS', 'POS', 'NEG', 'POS', 'NEG', 'POS', 'POS', 'NEG', 'POS', 'POS', 'POS', 'NEG', 'POS', 'NEG', 'POS', 'NEG', 'POS', 'NEG', 'NEG', 'POS', 'NEG', 'NEG', 'NEG', 'NEG', 'NEG', 'NEG', 'POS', 'NEG', 'POS', 'NEG', 'NEG', 'POS', 'POS', 'POS', 'NEG', 'POS', 'NEG', 'NEG', 'POS', 'NEG', 'NEG', 'NEG', 'NEG', 'NEG', 'POS', 'NEG', 'POS', 'POS', 'NEG', 'NEG', 'POS', 'POS', 'NEG', 'POS', 'NEG', 'POS', 'POS', 'NEG', 'NEG', 'NEG', 'POS', 'NEG', 'NEG', 'POS', 'NEG', 'NEG', 'NEG', 'NEG', 'NEG', 'POS', 'NEG', 'POS', 'POS', 'POS', 'NEG', 'NEG', 'NEG', 'NEG', 'NEG', 'POS', 'NEG', 'POS', 'NEG', 'NEG', 'NEG', 'NEG', 'POS', 'POS', 'NEG', 'NEG', 'POS', 'NEG', 'POS', 'POS', 'POS', 'POS', 'NEG', 'NEG', 'NEG', 'NEG', 'NEG', 'NEG', 'POS', 'POS', 'POS', 'NEG', 'NEG', 'POS', 'NEG', 'NEG', 'NEG', 'POS', 'NEG', 'POS', 'POS', 'POS', 'POS', 'NEG', 'POS', 'NEG', 'POS', 'NEG', 'NEG', 'POS', 'NEG', 'NEG', 'POS', 'NEG', 'POS', 'NEG', 'POS', 'POS', 'NEG', 'POS', 'POS', 'POS', 'POS', 'NEG', 'NEG', 'NEG', 'NEG', 'NEG', 'POS', 'POS', 'POS', 'POS', 'POS', 'POS', 'POS', 'POS', 'POS', 'POS', 'POS', 'NEG', 'POS', 'POS', 'NEG', 'NEG', 'POS', 'NEG', 'POS', 'NEG', 'NEG', 'NEG', 'NEG', 'NEG', 'NEG', 'POS', 'NEG', 'POS', 'NEG', 'POS', 'POS', 'NEG', 'POS', 'NEG', 'NEG', 'NEG', 'POS', 'POS', 'NEG', 'NEG', 'POS', 'POS', 'POS', 'POS', 'POS', 'POS', 'POS', 'NEG', 'NEG', 'POS', 'NEG', 'POS', 'POS', 'NEG', 'POS', 'POS', 'NEG', 'NEG', 'POS', 'NEG', 'POS', 'NEG', 'POS', 'POS', 'POS', 'NEG', 'POS', 'POS', 'POS', 'POS', 'POS', 'POS', 'NEG', 'POS', 'NEG', 'NEG', 'NEG', 'NEG', 'NEG', 'POS', 'NEG', 'NEG', 'POS', 'NEG', 'POS', 'POS', 'POS', 'NEG', 'POS', 'POS', 'POS', 'POS', 'POS', 'POS', 'NEG', 'POS', 'NEG', 'POS', 'POS', 'POS', 'NEG', 'NEG', 'POS', 'POS', 'POS', 'POS', 'POS', 'POS', 'POS', 'POS', 'POS', 'POS', 'NEG', 'NEG', 'POS', 'POS', 'POS', 'NEG', 'NEG', 'NEG', 'POS', 'POS', 'POS', 'POS', 'POS', 'POS', 'POS', 'POS', 'NEG', 'NEG', 'POS', 'NEG', 'NEG', 'NEG', 'NEG', 'NEG', 'POS', 'NEG', 'NEG', 'NEG', 'POS', 'POS', 'NEG', 'POS', 'POS', 'NEG', 'POS', 'POS', 'POS', 'POS', 'NEG', 'POS', 'POS', 'NEG', 'NEG', 'NEG', 'POS', 'NEG', 'NEG', 'NEG', 'NEG', 'POS', 'POS', 'POS', 'NEG', 'NEG', 'POS', 'POS', 'POS', 'POS', 'NEG', 'POS', 'POS', 'NEG', 'NEG', 'POS', 'POS', 'NEG', 'NEG', 'POS', 'POS', 'POS', 'NEG', 'NEG', 'NEG', 'NEG', 'NEG', 'NEG', 'POS', 'NEG', 'POS', 'NEG', 'POS', 'POS', 'NEG', 'NEG', 'POS', 'POS', 'NEG', 'NEG', 'NEG', 'NEG', 'POS', 'POS', 'POS', 'POS', 'NEG', 'NEG', 'NEG', 'NEG', 'POS', 'NEG', 'POS', 'NEG', 'POS', 'NEG', 'NEG', 'POS', 'NEG', 'POS', 'POS', 'NEG', 'POS', 'NEG', 'NEG', 'POS', 'NEG', 'POS', 'NEG', 'NEG', 'NEG', 'POS', 'POS', 'POS', 'NEG', 'POS', 'POS', 'POS', 'NEG', 'NEG', 'NEG', 'POS', 'POS', 'POS', 'POS', 'POS', 'POS', 'POS', 'POS', 'NEG', 'NEG', 'POS', 'POS', 'POS', 'NEG', 'POS', 'NEG', 'NEG', 'POS', 'NEG', 'POS', 'NEG', 'POS', 'POS', 'NEG', 'NEG', 'POS', 'NEG', 'NEG', 'POS', 'NEG', 'POS', 'NEG', 'POS', 'POS', 'NEG', 'POS', 'POS', 'NEG', 'NEG', 'POS', 'POS', 'POS', 'POS', 'NEG', 'POS', 'POS', 'NEG', 'NEG', 'NEG', 'NEG', 'NEG', 'POS', 'POS', 'POS', 'POS', 'POS', 'POS', 'POS', 'POS', 'NEG', 'NEG', 'NEG', 'POS', 'NEG', 'NEG', 'NEG', 'POS', 'POS', 'NEG', 'POS', 'NEG', 'POS', 'POS', 'POS', 'POS', 'NEG', 'NEG', 'NEG', 'POS', 'POS', 'POS', 'NEG', 'POS', 'POS', 'POS', 'POS', 'NEG', 'POS', 'POS', 'POS', 'POS', 'POS', 'NEG', 'NEG', 'NEG', 'NEG', 'POS', 'NEG', 'POS', 'POS', 'NEG', 'NEG', 'POS', 'NEG', 'POS', 'NEG', 'NEG', 'NEG', 'NEG', 'POS', 'NEG', 'NEG', 'POS', 'NEG', 'POS', 'POS', 'POS', 'POS', 'POS', 'POS', 'POS', 'NEG', 'NEG', 'NEG', 'NEG', 'POS', 'NEG', 'NEG', 'NEG', 'POS', 'POS', 'NEG', 'NEG', 'POS', 'NEG', 'POS', 'NEG', 'POS', 'POS', 'NEG', 'POS', 'POS', 'NEG', 'NEG', 'POS', 'POS', 'POS', 'NEG', 'NEG', 'POS', 'POS', 'POS', 'POS', 'POS', 'POS', 'NEG', 'POS', 'POS', 'NEG', 'POS', 'POS', 'POS', 'POS', 'POS', 'NEG', 'NEG', 'NEG', 'NEG', 'POS', 'POS', 'POS', 'POS', 'NEG', 'POS', 'NEG', 'NEG', 'POS', 'NEG', 'POS', 'NEG', 'POS', 'POS', 'NEG', 'NEG', 'POS', 'POS', 'NEG', 'POS', 'POS', 'POS', 'NEG', 'NEG', 'POS', 'NEG', 'NEG', 'NEG', 'POS', 'POS', 'NEG', 'POS', 'POS', 'POS', 'POS', 'POS', 'POS', 'POS', 'NEG', 'POS', 'POS', 'POS', 'POS', 'NEG', 'NEG', 'POS', 'POS', 'POS', 'NEG', 'NEG', 'NEG', 'POS', 'POS', 'POS', 'POS', 'NEG', 'NEG', 'NEG', 'NEG', 'NEG', 'NEG', 'POS', 'POS', 'NEG', 'NEG', 'NEG', 'POS', 'POS', 'POS', 'POS', 'NEG', 'POS', 'NEG', 'POS', 'NEG', 'POS', 'POS', 'NEG', 'NEG', 'NEG', 'POS', 'NEG', 'NEG', 'POS', 'NEG', 'NEG', 'POS', 'POS', 'POS', 'NEG', 'POS', 'POS', 'POS', 'NEG', 'NEG', 'POS', 'POS', 'POS', 'POS', 'POS', 'NEG', 'NEG', 'NEG', 'NEG', 'NEG', 'NEG', 'NEG', 'POS', 'NEG', 'POS', 'NEG', 'POS', 'POS', 'NEG', 'POS', 'NEG', 'NEG', 'POS', 'POS', 'POS', 'NEG', 'NEG', 'POS', 'NEG', 'POS', 'POS', 'NEG', 'POS', 'NEG', 'POS', 'POS', 'POS', 'NEG', 'NEG', 'POS', 'NEG', 'POS', 'POS', 'POS', 'NEG', 'NEG', 'POS', 'POS', 'POS', 'NEG', 'NEG', 'POS', 'NEG', 'POS', 'POS', 'NEG', 'NEG', 'NEG', 'NEG', 'POS', 'POS', 'POS', 'POS', 'NEG', 'NEG', 'POS', 'POS', 'NEG', 'NEG', 'NEG', 'POS', 'POS', 'POS', 'NEG', 'NEG', 'POS', 'NEG', 'NEG', 'POS', 'POS', 'POS', 'POS', 'POS', 'NEG', 'POS', 'POS', 'NEG', 'NEG', 'NEG', 'POS', 'POS', 'POS', 'NEG', 'NEG', 'POS', 'POS', 'POS', 'POS', 'NEG', 'POS', 'POS', 'NEG', 'POS', 'NEG', 'NEG', 'NEG', 'POS', 'POS', 'NEG', 'POS', 'POS', 'POS', 'NEG', 'NEG', 'NEG', 'NEG', 'POS', 'POS', 'NEG', 'POS', 'POS', 'POS', 'POS', 'POS', 'NEG', 'NEG', 'POS', 'NEG', 'NEG', 'POS', 'POS', 'NEG', 'POS', 'NEG', 'NEG', 'POS', 'NEG', 'NEG', 'POS', 'NEG', 'NEG', 'NEG', 'POS', 'POS', 'POS', 'NEG', 'NEG', 'POS', 'NEG', 'POS', 'NEG', 'NEG', 'POS', 'NEG', 'POS', 'NEG', 'NEG', 'NEG', 'POS', 'NEG', 'NEG', 'NEG', 'NEG', 'NEG', 'POS', 'POS', 'NEG', 'NEG', 'NEG', 'NEG', 'POS', 'POS', 'POS', 'POS', 'POS', 'NEG', 'NEG', 'NEG', 'NEG', 'NEG', 'POS', 'NEG', 'POS', 'NEG', 'NEG', 'POS', 'POS', 'NEG', 'POS', 'NEG', 'POS', 'POS', 'POS', 'POS', 'POS', 'NEG', 'NEG', 'NEG', 'NEG', 'NEG', 'NEG', 'NEG', 'NEG', 'POS', 'POS', 'POS', 'NEG', 'NEG', 'POS', 'POS', 'POS', 'POS', 'POS', 'NEG', 'POS', 'POS', 'POS', 'POS', 'POS', 'NEG', 'POS', 'POS', 'POS', 'NEG', 'NEG', 'POS', 'POS', 'NEG', 'NEG', 'POS', 'POS', 'POS', 'NEG', 'NEG', 'POS', 'POS', 'NEG', 'NEG', 'POS', 'POS', 'POS', 'NEG', 'POS', 'NEG', 'NEG', 'NEG', 'NEG', 'POS', 'POS', 'NEG', 'NEG', 'POS', 'POS', 'POS', 'NEG', 'POS', 'NEG', 'NEG', 'NEG', 'NEG', 'NEG', 'NEG', 'POS', 'NEG', 'POS', 'POS', 'POS', 'POS', 'POS', 'NEG', 'POS', 'NEG', 'POS', 'POS', 'POS', 'POS', 'NEG', 'POS', 'NEG', 'NEG', 'NEG', 'POS', 'POS', 'POS', 'POS', 'POS', 'POS', 'NEG', 'NEG', 'POS', 'POS', 'NEG', 'POS', 'POS', 'POS', 'NEG', 'POS', 'POS', 'NEG', 'POS', 'POS', 'POS', 'POS', 'NEG', 'POS', 'NEG', 'NEG', 'POS', 'POS', 'POS', 'NEG', 'POS', 'POS', 'POS', 'POS', 'NEG', 'NEG', 'POS', 'POS', 'POS', 'NEG', 'POS', 'POS', 'NEG', 'POS', 'POS', 'NEG', 'NEG', 'POS', 'POS', 'NEG', 'POS', 'NEG', 'NEG', 'POS', 'POS', 'POS', 'NEG', 'NEG', 'POS', 'POS', 'NEG', 'NEG', 'POS', 'POS', 'POS', 'POS', 'NEG', 'NEG', 'POS', 'NEG', 'POS', 'POS', 'NEG', 'POS', 'POS', 'POS', 'POS', 'POS', 'POS', 'NEG', 'NEG', 'NEG', 'POS', 'NEG', 'NEG', 'POS', 'POS', 'POS', 'NEG', 'NEG', 'NEG', 'POS', 'POS', 'POS', 'NEG', 'POS', 'POS', 'NEG', 'NEG', 'POS', 'POS', 'POS', 'NEG', 'POS', 'NEG', 'POS', 'POS', 'POS', 'POS', 'POS', 'POS', 'POS', 'NEG', 'POS', 'POS', 'POS', 'POS', 'NEG', 'POS', 'POS', 'NEG', 'NEG', 'POS', 'NEG', 'POS', 'POS', 'NEG', 'NEG', 'NEG', 'NEG', 'POS', 'POS', 'POS', 'POS', 'NEG', 'NEG', 'NEG', 'NEG', 'NEG', 'POS', 'NEG', 'POS', 'NEG', 'POS', 'POS', 'POS', 'POS', 'NEG', 'POS', 'POS', 'NEG', 'POS', 'NEG', 'POS', 'POS', 'NEG', 'POS', 'POS', 'POS', 'POS', 'NEG', 'NEG', 'NEG', 'POS', 'POS', 'POS', 'POS', 'POS', 'POS', 'POS', 'POS', 'POS', 'NEG', 'POS', 'POS', 'NEG', 'POS', 'NEG', 'POS', 'POS', 'POS', 'NEG', 'POS', 'POS', 'POS', 'POS', 'POS', 'POS', 'POS', 'NEG', 'POS', 'NEG', 'POS', 'POS', 'NEG', 'POS', 'POS', 'NEG', 'POS', 'NEG', 'POS', 'POS', 'POS', 'POS', 'NEG', 'POS', 'POS', 'NEG', 'NEG', 'POS', 'NEG', 'NEG', 'POS', 'NEG', 'POS', 'NEG', 'POS', 'POS', 'POS', 'NEG', 'NEG', 'NEG', 'POS', 'POS', 'NEG', 'NEG', 'POS', 'POS', 'POS', 'POS', 'NEG', 'POS', 'POS', 'NEG', 'POS', 'NEG', 'NEG', 'NEG', 'NEG', 'NEG', 'NEG', 'NEG', 'NEG', 'POS', 'POS', 'POS', 'NEG', 'POS', 'POS', 'POS', 'NEG', 'POS', 'POS', 'POS', 'POS', 'POS', 'POS', 'NEG', 'NEG', 'POS', 'NEG', 'POS', 'NEG', 'NEG', 'NEG', 'POS', 'POS', 'NEG', 'POS', 'POS', 'POS', 'POS', 'POS', 'NEG', 'POS', 'NEG', 'POS', 'POS', 'POS', 'POS', 'POS', 'POS', 'NEG', 'POS', 'POS', 'NEG', 'POS', 'POS', 'POS', 'NEG', 'NEG', 'NEG', 'POS', 'POS', 'POS', 'POS', 'NEG', 'NEG', 'NEG', 'POS', 'POS', 'POS', 'POS', 'NEG', 'NEG', 'POS', 'POS', 'POS', 'NEG', 'POS', 'POS', 'POS', 'NEG', 'NEG', 'POS', 'POS', 'POS', 'NEG', 'NEG', 'NEG', 'POS', 'NEG', 'POS', 'POS', 'POS', 'POS', 'POS', 'NEG', 'POS', 'POS', 'POS', 'POS', 'NEG', 'NEG', 'NEG', 'NEG', 'NEG', 'NEG', 'POS', 'NEG', 'POS', 'POS', 'POS', 'POS', 'POS', 'POS', 'POS', 'POS', 'NEG', 'NEG', 'POS', 'POS', 'NEG', 'NEG', 'NEG', 'POS', 'NEG', 'NEG', 'POS', 'POS', 'NEG', 'NEG', 'POS', 'POS', 'POS', 'POS', 'NEG', 'POS', 'NEG', 'POS', 'POS', 'POS', 'NEG', 'NEG', 'POS', 'POS', 'POS', 'NEG', 'POS', 'POS', 'POS', 'POS', 'NEG', 'POS', 'POS', 'NEG', 'POS', 'POS', 'POS', 'NEG', 'NEG', 'POS', 'POS', 'POS', 'POS', 'POS', 'POS', 'POS', 'NEG', 'POS', 'POS', 'NEG', 'POS', 'POS', 'NEG', 'NEG', 'NEG', 'NEG', 'NEG', 'POS', 'NEG', 'NEG', 'NEG', 'POS', 'POS', 'POS', 'POS', 'POS', 'NEG', 'NEG', 'NEG', 'POS', 'POS', 'POS', 'NEG', 'POS', 'NEG', 'POS', 'NEG', 'NEG', 'NEG', 'POS', 'POS', 'NEG', 'POS', 'POS', 'NEG', 'NEG', 'NEG', 'POS', 'POS', 'POS', 'NEG', 'NEG', 'POS', 'POS', 'POS', 'NEG', 'NEG', 'POS', 'NEG', 'POS', 'POS', 'POS', 'POS', 'NEG', 'POS', 'POS', 'POS', 'NEG', 'NEG', 'NEG', 'POS', 'POS', 'NEG', 'NEG', 'NEG', 'POS', 'POS', 'POS', 'POS', 'POS', 'POS', 'NEG', 'POS', 'POS', 'NEG', 'NEG', 'POS', 'NEG', 'POS', 'POS', 'POS', 'NEG', 'POS', 'NEG', 'NEG', 'NEG', 'NEG', 'NEG', 'POS', 'NEG', 'NEG', 'NEG', 'NEG', 'POS', 'POS', 'POS', 'POS', 'POS', 'POS', 'NEG', 'POS', 'POS', 'POS', 'POS', 'NEG', 'NEG', 'POS', 'NEG', 'NEG', 'POS', 'NEG', 'POS', 'NEG', 'NEG', 'POS', 'POS', 'NEG', 'POS', 'POS', 'NEG', 'POS', 'POS', 'POS', 'NEG', 'POS', 'NEG', 'POS', 'POS', 'NEG', 'POS', 'POS', 'NEG', 'POS', 'POS', 'POS', 'POS', 'POS', 'POS', 'POS', 'NEG', 'NEG', 'POS', 'POS', 'NEG', 'POS', 'POS', 'POS', 'POS', 'POS', 'POS', 'NEG', 'NEG', 'POS', 'POS', 'POS', 'NEG', 'NEG', 'POS', 'NEG', 'POS', 'NEG', 'NEG', 'NEG', 'POS', 'NEG', 'POS', 'POS', 'POS', 'NEG', 'POS', 'NEG', 'NEG', 'POS', 'NEG', 'POS', 'NEG', 'POS', 'POS', 'NEG', 'POS', 'NEG', 'POS', 'POS', 'POS', 'POS', 'POS', 'NEG', 'NEG', 'POS', 'POS', 'POS', 'NEG', 'NEG', 'NEG', 'POS', 'NEG', 'NEG', 'POS', 'POS', 'POS', 'NEG', 'POS', 'POS', 'POS', 'NEG', 'NEG', 'NEG', 'NEG', 'NEG', 'NEG', 'NEG', 'POS', 'POS', 'POS', 'NEG', 'NEG', 'POS', 'POS', 'POS', 'NEG', 'POS', 'NEG', 'POS', 'POS', 'NEG', 'POS', 'NEG', 'POS', 'NEG', 'NEG', 'NEG', 'POS', 'NEG', 'NEG', 'NEG', 'POS', 'POS', 'POS', 'POS', 'POS', 'NEG', 'POS', 'POS', 'NEG', 'NEG', 'POS', 'POS', 'POS', 'POS', 'NEG', 'POS', 'NEG', 'POS', 'NEG', 'POS', 'NEG', 'NEG', 'POS', 'NEG', 'NEG', 'POS', 'POS', 'POS', 'NEG', 'NEG', 'NEG', 'POS', 'NEG', 'POS', 'POS', 'POS', 'POS', 'POS', 'NEG', 'POS', 'NEG', 'NEG', 'NEG', 'POS', 'POS', 'POS', 'NEG', 'NEG', 'NEG', 'NEG', 'POS', 'POS', 'NEG', 'NEG', 'NEG', 'NEG', 'NEG', 'POS', 'NEG', 'NEG', 'POS', 'POS', 'POS', 'NEG', 'NEG', 'NEG', 'NEG', 'POS', 'POS', 'POS', 'NEG', 'POS', 'POS', 'POS', 'POS', 'POS', 'NEG', 'POS', 'POS', 'POS', 'NEG', 'POS', 'POS', 'POS', 'POS', 'POS', 'NEG', 'POS', 'POS', 'NEG', 'POS', 'POS', 'POS', 'POS', 'NEG', 'POS', 'POS', 'POS', 'NEG', 'POS', 'NEG', 'NEG', 'NEG', 'NEG', 'POS', 'NEG', 'POS', 'NEG', 'POS', 'POS', 'POS', 'NEG', 'NEG', 'POS', 'POS', 'NEG', 'NEG', 'POS', 'POS', 'POS', 'NEG', 'NEG', 'POS', 'NEG', 'NEG', 'POS', 'POS', 'POS', 'NEG', 'POS', 'POS', 'POS', 'NEG', 'NEG', 'POS', 'NEG', 'NEG', 'POS', 'POS', 'POS', 'POS', 'POS', 'POS', 'POS', 'POS', 'POS', 'POS', 'POS', 'POS', 'POS', 'NEG', 'POS', 'NEG', 'POS', 'NEG', 'NEG', 'NEG', 'NEG', 'NEG', 'POS', 'NEG', 'POS', 'POS', 'POS', 'NEG', 'NEG', 'POS', 'POS', 'POS', 'NEG', 'NEG', 'POS', 'POS', 'POS', 'NEG', 'POS', 'NEG', 'NEG', 'POS', 'POS', 'NEG', 'POS', 'POS', 'POS', 'POS', 'NEG', 'POS', 'POS', 'NEG', 'POS', 'POS', 'NEG', 'POS', 'POS', 'NEG', 'POS', 'POS', 'POS', 'POS', 'POS', 'POS', 'NEG', 'POS', 'NEG', 'NEG', 'NEG', 'NEG', 'NEG', 'POS', 'NEG', 'NEG', 'POS', 'NEG', 'POS', 'NEG', 'POS', 'POS', 'NEG', 'NEG', 'NEG', 'POS', 'POS', 'NEG', 'NEG', 'POS', 'NEG', 'NEG', 'POS', 'POS', 'NEG', 'POS', 'POS', 'NEG', 'NEG', 'POS', 'POS', 'NEG', 'POS', 'POS', 'POS', 'POS', 'POS', 'NEG', 'NEG', 'NEG', 'NEG', 'POS', 'POS', 'POS', 'NEG', 'POS', 'NEG', 'POS', 'POS', 'NEG', 'POS', 'POS', 'POS', 'POS', 'NEG', 'NEG', 'NEG', 'POS', 'POS', 'NEG', 'POS', 'POS', 'NEG', 'POS', 'POS', 'POS', 'POS', 'POS', 'POS', 'NEG', 'POS', 'NEG', 'POS', 'NEG', 'POS', 'POS', 'POS', 'NEG', 'NEG', 'POS', 'POS', 'POS', 'POS', 'POS', 'POS', 'POS', 'POS', 'POS', 'POS', 'POS', 'POS', 'NEG', 'NEG', 'POS', 'NEG', 'POS', 'POS', 'NEG', 'POS', 'NEG', 'NEG', 'POS', 'NEG', 'POS', 'POS', 'POS', 'NEG', 'NEG', 'NEG', 'POS', 'NEG', 'POS', 'NEG', 'NEG', 'POS', 'NEG', 'POS', 'NEG', 'POS', 'POS', 'NEG', 'POS', 'POS', 'NEG', 'POS', 'POS', 'POS', 'POS', 'POS', 'NEG', 'POS', 'POS', 'POS', 'NEG', 'POS', 'NEG', 'NEG', 'POS', 'NEG', 'NEG', 'POS', 'NEG', 'NEG', 'POS', 'NEG', 'NEG', 'NEG', 'POS', 'POS', 'POS', 'POS', 'POS', 'POS', 'POS', 'NEG', 'NEG', 'POS', 'NEG', 'NEG', 'POS', 'NEG', 'NEG', 'POS', 'POS', 'POS', 'NEG', 'NEG', 'NEG', 'NEG', 'POS', 'NEG', 'NEG', 'NEG', 'POS', 'NEG', 'NEG', 'POS', 'POS', 'NEG', 'NEG', 'POS', 'POS', 'NEG', 'NEG', 'POS', 'POS', 'NEG', 'POS', 'NEG', 'POS', 'POS', 'NEG', 'NEG', 'NEG', 'POS', 'POS', 'NEG', 'POS', 'NEG', 'NEG', 'NEG', 'POS', 'POS', 'NEG', 'POS', 'POS', 'POS', 'POS', 'POS', 'NEG', 'NEG', 'POS', 'NEG', 'POS', 'POS', 'POS', 'POS', 'NEG', 'POS', 'POS', 'POS', 'POS', 'NEG', 'POS', 'NEG', 'POS', 'NEG', 'POS', 'NEG', 'NEG', 'POS', 'NEG', 'POS', 'POS', 'NEG', 'POS', 'NEG', 'POS', 'NEG', 'POS', 'NEG', 'POS', 'NEG', 'POS', 'POS', 'POS', 'NEG', 'POS', 'POS', 'POS', 'NEG', 'NEG', 'POS', 'POS', 'NEG', 'NEG', 'POS', 'NEG', 'NEG', 'POS', 'POS', 'POS', 'POS', 'POS', 'POS', 'POS', 'NEG', 'POS', 'NEG', 'POS', 'NEG', 'NEG', 'POS', 'NEG', 'POS', 'POS', 'POS', 'NEG', 'POS', 'NEG', 'POS', 'NEG', 'POS', 'NEG', 'POS', 'POS', 'NEG', 'NEG', 'POS', 'NEG', 'POS', 'POS', 'POS', 'POS', 'NEG', 'NEG', 'POS', 'NEG', 'POS', 'POS', 'NEG', 'NEG', 'NEG', 'NEG', 'NEG', 'POS', 'NEG', 'POS', 'NEG', 'POS', 'POS', 'NEG', 'POS', 'POS', 'POS', 'POS', 'NEG', 'POS', 'POS', 'NEG', 'NEG', 'POS', 'POS', 'NEG', 'POS', 'POS', 'NEG', 'POS', 'POS', 'NEG', 'NEG', 'POS', 'POS', 'POS', 'POS', 'POS', 'NEG', 'POS', 'POS', 'NEG', 'POS', 'NEG', 'NEG', 'NEG', 'POS', 'POS', 'POS', 'NEG', 'POS', 'NEG', 'POS', 'POS', 'NEG', 'POS', 'POS', 'NEG', 'POS', 'NEG', 'POS', 'NEG', 'POS', 'NEG', 'POS', 'NEG', 'POS', 'POS', 'NEG', 'POS', 'NEG', 'POS', 'POS', 'NEG', 'NEG', 'POS', 'POS', 'POS', 'POS', 'POS', 'NEG', 'POS', 'NEG', 'NEG', 'POS', 'POS', 'POS', 'POS', 'POS', 'NEG', 'POS', 'NEG', 'POS', 'POS', 'NEG', 'POS', 'NEG', 'POS', 'POS', 'POS', 'NEG', 'POS', 'NEG', 'POS', 'POS', 'NEG', 'POS', 'NEG', 'NEG', 'POS', 'NEG', 'POS', 'POS', 'POS', 'NEG', 'NEG', 'POS', 'NEG', 'NEG', 'NEG', 'NEG', 'POS', 'POS', 'NEG', 'POS', 'POS', 'POS', 'POS', 'POS', 'NEG', 'NEG', 'POS', 'POS', 'NEG', 'POS', 'POS', 'POS', 'POS', 'POS', 'NEG', 'NEG', 'NEG', 'POS', 'NEG', 'NEG', 'NEG', 'POS', 'POS', 'POS', 'NEG', 'POS', 'NEG', 'NEG', 'POS', 'POS', 'POS', 'POS', 'POS', 'NEG', 'POS', 'NEG', 'POS', 'POS', 'POS', 'POS', 'NEG', 'NEG', 'NEG', 'POS', 'POS', 'POS', 'POS', 'POS', 'POS', 'POS', 'POS', 'NEG', 'POS', 'POS', 'NEG', 'POS', 'NEG', 'POS', 'POS', 'NEG', 'POS', 'NEG', 'POS', 'NEG', 'POS', 'POS', 'POS', 'NEG', 'NEG', 'POS', 'POS', 'POS', 'POS', 'NEG', 'NEG', 'POS', 'NEG', 'NEG', 'POS', 'NEG', 'NEG', 'NEG', 'POS', 'NEG', 'POS', 'POS', 'POS', 'POS', 'POS', 'NEG', 'POS', 'NEG', 'POS', 'NEG', 'NEG', 'NEG', 'POS', 'POS', 'NEG', 'POS', 'POS', 'NEG', 'POS', 'NEG', 'POS', 'POS', 'NEG', 'NEG', 'POS', 'POS', 'POS', 'NEG', 'NEG', 'POS', 'POS', 'NEG', 'POS', 'POS', 'POS', 'POS', 'POS', 'NEG', 'POS', 'NEG', 'NEG', 'POS', 'NEG', 'POS', 'NEG', 'NEG', 'NEG', 'POS', 'NEG', 'POS', 'POS', 'POS', 'POS', 'NEG', 'NEG', 'POS', 'POS', 'POS', 'POS', 'POS', 'NEG', 'NEG', 'NEG', 'POS', 'POS', 'NEG', 'POS', 'NEG', 'POS', 'NEG', 'POS', 'POS', 'NEG', 'NEG', 'NEG', 'NEG', 'POS', 'NEG', 'NEG', 'NEG', 'NEG', 'POS', 'POS', 'POS', 'POS', 'POS', 'POS', 'POS', 'NEG', 'NEG', 'POS', 'NEG', 'NEG', 'POS', 'POS', 'POS', 'NEG', 'NEG', 'POS', 'NEG', 'POS', 'POS', 'POS', 'POS', 'POS', 'POS', 'POS', 'POS', 'NEG', 'NEG', 'NEG', 'POS', 'POS', 'POS', 'POS', 'POS', 'NEG', 'NEG', 'NEG', 'NEG', 'NEG', 'POS', 'POS', 'POS', 'NEG', 'NEG', 'NEG', 'NEG', 'NEG', 'NEG', 'POS', 'POS', 'POS', 'NEG', 'POS', 'NEG', 'NEG', 'NEG', 'POS', 'POS', 'POS', 'POS', 'POS', 'NEG', 'POS', 'NEG', 'POS', 'NEG', 'NEG', 'POS', 'NEG', 'POS', 'NEG', 'NEG', 'POS', 'NEG', 'POS', 'POS', 'POS', 'POS', 'POS', 'NEG', 'POS', 'NEG', 'NEG', 'POS', 'POS', 'POS', 'POS', 'NEG', 'POS', 'POS', 'POS', 'POS', 'NEG', 'NEG', 'NEG', 'POS', 'POS', 'POS', 'POS', 'POS', 'NEG', 'NEG', 'POS', 'POS', 'POS', 'POS', 'POS', 'POS', 'POS', 'NEG', 'POS', 'POS', 'POS', 'NEG', 'NEG', 'NEG', 'NEG', 'POS', 'NEG', 'NEG', 'POS', 'POS', 'POS', 'NEG', 'POS', 'POS', 'POS', 'POS', 'NEG', 'POS', 'NEG', 'POS', 'POS', 'POS', 'POS', 'POS', 'NEG', 'NEG', 'NEG', 'POS', 'POS', 'NEG', 'POS', 'NEG', 'NEG', 'POS', 'POS', 'POS', 'POS', 'POS', 'NEG', 'NEG', 'NEG', 'POS', 'POS', 'NEG', 'NEG', 'POS', 'NEG', 'POS', 'POS', 'NEG', 'POS', 'POS', 'POS', 'POS', 'POS', 'NEG', 'POS', 'NEG', 'POS', 'POS', 'POS', 'NEG', 'NEG', 'NEG', 'POS', 'POS', 'POS', 'NEG', 'NEG', 'POS', 'POS', 'NEG', 'NEG', 'POS', 'NEG', 'POS', 'NEG', 'NEG', 'POS', 'POS', 'NEG', 'POS', 'POS', 'POS', 'POS', 'NEG', 'POS', 'NEG', 'POS', 'POS', 'NEG', 'NEG', 'POS', 'POS', 'POS', 'NEG', 'POS', 'POS', 'NEG', 'POS', 'POS', 'POS', 'POS', 'NEG', 'POS', 'POS', 'POS', 'POS', 'POS', 'NEG', 'NEG', 'POS', 'POS', 'NEG', 'NEG', 'POS', 'POS', 'NEG', 'POS', 'NEG', 'NEG', 'POS', 'POS', 'POS', 'POS', 'POS', 'POS', 'NEG', 'NEG', 'POS', 'POS', 'POS', 'POS', 'POS', 'NEG', 'POS', 'NEG', 'NEG', 'POS', 'NEG', 'NEG', 'POS', 'NEG', 'POS', 'POS', 'NEG', 'POS', 'POS', 'POS', 'NEG', 'POS', 'POS', 'NEG', 'POS', 'POS', 'POS', 'POS', 'NEG', 'POS', 'POS', 'POS', 'POS', 'POS', 'POS', 'POS', 'POS', 'NEG', 'POS', 'NEG', 'NEG', 'NEG', 'NEG', 'NEG', 'POS', 'POS', 'NEG', 'POS', 'POS', 'NEG', 'POS', 'NEG', 'POS', 'POS', 'NEG', 'NEG', 'POS', 'POS', 'POS', 'NEG', 'NEG', 'POS', 'POS', 'POS', 'NEG', 'NEG', 'POS', 'NEG', 'NEG', 'NEG', 'POS', 'NEG', 'POS', 'POS', 'NEG', 'POS', 'POS', 'POS', 'NEG', 'POS', 'POS', 'POS', 'POS', 'POS', 'POS', 'POS', 'NEG', 'NEG', 'POS', 'POS', 'POS', 'POS', 'POS', 'NEG', 'POS', 'NEG', 'POS', 'POS', 'POS', 'POS', 'NEG', 'POS', 'POS', 'POS', 'NEG', 'NEG', 'POS', 'POS', 'POS', 'NEG', 'POS', 'POS', 'NEG', 'POS', 'POS', 'NEG', 'NEG', 'NEG', 'POS', 'POS', 'NEG', 'NEG', 'NEG', 'POS', 'NEG', 'NEG', 'POS', 'NEG', 'NEG', 'POS', 'NEG', 'NEG', 'NEG', 'NEG', 'NEG', 'POS', 'NEG', 'NEG', 'POS', 'POS', 'POS', 'POS', 'POS', 'NEG', 'POS', 'NEG', 'POS', 'NEG', 'NEG', 'NEG', 'NEG', 'POS', 'POS', 'NEG', 'POS', 'POS', 'POS', 'POS', 'POS', 'POS', 'NEG', 'POS', 'NEG', 'POS', 'NEG', 'POS', 'NEG', 'POS', 'POS', 'NEG', 'NEG', 'POS', 'POS', 'NEG', 'POS', 'NEG', 'POS', 'POS', 'POS', 'POS', 'NEG', 'NEG', 'NEG', 'NEG', 'POS', 'POS', 'NEG', 'POS', 'NEG', 'POS', 'NEG', 'NEG', 'POS', 'NEG', 'POS', 'POS', 'POS', 'POS', 'NEG', 'NEG', 'POS', 'NEG', 'POS', 'NEG', 'NEG', 'POS', 'POS', 'POS', 'POS', 'POS', 'NEG', 'POS', 'NEG', 'POS', 'POS', 'NEG', 'POS', 'POS', 'NEG', 'NEG', 'POS', 'POS', 'POS', 'NEG', 'POS', 'POS', 'POS', 'NEG', 'NEG', 'NEG', 'POS', 'POS', 'POS', 'POS', 'POS', 'NEG', 'NEG', 'POS', 'NEG', 'POS', 'NEG', 'NEG', 'POS', 'POS', 'POS', 'POS', 'NEG', 'POS', 'NEG', 'NEG', 'NEG', 'NEG', 'NEG', 'NEG', 'NEG', 'POS', 'POS', 'POS', 'POS', 'NEG', 'NEG', 'NEG', 'NEG', 'POS', 'NEG', 'NEG', 'POS', 'POS', 'POS', 'POS', 'POS', 'NEG', 'NEG', 'POS', 'POS', 'NEG', 'POS', 'NEG', 'NEG', 'POS', 'POS', 'POS', 'NEG', 'NEG', 'POS', 'POS', 'POS', 'NEG', 'POS', 'POS', 'POS', 'POS', 'POS', 'NEG', 'NEG', 'NEG', 'POS', 'NEG', 'POS', 'NEG', 'POS', 'POS', 'NEG', 'NEG', 'NEG', 'POS', 'POS', 'POS', 'NEG', 'POS', 'POS', 'POS', 'POS', 'POS', 'POS', 'POS', 'NEG', 'POS', 'POS', 'POS', 'POS', 'POS', 'POS', 'POS', 'NEG', 'NEG', 'POS', 'POS', 'POS', 'POS', 'POS', 'POS', 'POS', 'NEG', 'NEG', 'NEG', 'NEG', 'POS', 'POS', 'NEG', 'POS', 'POS', 'NEG', 'POS', 'POS', 'POS', 'POS', 'NEG', 'NEG', 'NEG', 'NEG', 'NEG', 'NEG', 'NEG', 'NEG', 'POS', 'POS', 'NEG', 'POS', 'NEG', 'POS', 'POS', 'POS', 'NEG', 'NEG', 'POS', 'POS', 'POS', 'POS', 'POS', 'NEG', 'POS', 'POS', 'POS', 'NEG', 'POS', 'POS', 'POS', 'POS', 'POS', 'NEG', 'POS', 'NEG', 'NEG', 'NEG', 'POS', 'NEG', 'NEG', 'POS', 'POS', 'POS', 'NEG', 'NEG', 'NEG', 'NEG', 'POS', 'NEG', 'POS', 'NEG', 'NEG', 'NEG', 'NEG', 'NEG', 'POS', 'POS', 'NEG', 'POS', 'POS', 'POS', 'NEG', 'POS', 'POS', 'NEG', 'POS', 'NEG', 'POS', 'POS', 'POS', 'POS', 'NEG', 'POS', 'NEG', 'POS', 'POS', 'NEG', 'NEG', 'POS', 'NEG', 'POS', 'NEG', 'NEG', 'POS', 'POS', 'POS', 'POS', 'NEG', 'NEG', 'NEG', 'POS', 'NEG', 'POS', 'POS', 'NEG', 'NEG', 'POS', 'NEG', 'POS', 'NEG', 'POS', 'NEG', 'NEG', 'POS', 'POS', 'POS', 'POS', 'POS', 'POS', 'POS', 'POS', 'POS', 'NEG', 'POS', 'POS', 'POS', 'POS', 'POS', 'NEG', 'POS', 'POS', 'POS', 'NEG', 'POS', 'POS', 'NEG', 'NEG', 'NEG', 'POS', 'NEG', 'POS', 'POS', 'POS', 'POS', 'POS', 'NEG', 'POS', 'NEG', 'POS', 'NEG', 'NEG', 'POS', 'POS', 'NEG', 'NEG', 'POS', 'POS', 'NEG', 'NEG', 'NEG', 'POS', 'POS', 'POS', 'POS', 'POS', 'NEG', 'POS', 'NEG', 'POS', 'NEG', 'NEG', 'POS', 'POS', 'NEG', 'NEG', 'NEG', 'POS', 'NEG', 'POS', 'NEG', 'NEG', 'NEG', 'NEG', 'POS', 'NEG', 'POS', 'NEG', 'POS', 'POS', 'NEG', 'NEG', 'POS', 'POS', 'NEG', 'NEG', 'POS', 'POS', 'POS', 'POS', 'POS', 'POS', 'POS', 'POS', 'POS', 'POS', 'POS', 'NEG', 'POS', 'POS', 'NEG', 'NEG', 'NEG', 'POS', 'NEG', 'POS', 'NEG', 'NEG', 'POS', 'NEG', 'POS', 'POS', 'POS', 'NEG', 'NEG', 'POS', 'POS', 'POS', 'POS', 'NEG', 'POS', 'POS', 'NEG', 'POS', 'POS', 'POS', 'NEG', 'POS', 'POS', 'POS', 'NEG', 'NEG', 'POS', 'NEG', 'POS', 'NEG', 'NEG', 'NEG', 'NEG', 'NEG', 'NEG', 'NEG', 'POS', 'NEG', 'NEG', 'NEG', 'POS', 'POS', 'POS', 'POS', 'POS', 'NEG', 'NEG', 'NEG', 'NEG', 'POS', 'NEG', 'NEG', 'POS', 'POS', 'NEG', 'NEG', 'NEG', 'POS', 'POS', 'POS', 'POS', 'POS', 'POS', 'POS', 'NEG', 'POS', 'NEG', 'POS', 'NEG', 'POS', 'NEG', 'POS', 'NEG', 'POS', 'POS', 'NEG', 'POS', 'POS', 'POS', 'POS', 'NEG', 'NEG', 'POS', 'POS', 'POS', 'POS', 'POS', 'NEG', 'POS', 'POS', 'POS', 'POS', 'NEG', 'NEG', 'POS', 'POS', 'POS', 'NEG', 'POS', 'POS', 'NEG', 'NEG', 'NEG', 'NEG', 'NEG', 'NEG', 'NEG', 'NEG', 'POS', 'POS', 'POS', 'POS', 'POS', 'POS', 'NEG', 'POS', 'NEG', 'NEG', 'POS', 'POS', 'NEG', 'POS', 'NEG', 'POS', 'NEG', 'POS', 'POS', 'POS', 'POS', 'NEG', 'POS', 'NEG', 'NEG', 'POS', 'POS', 'POS', 'POS', 'NEG', 'POS', 'POS', 'POS', 'POS', 'NEG', 'NEG', 'NEG', 'NEG', 'NEG', 'NEG', 'POS', 'POS', 'NEG', 'NEG', 'POS', 'POS', 'NEG', 'NEG', 'POS', 'NEG', 'POS', 'POS', 'NEG', 'NEG', 'POS', 'POS', 'NEG', 'POS', 'NEG', 'NEG', 'NEG', 'NEG', 'POS', 'POS', 'NEG', 'POS', 'POS', 'NEG', 'NEG', 'NEG', 'POS', 'POS', 'POS', 'POS', 'NEG', 'POS', 'NEG', 'POS', 'POS', 'NEG', 'POS', 'NEG', 'NEG', 'NEG', 'NEG', 'NEG', 'NEG', 'POS', 'NEG', 'POS', 'POS', 'POS', 'POS', 'POS', 'NEG', 'POS', 'POS', 'POS', 'NEG', 'NEG', 'NEG', 'NEG', 'POS', 'POS', 'NEG', 'POS', 'NEG', 'POS', 'NEG', 'NEG', 'POS', 'POS', 'NEG', 'NEG', 'NEG', 'POS', 'POS', 'NEG', 'POS', 'POS', 'POS', 'POS', 'NEG', 'POS', 'POS', 'NEG', 'NEG', 'NEG', 'POS', 'POS', 'POS', 'POS', 'NEG', 'POS', 'NEG', 'NEG', 'POS', 'POS', 'NEG', 'POS', 'NEG', 'POS', 'NEG', 'POS', 'NEG', 'POS', 'NEG', 'NEG', 'NEG', 'POS', 'NEG', 'POS', 'NEG', 'POS', 'NEG', 'NEG', 'NEG', 'POS', 'POS', 'POS', 'POS', 'POS', 'NEG', 'POS', 'POS', 'NEG', 'POS', 'POS', 'POS', 'POS', 'POS', 'NEG', 'NEG', 'POS', 'NEG', 'NEG', 'NEG', 'NEG', 'POS', 'NEG', 'POS', 'NEG', 'POS', 'NEG', 'NEG', 'NEG', 'POS', 'POS', 'POS', 'POS', 'POS', 'NEG', 'POS', 'POS', 'NEG', 'NEG', 'NEG', 'NEG', 'POS', 'NEG', 'POS', 'POS', 'NEG', 'NEG', 'NEG', 'POS', 'NEG', 'NEG', 'POS', 'NEG', 'NEG', 'NEG', 'NEG', 'POS', 'POS', 'POS', 'POS', 'POS', 'NEG', 'NEG', 'NEG', 'POS', 'NEG', 'POS', 'POS', 'NEG', 'NEG', 'POS', 'NEG', 'POS', 'POS', 'NEG', 'POS', 'NEG', 'NEG', 'NEG', 'NEG', 'NEG', 'POS', 'NEG', 'POS', 'NEG', 'NEG', 'POS', 'POS', 'NEG', 'NEG', 'NEG', 'POS', 'NEG', 'NEG', 'POS', 'POS', 'NEG', 'POS', 'POS', 'POS', 'NEG', 'POS', 'NEG', 'NEG', 'NEG', 'NEG', 'POS', 'POS', 'NEG', 'POS', 'POS', 'POS', 'POS', 'POS', 'NEG', 'POS', 'POS', 'NEG', 'NEG', 'POS', 'POS', 'POS', 'NEG', 'POS', 'NEG', 'POS', 'POS', 'POS', 'POS', 'POS', 'NEG', 'NEG', 'POS', 'NEG', 'NEG', 'NEG', 'NEG', 'POS', 'NEG', 'POS', 'POS', 'POS', 'POS', 'NEG', 'NEG', 'POS', 'NEG', 'NEG', 'POS', 'POS', 'POS', 'POS', 'POS', 'NEG', 'NEG', 'NEG', 'NEG', 'POS', 'POS', 'POS', 'NEG', 'NEG', 'NEG', 'NEG', 'NEG', 'NEG', 'POS', 'NEG', 'POS', 'NEG', 'POS', 'POS', 'POS', 'NEG', 'NEG', 'NEG', 'NEG', 'POS', 'NEG', 'NEG', 'POS', 'POS', 'NEG', 'POS', 'POS', 'NEG', 'NEG', 'NEG', 'POS', 'POS', 'NEG', 'POS', 'POS', 'POS', 'NEG', 'POS', 'NEG', 'POS', 'NEG', 'NEG', 'NEG', 'NEG', 'POS', 'NEG', 'NEG', 'NEG', 'POS', 'POS', 'POS', 'NEG', 'POS', 'POS', 'POS', 'POS', 'POS', 'NEG', 'POS', 'POS', 'POS', 'POS', 'POS', 'NEG', 'POS', 'NEG', 'NEG', 'NEG', 'NEG', 'NEG', 'POS', 'NEG', 'NEG', 'POS', 'POS', 'NEG', 'POS', 'NEG', 'NEG', 'NEG', 'POS', 'NEG', 'NEG', 'POS', 'NEG', 'POS', 'NEG', 'POS', 'POS', 'POS', 'POS', 'POS', 'POS', 'NEG', 'NEG', 'NEG', 'POS', 'NEG', 'POS', 'POS', 'NEG', 'NEG', 'POS', 'NEG', 'NEG', 'NEG', 'NEG', 'POS', 'POS', 'POS', 'NEG', 'NEG', 'NEG', 'NEG', 'POS', 'POS', 'NEG', 'NEG', 'POS', 'POS', 'POS', 'NEG', 'POS', 'POS', 'POS', 'POS', 'NEG', 'NEG', 'POS', 'POS', 'POS', 'NEG', 'POS', 'POS', 'POS', 'NEG', 'NEG', 'POS', 'NEG', 'POS', 'NEG', 'POS', 'POS', 'NEG', 'POS', 'POS', 'NEG', 'NEG', 'POS', 'POS', 'NEG', 'POS', 'POS', 'NEG', 'NEG', 'POS', 'POS', 'NEG', 'POS', 'POS', 'POS', 'NEG', 'NEG', 'POS', 'POS', 'POS', 'NEG', 'POS', 'NEG', 'POS', 'POS', 'NEG', 'POS', 'NEG', 'POS', 'POS', 'POS', 'NEG', 'NEG', 'NEG', 'POS', 'POS', 'POS', 'POS', 'NEG', 'POS', 'NEG', 'NEG', 'POS', 'NEG', 'POS', 'NEG', 'NEG', 'NEG', 'POS', 'POS', 'NEG', 'POS', 'POS', 'NEG', 'NEG', 'POS', 'POS', 'POS', 'NEG', 'NEG', 'POS', 'POS', 'NEG', 'POS', 'POS', 'NEG', 'POS', 'NEG', 'NEG', 'POS', 'POS', 'POS', 'POS', 'POS', 'POS', 'POS', 'NEG', 'POS', 'POS', 'POS', 'NEG', 'NEG', 'POS', 'POS', 'POS', 'POS', 'NEG', 'POS']\n",
      "  (0, 11)\t1.0\n",
      "  (1, 23)\t1.0\n",
      "  (2, 106)\t0.7428929019850633\n",
      "  (2, 109)\t0.6694102898672915\n",
      "  (3, 2)\t0.7239435293019861\n",
      "  (3, 76)\t0.6898592366430882\n",
      "  (4, 2)\t1.0\n",
      "  (5, 31)\t0.2982719919140815\n",
      "  (5, 43)\t0.4804755452588008\n",
      "  (5, 55)\t0.45223598139307275\n",
      "  (5, 66)\t0.28560022079691116\n",
      "  (5, 75)\t0.4642206384827288\n",
      "  (5, 85)\t0.422600756114742\n",
      "  (6, 12)\t0.5206858612507507\n",
      "  (6, 45)\t0.5499883619434964\n",
      "  (6, 68)\t0.6529923702619148\n",
      "  (7, 48)\t0.6992970303575745\n",
      "  (7, 67)\t0.7148312131776825\n",
      "  (8, 8)\t0.455118718210807\n",
      "  (8, 27)\t0.6311070160237707\n",
      "  (8, 99)\t0.6281487774880439\n",
      "  (9, 91)\t1.0\n",
      "  (10, 88)\t1.0\n",
      "  (11, 0)\t0.28808685110947874\n",
      "  (11, 12)\t0.43042701326999433\n",
      "  :\t:\n",
      "  (4037, 13)\t0.2959040353298682\n",
      "  (4037, 40)\t0.3130354972151325\n",
      "  (4037, 76)\t0.9024686029767325\n",
      "  (4038, 82)\t0.6121514871379856\n",
      "  (4038, 94)\t0.48257108671196086\n",
      "  (4038, 111)\t0.6264149607603492\n",
      "  (4039, 4)\t0.48923613513309083\n",
      "  (4039, 16)\t0.4646537253727002\n",
      "  (4039, 31)\t0.32747666848727097\n",
      "  (4039, 34)\t0.4746402506099215\n",
      "  (4039, 84)\t0.4606740536157166\n",
      "  (4040, 49)\t1.0\n",
      "  (4041, 18)\t0.4906516125299063\n",
      "  (4041, 45)\t0.4181066710927187\n",
      "  (4041, 84)\t0.5609163357412443\n",
      "  (4041, 96)\t0.5194426542056239\n",
      "  (4042, 42)\t0.6007539702053972\n",
      "  (4042, 82)\t0.7994339668055472\n",
      "  (4043, 26)\t0.3762094669084868\n",
      "  (4043, 34)\t0.3848541072171672\n",
      "  (4043, 91)\t0.737857008728806\n",
      "  (4043, 100)\t0.4073337548451981\n",
      "  (4044, 45)\t0.509388381401191\n",
      "  (4044, 68)\t0.6047886638539758\n",
      "  (4044, 88)\t0.6121716662564493\n",
      "['NEG', 'POS', 'POS', 'POS', 'POS', 'POS', 'POS', 'POS', 'NEG', 'NEG', 'POS', 'NEG', 'POS', 'NEG', 'POS', 'NEG', 'NEG', 'POS', 'NEG', 'NEG', 'NEG', 'NEG', 'NEG', 'NEG', 'POS', 'POS', 'NEG', 'POS', 'POS', 'NEG', 'POS', 'POS', 'POS', 'NEG', 'POS', 'POS', 'NEG', 'POS', 'POS', 'POS', 'POS', 'POS', 'POS', 'NEG', 'POS', 'POS', 'POS', 'POS', 'NEG', 'POS', 'NEG', 'POS', 'NEG', 'POS', 'POS', 'NEG', 'NEG', 'NEG', 'POS', 'POS', 'POS', 'NEG', 'NEG', 'NEG', 'POS', 'POS', 'NEG', 'NEG', 'NEG', 'NEG', 'NEG', 'NEG', 'NEG', 'NEG', 'NEG', 'POS', 'NEG', 'POS', 'NEG', 'NEG', 'NEG', 'POS', 'NEG', 'POS', 'POS', 'NEG', 'POS', 'POS', 'POS', 'POS', 'NEG', 'POS', 'NEG', 'POS', 'POS', 'NEG', 'POS', 'POS', 'POS', 'POS', 'POS', 'POS', 'POS', 'POS', 'POS', 'POS', 'POS', 'NEG', 'NEG', 'POS', 'NEG', 'POS', 'POS', 'POS', 'NEG', 'POS', 'POS', 'POS', 'NEG', 'POS', 'NEG', 'NEG', 'POS', 'NEG', 'NEG', 'NEG', 'NEG', 'POS', 'POS', 'POS', 'NEG', 'NEG', 'POS', 'POS', 'POS', 'POS', 'POS', 'NEG', 'POS', 'POS', 'POS', 'POS', 'NEG', 'POS', 'NEG', 'POS', 'POS', 'POS', 'NEG', 'NEG', 'POS', 'NEG', 'POS', 'POS', 'NEG', 'NEG', 'NEG', 'POS', 'NEG', 'NEG', 'NEG', 'POS', 'POS', 'NEG', 'NEG', 'NEG', 'POS', 'NEG', 'NEG', 'NEG', 'NEG', 'NEG', 'NEG', 'NEG', 'POS', 'POS', 'POS', 'POS', 'POS', 'NEG', 'NEG', 'POS', 'NEG', 'NEG', 'NEG', 'NEG', 'POS', 'NEG', 'NEG', 'POS', 'POS', 'POS', 'POS', 'POS', 'NEG', 'POS', 'NEG', 'NEG', 'POS', 'POS', 'POS', 'NEG', 'NEG', 'NEG', 'POS', 'NEG', 'POS', 'NEG', 'POS', 'NEG', 'POS', 'NEG', 'NEG', 'NEG', 'POS', 'NEG', 'NEG', 'NEG', 'NEG', 'NEG', 'POS', 'NEG', 'POS', 'POS', 'NEG', 'NEG', 'POS', 'NEG', 'POS', 'POS', 'NEG', 'POS', 'POS', 'POS', 'NEG', 'NEG', 'NEG', 'NEG', 'POS', 'NEG', 'POS', 'POS', 'NEG', 'POS', 'POS', 'POS', 'NEG', 'POS', 'NEG', 'NEG', 'POS', 'POS', 'POS', 'POS', 'POS', 'NEG', 'POS', 'POS', 'POS', 'POS', 'NEG', 'NEG', 'POS', 'NEG', 'NEG', 'POS', 'POS', 'POS', 'NEG', 'NEG', 'NEG', 'POS', 'NEG', 'NEG', 'POS', 'POS', 'POS', 'POS', 'POS', 'NEG', 'POS', 'POS', 'NEG', 'NEG', 'NEG', 'POS', 'NEG', 'POS', 'NEG', 'NEG', 'NEG', 'POS', 'NEG', 'POS', 'NEG', 'POS', 'NEG', 'NEG', 'NEG', 'NEG', 'POS', 'NEG', 'NEG', 'POS', 'POS', 'NEG', 'NEG', 'POS', 'POS', 'NEG', 'POS', 'POS', 'NEG', 'POS', 'POS', 'POS', 'POS', 'NEG', 'POS', 'POS', 'NEG', 'NEG', 'NEG', 'NEG', 'POS', 'POS', 'NEG', 'NEG', 'NEG', 'NEG', 'NEG', 'NEG', 'POS', 'NEG', 'NEG', 'NEG', 'POS', 'POS', 'NEG', 'POS', 'NEG', 'NEG', 'NEG', 'POS', 'NEG', 'POS', 'POS', 'POS', 'NEG', 'NEG', 'NEG', 'NEG', 'NEG', 'POS', 'POS', 'POS', 'POS', 'NEG', 'NEG', 'NEG', 'NEG', 'POS', 'POS', 'NEG', 'POS', 'POS', 'POS', 'POS', 'NEG', 'NEG', 'POS', 'POS', 'POS', 'POS', 'NEG', 'NEG', 'NEG', 'POS', 'POS', 'NEG', 'NEG', 'POS', 'POS', 'POS', 'POS', 'NEG', 'NEG', 'POS', 'POS', 'NEG', 'NEG', 'POS', 'POS', 'NEG', 'POS', 'NEG', 'NEG', 'POS', 'NEG', 'POS', 'POS', 'POS', 'NEG', 'NEG', 'NEG', 'NEG', 'NEG', 'NEG', 'POS', 'NEG', 'POS', 'POS', 'POS', 'POS', 'POS', 'NEG', 'NEG', 'POS', 'POS', 'POS', 'NEG', 'POS', 'POS', 'NEG', 'POS', 'NEG', 'NEG', 'POS', 'NEG', 'NEG', 'POS', 'NEG', 'NEG', 'POS', 'NEG', 'NEG', 'NEG', 'NEG', 'NEG', 'POS', 'POS', 'NEG', 'NEG', 'NEG', 'NEG', 'NEG', 'NEG', 'NEG', 'NEG', 'NEG', 'POS', 'POS', 'POS', 'POS', 'NEG', 'NEG', 'NEG', 'NEG', 'POS', 'POS', 'NEG', 'NEG', 'POS', 'POS', 'POS', 'NEG', 'POS', 'NEG', 'POS', 'NEG', 'NEG', 'POS', 'NEG', 'POS', 'NEG', 'NEG', 'NEG', 'NEG', 'NEG', 'NEG', 'NEG', 'POS', 'POS', 'NEG', 'POS', 'POS', 'POS', 'NEG', 'NEG', 'POS', 'POS', 'POS', 'POS', 'POS', 'POS', 'POS', 'POS', 'NEG', 'NEG', 'POS', 'NEG', 'POS', 'POS', 'NEG', 'NEG', 'POS', 'POS', 'NEG', 'POS', 'NEG', 'NEG', 'NEG', 'NEG', 'NEG', 'POS', 'NEG', 'POS', 'POS', 'NEG', 'NEG', 'POS', 'POS', 'POS', 'POS', 'POS', 'NEG', 'POS', 'POS', 'POS', 'POS', 'NEG', 'POS', 'NEG', 'NEG', 'POS', 'NEG', 'NEG', 'NEG', 'POS', 'POS', 'POS', 'POS', 'POS', 'POS', 'POS', 'POS', 'POS', 'NEG', 'POS', 'NEG', 'POS', 'NEG', 'NEG', 'POS', 'POS', 'POS', 'POS', 'NEG', 'POS', 'NEG', 'POS', 'NEG', 'NEG', 'NEG', 'POS', 'POS', 'NEG', 'POS', 'NEG', 'POS', 'POS', 'POS', 'POS', 'NEG', 'NEG', 'NEG', 'POS', 'POS', 'POS', 'POS', 'POS', 'NEG', 'POS', 'NEG', 'POS', 'POS', 'POS', 'NEG', 'POS', 'NEG', 'NEG', 'NEG', 'NEG', 'NEG', 'NEG', 'POS', 'POS', 'POS', 'NEG', 'NEG', 'POS', 'NEG', 'NEG', 'POS', 'NEG', 'POS', 'POS', 'NEG', 'NEG', 'NEG', 'NEG', 'NEG', 'NEG', 'NEG', 'NEG', 'NEG', 'NEG', 'POS', 'POS', 'POS', 'NEG', 'NEG', 'POS', 'NEG', 'POS', 'NEG', 'POS', 'POS', 'POS', 'NEG', 'NEG', 'NEG', 'NEG', 'NEG', 'NEG', 'POS', 'NEG', 'NEG', 'NEG', 'POS', 'NEG', 'NEG', 'NEG', 'POS', 'POS', 'NEG', 'POS', 'POS', 'NEG', 'POS', 'POS', 'POS', 'POS', 'POS', 'POS', 'NEG', 'POS', 'POS', 'POS', 'POS', 'POS', 'NEG', 'NEG', 'POS', 'NEG', 'NEG', 'NEG', 'NEG', 'NEG', 'POS', 'NEG', 'NEG', 'NEG', 'NEG', 'POS', 'NEG', 'NEG', 'POS', 'POS', 'POS', 'NEG', 'POS', 'NEG', 'NEG', 'POS', 'NEG', 'POS', 'NEG', 'POS', 'NEG', 'NEG', 'NEG', 'NEG', 'POS', 'POS', 'NEG', 'NEG', 'NEG', 'NEG', 'NEG', 'NEG', 'NEG', 'POS', 'POS', 'NEG', 'NEG', 'POS', 'NEG', 'NEG', 'NEG', 'POS', 'POS', 'POS', 'POS', 'NEG', 'POS', 'POS', 'NEG', 'NEG', 'POS', 'NEG', 'POS', 'NEG', 'NEG', 'POS', 'POS', 'NEG', 'NEG', 'POS', 'POS', 'NEG', 'POS', 'NEG', 'NEG', 'NEG', 'NEG', 'POS', 'POS', 'POS', 'NEG', 'POS', 'NEG', 'NEG', 'NEG', 'NEG', 'NEG', 'POS', 'NEG', 'POS', 'NEG', 'NEG', 'POS', 'POS', 'POS', 'NEG', 'POS', 'POS', 'POS', 'NEG', 'NEG', 'POS', 'NEG', 'POS', 'POS', 'NEG', 'POS', 'POS', 'POS', 'NEG', 'NEG', 'POS', 'NEG', 'POS', 'NEG', 'POS', 'POS', 'NEG', 'NEG', 'NEG', 'POS', 'NEG', 'POS', 'POS', 'POS', 'POS', 'NEG', 'NEG', 'NEG', 'POS', 'POS', 'POS', 'POS', 'POS', 'NEG', 'NEG', 'NEG', 'POS', 'NEG', 'NEG', 'NEG', 'POS', 'NEG', 'NEG', 'POS', 'NEG', 'NEG', 'POS', 'POS', 'NEG', 'NEG', 'NEG', 'POS', 'NEG', 'POS', 'NEG', 'POS', 'NEG', 'NEG', 'NEG', 'POS', 'NEG', 'POS', 'POS', 'POS', 'POS', 'POS', 'POS', 'POS', 'POS', 'POS', 'NEG', 'POS', 'POS', 'NEG', 'NEG', 'NEG', 'NEG', 'NEG', 'NEG', 'NEG', 'NEG', 'NEG', 'NEG', 'POS', 'NEG', 'POS', 'NEG', 'POS', 'NEG', 'NEG', 'NEG', 'NEG', 'NEG', 'POS', 'POS', 'POS', 'POS', 'POS', 'NEG', 'NEG', 'NEG', 'POS', 'POS', 'NEG', 'POS', 'NEG', 'NEG', 'NEG', 'NEG', 'NEG', 'POS', 'POS', 'POS', 'POS', 'NEG', 'POS', 'NEG', 'POS', 'POS', 'NEG', 'POS', 'POS', 'NEG', 'POS', 'NEG', 'NEG', 'POS', 'NEG', 'POS', 'POS', 'POS', 'NEG', 'NEG', 'POS', 'NEG', 'NEG', 'POS', 'POS', 'POS', 'POS', 'NEG', 'NEG', 'NEG', 'POS', 'NEG', 'NEG', 'NEG', 'POS', 'POS', 'NEG', 'NEG', 'POS', 'POS', 'POS', 'POS', 'POS', 'NEG', 'POS', 'NEG', 'NEG', 'NEG', 'POS', 'POS', 'NEG', 'POS', 'POS', 'POS', 'NEG', 'POS', 'NEG', 'NEG', 'POS', 'POS', 'NEG', 'NEG', 'POS', 'NEG', 'POS', 'NEG', 'NEG', 'NEG', 'NEG', 'POS', 'NEG', 'POS', 'NEG', 'POS', 'NEG', 'POS', 'POS', 'POS', 'POS', 'POS', 'NEG', 'POS', 'NEG', 'POS', 'NEG', 'NEG', 'POS', 'NEG', 'POS', 'POS', 'POS', 'POS', 'NEG', 'NEG', 'POS', 'NEG', 'POS', 'NEG', 'NEG', 'NEG', 'NEG', 'NEG', 'NEG', 'POS', 'NEG', 'POS', 'POS', 'NEG', 'POS', 'POS', 'POS', 'NEG', 'NEG', 'NEG', 'NEG', 'NEG', 'POS', 'POS', 'POS', 'POS', 'POS', 'NEG', 'NEG', 'NEG', 'POS', 'POS', 'NEG', 'NEG', 'POS', 'POS', 'POS', 'NEG', 'POS', 'POS', 'NEG', 'POS', 'POS', 'NEG', 'POS', 'POS', 'POS', 'POS', 'POS', 'NEG', 'POS', 'POS', 'POS', 'NEG', 'POS', 'NEG', 'NEG', 'POS', 'POS', 'NEG', 'POS', 'NEG', 'NEG', 'NEG', 'POS', 'NEG', 'POS', 'NEG', 'POS', 'NEG', 'POS', 'NEG', 'POS', 'NEG', 'NEG', 'NEG', 'POS', 'POS', 'NEG', 'POS', 'POS', 'NEG', 'NEG', 'NEG', 'POS', 'NEG', 'NEG', 'POS', 'POS', 'NEG', 'POS', 'POS', 'NEG', 'POS', 'NEG', 'POS', 'POS', 'POS', 'NEG', 'POS', 'POS', 'POS', 'POS', 'POS', 'NEG', 'NEG', 'POS', 'POS', 'POS', 'POS', 'POS', 'NEG', 'NEG', 'POS', 'NEG', 'POS', 'NEG', 'POS', 'POS', 'NEG', 'NEG', 'NEG', 'POS', 'POS', 'POS', 'NEG', 'NEG', 'NEG', 'NEG', 'NEG', 'POS', 'NEG', 'NEG', 'NEG', 'POS', 'POS', 'NEG', 'NEG', 'NEG', 'POS', 'POS', 'NEG', 'POS', 'NEG', 'POS', 'NEG', 'POS', 'NEG', 'NEG', 'NEG', 'POS', 'POS', 'NEG', 'POS', 'NEG', 'POS', 'NEG', 'NEG', 'NEG', 'POS', 'POS', 'POS', 'NEG', 'POS', 'NEG', 'NEG', 'NEG', 'NEG', 'POS', 'NEG', 'POS', 'NEG', 'NEG', 'NEG', 'POS', 'POS', 'POS', 'NEG', 'POS', 'POS', 'NEG', 'NEG', 'POS', 'NEG', 'NEG', 'POS', 'NEG', 'POS', 'NEG', 'NEG', 'POS', 'NEG', 'NEG', 'POS', 'POS', 'POS', 'NEG', 'POS', 'NEG', 'POS', 'NEG', 'POS', 'POS', 'POS', 'POS', 'POS', 'POS', 'NEG', 'NEG', 'POS', 'NEG', 'NEG', 'NEG', 'POS', 'NEG', 'POS', 'NEG', 'POS', 'NEG', 'POS', 'NEG', 'POS', 'POS', 'NEG', 'POS', 'POS', 'POS', 'NEG', 'POS', 'POS', 'POS', 'POS', 'NEG', 'NEG', 'NEG', 'POS', 'NEG', 'NEG', 'POS', 'POS', 'POS', 'POS', 'POS', 'POS', 'POS', 'POS', 'POS', 'NEG', 'POS', 'NEG', 'POS', 'POS', 'POS', 'POS', 'POS', 'NEG', 'NEG', 'POS', 'POS', 'POS', 'NEG', 'POS', 'NEG', 'NEG', 'NEG', 'POS', 'POS', 'NEG', 'NEG', 'NEG', 'POS', 'NEG', 'POS', 'NEG', 'POS', 'POS', 'POS', 'NEG', 'NEG', 'POS', 'POS', 'NEG', 'NEG', 'NEG', 'NEG', 'POS', 'POS', 'POS', 'POS', 'POS', 'NEG', 'POS', 'NEG', 'POS', 'NEG', 'POS', 'NEG', 'POS', 'NEG', 'NEG', 'NEG', 'NEG', 'POS', 'NEG', 'NEG', 'NEG', 'NEG', 'POS', 'NEG', 'POS', 'NEG', 'NEG', 'NEG', 'NEG', 'NEG', 'POS', 'POS', 'POS', 'NEG', 'POS', 'NEG', 'POS', 'NEG', 'POS', 'NEG', 'POS', 'POS', 'NEG', 'NEG', 'NEG', 'POS', 'NEG', 'POS', 'NEG', 'POS', 'NEG', 'POS', 'POS', 'NEG', 'POS', 'NEG', 'POS', 'NEG', 'POS', 'POS', 'NEG', 'NEG', 'NEG', 'NEG', 'NEG', 'NEG', 'POS', 'POS', 'NEG', 'POS', 'POS', 'POS', 'POS', 'NEG', 'POS', 'POS', 'POS', 'NEG', 'POS', 'NEG', 'NEG', 'POS', 'NEG', 'NEG', 'POS', 'POS', 'POS', 'POS', 'POS', 'NEG', 'POS', 'NEG', 'POS', 'NEG', 'POS', 'NEG', 'NEG', 'POS', 'NEG', 'POS', 'POS', 'NEG', 'POS', 'NEG', 'POS', 'POS', 'POS', 'POS', 'NEG', 'POS', 'POS', 'NEG', 'NEG', 'POS', 'POS', 'NEG', 'POS', 'POS', 'POS', 'POS', 'POS', 'POS', 'NEG', 'NEG', 'POS', 'NEG', 'POS', 'POS', 'NEG', 'POS', 'POS', 'POS', 'POS', 'POS', 'POS', 'NEG', 'POS', 'NEG', 'POS', 'NEG', 'NEG', 'POS', 'POS', 'NEG', 'NEG', 'POS', 'NEG', 'POS', 'NEG', 'POS', 'POS', 'POS', 'NEG', 'NEG', 'POS', 'POS', 'NEG', 'NEG', 'POS', 'POS', 'POS', 'NEG', 'POS', 'POS', 'POS', 'POS', 'POS', 'NEG', 'NEG', 'POS', 'POS', 'NEG', 'POS', 'NEG', 'NEG', 'POS', 'NEG', 'NEG', 'POS', 'POS', 'POS', 'NEG', 'NEG', 'POS', 'POS', 'NEG', 'NEG', 'NEG', 'POS', 'POS', 'POS', 'NEG', 'NEG', 'NEG', 'POS', 'NEG', 'POS', 'POS', 'NEG', 'NEG', 'POS', 'NEG', 'POS', 'POS', 'NEG', 'POS', 'NEG', 'NEG', 'NEG', 'NEG', 'POS', 'POS', 'NEG', 'NEG', 'POS', 'POS', 'NEG', 'NEG', 'NEG', 'POS', 'POS', 'NEG', 'NEG', 'NEG', 'POS', 'NEG', 'NEG', 'POS', 'POS', 'NEG', 'POS', 'POS', 'POS', 'POS', 'POS', 'POS', 'NEG', 'POS', 'NEG', 'POS', 'POS', 'NEG', 'NEG', 'POS', 'POS', 'POS', 'POS', 'POS', 'NEG', 'POS', 'POS', 'NEG', 'NEG', 'NEG', 'NEG', 'NEG', 'NEG', 'POS', 'NEG', 'NEG', 'NEG', 'NEG', 'POS', 'NEG', 'NEG', 'POS', 'NEG', 'NEG', 'NEG', 'NEG', 'NEG', 'POS', 'POS', 'POS', 'POS', 'POS', 'POS', 'NEG', 'NEG', 'POS', 'NEG', 'POS', 'POS', 'POS', 'POS', 'NEG', 'NEG', 'POS', 'NEG', 'NEG', 'NEG', 'POS', 'POS', 'NEG', 'POS', 'POS', 'NEG', 'POS', 'NEG', 'NEG', 'NEG', 'NEG', 'POS', 'POS', 'NEG', 'NEG', 'POS', 'POS', 'POS', 'NEG', 'NEG', 'NEG', 'POS', 'NEG', 'POS', 'NEG', 'POS', 'POS', 'POS', 'NEG', 'POS', 'NEG', 'POS', 'NEG', 'NEG', 'POS', 'NEG', 'POS', 'POS', 'NEG', 'POS', 'POS', 'NEG', 'NEG', 'POS', 'POS', 'POS', 'NEG', 'NEG', 'NEG', 'POS', 'POS', 'NEG', 'POS', 'POS', 'NEG', 'POS', 'NEG', 'NEG', 'POS', 'NEG', 'POS', 'POS', 'NEG', 'POS', 'POS', 'NEG', 'NEG', 'POS', 'POS', 'POS', 'NEG', 'POS', 'POS', 'NEG', 'NEG', 'NEG', 'NEG', 'NEG', 'POS', 'POS', 'NEG', 'NEG', 'NEG', 'NEG', 'NEG', 'POS', 'NEG', 'NEG', 'NEG', 'NEG', 'POS', 'POS', 'POS', 'NEG', 'NEG', 'POS', 'POS', 'NEG', 'POS', 'NEG', 'POS', 'NEG', 'NEG', 'NEG', 'POS', 'POS', 'NEG', 'POS', 'NEG', 'POS', 'NEG', 'POS', 'POS', 'POS', 'POS', 'POS', 'NEG', 'POS', 'POS', 'NEG', 'NEG', 'POS', 'POS', 'NEG', 'POS', 'NEG', 'POS', 'NEG', 'NEG', 'NEG', 'NEG', 'POS', 'POS', 'NEG', 'POS', 'POS', 'POS', 'POS', 'POS', 'POS', 'NEG', 'POS', 'POS', 'POS', 'NEG', 'POS', 'NEG', 'NEG', 'NEG', 'NEG', 'POS', 'NEG', 'POS', 'NEG', 'POS', 'POS', 'POS', 'POS', 'POS', 'POS', 'POS', 'NEG', 'POS', 'POS', 'NEG', 'POS', 'NEG', 'NEG', 'NEG', 'POS', 'NEG', 'POS', 'POS', 'POS', 'POS', 'NEG', 'NEG', 'NEG', 'NEG', 'NEG', 'NEG', 'NEG', 'NEG', 'NEG', 'NEG', 'POS', 'NEG', 'NEG', 'POS', 'NEG', 'NEG', 'POS', 'NEG', 'NEG', 'POS', 'POS', 'POS', 'NEG', 'POS', 'POS', 'NEG', 'NEG', 'POS', 'POS', 'NEG', 'NEG', 'POS', 'NEG', 'POS', 'NEG', 'NEG', 'NEG', 'NEG', 'NEG', 'POS', 'NEG', 'NEG', 'POS', 'NEG', 'NEG', 'POS', 'NEG', 'POS', 'POS', 'POS', 'NEG', 'POS', 'POS', 'POS', 'POS', 'POS', 'NEG', 'POS', 'POS', 'NEG', 'POS', 'POS', 'POS', 'POS', 'NEG', 'NEG', 'POS', 'POS', 'POS', 'NEG', 'NEG', 'NEG', 'POS', 'NEG', 'NEG', 'POS', 'POS', 'POS', 'NEG', 'POS', 'POS', 'POS', 'POS', 'NEG', 'NEG', 'POS', 'POS', 'NEG', 'NEG', 'POS', 'POS', 'NEG', 'POS', 'NEG', 'NEG', 'POS', 'NEG', 'POS', 'POS', 'POS', 'NEG', 'NEG', 'NEG', 'POS', 'NEG', 'NEG', 'POS', 'NEG', 'NEG', 'POS', 'POS', 'NEG', 'POS', 'POS', 'POS', 'POS', 'NEG', 'POS', 'POS', 'POS', 'POS', 'NEG', 'POS', 'POS', 'POS', 'NEG', 'POS', 'POS', 'POS', 'POS', 'POS', 'POS', 'NEG', 'NEG', 'POS', 'POS', 'POS', 'NEG', 'POS', 'NEG', 'NEG', 'POS', 'NEG', 'POS', 'NEG', 'POS', 'POS', 'NEG', 'POS', 'POS', 'POS', 'NEG', 'NEG', 'NEG', 'NEG', 'POS', 'POS', 'POS', 'NEG', 'NEG', 'POS', 'POS', 'POS', 'NEG', 'NEG', 'NEG', 'POS', 'POS', 'NEG', 'NEG', 'NEG', 'NEG', 'NEG', 'POS', 'NEG', 'POS', 'NEG', 'POS', 'NEG', 'POS', 'POS', 'NEG', 'NEG', 'POS', 'NEG', 'NEG', 'POS', 'NEG', 'POS', 'NEG', 'NEG', 'POS', 'POS', 'POS', 'NEG', 'POS', 'POS', 'POS', 'POS', 'NEG', 'POS', 'NEG', 'NEG', 'NEG', 'NEG', 'POS', 'POS', 'NEG', 'NEG', 'POS', 'POS', 'POS', 'POS', 'NEG', 'NEG', 'NEG', 'NEG', 'POS', 'NEG', 'POS', 'NEG', 'POS', 'POS', 'NEG', 'POS', 'POS', 'POS', 'POS', 'POS', 'POS', 'POS', 'POS', 'POS', 'POS', 'POS', 'POS', 'POS', 'POS', 'POS', 'POS', 'POS', 'NEG', 'POS', 'POS', 'NEG', 'POS', 'NEG', 'NEG', 'NEG', 'POS', 'NEG', 'NEG', 'POS', 'NEG', 'NEG', 'POS', 'POS', 'POS', 'NEG', 'NEG', 'NEG', 'POS', 'POS', 'NEG', 'NEG', 'NEG', 'POS', 'POS', 'POS', 'POS', 'POS', 'POS', 'NEG', 'NEG', 'NEG', 'NEG', 'POS', 'POS', 'NEG', 'NEG', 'POS', 'POS', 'POS', 'NEG', 'NEG', 'POS', 'POS', 'POS', 'POS', 'POS', 'POS', 'POS', 'NEG', 'POS', 'NEG', 'NEG', 'POS', 'POS', 'NEG', 'POS', 'POS', 'POS', 'POS', 'POS', 'NEG', 'POS', 'NEG', 'NEG', 'NEG', 'POS', 'POS', 'POS', 'NEG', 'NEG', 'NEG', 'POS', 'POS', 'NEG', 'POS', 'POS', 'POS', 'POS', 'NEG', 'NEG', 'POS', 'NEG', 'NEG', 'POS', 'POS', 'POS', 'NEG', 'POS', 'POS', 'NEG', 'NEG', 'POS', 'NEG', 'POS', 'NEG', 'POS', 'POS', 'POS', 'POS', 'NEG', 'NEG', 'POS', 'POS', 'POS', 'POS', 'NEG', 'POS', 'POS', 'NEG', 'NEG', 'NEG', 'NEG', 'POS', 'POS', 'POS', 'POS', 'POS', 'POS', 'POS', 'POS', 'POS', 'POS', 'POS', 'POS', 'POS', 'POS', 'NEG', 'POS', 'POS', 'POS', 'POS', 'POS', 'POS', 'NEG', 'POS', 'NEG', 'NEG', 'NEG', 'POS', 'POS', 'POS', 'POS', 'NEG', 'NEG', 'POS', 'POS', 'NEG', 'POS', 'POS', 'POS', 'POS', 'POS', 'NEG', 'NEG', 'NEG', 'NEG', 'NEG', 'POS', 'NEG', 'POS', 'POS', 'POS', 'NEG', 'POS', 'NEG', 'POS', 'NEG', 'POS', 'POS', 'POS', 'NEG', 'POS', 'NEG', 'POS', 'NEG', 'NEG', 'NEG', 'POS', 'NEG', 'POS', 'POS', 'POS', 'POS', 'POS', 'POS', 'NEG', 'POS', 'POS', 'POS', 'POS', 'NEG', 'POS', 'POS', 'POS', 'NEG', 'POS', 'POS', 'NEG', 'NEG', 'NEG', 'POS', 'POS', 'NEG', 'POS', 'NEG', 'NEG', 'POS', 'POS', 'NEG', 'NEG', 'POS', 'NEG', 'NEG', 'NEG', 'NEG', 'NEG', 'POS', 'NEG', 'POS', 'POS', 'POS', 'POS', 'POS', 'NEG', 'POS', 'POS', 'NEG', 'NEG', 'NEG', 'NEG', 'NEG', 'NEG', 'NEG', 'NEG', 'NEG', 'POS', 'NEG', 'NEG', 'NEG', 'POS', 'NEG', 'POS', 'NEG', 'POS', 'POS', 'NEG', 'POS', 'NEG', 'POS', 'POS', 'POS', 'NEG', 'POS', 'NEG', 'NEG', 'NEG', 'NEG', 'NEG', 'POS', 'POS', 'POS', 'NEG', 'NEG', 'NEG', 'POS', 'NEG', 'POS', 'NEG', 'POS', 'NEG', 'NEG', 'NEG', 'NEG', 'POS', 'POS', 'NEG', 'POS', 'NEG', 'POS', 'NEG', 'POS', 'POS', 'POS', 'POS', 'NEG', 'POS', 'NEG', 'NEG', 'POS', 'POS', 'POS', 'POS', 'POS', 'POS', 'POS', 'POS', 'NEG', 'NEG', 'NEG', 'NEG', 'POS', 'POS', 'POS', 'POS', 'POS', 'NEG', 'NEG', 'NEG', 'POS', 'POS', 'POS', 'NEG', 'POS', 'POS', 'POS', 'POS', 'POS', 'POS', 'POS', 'NEG', 'NEG', 'POS', 'NEG', 'POS', 'NEG', 'NEG', 'NEG', 'POS', 'NEG', 'NEG', 'NEG', 'POS', 'NEG', 'POS', 'POS', 'POS', 'NEG', 'POS', 'POS', 'NEG', 'NEG', 'POS', 'POS', 'NEG', 'POS', 'NEG', 'POS', 'NEG', 'NEG', 'NEG', 'POS', 'NEG', 'POS', 'POS', 'POS', 'POS', 'POS', 'POS', 'NEG', 'NEG', 'NEG', 'POS', 'NEG', 'NEG', 'POS', 'POS', 'POS', 'NEG', 'POS', 'POS', 'NEG', 'POS', 'POS', 'POS', 'NEG', 'NEG', 'POS', 'NEG', 'POS', 'POS', 'NEG', 'POS', 'POS', 'NEG', 'POS', 'POS', 'POS', 'POS', 'NEG', 'POS', 'POS', 'NEG', 'POS', 'NEG', 'NEG', 'NEG', 'NEG', 'NEG', 'NEG', 'POS', 'NEG', 'POS', 'POS', 'NEG', 'POS', 'NEG', 'POS', 'NEG', 'POS', 'POS', 'POS', 'NEG', 'POS', 'NEG', 'POS', 'NEG', 'POS', 'POS', 'NEG', 'NEG', 'POS', 'NEG', 'NEG', 'NEG', 'NEG', 'POS', 'NEG', 'NEG', 'NEG', 'NEG', 'NEG', 'POS', 'POS', 'NEG', 'NEG', 'NEG', 'NEG', 'NEG', 'NEG', 'NEG', 'POS', 'POS', 'POS', 'POS', 'NEG', 'NEG', 'POS', 'POS', 'POS', 'NEG', 'POS', 'POS', 'NEG', 'POS', 'NEG', 'POS', 'NEG', 'NEG', 'POS', 'POS', 'NEG', 'POS', 'NEG', 'POS', 'POS', 'POS', 'NEG', 'POS', 'NEG', 'NEG', 'NEG', 'POS', 'POS', 'POS', 'POS', 'POS', 'POS', 'POS', 'POS', 'POS', 'POS', 'NEG', 'NEG', 'POS', 'POS', 'NEG', 'NEG', 'NEG', 'POS', 'POS', 'NEG', 'POS', 'NEG', 'NEG', 'NEG', 'POS', 'NEG', 'NEG', 'POS', 'NEG', 'POS', 'POS', 'NEG', 'NEG', 'POS', 'POS', 'POS', 'POS', 'NEG', 'POS', 'POS', 'POS', 'POS', 'POS', 'POS', 'POS', 'NEG', 'POS', 'POS', 'POS', 'POS', 'NEG', 'POS', 'POS', 'POS', 'POS', 'POS', 'NEG', 'POS', 'POS', 'POS', 'NEG', 'POS', 'POS', 'NEG', 'POS', 'NEG', 'POS', 'NEG', 'POS', 'POS', 'NEG', 'NEG', 'POS', 'POS', 'NEG', 'POS', 'NEG', 'NEG', 'POS', 'POS', 'POS', 'NEG', 'POS', 'POS', 'POS', 'POS', 'NEG', 'POS', 'NEG', 'NEG', 'NEG', 'POS', 'POS', 'NEG', 'POS', 'NEG', 'POS', 'NEG', 'NEG', 'NEG', 'POS', 'NEG', 'POS', 'NEG', 'POS', 'NEG', 'NEG', 'NEG', 'NEG', 'POS', 'POS', 'POS', 'POS', 'POS', 'POS', 'NEG', 'POS', 'POS', 'NEG', 'POS', 'NEG', 'POS', 'NEG', 'POS', 'POS', 'POS', 'POS', 'POS', 'NEG', 'NEG', 'POS', 'POS', 'POS', 'POS', 'POS', 'POS', 'POS', 'POS', 'NEG', 'POS', 'NEG', 'POS', 'POS', 'POS', 'POS', 'NEG', 'POS', 'NEG', 'POS', 'POS', 'NEG', 'NEG', 'POS', 'POS', 'NEG', 'POS', 'NEG', 'NEG', 'POS', 'NEG', 'POS', 'NEG', 'POS', 'POS', 'POS', 'NEG', 'POS', 'POS', 'NEG', 'POS', 'NEG', 'NEG', 'NEG', 'NEG', 'NEG', 'NEG', 'NEG', 'POS', 'NEG', 'NEG', 'POS', 'POS', 'POS', 'NEG', 'NEG', 'POS', 'NEG', 'NEG', 'NEG', 'POS', 'NEG', 'NEG', 'NEG', 'POS', 'NEG', 'POS', 'NEG', 'POS', 'POS', 'NEG', 'POS', 'NEG', 'NEG', 'NEG', 'NEG', 'POS', 'POS', 'POS', 'NEG', 'NEG', 'POS', 'NEG', 'POS', 'POS', 'POS', 'POS', 'NEG', 'POS', 'NEG', 'NEG', 'NEG', 'NEG', 'POS', 'NEG', 'NEG', 'NEG', 'POS', 'POS', 'NEG', 'NEG', 'POS', 'POS', 'NEG', 'POS', 'NEG', 'NEG', 'NEG', 'POS', 'POS', 'NEG', 'POS', 'NEG', 'NEG', 'NEG', 'POS', 'POS', 'NEG', 'NEG', 'POS', 'POS', 'POS', 'NEG', 'NEG', 'POS', 'POS', 'POS', 'POS', 'NEG', 'POS', 'POS', 'NEG', 'NEG', 'POS', 'POS', 'POS', 'POS', 'NEG', 'NEG', 'NEG', 'NEG', 'POS', 'POS', 'POS', 'POS', 'POS', 'POS', 'NEG', 'NEG', 'NEG', 'NEG', 'POS', 'POS', 'NEG', 'NEG', 'NEG', 'NEG', 'NEG', 'NEG', 'NEG', 'NEG', 'NEG', 'POS', 'NEG', 'NEG', 'POS', 'NEG', 'NEG', 'POS', 'POS', 'POS', 'POS', 'POS', 'NEG', 'NEG', 'NEG', 'NEG', 'NEG', 'POS', 'POS', 'NEG', 'NEG', 'NEG', 'POS', 'POS', 'POS', 'POS', 'POS', 'POS', 'NEG', 'POS', 'POS', 'NEG', 'NEG', 'NEG', 'POS', 'NEG', 'POS', 'POS', 'POS', 'POS', 'POS', 'POS', 'NEG', 'POS', 'POS', 'NEG', 'NEG', 'POS', 'POS', 'POS', 'POS', 'NEG', 'POS', 'NEG', 'POS', 'NEG', 'POS', 'POS', 'POS', 'POS', 'POS', 'NEG', 'NEG', 'POS', 'NEG', 'NEG', 'POS', 'POS', 'POS', 'NEG', 'POS', 'NEG', 'NEG', 'POS', 'NEG', 'POS', 'POS', 'POS', 'NEG', 'NEG', 'NEG', 'POS', 'POS', 'POS', 'NEG', 'POS', 'POS', 'POS', 'NEG', 'NEG', 'NEG', 'POS', 'POS', 'NEG', 'NEG', 'POS', 'POS', 'POS', 'POS', 'POS', 'POS', 'NEG', 'NEG', 'POS', 'NEG', 'POS', 'POS', 'POS', 'POS', 'NEG', 'POS', 'NEG', 'NEG', 'POS', 'POS', 'POS', 'POS', 'NEG', 'POS', 'NEG', 'NEG', 'POS', 'NEG', 'NEG', 'NEG', 'NEG', 'NEG', 'POS', 'POS', 'POS', 'POS', 'NEG', 'POS', 'NEG', 'NEG', 'NEG', 'POS', 'POS', 'NEG', 'POS', 'NEG', 'NEG', 'POS', 'POS', 'NEG', 'NEG', 'POS', 'POS', 'NEG', 'NEG', 'NEG', 'POS', 'NEG', 'POS', 'POS', 'NEG', 'POS', 'NEG', 'NEG', 'POS', 'NEG', 'NEG', 'NEG', 'NEG', 'POS', 'POS', 'POS', 'NEG', 'NEG', 'POS', 'POS', 'NEG', 'POS', 'NEG', 'POS', 'NEG', 'POS', 'POS', 'NEG', 'POS', 'POS', 'NEG', 'NEG', 'POS', 'POS', 'POS', 'NEG', 'POS', 'POS', 'NEG', 'NEG', 'POS', 'NEG', 'NEG', 'POS', 'POS', 'NEG', 'POS', 'NEG', 'POS', 'NEG', 'NEG', 'POS', 'NEG', 'NEG', 'NEG', 'NEG', 'POS', 'NEG', 'POS', 'NEG', 'POS', 'POS', 'POS', 'NEG', 'POS', 'POS', 'NEG', 'POS', 'POS', 'POS', 'POS', 'POS', 'POS', 'POS', 'NEG', 'NEG', 'NEG', 'NEG', 'POS', 'POS', 'NEG', 'NEG', 'NEG', 'POS', 'POS', 'POS', 'POS', 'NEG', 'POS', 'NEG', 'POS', 'NEG', 'POS', 'POS', 'POS', 'NEG', 'POS', 'POS', 'POS', 'NEG', 'POS', 'POS', 'NEG', 'NEG', 'NEG', 'POS', 'NEG', 'POS', 'POS', 'POS', 'NEG', 'NEG', 'POS', 'NEG', 'NEG', 'POS', 'POS', 'NEG', 'NEG', 'NEG', 'POS', 'POS', 'POS', 'POS', 'POS', 'NEG', 'NEG', 'NEG', 'POS', 'NEG', 'POS', 'NEG', 'POS', 'NEG', 'POS', 'NEG', 'NEG', 'POS', 'NEG', 'POS', 'POS', 'NEG', 'NEG', 'NEG', 'POS', 'NEG', 'POS', 'POS', 'POS', 'POS', 'POS', 'POS', 'POS', 'POS', 'NEG', 'POS', 'POS', 'POS', 'POS', 'NEG', 'NEG', 'NEG', 'POS', 'POS', 'POS', 'NEG', 'NEG', 'POS', 'POS', 'NEG', 'POS', 'NEG', 'POS', 'NEG', 'NEG', 'POS', 'POS', 'NEG', 'POS', 'NEG', 'NEG', 'POS', 'NEG', 'POS', 'NEG', 'NEG', 'POS', 'POS', 'NEG', 'NEG', 'POS', 'NEG', 'NEG', 'NEG', 'NEG', 'NEG', 'POS', 'NEG', 'NEG', 'NEG', 'POS', 'NEG', 'NEG', 'POS', 'NEG', 'NEG', 'NEG', 'POS', 'POS', 'NEG', 'NEG', 'POS', 'POS', 'POS', 'NEG', 'POS', 'POS', 'POS', 'POS', 'POS', 'POS', 'POS', 'POS', 'NEG', 'NEG', 'POS', 'NEG', 'NEG', 'POS', 'POS', 'NEG', 'POS', 'POS', 'NEG', 'POS', 'POS', 'POS', 'NEG', 'POS', 'NEG', 'NEG', 'POS', 'NEG', 'NEG', 'NEG', 'NEG', 'NEG', 'POS', 'POS', 'NEG', 'POS', 'POS', 'POS', 'POS', 'NEG', 'NEG', 'POS', 'NEG', 'POS', 'POS', 'NEG', 'NEG', 'POS', 'POS', 'NEG', 'POS', 'POS', 'NEG', 'POS', 'POS', 'POS', 'POS', 'NEG', 'NEG', 'NEG', 'POS', 'POS', 'POS', 'NEG', 'NEG', 'NEG', 'POS', 'NEG', 'POS', 'POS', 'POS', 'NEG', 'POS', 'POS', 'POS', 'POS', 'POS', 'NEG', 'POS', 'NEG', 'NEG', 'NEG', 'POS', 'NEG', 'NEG', 'POS', 'POS', 'POS', 'NEG', 'NEG', 'NEG', 'POS', 'POS', 'NEG', 'POS', 'NEG', 'NEG', 'POS', 'POS', 'POS', 'POS', 'POS', 'POS', 'NEG', 'POS', 'POS', 'NEG', 'NEG', 'POS', 'POS', 'POS', 'POS', 'NEG', 'NEG', 'POS', 'POS', 'NEG', 'POS', 'NEG', 'NEG', 'NEG', 'POS', 'NEG', 'POS', 'NEG', 'NEG', 'POS', 'NEG', 'POS', 'POS', 'NEG', 'NEG', 'POS', 'POS', 'NEG', 'POS', 'POS', 'POS', 'NEG', 'POS', 'NEG', 'NEG', 'NEG', 'NEG', 'POS', 'POS', 'POS', 'NEG', 'POS', 'NEG', 'POS', 'POS', 'NEG', 'POS', 'NEG', 'NEG', 'NEG', 'NEG', 'POS', 'NEG', 'POS', 'POS', 'POS', 'POS', 'POS', 'NEG', 'POS', 'NEG', 'NEG', 'NEG', 'POS', 'POS', 'NEG', 'POS', 'NEG', 'POS', 'POS', 'POS', 'POS', 'NEG', 'POS', 'POS', 'NEG', 'POS', 'POS', 'POS', 'NEG', 'POS', 'POS', 'NEG', 'NEG', 'NEG', 'NEG', 'POS', 'POS', 'POS', 'POS', 'NEG', 'POS', 'POS', 'NEG', 'POS', 'POS', 'POS', 'POS', 'POS', 'NEG', 'NEG', 'NEG', 'POS', 'POS', 'POS', 'POS', 'POS', 'NEG', 'NEG', 'POS', 'POS', 'NEG', 'POS', 'NEG', 'NEG', 'NEG', 'NEG', 'NEG', 'POS', 'NEG', 'POS', 'NEG', 'NEG', 'POS', 'POS', 'POS', 'POS', 'NEG', 'POS', 'NEG', 'NEG', 'POS', 'POS', 'NEG', 'NEG', 'NEG', 'NEG', 'NEG', 'POS', 'NEG', 'POS', 'POS', 'NEG', 'NEG', 'POS', 'POS', 'POS', 'POS', 'NEG', 'POS', 'POS', 'NEG', 'POS', 'POS', 'POS', 'NEG', 'POS', 'POS', 'POS', 'POS', 'POS', 'POS', 'NEG', 'POS', 'NEG', 'POS', 'NEG', 'NEG', 'POS', 'POS', 'NEG', 'NEG', 'POS', 'POS', 'POS', 'POS', 'NEG', 'POS', 'POS', 'NEG', 'POS', 'POS', 'NEG', 'POS', 'NEG', 'NEG', 'POS', 'NEG', 'NEG', 'POS', 'POS', 'NEG', 'POS', 'POS', 'NEG', 'POS', 'POS', 'POS', 'NEG', 'POS', 'POS', 'POS', 'POS', 'NEG', 'POS', 'POS', 'POS', 'NEG', 'POS', 'NEG', 'POS', 'POS', 'NEG', 'POS', 'NEG', 'NEG', 'NEG', 'POS', 'POS', 'NEG', 'POS', 'POS', 'NEG', 'POS', 'POS', 'POS', 'NEG', 'POS', 'NEG', 'POS', 'NEG', 'NEG', 'NEG', 'POS', 'NEG', 'POS', 'POS', 'NEG', 'NEG', 'NEG', 'NEG', 'NEG', 'NEG', 'NEG', 'POS', 'POS', 'NEG', 'NEG', 'POS', 'NEG', 'POS', 'POS', 'NEG', 'NEG', 'POS', 'POS', 'POS', 'POS', 'NEG', 'POS', 'POS', 'POS', 'POS', 'POS', 'POS', 'POS', 'NEG', 'NEG', 'POS', 'POS', 'NEG', 'POS', 'POS', 'NEG', 'NEG', 'NEG', 'NEG', 'POS', 'POS', 'NEG', 'NEG', 'POS', 'NEG', 'NEG', 'NEG', 'NEG', 'POS', 'POS', 'POS', 'NEG', 'POS', 'NEG', 'NEG', 'POS', 'POS', 'POS', 'NEG', 'NEG', 'POS', 'POS', 'NEG', 'POS', 'POS', 'NEG', 'POS', 'NEG', 'POS', 'POS', 'NEG', 'NEG', 'NEG', 'POS', 'POS', 'NEG', 'NEG', 'POS', 'POS', 'POS', 'NEG', 'POS', 'NEG', 'NEG', 'POS', 'NEG', 'NEG', 'POS', 'NEG', 'POS', 'NEG', 'NEG', 'POS', 'POS', 'NEG', 'POS', 'NEG', 'NEG', 'NEG', 'POS', 'NEG', 'POS', 'NEG', 'POS', 'POS', 'NEG', 'POS', 'NEG', 'POS', 'POS', 'NEG', 'NEG', 'NEG', 'NEG', 'POS', 'POS', 'NEG', 'NEG', 'POS', 'NEG', 'POS', 'NEG', 'NEG', 'NEG', 'NEG', 'NEG', 'POS', 'POS', 'NEG', 'POS', 'POS', 'NEG', 'NEG', 'POS', 'NEG', 'POS', 'POS', 'NEG', 'POS', 'POS', 'POS', 'NEG', 'POS', 'NEG', 'POS', 'NEG', 'POS', 'POS', 'POS', 'NEG', 'POS', 'POS', 'NEG', 'NEG', 'NEG', 'NEG', 'NEG', 'NEG', 'POS', 'POS', 'POS', 'POS', 'NEG', 'NEG', 'NEG', 'NEG', 'NEG', 'POS', 'NEG', 'POS', 'POS', 'NEG', 'NEG', 'POS', 'POS', 'NEG', 'POS', 'POS', 'POS', 'POS', 'POS', 'POS', 'NEG', 'POS', 'POS', 'NEG', 'NEG', 'POS', 'POS', 'POS', 'NEG', 'NEG', 'POS', 'POS', 'POS', 'POS', 'POS', 'POS', 'POS', 'NEG', 'NEG', 'POS', 'NEG', 'NEG', 'NEG', 'NEG', 'NEG', 'POS', 'POS', 'NEG', 'NEG', 'NEG', 'POS', 'POS', 'NEG', 'POS', 'POS', 'NEG', 'POS', 'NEG', 'NEG', 'NEG', 'POS', 'NEG', 'POS', 'POS', 'NEG', 'NEG', 'POS', 'NEG', 'NEG', 'POS', 'NEG', 'POS', 'NEG', 'POS', 'NEG', 'NEG', 'NEG', 'POS', 'NEG', 'POS', 'NEG', 'POS', 'POS', 'POS', 'NEG', 'POS', 'POS', 'NEG', 'NEG', 'POS', 'NEG', 'NEG', 'POS', 'POS', 'POS', 'POS', 'POS', 'POS', 'POS', 'NEG', 'POS', 'POS', 'POS', 'POS', 'NEG', 'POS', 'NEG', 'NEG', 'NEG', 'NEG', 'POS', 'NEG', 'POS', 'POS', 'POS', 'POS', 'POS', 'NEG', 'POS', 'POS', 'NEG', 'NEG', 'NEG', 'NEG', 'POS', 'POS', 'NEG', 'POS', 'POS', 'POS', 'POS', 'POS', 'NEG', 'NEG', 'NEG', 'POS', 'NEG', 'NEG', 'NEG', 'NEG', 'NEG', 'NEG', 'POS', 'NEG', 'POS', 'NEG', 'POS', 'POS', 'POS', 'NEG', 'POS', 'POS', 'POS', 'POS', 'NEG', 'NEG', 'POS', 'NEG', 'POS', 'NEG', 'NEG', 'POS', 'NEG', 'NEG', 'POS', 'POS', 'POS', 'NEG', 'NEG', 'NEG', 'POS', 'POS', 'POS', 'POS', 'NEG', 'POS', 'NEG', 'POS', 'POS', 'POS', 'NEG', 'POS', 'POS', 'POS', 'POS', 'POS', 'POS', 'NEG', 'NEG', 'POS', 'POS', 'NEG', 'NEG', 'POS', 'NEG', 'NEG', 'NEG', 'NEG', 'NEG', 'NEG', 'POS', 'NEG', 'NEG', 'POS', 'NEG', 'NEG', 'NEG', 'NEG', 'NEG', 'POS', 'NEG', 'NEG', 'POS', 'POS', 'POS', 'NEG', 'POS', 'POS', 'POS', 'POS', 'NEG', 'POS', 'POS', 'POS', 'POS', 'POS', 'NEG', 'POS', 'POS', 'POS', 'NEG', 'NEG', 'POS', 'POS', 'POS', 'POS', 'NEG', 'POS', 'NEG', 'NEG', 'NEG', 'NEG', 'POS', 'NEG', 'NEG', 'POS', 'NEG', 'NEG', 'POS', 'NEG', 'NEG', 'NEG', 'POS', 'NEG', 'NEG', 'POS', 'NEG', 'POS', 'POS', 'NEG', 'POS', 'POS', 'NEG', 'POS', 'POS', 'POS', 'POS', 'NEG', 'NEG', 'POS', 'NEG', 'POS', 'NEG', 'POS', 'POS', 'POS', 'POS', 'POS', 'POS', 'NEG', 'POS', 'NEG', 'POS', 'POS', 'POS', 'NEG', 'NEG', 'POS', 'NEG', 'NEG', 'NEG', 'POS', 'NEG', 'POS', 'POS', 'POS', 'POS', 'POS', 'NEG', 'NEG', 'NEG', 'POS', 'NEG', 'POS', 'NEG', 'POS', 'POS', 'POS', 'POS', 'NEG', 'POS', 'POS', 'NEG', 'NEG', 'NEG', 'NEG', 'POS', 'POS', 'POS', 'NEG', 'POS', 'NEG', 'POS', 'NEG', 'POS', 'POS', 'NEG', 'NEG', 'POS', 'POS', 'NEG', 'NEG', 'POS', 'NEG', 'POS', 'NEG', 'NEG', 'NEG', 'POS', 'POS', 'NEG', 'POS', 'NEG', 'NEG', 'NEG', 'POS', 'NEG', 'POS', 'POS', 'POS', 'NEG', 'NEG', 'POS', 'NEG', 'POS', 'POS', 'POS', 'NEG', 'NEG', 'NEG', 'NEG', 'NEG', 'POS', 'NEG', 'POS', 'POS', 'POS', 'POS', 'NEG', 'POS', 'NEG', 'POS', 'NEG', 'POS', 'POS', 'POS', 'NEG', 'NEG', 'NEG', 'NEG', 'NEG', 'NEG', 'NEG', 'NEG', 'POS', 'NEG', 'POS', 'POS', 'POS', 'NEG', 'POS', 'NEG', 'POS', 'POS', 'NEG', 'NEG', 'POS', 'NEG', 'NEG', 'POS', 'POS', 'NEG', 'POS', 'NEG', 'NEG', 'NEG', 'POS', 'POS', 'NEG', 'POS', 'POS', 'NEG', 'POS', 'NEG', 'POS', 'POS', 'NEG', 'POS', 'NEG', 'POS', 'POS', 'NEG', 'POS', 'NEG', 'NEG', 'POS', 'NEG', 'NEG', 'NEG', 'POS', 'POS', 'NEG', 'POS', 'POS', 'NEG', 'NEG', 'NEG', 'NEG', 'NEG', 'POS', 'POS', 'NEG', 'POS', 'NEG', 'POS', 'NEG', 'POS', 'NEG', 'POS']\n"
     ]
    }
   ],
   "source": [
    "# Train the model using Logistic Regression method\n",
    "\n",
    "LR_model_ara = LogisticRegression(penalty='l2')\n",
    "LR_model_ara.fit(X_train_ara, y_train_ara)\n",
    "print(X_train_ara)\n",
    "print(y_train_ara)\n",
    "\n",
    "\n",
    "LR_model_tun = LogisticRegression(penalty='l2')\n",
    "LR_model_tun.fit(X_train_tun, y_train_tun)\n",
    "print(X_train_tun)\n",
    "print(y_train_tun)"
   ]
  },
  {
   "cell_type": "code",
   "execution_count": 43,
   "metadata": {},
   "outputs": [],
   "source": [
    "# Use this model to predict the sentiment category of test documents\n",
    "y_pred_LR_ara = LR_model_ara.predict(X_test_ara)\n",
    "y_pred_LR_tun = LR_model_tun.predict(X_test_tun)"
   ]
  },
  {
   "cell_type": "code",
   "execution_count": 44,
   "metadata": {},
   "outputs": [
    {
     "data": {
      "text/plain": [
       "(numpy.ndarray, 1734)"
      ]
     },
     "execution_count": 44,
     "metadata": {},
     "output_type": "execute_result"
    }
   ],
   "source": [
    "type(y_pred_LR_ara),len(y_pred_LR_ara)\n",
    "type(y_pred_LR_tun),len(y_pred_LR_tun)"
   ]
  },
  {
   "cell_type": "code",
   "execution_count": 45,
   "metadata": {},
   "outputs": [
    {
     "name": "stdout",
     "output_type": "stream",
     "text": [
      "0.876699336073348 0.7952710495963091\n"
     ]
    }
   ],
   "source": [
    "# Calculate the classification rate of this classifier\n",
    "print(metrics.accuracy_score(y_test_ara, y_pred_LR_ara),metrics.accuracy_score(y_test_tun, y_pred_LR_tun))"
   ]
  },
  {
   "cell_type": "markdown",
   "metadata": {},
   "source": [
    "### Interpret parameter values of  this model\n",
    "- The logistic regression model has one parameter per feature (i.e. vocabulary word).\n",
    "- Most positive values indicate parameters that contribute most to class 1\n",
    "- Most negative values indicate parameters contribute most to class -1"
   ]
  },
  {
   "cell_type": "code",
   "execution_count": 46,
   "metadata": {},
   "outputs": [
    {
     "data": {
      "text/plain": [
       "LogisticRegression(C=1.0, class_weight=None, dual=False, fit_intercept=True,\n",
       "          intercept_scaling=1, max_iter=100, multi_class='ovr', n_jobs=1,\n",
       "          penalty='l2', random_state=None, solver='liblinear', tol=0.0001,\n",
       "          verbose=0, warm_start=False)"
      ]
     },
     "execution_count": 46,
     "metadata": {},
     "output_type": "execute_result"
    }
   ],
   "source": [
    "# Re-train the model using ALL DATA\n",
    "LR_model2_ara = LogisticRegression(penalty='l2')\n",
    "LR_model2_ara.fit(X_ara, y_ara)\n",
    "LR_model2_tun = LogisticRegression(penalty='l2')\n",
    "LR_model2_tun.fit(X_tun, y_tun)"
   ]
  },
  {
   "cell_type": "code",
   "execution_count": 47,
   "metadata": {},
   "outputs": [
    {
     "name": "stdout",
     "output_type": "stream",
     "text": [
      "<class 'numpy.ndarray'> <class 'numpy.ndarray'>\n",
      "(766,) (117,)\n"
     ]
    }
   ],
   "source": [
    "# get the coefficients (parameter) of the LR model\n",
    "LR_coefs_ara = LR_model2_ara.coef_   #2D array with only one row\n",
    "LR_coefs_ara = LR_coefs_ara.ravel()  #convert to a 1D array\n",
    "LR_coefs_tun = LR_model2_tun.coef_   #2D array with only one row\n",
    "LR_coefs_tun = LR_coefs_tun.ravel()  #convert to a 1D array\n",
    "print(type(LR_coefs_ara),type(LR_coefs_tun))\n",
    "print(LR_coefs_ara.shape,LR_coefs_tun.shape)"
   ]
  },
  {
   "cell_type": "markdown",
   "metadata": {},
   "source": [
    "### Train classifier using Naive Bayes"
   ]
  },
  {
   "cell_type": "code",
   "execution_count": 48,
   "metadata": {},
   "outputs": [],
   "source": [
    "# read documentation\n",
    "# ?MultinomialNB"
   ]
  },
  {
   "cell_type": "code",
   "execution_count": 49,
   "metadata": {},
   "outputs": [
    {
     "name": "stdout",
     "output_type": "stream",
     "text": [
      "  (0, 18)\t0.0887336577132558\n",
      "  (0, 60)\t0.1231865974599804\n",
      "  (0, 71)\t0.10104604807515202\n",
      "  (0, 75)\t0.15389664145217377\n",
      "  (0, 82)\t0.20607558001917217\n",
      "  (0, 84)\t0.07000145680970378\n",
      "  (0, 95)\t0.10085637030001372\n",
      "  (0, 142)\t0.16114163647178026\n",
      "  (0, 148)\t0.12972178595585404\n",
      "  (0, 152)\t0.16189161928815488\n",
      "  (0, 166)\t0.16935633651160437\n",
      "  (0, 196)\t0.1339318133236354\n",
      "  (0, 210)\t0.16748651021998887\n",
      "  (0, 216)\t0.09193688426400319\n",
      "  (0, 228)\t0.10223711807367664\n",
      "  (0, 233)\t0.15731004925920808\n",
      "  (0, 254)\t0.08770522398756905\n",
      "  (0, 271)\t0.13278758299027665\n",
      "  (0, 283)\t0.15951710746041825\n",
      "  (0, 288)\t0.07570394710346755\n",
      "  (0, 289)\t0.16344773010250013\n",
      "  (0, 299)\t0.12885106949873623\n",
      "  (0, 354)\t0.1436994077531726\n",
      "  (0, 370)\t0.12430895008182843\n",
      "  (0, 386)\t0.11131047207626676\n",
      "  :\t:\n",
      "  (7377, 509)\t0.07121362706806687\n",
      "  (7377, 511)\t0.06576474507099166\n",
      "  (7377, 556)\t0.1094650486462235\n",
      "  (7377, 580)\t0.10327856382153386\n",
      "  (7377, 585)\t0.09459894639980981\n",
      "  (7377, 610)\t0.2912775373975046\n",
      "  (7377, 611)\t0.1501723421330099\n",
      "  (7377, 613)\t0.06355535565075657\n",
      "  (7377, 626)\t0.06348212540743155\n",
      "  (7377, 641)\t0.10289880759020968\n",
      "  (7377, 671)\t0.08545031931191781\n",
      "  (7377, 693)\t0.12993150108262114\n",
      "  (7377, 705)\t0.11264318195449943\n",
      "  (7377, 715)\t0.09673788370099647\n",
      "  (7377, 718)\t0.09158210005565036\n",
      "  (7377, 733)\t0.11279279983683896\n",
      "  (7377, 740)\t0.10539237365623473\n",
      "  (7377, 754)\t0.11620698234737957\n",
      "  (7377, 756)\t0.07749454248139828\n",
      "  (7377, 760)\t0.3343390832031322\n",
      "  (7377, 763)\t0.13750102171012354\n",
      "  (7378, 32)\t0.6258177226548606\n",
      "  (7378, 207)\t0.3180476854395569\n",
      "  (7378, 288)\t0.3706773189655913\n",
      "  (7378, 664)\t0.608108685188845\n",
      "['POS', 'POS', 'POS', 'POS', 'POS', 'POS', 'NEG', 'NEG', 'NEG', 'NEG', 'POS', 'POS', 'NEG', 'NEG', 'NEG', 'POS', 'POS', 'NEG', 'NEG', 'NEG', 'POS', 'NEG', 'POS', 'NEG', 'POS', 'POS', 'NEG', 'NEG', 'POS', 'POS', 'NEG', 'POS', 'POS', 'NEG', 'POS', 'POS', 'POS', 'NEG', 'POS', 'POS', 'POS', 'POS', 'POS', 'NEG', 'POS', 'POS', 'POS', 'POS', 'NEG', 'POS', 'POS', 'POS', 'POS', 'NEG', 'POS', 'POS', 'NEG', 'NEG', 'NEG', 'POS', 'POS', 'POS', 'NEG', 'POS', 'POS', 'POS', 'POS', 'NEG', 'NEG', 'NEG', 'POS', 'POS', 'POS', 'NEG', 'POS', 'NEG', 'POS', 'NEG', 'NEG', 'POS', 'NEG', 'NEG', 'POS', 'POS', 'POS', 'POS', 'POS', 'NEG', 'NEG', 'POS', 'POS', 'NEG', 'POS', 'POS', 'POS', 'POS', 'POS', 'NEG', 'NEG', 'NEG', 'NEG', 'POS', 'POS', 'NEG', 'POS', 'NEG', 'NEG', 'POS', 'NEG', 'NEG', 'POS', 'POS', 'POS', 'NEG', 'NEG', 'POS', 'NEG', 'POS', 'POS', 'POS', 'NEG', 'POS', 'POS', 'POS', 'NEG', 'POS', 'NEG', 'POS', 'POS', 'POS', 'NEG', 'POS', 'NEG', 'NEG', 'POS', 'POS', 'POS', 'POS', 'POS', 'POS', 'POS', 'POS', 'NEG', 'POS', 'NEG', 'POS', 'NEG', 'NEG', 'POS', 'POS', 'NEG', 'NEG', 'NEG', 'NEG', 'POS', 'POS', 'POS', 'NEG', 'POS', 'NEG', 'POS', 'POS', 'POS', 'POS', 'NEG', 'NEG', 'POS', 'NEG', 'NEG', 'NEG', 'POS', 'NEG', 'POS', 'NEG', 'POS', 'POS', 'POS', 'POS', 'NEG', 'NEG', 'NEG', 'POS', 'NEG', 'POS', 'NEG', 'POS', 'POS', 'POS', 'POS', 'NEG', 'NEG', 'POS', 'NEG', 'POS', 'POS', 'NEG', 'NEG', 'POS', 'POS', 'POS', 'NEG', 'POS', 'NEG', 'POS', 'NEG', 'NEG', 'NEG', 'NEG', 'POS', 'POS', 'NEG', 'POS', 'NEG', 'POS', 'NEG', 'POS', 'POS', 'NEG', 'NEG', 'NEG', 'POS', 'POS', 'POS', 'POS', 'POS', 'NEG', 'POS', 'NEG', 'NEG', 'NEG', 'NEG', 'POS', 'POS', 'NEG', 'NEG', 'POS', 'NEG', 'NEG', 'NEG', 'NEG', 'POS', 'POS', 'NEG', 'POS', 'NEG', 'POS', 'NEG', 'POS', 'POS', 'NEG', 'NEG', 'NEG', 'NEG', 'POS', 'POS', 'NEG', 'POS', 'NEG', 'POS', 'POS', 'POS', 'POS', 'POS', 'POS', 'POS', 'POS', 'NEG', 'POS', 'NEG', 'NEG', 'NEG', 'NEG', 'NEG', 'POS', 'POS', 'NEG', 'POS', 'POS', 'POS', 'POS', 'POS', 'POS', 'POS', 'POS', 'POS', 'POS', 'POS', 'POS', 'POS', 'POS', 'NEG', 'POS', 'NEG', 'POS', 'NEG', 'POS', 'NEG', 'NEG', 'NEG', 'NEG', 'NEG', 'NEG', 'POS', 'NEG', 'NEG', 'NEG', 'POS', 'NEG', 'NEG', 'NEG', 'POS', 'POS', 'POS', 'NEG', 'POS', 'NEG', 'POS', 'NEG', 'NEG', 'NEG', 'NEG', 'NEG', 'POS', 'POS', 'POS', 'NEG', 'POS', 'POS', 'POS', 'POS', 'NEG', 'POS', 'NEG', 'POS', 'NEG', 'NEG', 'POS', 'NEG', 'POS', 'NEG', 'NEG', 'NEG', 'POS', 'POS', 'POS', 'POS', 'NEG', 'POS', 'POS', 'POS', 'POS', 'NEG', 'NEG', 'NEG', 'POS', 'NEG', 'NEG', 'POS', 'POS', 'POS', 'POS', 'NEG', 'POS', 'POS', 'POS', 'NEG', 'POS', 'POS', 'POS', 'NEG', 'POS', 'NEG', 'POS', 'NEG', 'NEG', 'NEG', 'POS', 'NEG', 'POS', 'POS', 'NEG', 'POS', 'NEG', 'NEG', 'POS', 'POS', 'POS', 'NEG', 'POS', 'POS', 'NEG', 'NEG', 'NEG', 'POS', 'NEG', 'POS', 'NEG', 'POS', 'NEG', 'NEG', 'NEG', 'POS', 'POS', 'POS', 'POS', 'NEG', 'POS', 'POS', 'NEG', 'POS', 'POS', 'NEG', 'POS', 'NEG', 'NEG', 'POS', 'POS', 'POS', 'POS', 'POS', 'NEG', 'POS', 'NEG', 'POS', 'POS', 'NEG', 'POS', 'NEG', 'NEG', 'NEG', 'POS', 'NEG', 'POS', 'POS', 'POS', 'POS', 'POS', 'POS', 'POS', 'POS', 'POS', 'NEG', 'POS', 'POS', 'POS', 'POS', 'POS', 'POS', 'POS', 'POS', 'NEG', 'NEG', 'POS', 'POS', 'NEG', 'POS', 'NEG', 'POS', 'NEG', 'POS', 'NEG', 'POS', 'POS', 'NEG', 'NEG', 'POS', 'NEG', 'POS', 'POS', 'POS', 'POS', 'POS', 'NEG', 'NEG', 'NEG', 'NEG', 'NEG', 'NEG', 'NEG', 'POS', 'NEG', 'NEG', 'POS', 'NEG', 'POS', 'NEG', 'POS', 'POS', 'NEG', 'POS', 'POS', 'POS', 'NEG', 'POS', 'POS', 'NEG', 'POS', 'NEG', 'POS', 'POS', 'POS', 'POS', 'POS', 'NEG', 'POS', 'NEG', 'POS', 'POS', 'NEG', 'NEG', 'NEG', 'NEG', 'POS', 'POS', 'POS', 'POS', 'POS', 'POS', 'NEG', 'POS', 'POS', 'POS', 'POS', 'POS', 'POS', 'POS', 'POS', 'NEG', 'POS', 'POS', 'POS', 'NEG', 'NEG', 'NEG', 'NEG', 'POS', 'POS', 'POS', 'POS', 'POS', 'NEG', 'POS', 'POS', 'NEG', 'NEG', 'POS', 'NEG', 'POS', 'NEG', 'POS', 'POS', 'POS', 'NEG', 'POS', 'POS', 'POS', 'NEG', 'POS', 'POS', 'POS', 'POS', 'NEG', 'POS', 'POS', 'NEG', 'POS', 'NEG', 'NEG', 'NEG', 'NEG', 'NEG', 'POS', 'POS', 'POS', 'NEG', 'POS', 'POS', 'POS', 'POS', 'NEG', 'POS', 'POS', 'NEG', 'NEG', 'POS', 'NEG', 'NEG', 'POS', 'NEG', 'POS', 'POS', 'POS', 'NEG', 'NEG', 'POS', 'POS', 'POS', 'NEG', 'POS', 'NEG', 'NEG', 'NEG', 'POS', 'POS', 'POS', 'NEG', 'POS', 'POS', 'POS', 'POS', 'POS', 'NEG', 'POS', 'NEG', 'POS', 'POS', 'POS', 'NEG', 'POS', 'NEG', 'POS', 'POS', 'NEG', 'POS', 'POS', 'POS', 'NEG', 'POS', 'NEG', 'POS', 'NEG', 'POS', 'NEG', 'POS', 'NEG', 'NEG', 'NEG', 'NEG', 'POS', 'POS', 'POS', 'POS', 'NEG', 'POS', 'POS', 'POS', 'NEG', 'POS', 'NEG', 'POS', 'NEG', 'NEG', 'NEG', 'POS', 'POS', 'POS', 'POS', 'NEG', 'POS', 'NEG', 'POS', 'POS', 'POS', 'POS', 'POS', 'NEG', 'POS', 'NEG', 'POS', 'POS', 'NEG', 'NEG', 'NEG', 'NEG', 'NEG', 'NEG', 'NEG', 'NEG', 'NEG', 'POS', 'POS', 'POS', 'NEG', 'NEG', 'POS', 'POS', 'POS', 'POS', 'NEG', 'POS', 'POS', 'POS', 'POS', 'POS', 'POS', 'NEG', 'NEG', 'NEG', 'POS', 'NEG', 'NEG', 'NEG', 'NEG', 'NEG', 'NEG', 'NEG', 'POS', 'NEG', 'NEG', 'NEG', 'POS', 'NEG', 'POS', 'NEG', 'POS', 'POS', 'POS', 'NEG', 'POS', 'NEG', 'POS', 'NEG', 'POS', 'NEG', 'POS', 'POS', 'POS', 'NEG', 'POS', 'NEG', 'NEG', 'POS', 'POS', 'NEG', 'POS', 'POS', 'NEG', 'POS', 'POS', 'NEG', 'POS', 'NEG', 'NEG', 'POS', 'POS', 'POS', 'NEG', 'POS', 'POS', 'POS', 'NEG', 'NEG', 'NEG', 'POS', 'POS', 'NEG', 'POS', 'NEG', 'NEG', 'POS', 'POS', 'POS', 'POS', 'NEG', 'NEG', 'NEG', 'NEG', 'NEG', 'NEG', 'POS', 'NEG', 'NEG', 'POS', 'POS', 'POS', 'NEG', 'POS', 'NEG', 'NEG', 'POS', 'POS', 'POS', 'NEG', 'POS', 'POS', 'POS', 'POS', 'NEG', 'POS', 'POS', 'POS', 'POS', 'POS', 'NEG', 'NEG', 'NEG', 'POS', 'NEG', 'POS', 'POS', 'POS', 'NEG', 'NEG', 'POS', 'NEG', 'NEG', 'POS', 'POS', 'POS', 'POS', 'NEG', 'POS', 'POS', 'NEG', 'NEG', 'POS', 'POS', 'POS', 'NEG', 'NEG', 'POS', 'POS', 'POS', 'POS', 'POS', 'POS', 'NEG', 'POS', 'POS', 'POS', 'POS', 'POS', 'NEG', 'POS', 'POS', 'NEG', 'NEG', 'POS', 'POS', 'NEG', 'POS', 'NEG', 'POS', 'NEG', 'POS', 'NEG', 'POS', 'NEG', 'NEG', 'NEG', 'NEG', 'POS', 'NEG', 'POS', 'NEG', 'NEG', 'POS', 'POS', 'POS', 'NEG', 'NEG', 'POS', 'POS', 'NEG', 'POS', 'POS', 'NEG', 'NEG', 'NEG', 'POS', 'POS', 'POS', 'POS', 'POS', 'NEG', 'POS', 'NEG', 'POS', 'POS', 'NEG', 'NEG', 'POS', 'POS', 'POS', 'NEG', 'NEG', 'POS', 'POS', 'NEG', 'NEG', 'POS', 'POS', 'POS', 'POS', 'NEG', 'NEG', 'NEG', 'POS', 'NEG', 'NEG', 'POS', 'NEG', 'POS', 'POS', 'NEG', 'POS', 'POS', 'POS', 'NEG', 'NEG', 'POS', 'POS', 'NEG', 'POS', 'NEG', 'POS', 'POS', 'POS', 'NEG', 'POS', 'NEG', 'POS', 'POS', 'NEG', 'NEG', 'POS', 'POS', 'NEG', 'NEG', 'NEG', 'NEG', 'NEG', 'NEG', 'POS', 'POS', 'NEG', 'POS', 'POS', 'NEG', 'POS', 'NEG', 'POS', 'NEG', 'NEG', 'NEG', 'POS', 'POS', 'NEG', 'NEG', 'POS', 'POS', 'NEG', 'NEG', 'POS', 'NEG', 'NEG', 'POS', 'POS', 'NEG', 'NEG', 'POS', 'NEG', 'POS', 'NEG', 'NEG', 'NEG', 'NEG', 'POS', 'POS', 'NEG', 'POS', 'POS', 'POS', 'NEG', 'POS', 'POS', 'POS', 'NEG', 'NEG', 'POS', 'NEG', 'POS', 'POS', 'POS', 'POS', 'POS', 'POS', 'POS', 'POS', 'POS', 'NEG', 'POS', 'NEG', 'POS', 'POS', 'NEG', 'NEG', 'POS', 'NEG', 'POS', 'POS', 'POS', 'POS', 'NEG', 'NEG', 'POS', 'POS', 'POS', 'NEG', 'NEG', 'POS', 'NEG', 'NEG', 'POS', 'NEG', 'POS', 'POS', 'NEG', 'NEG', 'POS', 'NEG', 'POS', 'POS', 'NEG', 'NEG', 'NEG', 'POS', 'POS', 'NEG', 'NEG', 'POS', 'POS', 'NEG', 'POS', 'POS', 'NEG', 'NEG', 'POS', 'POS', 'POS', 'POS', 'NEG', 'POS', 'POS', 'POS', 'POS', 'NEG', 'NEG', 'POS', 'NEG', 'POS', 'POS', 'POS', 'POS', 'NEG', 'NEG', 'NEG', 'POS', 'POS', 'NEG', 'POS', 'POS', 'NEG', 'POS', 'POS', 'POS', 'POS', 'POS', 'POS', 'POS', 'NEG', 'NEG', 'POS', 'NEG', 'POS', 'POS', 'NEG', 'POS', 'POS', 'NEG', 'POS', 'POS', 'POS', 'POS', 'POS', 'POS', 'POS', 'NEG', 'POS', 'NEG', 'NEG', 'POS', 'NEG', 'POS', 'POS', 'NEG', 'POS', 'POS', 'POS', 'POS', 'POS', 'NEG', 'NEG', 'POS', 'POS', 'POS', 'POS', 'NEG', 'POS', 'POS', 'NEG', 'POS', 'NEG', 'POS', 'POS', 'NEG', 'POS', 'POS', 'POS', 'POS', 'POS', 'POS', 'POS', 'POS', 'POS', 'POS', 'POS', 'POS', 'POS', 'NEG', 'POS', 'NEG', 'NEG', 'NEG', 'POS', 'POS', 'POS', 'POS', 'POS', 'POS', 'NEG', 'NEG', 'NEG', 'POS', 'POS', 'POS', 'POS', 'POS', 'NEG', 'POS', 'NEG', 'POS', 'POS', 'NEG', 'NEG', 'POS', 'POS', 'POS', 'POS', 'POS', 'POS', 'NEG', 'POS', 'NEG', 'POS', 'NEG', 'NEG', 'POS', 'NEG', 'NEG', 'POS', 'POS', 'POS', 'POS', 'NEG', 'POS', 'NEG', 'NEG', 'POS', 'NEG', 'POS', 'POS', 'POS', 'POS', 'POS', 'POS', 'NEG', 'POS', 'POS', 'POS', 'POS', 'NEG', 'POS', 'POS', 'NEG', 'POS', 'NEG', 'POS', 'POS', 'NEG', 'POS', 'POS', 'POS', 'NEG', 'POS', 'NEG', 'POS', 'NEG', 'NEG', 'NEG', 'POS', 'POS', 'NEG', 'NEG', 'POS', 'NEG', 'POS', 'POS', 'NEG', 'NEG', 'NEG', 'POS', 'NEG', 'NEG', 'POS', 'NEG', 'NEG', 'NEG', 'NEG', 'NEG', 'NEG', 'POS', 'POS', 'POS', 'POS', 'POS', 'POS', 'POS', 'NEG', 'POS', 'POS', 'NEG', 'POS', 'NEG', 'POS', 'NEG', 'POS', 'POS', 'NEG', 'POS', 'POS', 'NEG', 'POS', 'POS', 'NEG', 'NEG', 'POS', 'POS', 'POS', 'POS', 'POS', 'POS', 'POS', 'NEG', 'POS', 'POS', 'POS', 'POS', 'POS', 'NEG', 'POS', 'POS', 'NEG', 'NEG', 'POS', 'POS', 'POS', 'POS', 'POS', 'NEG', 'POS', 'POS', 'POS', 'POS', 'NEG', 'POS', 'POS', 'NEG', 'POS', 'POS', 'NEG', 'POS', 'NEG', 'POS', 'POS', 'NEG', 'NEG', 'POS', 'POS', 'POS', 'POS', 'POS', 'NEG', 'POS', 'POS', 'POS', 'NEG', 'NEG', 'POS', 'POS', 'POS', 'NEG', 'POS', 'NEG', 'POS', 'POS', 'POS', 'NEG', 'POS', 'POS', 'POS', 'POS', 'NEG', 'NEG', 'POS', 'NEG', 'POS', 'POS', 'POS', 'POS', 'NEG', 'NEG', 'POS', 'NEG', 'POS', 'POS', 'POS', 'NEG', 'NEG', 'POS', 'POS', 'POS', 'POS', 'POS', 'POS', 'POS', 'POS', 'POS', 'NEG', 'POS', 'NEG', 'POS', 'NEG', 'NEG', 'POS', 'POS', 'POS', 'NEG', 'NEG', 'NEG', 'NEG', 'NEG', 'POS', 'NEG', 'POS', 'NEG', 'NEG', 'NEG', 'NEG', 'NEG', 'NEG', 'POS', 'NEG', 'POS', 'POS', 'NEG', 'POS', 'NEG', 'POS', 'POS', 'POS', 'NEG', 'POS', 'POS', 'NEG', 'NEG', 'NEG', 'POS', 'NEG', 'POS', 'POS', 'NEG', 'POS', 'NEG', 'NEG', 'POS', 'POS', 'NEG', 'NEG', 'POS', 'NEG', 'NEG', 'NEG', 'POS', 'NEG', 'POS', 'POS', 'POS', 'NEG', 'NEG', 'NEG', 'POS', 'POS', 'POS', 'POS', 'NEG', 'NEG', 'NEG', 'NEG', 'POS', 'POS', 'POS', 'POS', 'POS', 'POS', 'NEG', 'POS', 'NEG', 'POS', 'POS', 'NEG', 'POS', 'NEG', 'POS', 'POS', 'POS', 'POS', 'POS', 'NEG', 'NEG', 'NEG', 'POS', 'POS', 'NEG', 'NEG', 'POS', 'NEG', 'POS', 'POS', 'POS', 'NEG', 'POS', 'POS', 'NEG', 'POS', 'NEG', 'POS', 'NEG', 'NEG', 'POS', 'POS', 'NEG', 'POS', 'NEG', 'NEG', 'POS', 'NEG', 'POS', 'POS', 'NEG', 'NEG', 'POS', 'POS', 'NEG', 'POS', 'POS', 'POS', 'NEG', 'NEG', 'NEG', 'NEG', 'POS', 'POS', 'NEG', 'NEG', 'POS', 'NEG', 'NEG', 'POS', 'POS', 'POS', 'POS', 'POS', 'POS', 'POS', 'POS', 'POS', 'NEG', 'NEG', 'POS', 'POS', 'NEG', 'NEG', 'NEG', 'NEG', 'NEG', 'POS', 'NEG', 'POS', 'POS', 'POS', 'POS', 'POS', 'NEG', 'POS', 'NEG', 'POS', 'NEG', 'POS', 'NEG', 'NEG', 'NEG', 'POS', 'POS', 'POS', 'NEG', 'POS', 'NEG', 'POS', 'NEG', 'POS', 'NEG', 'NEG', 'NEG', 'NEG', 'NEG', 'NEG', 'NEG', 'NEG', 'NEG', 'NEG', 'POS', 'POS', 'POS', 'POS', 'POS', 'POS', 'POS', 'NEG', 'NEG', 'NEG', 'POS', 'POS', 'NEG', 'NEG', 'NEG', 'NEG', 'NEG', 'NEG', 'POS', 'POS', 'NEG', 'POS', 'POS', 'POS', 'NEG', 'POS', 'POS', 'NEG', 'POS', 'POS', 'NEG', 'NEG', 'NEG', 'POS', 'POS', 'NEG', 'POS', 'POS', 'POS', 'POS', 'NEG', 'POS', 'POS', 'POS', 'POS', 'POS', 'POS', 'NEG', 'NEG', 'POS', 'POS', 'POS', 'NEG', 'POS', 'NEG', 'POS', 'POS', 'NEG', 'NEG', 'POS', 'NEG', 'POS', 'NEG', 'NEG', 'NEG', 'NEG', 'NEG', 'POS', 'NEG', 'NEG', 'NEG', 'NEG', 'POS', 'POS', 'POS', 'POS', 'NEG', 'NEG', 'POS', 'POS', 'POS', 'NEG', 'POS', 'POS', 'POS', 'NEG', 'NEG', 'NEG', 'POS', 'POS', 'POS', 'POS', 'POS', 'POS', 'POS', 'POS', 'NEG', 'POS', 'POS', 'NEG', 'NEG', 'NEG', 'POS', 'POS', 'POS', 'POS', 'POS', 'NEG', 'POS', 'NEG', 'NEG', 'POS', 'NEG', 'POS', 'POS', 'NEG', 'POS', 'POS', 'POS', 'NEG', 'NEG', 'NEG', 'NEG', 'NEG', 'POS', 'NEG', 'POS', 'POS', 'NEG', 'NEG', 'POS', 'POS', 'POS', 'NEG', 'POS', 'NEG', 'NEG', 'POS', 'POS', 'POS', 'POS', 'NEG', 'NEG', 'POS', 'POS', 'POS', 'POS', 'POS', 'POS', 'POS', 'POS', 'POS', 'NEG', 'POS', 'NEG', 'NEG', 'NEG', 'POS', 'POS', 'POS', 'NEG', 'NEG', 'POS', 'POS', 'NEG', 'POS', 'NEG', 'POS', 'NEG', 'POS', 'POS', 'NEG', 'POS', 'NEG', 'POS', 'POS', 'POS', 'NEG', 'NEG', 'POS', 'POS', 'POS', 'POS', 'POS', 'NEG', 'NEG', 'POS', 'POS', 'POS', 'POS', 'POS', 'POS', 'NEG', 'POS', 'POS', 'NEG', 'POS', 'NEG', 'POS', 'POS', 'NEG', 'NEG', 'NEG', 'NEG', 'NEG', 'NEG', 'NEG', 'POS', 'POS', 'POS', 'NEG', 'NEG', 'POS', 'NEG', 'NEG', 'POS', 'NEG', 'NEG', 'NEG', 'POS', 'NEG', 'POS', 'POS', 'NEG', 'POS', 'POS', 'NEG', 'POS', 'NEG', 'POS', 'POS', 'POS', 'POS', 'POS', 'NEG', 'NEG', 'NEG', 'NEG', 'NEG', 'POS', 'NEG', 'NEG', 'NEG', 'POS', 'NEG', 'NEG', 'NEG', 'POS', 'POS', 'POS', 'NEG', 'POS', 'POS', 'POS', 'NEG', 'POS', 'NEG', 'NEG', 'POS', 'NEG', 'NEG', 'POS', 'NEG', 'NEG', 'POS', 'POS', 'NEG', 'NEG', 'POS', 'NEG', 'NEG', 'POS', 'NEG', 'POS', 'POS', 'POS', 'POS', 'NEG', 'NEG', 'POS', 'POS', 'NEG', 'POS', 'POS', 'POS', 'NEG', 'POS', 'NEG', 'POS', 'POS', 'POS', 'NEG', 'NEG', 'NEG', 'POS', 'POS', 'POS', 'POS', 'NEG', 'NEG', 'NEG', 'POS', 'POS', 'NEG', 'NEG', 'POS', 'POS', 'NEG', 'POS', 'POS', 'POS', 'POS', 'POS', 'NEG', 'POS', 'POS', 'POS', 'POS', 'POS', 'POS', 'NEG', 'NEG', 'POS', 'POS', 'NEG', 'NEG', 'NEG', 'POS', 'POS', 'POS', 'NEG', 'POS', 'NEG', 'POS', 'NEG', 'POS', 'POS', 'NEG', 'NEG', 'NEG', 'POS', 'NEG', 'POS', 'NEG', 'POS', 'POS', 'POS', 'POS', 'POS', 'POS', 'POS', 'NEG', 'NEG', 'POS', 'POS', 'POS', 'POS', 'POS', 'POS', 'POS', 'NEG', 'NEG', 'POS', 'NEG', 'POS', 'POS', 'POS', 'POS', 'NEG', 'POS', 'NEG', 'POS', 'NEG', 'POS', 'POS', 'NEG', 'NEG', 'POS', 'NEG', 'NEG', 'NEG', 'NEG', 'NEG', 'POS', 'POS', 'NEG', 'POS', 'POS', 'POS', 'NEG', 'NEG', 'NEG', 'POS', 'NEG', 'NEG', 'NEG', 'POS', 'POS', 'NEG', 'NEG', 'POS', 'POS', 'POS', 'POS', 'NEG', 'NEG', 'POS', 'NEG', 'NEG', 'NEG', 'POS', 'NEG', 'POS', 'POS', 'NEG', 'POS', 'POS', 'NEG', 'NEG', 'POS', 'NEG', 'NEG', 'NEG', 'POS', 'POS', 'POS', 'POS', 'POS', 'POS', 'POS', 'POS', 'NEG', 'NEG', 'POS', 'NEG', 'POS', 'POS', 'POS', 'POS', 'POS', 'POS', 'POS', 'POS', 'NEG', 'NEG', 'POS', 'POS', 'NEG', 'NEG', 'NEG', 'NEG', 'NEG', 'NEG', 'NEG', 'NEG', 'POS', 'POS', 'POS', 'POS', 'POS', 'POS', 'NEG', 'NEG', 'NEG', 'NEG', 'NEG', 'POS', 'POS', 'POS', 'POS', 'POS', 'NEG', 'POS', 'POS', 'NEG', 'NEG', 'NEG', 'POS', 'NEG', 'POS', 'POS', 'POS', 'POS', 'NEG', 'POS', 'POS', 'NEG', 'NEG', 'NEG', 'POS', 'POS', 'NEG', 'POS', 'POS', 'POS', 'POS', 'NEG', 'NEG', 'POS', 'POS', 'POS', 'POS', 'POS', 'NEG', 'POS', 'NEG', 'POS', 'NEG', 'NEG', 'NEG', 'POS', 'POS', 'NEG', 'NEG', 'NEG', 'POS', 'NEG', 'POS', 'NEG', 'POS', 'NEG', 'POS', 'POS', 'POS', 'NEG', 'NEG', 'NEG', 'NEG', 'POS', 'POS', 'POS', 'NEG', 'POS', 'NEG', 'POS', 'POS', 'POS', 'NEG', 'NEG', 'POS', 'NEG', 'NEG', 'POS', 'NEG', 'POS', 'NEG', 'POS', 'POS', 'NEG', 'POS', 'POS', 'POS', 'POS', 'POS', 'NEG', 'POS', 'NEG', 'NEG', 'POS', 'NEG', 'NEG', 'NEG', 'POS', 'NEG', 'NEG', 'POS', 'POS', 'NEG', 'POS', 'POS', 'NEG', 'NEG', 'NEG', 'POS', 'NEG', 'NEG', 'NEG', 'POS', 'NEG', 'NEG', 'POS', 'POS', 'POS', 'POS', 'NEG', 'NEG', 'POS', 'POS', 'POS', 'NEG', 'NEG', 'NEG', 'POS', 'NEG', 'NEG', 'POS', 'POS', 'POS', 'POS', 'NEG', 'POS', 'POS', 'POS', 'POS', 'POS', 'NEG', 'POS', 'POS', 'POS', 'POS', 'POS', 'POS', 'NEG', 'NEG', 'NEG', 'POS', 'NEG', 'NEG', 'NEG', 'POS', 'NEG', 'NEG', 'POS', 'NEG', 'POS', 'NEG', 'NEG', 'NEG', 'NEG', 'POS', 'NEG', 'NEG', 'POS', 'POS', 'NEG', 'NEG', 'NEG', 'POS', 'POS', 'POS', 'NEG', 'NEG', 'NEG', 'NEG', 'POS', 'POS', 'POS', 'POS', 'POS', 'NEG', 'POS', 'NEG', 'POS', 'POS', 'NEG', 'NEG', 'NEG', 'POS', 'NEG', 'NEG', 'POS', 'NEG', 'NEG', 'POS', 'NEG', 'POS', 'POS', 'NEG', 'POS', 'NEG', 'NEG', 'POS', 'POS', 'POS', 'NEG', 'NEG', 'NEG', 'NEG', 'NEG', 'NEG', 'POS', 'POS', 'POS', 'POS', 'POS', 'NEG', 'NEG', 'NEG', 'NEG', 'NEG', 'NEG', 'NEG', 'NEG', 'NEG', 'NEG', 'POS', 'POS', 'POS', 'NEG', 'POS', 'POS', 'POS', 'NEG', 'POS', 'POS', 'NEG', 'NEG', 'POS', 'NEG', 'POS', 'NEG', 'NEG', 'NEG', 'NEG', 'POS', 'POS', 'POS', 'POS', 'POS', 'NEG', 'POS', 'POS', 'POS', 'NEG', 'NEG', 'NEG', 'NEG', 'NEG', 'NEG', 'POS', 'NEG', 'POS', 'POS', 'POS', 'POS', 'POS', 'NEG', 'POS', 'POS', 'NEG', 'POS', 'NEG', 'POS', 'POS', 'POS', 'NEG', 'POS', 'POS', 'POS', 'NEG', 'NEG', 'POS', 'POS', 'POS', 'POS', 'NEG', 'POS', 'POS', 'NEG', 'POS', 'POS', 'NEG', 'NEG', 'POS', 'NEG', 'POS', 'NEG', 'NEG', 'NEG', 'POS', 'NEG', 'NEG', 'NEG', 'POS', 'POS', 'POS', 'POS', 'POS', 'POS', 'POS', 'NEG', 'POS', 'POS', 'POS', 'POS', 'POS', 'POS', 'NEG', 'NEG', 'POS', 'POS', 'POS', 'POS', 'POS', 'POS', 'POS', 'NEG', 'POS', 'NEG', 'POS', 'NEG', 'NEG', 'NEG', 'POS', 'NEG', 'POS', 'POS', 'NEG', 'POS', 'NEG', 'NEG', 'NEG', 'NEG', 'NEG', 'POS', 'POS', 'POS', 'POS', 'NEG', 'NEG', 'POS', 'POS', 'POS', 'NEG', 'NEG', 'POS', 'POS', 'POS', 'POS', 'NEG', 'POS', 'POS', 'POS', 'POS', 'NEG', 'POS', 'NEG', 'POS', 'POS', 'NEG', 'POS', 'POS', 'POS', 'NEG', 'NEG', 'NEG', 'POS', 'POS', 'POS', 'POS', 'POS', 'POS', 'POS', 'NEG', 'POS', 'POS', 'POS', 'POS', 'NEG', 'POS', 'NEG', 'NEG', 'POS', 'POS', 'NEG', 'POS', 'NEG', 'NEG', 'NEG', 'NEG', 'NEG', 'NEG', 'POS', 'NEG', 'NEG', 'POS', 'POS', 'NEG', 'POS', 'NEG', 'POS', 'POS', 'NEG', 'POS', 'NEG', 'NEG', 'POS', 'POS', 'POS', 'NEG', 'POS', 'POS', 'POS', 'POS', 'POS', 'NEG', 'NEG', 'NEG', 'POS', 'POS', 'NEG', 'POS', 'POS', 'NEG', 'POS', 'NEG', 'NEG', 'POS', 'NEG', 'POS', 'NEG', 'POS', 'POS', 'POS', 'POS', 'NEG', 'NEG', 'POS', 'POS', 'NEG', 'POS', 'POS', 'POS', 'NEG', 'POS', 'NEG', 'POS', 'POS', 'POS', 'NEG', 'POS', 'POS', 'POS', 'POS', 'POS', 'NEG', 'POS', 'POS', 'POS', 'NEG', 'NEG', 'POS', 'NEG', 'POS', 'POS', 'POS', 'POS', 'POS', 'NEG', 'NEG', 'NEG', 'POS', 'NEG', 'NEG', 'POS', 'POS', 'POS', 'NEG', 'NEG', 'NEG', 'NEG', 'NEG', 'POS', 'NEG', 'POS', 'NEG', 'POS', 'NEG', 'NEG', 'NEG', 'POS', 'NEG', 'POS', 'POS', 'NEG', 'NEG', 'POS', 'NEG', 'NEG', 'NEG', 'NEG', 'POS', 'NEG', 'POS', 'NEG', 'NEG', 'NEG', 'NEG', 'POS', 'NEG', 'NEG', 'POS', 'POS', 'POS', 'NEG', 'NEG', 'POS', 'NEG', 'NEG', 'NEG', 'POS', 'NEG', 'NEG', 'POS', 'POS', 'NEG', 'POS', 'POS', 'NEG', 'NEG', 'NEG', 'NEG', 'POS', 'NEG', 'POS', 'NEG', 'NEG', 'POS', 'POS', 'NEG', 'NEG', 'POS', 'POS', 'POS', 'POS', 'POS', 'POS', 'POS', 'NEG', 'NEG', 'POS', 'POS', 'NEG', 'NEG', 'POS', 'POS', 'NEG', 'POS', 'NEG', 'POS', 'POS', 'NEG', 'POS', 'NEG', 'NEG', 'NEG', 'POS', 'NEG', 'NEG', 'NEG', 'POS', 'POS', 'NEG', 'POS', 'POS', 'NEG', 'NEG', 'POS', 'NEG', 'POS', 'POS', 'POS', 'NEG', 'POS', 'POS', 'NEG', 'NEG', 'POS', 'POS', 'POS', 'POS', 'POS', 'POS', 'NEG', 'POS', 'POS', 'NEG', 'NEG', 'POS', 'POS', 'NEG', 'NEG', 'NEG', 'POS', 'POS', 'POS', 'NEG', 'NEG', 'NEG', 'NEG', 'NEG', 'POS', 'NEG', 'POS', 'POS', 'POS', 'POS', 'POS', 'NEG', 'POS', 'POS', 'POS', 'NEG', 'POS', 'NEG', 'NEG', 'NEG', 'NEG', 'POS', 'POS', 'POS', 'NEG', 'POS', 'POS', 'NEG', 'NEG', 'POS', 'NEG', 'POS', 'NEG', 'NEG', 'POS', 'POS', 'POS', 'POS', 'POS', 'POS', 'POS', 'NEG', 'POS', 'NEG', 'NEG', 'POS', 'POS', 'POS', 'NEG', 'POS', 'POS', 'POS', 'POS', 'POS', 'NEG', 'POS', 'NEG', 'NEG', 'POS', 'POS', 'POS', 'POS', 'POS', 'POS', 'NEG', 'NEG', 'POS', 'NEG', 'POS', 'POS', 'POS', 'POS', 'POS', 'POS', 'POS', 'NEG', 'NEG', 'POS', 'NEG', 'POS', 'NEG', 'POS', 'NEG', 'NEG', 'NEG', 'POS', 'POS', 'POS', 'NEG', 'POS', 'POS', 'POS', 'NEG', 'POS', 'POS', 'POS', 'NEG', 'POS', 'POS', 'NEG', 'NEG', 'POS', 'NEG', 'POS', 'POS', 'POS', 'POS', 'NEG', 'POS', 'POS', 'POS', 'POS', 'POS', 'POS', 'POS', 'POS', 'POS', 'NEG', 'NEG', 'POS', 'POS', 'NEG', 'POS', 'POS', 'NEG', 'POS', 'NEG', 'NEG', 'NEG', 'POS', 'POS', 'POS', 'POS', 'NEG', 'POS', 'NEG', 'NEG', 'POS', 'NEG', 'NEG', 'POS', 'POS', 'NEG', 'NEG', 'POS', 'POS', 'NEG', 'NEG', 'POS', 'NEG', 'POS', 'POS', 'POS', 'NEG', 'NEG', 'POS', 'POS', 'POS', 'POS', 'NEG', 'NEG', 'NEG', 'POS', 'NEG', 'POS', 'POS', 'NEG', 'POS', 'NEG', 'NEG', 'POS', 'NEG', 'NEG', 'POS', 'NEG', 'NEG', 'NEG', 'POS', 'POS', 'POS', 'POS', 'POS', 'NEG', 'NEG', 'NEG', 'NEG', 'NEG', 'POS', 'POS', 'POS', 'POS', 'NEG', 'NEG', 'POS', 'POS', 'POS', 'NEG', 'POS', 'NEG', 'POS', 'POS', 'POS', 'NEG', 'NEG', 'NEG', 'POS', 'POS', 'NEG', 'POS', 'POS', 'NEG', 'POS', 'NEG', 'POS', 'NEG', 'POS', 'POS', 'NEG', 'POS', 'NEG', 'POS', 'POS', 'POS', 'POS', 'POS', 'POS', 'NEG', 'POS', 'POS', 'POS', 'NEG', 'POS', 'NEG', 'NEG', 'POS', 'NEG', 'POS', 'NEG', 'POS', 'POS', 'NEG', 'NEG', 'NEG', 'NEG', 'POS', 'POS', 'POS', 'POS', 'POS', 'POS', 'POS', 'POS', 'POS', 'POS', 'NEG', 'POS', 'NEG', 'POS', 'POS', 'NEG', 'POS', 'NEG', 'POS', 'NEG', 'NEG', 'NEG', 'POS', 'NEG', 'NEG', 'POS', 'POS', 'NEG', 'POS', 'POS', 'POS', 'POS', 'NEG', 'POS', 'NEG', 'NEG', 'NEG', 'POS', 'NEG', 'POS', 'NEG', 'NEG', 'POS', 'POS', 'NEG', 'POS', 'POS', 'NEG', 'NEG', 'NEG', 'NEG', 'NEG', 'POS', 'NEG', 'NEG', 'POS', 'POS', 'POS', 'POS', 'NEG', 'NEG', 'NEG', 'POS', 'POS', 'POS', 'POS', 'POS', 'NEG', 'POS', 'POS', 'NEG', 'NEG', 'NEG', 'NEG', 'NEG', 'POS', 'NEG', 'POS', 'NEG', 'NEG', 'NEG', 'POS', 'POS', 'NEG', 'NEG', 'POS', 'POS', 'POS', 'NEG', 'NEG', 'POS', 'NEG', 'POS', 'NEG', 'POS', 'POS', 'POS', 'POS', 'POS', 'POS', 'NEG', 'POS', 'POS', 'POS', 'POS', 'NEG', 'NEG', 'POS', 'POS', 'POS', 'POS', 'POS', 'NEG', 'NEG', 'NEG', 'POS', 'POS', 'POS', 'NEG', 'NEG', 'POS', 'NEG', 'NEG', 'POS', 'NEG', 'POS', 'NEG', 'POS', 'POS', 'POS', 'NEG', 'NEG', 'POS', 'POS', 'POS', 'POS', 'POS', 'POS', 'POS', 'NEG', 'POS', 'NEG', 'POS', 'POS', 'POS', 'POS', 'POS', 'NEG', 'POS', 'POS', 'NEG', 'POS', 'NEG', 'POS', 'POS', 'POS', 'NEG', 'POS', 'NEG', 'POS', 'POS', 'POS', 'POS', 'POS', 'POS', 'NEG', 'POS', 'POS', 'POS', 'POS', 'POS', 'NEG', 'POS', 'POS', 'NEG', 'NEG', 'POS', 'NEG', 'NEG', 'NEG', 'NEG', 'NEG', 'NEG', 'POS', 'NEG', 'POS', 'POS', 'NEG', 'POS', 'POS', 'NEG', 'NEG', 'POS', 'NEG', 'NEG', 'POS', 'NEG', 'POS', 'POS', 'NEG', 'NEG', 'POS', 'POS', 'NEG', 'NEG', 'NEG', 'NEG', 'POS', 'POS', 'NEG', 'POS', 'NEG', 'POS', 'NEG', 'NEG', 'POS', 'POS', 'POS', 'NEG', 'POS', 'NEG', 'NEG', 'NEG', 'POS', 'NEG', 'POS', 'POS', 'POS', 'NEG', 'NEG', 'NEG', 'NEG', 'POS', 'POS', 'NEG', 'POS', 'POS', 'POS', 'NEG', 'NEG', 'NEG', 'NEG', 'NEG', 'POS', 'NEG', 'POS', 'NEG', 'POS', 'NEG', 'POS', 'NEG', 'POS', 'POS', 'NEG', 'POS', 'NEG', 'POS', 'POS', 'NEG', 'POS', 'NEG', 'NEG', 'POS', 'POS', 'POS', 'NEG', 'POS', 'POS', 'POS', 'NEG', 'POS', 'POS', 'POS', 'POS', 'POS', 'POS', 'POS', 'NEG', 'NEG', 'POS', 'POS', 'POS', 'NEG', 'POS', 'NEG', 'POS', 'POS', 'NEG', 'NEG', 'POS', 'NEG', 'NEG', 'POS', 'POS', 'NEG', 'NEG', 'NEG', 'POS', 'NEG', 'NEG', 'NEG', 'NEG', 'POS', 'POS', 'NEG', 'POS', 'NEG', 'NEG', 'NEG', 'POS', 'NEG', 'POS', 'NEG', 'POS', 'POS', 'NEG', 'NEG', 'NEG', 'POS', 'POS', 'NEG', 'NEG', 'POS', 'NEG', 'NEG', 'POS', 'POS', 'NEG', 'NEG', 'POS', 'NEG', 'POS', 'NEG', 'POS', 'POS', 'POS', 'NEG', 'POS', 'POS', 'NEG', 'POS', 'POS', 'NEG', 'POS', 'NEG', 'NEG', 'POS', 'POS', 'NEG', 'POS', 'POS', 'POS', 'POS', 'POS', 'NEG', 'NEG', 'POS', 'POS', 'NEG', 'NEG', 'POS', 'NEG', 'POS', 'NEG', 'NEG', 'NEG', 'NEG', 'POS', 'POS', 'POS', 'NEG', 'NEG', 'NEG', 'POS', 'NEG', 'POS', 'POS', 'POS', 'NEG', 'NEG', 'POS', 'POS', 'POS', 'POS', 'POS', 'NEG', 'POS', 'POS', 'POS', 'POS', 'POS', 'POS', 'NEG', 'NEG', 'POS', 'POS', 'POS', 'POS', 'POS', 'POS', 'NEG', 'POS', 'NEG', 'POS', 'NEG', 'POS', 'POS', 'NEG', 'POS', 'NEG', 'POS', 'POS', 'NEG', 'POS', 'POS', 'NEG', 'NEG', 'POS', 'NEG', 'NEG', 'POS', 'POS', 'NEG', 'POS', 'POS', 'POS', 'POS', 'POS', 'POS', 'NEG', 'NEG', 'NEG', 'POS', 'POS', 'NEG', 'NEG', 'POS', 'NEG', 'NEG', 'NEG', 'POS', 'NEG', 'NEG', 'NEG', 'POS', 'NEG', 'POS', 'POS', 'POS', 'POS', 'POS', 'NEG', 'NEG', 'POS', 'POS', 'NEG', 'NEG', 'POS', 'POS', 'NEG', 'POS', 'POS', 'POS', 'POS', 'POS', 'POS', 'NEG', 'NEG', 'NEG', 'NEG', 'NEG', 'POS', 'POS', 'POS', 'POS', 'POS', 'NEG', 'POS', 'POS', 'POS', 'POS', 'NEG', 'NEG', 'POS', 'POS', 'POS', 'POS', 'POS', 'POS', 'NEG', 'NEG', 'POS', 'NEG', 'POS', 'POS', 'POS', 'POS', 'POS', 'POS', 'POS', 'POS', 'POS', 'NEG', 'NEG', 'POS', 'POS', 'NEG', 'NEG', 'POS', 'NEG', 'NEG', 'NEG', 'POS', 'NEG', 'POS', 'NEG', 'POS', 'POS', 'NEG', 'POS', 'POS', 'NEG', 'POS', 'POS', 'NEG', 'NEG', 'NEG', 'NEG', 'POS', 'NEG', 'NEG', 'POS', 'NEG', 'POS', 'NEG', 'POS', 'NEG', 'NEG', 'NEG', 'POS', 'POS', 'NEG', 'POS', 'POS', 'POS', 'POS', 'POS', 'NEG', 'NEG', 'NEG', 'NEG', 'NEG', 'NEG', 'NEG', 'NEG', 'POS', 'POS', 'NEG', 'NEG', 'POS', 'POS', 'POS', 'NEG', 'POS', 'POS', 'POS', 'NEG', 'NEG', 'NEG', 'NEG', 'NEG', 'POS', 'POS', 'NEG', 'POS', 'POS', 'POS', 'POS', 'POS', 'POS', 'POS', 'NEG', 'POS', 'POS', 'NEG', 'POS', 'POS', 'POS', 'POS', 'POS', 'POS', 'POS', 'POS', 'NEG', 'POS', 'POS', 'POS', 'POS', 'POS', 'POS', 'POS', 'NEG', 'POS', 'NEG', 'POS', 'NEG', 'POS', 'POS', 'NEG', 'NEG', 'NEG', 'NEG', 'POS', 'POS', 'POS', 'POS', 'POS', 'POS', 'POS', 'NEG', 'POS', 'NEG', 'POS', 'POS', 'NEG', 'POS', 'NEG', 'NEG', 'POS', 'NEG', 'NEG', 'POS', 'POS', 'NEG', 'POS', 'POS', 'NEG', 'POS', 'POS', 'POS', 'NEG', 'POS', 'NEG', 'POS', 'POS', 'NEG', 'NEG', 'POS', 'NEG', 'POS', 'POS', 'POS', 'NEG', 'POS', 'NEG', 'NEG', 'POS', 'POS', 'NEG', 'POS', 'NEG', 'NEG', 'NEG', 'POS', 'POS', 'NEG', 'NEG', 'NEG', 'NEG', 'POS', 'NEG', 'NEG', 'POS', 'POS', 'NEG', 'POS', 'POS', 'POS', 'NEG', 'POS', 'NEG', 'POS', 'NEG', 'POS', 'NEG', 'POS', 'POS', 'POS', 'POS', 'NEG', 'POS', 'POS', 'POS', 'POS', 'NEG', 'POS', 'NEG', 'NEG', 'POS', 'POS', 'NEG', 'POS', 'NEG', 'POS', 'POS', 'NEG', 'POS', 'POS', 'POS', 'NEG', 'POS', 'NEG', 'POS', 'NEG', 'POS', 'NEG', 'NEG', 'POS', 'NEG', 'NEG', 'NEG', 'NEG', 'NEG', 'NEG', 'POS', 'NEG', 'POS', 'NEG', 'NEG', 'POS', 'POS', 'POS', 'NEG', 'POS', 'NEG', 'NEG', 'POS', 'NEG', 'NEG', 'NEG', 'NEG', 'NEG', 'POS', 'NEG', 'POS', 'POS', 'NEG', 'NEG', 'POS', 'POS', 'NEG', 'POS', 'NEG', 'POS', 'POS', 'NEG', 'NEG', 'NEG', 'POS', 'NEG', 'NEG', 'POS', 'NEG', 'NEG', 'NEG', 'NEG', 'NEG', 'POS', 'NEG', 'POS', 'POS', 'POS', 'NEG', 'NEG', 'NEG', 'NEG', 'NEG', 'POS', 'NEG', 'POS', 'NEG', 'NEG', 'NEG', 'NEG', 'POS', 'POS', 'NEG', 'NEG', 'POS', 'NEG', 'POS', 'POS', 'POS', 'POS', 'NEG', 'NEG', 'NEG', 'NEG', 'NEG', 'NEG', 'POS', 'POS', 'POS', 'NEG', 'NEG', 'POS', 'NEG', 'NEG', 'NEG', 'POS', 'NEG', 'POS', 'POS', 'POS', 'POS', 'NEG', 'POS', 'NEG', 'POS', 'NEG', 'NEG', 'POS', 'NEG', 'NEG', 'POS', 'NEG', 'POS', 'NEG', 'POS', 'POS', 'NEG', 'POS', 'POS', 'POS', 'POS', 'NEG', 'NEG', 'NEG', 'NEG', 'NEG', 'POS', 'POS', 'POS', 'POS', 'POS', 'POS', 'POS', 'POS', 'POS', 'POS', 'POS', 'NEG', 'POS', 'POS', 'NEG', 'NEG', 'POS', 'NEG', 'POS', 'NEG', 'NEG', 'NEG', 'NEG', 'NEG', 'NEG', 'POS', 'NEG', 'POS', 'NEG', 'POS', 'POS', 'NEG', 'POS', 'NEG', 'NEG', 'NEG', 'POS', 'POS', 'NEG', 'NEG', 'POS', 'POS', 'POS', 'POS', 'POS', 'POS', 'POS', 'NEG', 'NEG', 'POS', 'NEG', 'POS', 'POS', 'NEG', 'POS', 'POS', 'NEG', 'NEG', 'POS', 'NEG', 'POS', 'NEG', 'POS', 'POS', 'POS', 'NEG', 'POS', 'POS', 'POS', 'POS', 'POS', 'POS', 'NEG', 'POS', 'NEG', 'NEG', 'NEG', 'NEG', 'NEG', 'POS', 'NEG', 'NEG', 'POS', 'NEG', 'POS', 'POS', 'POS', 'NEG', 'POS', 'POS', 'POS', 'POS', 'POS', 'POS', 'NEG', 'POS', 'NEG', 'POS', 'POS', 'POS', 'NEG', 'NEG', 'POS', 'POS', 'POS', 'POS', 'POS', 'POS', 'POS', 'POS', 'POS', 'POS', 'NEG', 'NEG', 'POS', 'POS', 'POS', 'NEG', 'NEG', 'NEG', 'POS', 'POS', 'POS', 'POS', 'POS', 'POS', 'POS', 'POS', 'NEG', 'NEG', 'POS', 'NEG', 'NEG', 'NEG', 'NEG', 'NEG', 'POS', 'NEG', 'NEG', 'NEG', 'POS', 'POS', 'NEG', 'POS', 'POS', 'NEG', 'POS', 'POS', 'POS', 'POS', 'NEG', 'POS', 'POS', 'NEG', 'NEG', 'NEG', 'POS', 'NEG', 'NEG', 'NEG', 'NEG', 'POS', 'POS', 'POS', 'NEG', 'NEG', 'POS', 'POS', 'POS', 'POS', 'NEG', 'POS', 'POS', 'NEG', 'NEG', 'POS', 'POS', 'NEG', 'NEG', 'POS', 'POS', 'POS', 'NEG', 'NEG', 'NEG', 'NEG', 'NEG', 'NEG', 'POS', 'NEG', 'POS', 'NEG', 'POS', 'POS', 'NEG', 'NEG', 'POS', 'POS', 'NEG', 'NEG', 'NEG', 'NEG', 'POS', 'POS', 'POS', 'POS', 'NEG', 'NEG', 'NEG', 'NEG', 'POS', 'NEG', 'POS', 'NEG', 'POS', 'NEG', 'NEG', 'POS', 'NEG', 'POS', 'POS', 'NEG', 'POS', 'NEG', 'NEG', 'POS', 'NEG', 'POS', 'NEG', 'NEG', 'NEG', 'POS', 'POS', 'POS', 'NEG', 'POS', 'POS', 'POS', 'NEG', 'NEG', 'NEG', 'POS', 'POS', 'POS', 'POS', 'POS', 'POS', 'POS', 'POS', 'NEG', 'NEG', 'POS', 'POS', 'POS', 'NEG', 'POS', 'NEG', 'NEG', 'POS', 'NEG', 'POS', 'NEG', 'POS', 'POS', 'NEG', 'NEG', 'POS', 'NEG', 'NEG', 'POS', 'NEG', 'POS', 'NEG', 'POS', 'POS', 'NEG', 'POS', 'POS', 'NEG', 'NEG', 'POS', 'POS', 'POS', 'POS', 'NEG', 'POS', 'POS', 'NEG', 'NEG', 'NEG', 'NEG', 'NEG', 'POS', 'POS', 'POS', 'POS', 'POS', 'POS', 'POS', 'POS', 'NEG', 'NEG', 'NEG', 'POS', 'NEG', 'NEG', 'NEG', 'POS', 'POS', 'NEG', 'POS', 'NEG', 'POS', 'POS', 'POS', 'POS', 'NEG', 'NEG', 'NEG', 'POS', 'POS', 'POS', 'NEG', 'POS', 'POS', 'POS', 'POS', 'NEG', 'POS', 'POS', 'POS', 'POS', 'POS', 'NEG', 'NEG', 'NEG', 'NEG', 'POS', 'NEG', 'POS', 'POS', 'NEG', 'NEG', 'POS', 'NEG', 'POS', 'NEG', 'NEG', 'NEG', 'NEG', 'POS', 'NEG', 'NEG', 'POS', 'NEG', 'POS', 'POS', 'POS', 'POS', 'POS', 'POS', 'POS', 'NEG', 'NEG', 'NEG', 'NEG', 'POS', 'NEG', 'NEG', 'NEG', 'POS', 'POS', 'NEG', 'NEG', 'POS', 'NEG', 'POS', 'NEG', 'POS', 'POS', 'NEG', 'POS', 'POS', 'NEG', 'NEG', 'POS', 'POS', 'POS', 'NEG', 'NEG', 'POS', 'POS', 'POS', 'POS', 'POS', 'POS', 'NEG', 'POS', 'POS', 'NEG', 'POS', 'POS', 'POS', 'POS', 'POS', 'NEG', 'NEG', 'NEG', 'NEG', 'POS', 'POS', 'POS', 'POS', 'NEG', 'POS', 'NEG', 'NEG', 'POS', 'NEG', 'POS', 'NEG', 'POS', 'POS', 'NEG', 'NEG', 'POS', 'POS', 'NEG', 'POS', 'POS', 'POS', 'NEG', 'NEG', 'POS', 'NEG', 'NEG', 'NEG', 'POS', 'POS', 'NEG', 'POS', 'POS', 'POS', 'POS', 'POS', 'POS', 'POS', 'NEG', 'POS', 'POS', 'POS', 'POS', 'NEG', 'NEG', 'POS', 'POS', 'POS', 'NEG', 'NEG', 'NEG', 'POS', 'POS', 'POS', 'POS', 'NEG', 'NEG', 'NEG', 'NEG', 'NEG', 'NEG', 'POS', 'POS', 'NEG', 'NEG', 'NEG', 'POS', 'POS', 'POS', 'POS', 'NEG', 'POS', 'NEG', 'POS', 'NEG', 'POS', 'POS', 'NEG', 'NEG', 'NEG', 'POS', 'NEG', 'NEG', 'POS', 'NEG', 'NEG', 'POS', 'POS', 'POS', 'NEG', 'POS', 'POS', 'POS', 'NEG', 'NEG', 'POS', 'POS', 'POS', 'POS', 'POS', 'NEG', 'NEG', 'NEG', 'NEG', 'NEG', 'NEG', 'NEG', 'POS', 'NEG', 'POS', 'NEG', 'POS', 'POS', 'NEG', 'POS', 'NEG', 'NEG', 'POS', 'POS', 'POS', 'NEG', 'NEG', 'POS', 'NEG', 'POS', 'POS', 'NEG', 'POS', 'NEG', 'POS', 'POS', 'POS', 'NEG', 'NEG', 'POS', 'NEG', 'POS', 'POS', 'POS', 'NEG', 'NEG', 'POS', 'POS', 'POS', 'NEG', 'NEG', 'POS', 'NEG', 'POS', 'POS', 'NEG', 'NEG', 'NEG', 'NEG', 'POS', 'POS', 'POS', 'POS', 'NEG', 'NEG', 'POS', 'POS', 'NEG', 'NEG', 'NEG', 'POS', 'POS', 'POS', 'NEG', 'NEG', 'POS', 'NEG', 'NEG', 'POS', 'POS', 'POS', 'POS', 'POS', 'NEG', 'POS', 'POS', 'NEG', 'NEG', 'NEG', 'POS', 'POS', 'POS', 'NEG', 'NEG', 'POS', 'POS', 'POS', 'POS', 'NEG', 'POS', 'POS', 'NEG', 'POS', 'NEG', 'NEG', 'NEG', 'POS', 'POS', 'NEG', 'POS', 'POS', 'POS', 'NEG', 'NEG', 'NEG', 'NEG', 'POS', 'POS', 'NEG', 'POS', 'POS', 'POS', 'POS', 'POS', 'NEG', 'NEG', 'POS', 'NEG', 'NEG', 'POS', 'POS', 'NEG', 'POS', 'NEG', 'NEG', 'POS', 'NEG', 'NEG', 'POS', 'NEG', 'NEG', 'NEG', 'POS', 'POS', 'POS', 'NEG', 'NEG', 'POS', 'NEG', 'POS', 'NEG', 'NEG', 'POS', 'NEG', 'POS', 'NEG', 'NEG', 'NEG', 'POS', 'NEG', 'NEG', 'NEG', 'NEG', 'NEG', 'POS', 'POS', 'NEG', 'NEG', 'NEG', 'NEG', 'POS', 'POS', 'POS', 'POS', 'POS', 'NEG', 'NEG', 'NEG', 'NEG', 'NEG', 'POS', 'NEG', 'POS', 'NEG', 'NEG', 'POS', 'POS', 'NEG', 'POS', 'NEG', 'POS', 'POS', 'POS', 'POS', 'POS', 'NEG', 'NEG', 'NEG', 'NEG', 'NEG', 'NEG', 'NEG', 'NEG', 'POS', 'POS', 'POS', 'NEG', 'NEG', 'POS', 'POS', 'POS', 'POS', 'POS', 'NEG', 'POS', 'POS', 'POS', 'POS', 'POS', 'NEG', 'POS', 'POS', 'POS', 'NEG', 'NEG', 'POS', 'POS', 'NEG', 'NEG', 'POS', 'POS', 'POS', 'NEG', 'NEG', 'POS', 'POS', 'NEG', 'NEG', 'POS', 'POS', 'POS', 'NEG', 'POS', 'NEG', 'NEG', 'NEG', 'NEG', 'POS', 'POS', 'NEG', 'NEG', 'POS', 'POS', 'POS', 'NEG', 'POS', 'NEG', 'NEG', 'NEG', 'NEG', 'NEG', 'NEG', 'POS', 'NEG', 'POS', 'POS', 'POS', 'POS', 'POS', 'NEG', 'POS', 'NEG', 'POS', 'POS', 'POS', 'POS', 'NEG', 'POS', 'NEG', 'NEG', 'NEG', 'POS', 'POS', 'POS', 'POS', 'POS', 'POS', 'NEG', 'NEG', 'POS', 'POS', 'NEG', 'POS', 'POS', 'POS', 'NEG', 'POS', 'POS', 'NEG', 'POS', 'POS', 'POS', 'POS', 'NEG', 'POS', 'NEG', 'NEG', 'POS', 'POS', 'POS', 'NEG', 'POS', 'POS', 'POS', 'POS', 'NEG', 'NEG', 'POS', 'POS', 'POS', 'NEG', 'POS', 'POS', 'NEG', 'POS', 'POS', 'NEG', 'NEG', 'POS', 'POS', 'NEG', 'POS', 'NEG', 'NEG', 'POS', 'POS', 'POS', 'NEG', 'NEG', 'POS', 'POS', 'NEG', 'NEG', 'POS', 'POS', 'POS', 'POS', 'NEG', 'NEG', 'POS', 'NEG', 'POS', 'POS', 'NEG', 'POS', 'POS', 'POS', 'POS', 'POS', 'POS', 'NEG', 'NEG', 'NEG', 'POS', 'NEG', 'NEG', 'POS', 'POS', 'POS', 'NEG', 'NEG', 'NEG', 'POS', 'POS', 'POS', 'NEG', 'POS', 'POS', 'NEG', 'NEG', 'POS', 'POS', 'POS', 'NEG', 'POS', 'NEG', 'POS', 'POS', 'POS', 'POS', 'POS', 'POS', 'POS', 'NEG', 'POS', 'POS', 'POS', 'POS', 'NEG', 'POS', 'POS', 'NEG', 'NEG', 'POS', 'NEG', 'POS', 'POS', 'NEG', 'NEG', 'NEG', 'NEG', 'POS', 'POS', 'POS', 'POS', 'NEG', 'NEG', 'NEG', 'NEG', 'NEG', 'POS', 'NEG', 'POS', 'NEG', 'POS', 'POS', 'POS', 'POS', 'NEG', 'POS', 'POS', 'NEG', 'POS', 'NEG', 'POS', 'POS', 'NEG', 'POS', 'POS', 'POS', 'POS', 'NEG', 'NEG', 'NEG', 'POS', 'POS', 'POS', 'POS', 'POS', 'POS', 'POS', 'POS', 'POS', 'NEG', 'POS', 'POS', 'NEG', 'POS', 'NEG', 'POS', 'POS', 'POS', 'NEG', 'POS', 'POS', 'POS', 'POS', 'POS', 'POS', 'POS', 'NEG', 'POS', 'NEG', 'POS', 'POS', 'NEG', 'POS', 'POS', 'NEG', 'POS', 'NEG', 'POS', 'POS', 'POS', 'POS', 'NEG', 'POS', 'POS', 'NEG', 'NEG', 'POS', 'NEG', 'NEG', 'POS', 'NEG', 'POS', 'NEG', 'POS', 'POS', 'POS', 'NEG', 'NEG', 'NEG', 'POS', 'POS', 'NEG', 'NEG', 'POS', 'POS', 'POS', 'POS', 'NEG', 'POS', 'POS', 'NEG', 'POS', 'NEG', 'NEG', 'NEG', 'NEG', 'NEG', 'NEG', 'NEG', 'NEG', 'POS', 'POS', 'POS', 'NEG', 'POS', 'POS', 'POS', 'NEG', 'POS', 'POS', 'POS', 'POS', 'POS', 'POS', 'NEG', 'NEG', 'POS', 'NEG', 'POS', 'NEG', 'NEG', 'NEG', 'POS', 'POS', 'NEG', 'POS', 'POS', 'POS', 'POS', 'POS', 'NEG', 'POS', 'NEG', 'POS', 'POS', 'POS', 'POS', 'POS', 'POS', 'NEG', 'POS', 'POS', 'NEG', 'POS', 'POS', 'POS', 'NEG', 'NEG', 'NEG', 'POS', 'POS', 'POS', 'POS', 'NEG', 'NEG', 'NEG', 'POS', 'POS', 'POS', 'POS', 'NEG', 'NEG', 'POS', 'POS', 'POS', 'NEG', 'POS', 'POS', 'POS', 'NEG', 'NEG', 'POS', 'POS', 'POS', 'NEG', 'NEG', 'NEG', 'POS', 'NEG', 'POS', 'POS', 'POS', 'POS', 'POS', 'NEG', 'POS', 'POS', 'POS', 'POS', 'NEG', 'NEG', 'NEG', 'NEG', 'NEG', 'NEG', 'POS', 'NEG', 'POS', 'POS', 'POS', 'POS', 'POS', 'POS', 'POS', 'POS', 'NEG', 'NEG', 'POS', 'POS', 'NEG', 'NEG', 'NEG', 'POS', 'NEG', 'NEG', 'POS', 'POS', 'NEG', 'NEG', 'POS', 'POS', 'POS', 'POS', 'NEG', 'POS', 'NEG', 'POS', 'POS', 'POS', 'NEG', 'NEG', 'POS', 'POS', 'POS', 'NEG', 'POS', 'POS', 'POS', 'POS', 'NEG', 'POS', 'POS', 'NEG', 'POS', 'POS', 'POS', 'NEG', 'NEG', 'POS', 'POS', 'POS', 'POS', 'POS', 'POS', 'POS', 'NEG', 'POS', 'POS', 'NEG', 'POS', 'POS', 'NEG', 'NEG', 'NEG', 'NEG', 'NEG', 'POS', 'NEG', 'NEG', 'NEG', 'POS', 'POS', 'POS', 'POS', 'POS', 'NEG', 'NEG', 'NEG', 'POS', 'POS', 'POS', 'NEG', 'POS', 'NEG', 'POS', 'NEG', 'NEG', 'NEG', 'POS', 'POS', 'NEG', 'POS', 'POS', 'NEG', 'NEG', 'NEG', 'POS', 'POS', 'POS', 'NEG', 'NEG', 'POS', 'POS', 'POS', 'NEG', 'NEG', 'POS', 'NEG', 'POS', 'POS', 'POS', 'POS', 'NEG', 'POS', 'POS', 'POS', 'NEG', 'NEG', 'NEG', 'POS', 'POS', 'NEG', 'NEG', 'NEG', 'POS', 'POS', 'POS', 'POS', 'POS', 'POS', 'NEG', 'POS', 'POS', 'NEG', 'NEG', 'POS', 'NEG', 'POS', 'POS', 'POS', 'NEG', 'POS', 'NEG', 'NEG', 'NEG', 'NEG', 'NEG', 'POS', 'NEG', 'NEG', 'NEG', 'NEG', 'POS', 'POS', 'POS', 'POS', 'POS', 'POS', 'NEG', 'POS', 'POS', 'POS', 'POS', 'NEG', 'NEG', 'POS', 'NEG', 'NEG', 'POS', 'NEG', 'POS', 'NEG', 'NEG', 'POS', 'POS', 'NEG', 'POS', 'POS', 'NEG', 'POS', 'POS', 'POS', 'NEG', 'POS', 'NEG', 'POS', 'POS', 'NEG', 'POS', 'POS', 'NEG', 'POS', 'POS', 'POS', 'POS', 'POS', 'POS', 'POS', 'NEG', 'NEG', 'POS', 'POS', 'NEG', 'POS', 'POS', 'POS', 'POS', 'POS', 'POS', 'NEG', 'NEG', 'POS', 'POS', 'POS', 'NEG', 'NEG', 'POS', 'NEG', 'POS', 'NEG', 'NEG', 'NEG', 'POS', 'NEG', 'POS', 'POS', 'POS', 'NEG', 'POS', 'NEG', 'NEG', 'POS', 'NEG', 'POS', 'NEG', 'POS', 'POS', 'NEG', 'POS', 'NEG', 'POS', 'POS', 'POS', 'POS', 'POS', 'NEG', 'NEG', 'POS', 'POS', 'POS', 'NEG', 'NEG', 'NEG', 'POS', 'NEG', 'NEG', 'POS', 'POS', 'POS', 'NEG', 'POS', 'POS', 'POS', 'NEG', 'NEG', 'NEG', 'NEG', 'NEG', 'NEG', 'NEG', 'POS', 'POS', 'POS', 'NEG', 'NEG', 'POS', 'POS', 'POS', 'NEG', 'POS', 'NEG', 'POS', 'POS', 'NEG', 'POS', 'NEG', 'POS', 'NEG', 'NEG', 'NEG', 'POS', 'NEG', 'NEG', 'NEG', 'POS', 'POS', 'POS', 'POS', 'POS', 'NEG', 'POS', 'POS', 'NEG', 'NEG', 'POS', 'POS', 'POS', 'POS', 'NEG', 'POS', 'NEG', 'POS', 'NEG', 'POS', 'NEG', 'NEG', 'POS', 'NEG', 'NEG', 'POS', 'POS', 'POS', 'NEG', 'NEG', 'NEG', 'POS', 'NEG', 'POS', 'POS', 'POS', 'POS', 'POS', 'NEG', 'POS', 'NEG', 'NEG', 'NEG', 'POS', 'POS', 'POS', 'NEG', 'NEG', 'NEG', 'NEG', 'POS', 'POS', 'NEG', 'NEG', 'NEG', 'NEG', 'NEG', 'POS', 'NEG', 'NEG', 'POS', 'POS', 'POS', 'NEG', 'NEG', 'NEG', 'NEG', 'POS', 'POS', 'POS', 'NEG', 'POS', 'POS', 'POS', 'POS', 'POS', 'NEG', 'POS', 'POS', 'POS', 'NEG', 'POS', 'POS', 'POS', 'POS', 'POS', 'NEG', 'POS', 'POS', 'NEG', 'POS', 'POS', 'POS', 'POS', 'NEG', 'POS', 'POS', 'POS', 'NEG', 'POS', 'NEG', 'NEG', 'NEG', 'NEG', 'POS', 'NEG', 'POS', 'NEG', 'POS', 'POS', 'POS', 'NEG', 'NEG', 'POS', 'POS', 'NEG', 'NEG', 'POS', 'POS', 'POS', 'NEG', 'NEG', 'POS', 'NEG', 'NEG', 'POS', 'POS', 'POS', 'NEG', 'POS', 'POS', 'POS', 'NEG', 'NEG', 'POS', 'NEG', 'NEG', 'POS', 'POS', 'POS', 'POS', 'POS', 'POS', 'POS', 'POS', 'POS', 'POS', 'POS', 'POS', 'POS', 'NEG', 'POS', 'NEG', 'POS', 'NEG', 'NEG', 'NEG', 'NEG', 'NEG', 'POS', 'NEG', 'POS', 'POS', 'POS', 'NEG', 'NEG', 'POS', 'POS', 'POS', 'NEG', 'NEG', 'POS', 'POS', 'POS', 'NEG', 'POS', 'NEG', 'NEG', 'POS', 'POS', 'NEG', 'POS', 'POS', 'POS', 'POS', 'NEG', 'POS', 'POS', 'NEG', 'POS', 'POS', 'NEG', 'POS', 'POS', 'NEG', 'POS', 'POS', 'POS', 'POS', 'POS', 'POS', 'NEG', 'POS', 'NEG', 'NEG', 'NEG', 'NEG', 'NEG', 'POS', 'NEG', 'NEG', 'POS', 'NEG', 'POS', 'NEG', 'POS', 'POS', 'NEG', 'NEG', 'NEG', 'POS', 'POS', 'NEG', 'NEG', 'POS', 'NEG', 'NEG', 'POS', 'POS', 'NEG', 'POS', 'POS', 'NEG', 'NEG', 'POS', 'POS', 'NEG', 'POS', 'POS', 'POS', 'POS', 'POS', 'NEG', 'NEG', 'NEG', 'NEG', 'POS', 'POS', 'POS', 'NEG', 'POS', 'NEG', 'POS', 'POS', 'NEG', 'POS', 'POS', 'POS', 'POS', 'NEG', 'NEG', 'NEG', 'POS', 'POS', 'NEG', 'POS', 'POS', 'NEG', 'POS', 'POS', 'POS', 'POS', 'POS', 'POS', 'NEG', 'POS', 'NEG', 'POS', 'NEG', 'POS', 'POS', 'POS', 'NEG', 'NEG', 'POS', 'POS', 'POS', 'POS', 'POS', 'POS', 'POS', 'POS', 'POS', 'POS', 'POS', 'POS', 'NEG', 'NEG', 'POS', 'NEG', 'POS', 'POS', 'NEG', 'POS', 'NEG', 'NEG', 'POS', 'NEG', 'POS', 'POS', 'POS', 'NEG', 'NEG', 'NEG', 'POS', 'NEG', 'POS', 'NEG', 'NEG', 'POS', 'NEG', 'POS', 'NEG', 'POS', 'POS', 'NEG', 'POS', 'POS', 'NEG', 'POS', 'POS', 'POS', 'POS', 'POS', 'NEG', 'POS', 'POS', 'POS', 'NEG', 'POS', 'NEG', 'NEG', 'POS', 'NEG', 'NEG', 'POS', 'NEG', 'NEG', 'POS', 'NEG', 'NEG', 'NEG', 'POS', 'POS', 'POS', 'POS', 'POS', 'POS', 'POS', 'NEG', 'NEG', 'POS', 'NEG', 'NEG', 'POS', 'NEG', 'NEG', 'POS', 'POS', 'POS', 'NEG', 'NEG', 'NEG', 'NEG', 'POS', 'NEG', 'NEG', 'NEG', 'POS', 'NEG', 'NEG', 'POS', 'POS', 'NEG', 'NEG', 'POS', 'POS', 'NEG', 'NEG', 'POS', 'POS', 'NEG', 'POS', 'NEG', 'POS', 'POS', 'NEG', 'NEG', 'NEG', 'POS', 'POS', 'NEG', 'POS', 'NEG', 'NEG', 'NEG', 'POS', 'POS', 'NEG', 'POS', 'POS', 'POS', 'POS', 'POS', 'NEG', 'NEG', 'POS', 'NEG', 'POS', 'POS', 'POS', 'POS', 'NEG', 'POS', 'POS', 'POS', 'POS', 'NEG', 'POS', 'NEG', 'POS', 'NEG', 'POS', 'NEG', 'NEG', 'POS', 'NEG', 'POS', 'POS', 'NEG', 'POS', 'NEG', 'POS', 'NEG', 'POS', 'NEG', 'POS', 'NEG', 'POS', 'POS', 'POS', 'NEG', 'POS', 'POS', 'POS', 'NEG', 'NEG', 'POS', 'POS', 'NEG', 'NEG', 'POS', 'NEG', 'NEG', 'POS', 'POS', 'POS', 'POS', 'POS', 'POS', 'POS', 'NEG', 'POS', 'NEG', 'POS', 'NEG', 'NEG', 'POS', 'NEG', 'POS', 'POS', 'POS', 'NEG', 'POS', 'NEG', 'POS', 'NEG', 'POS', 'NEG', 'POS', 'POS', 'NEG', 'NEG', 'POS', 'NEG', 'POS', 'POS', 'POS', 'POS', 'NEG', 'NEG', 'POS', 'NEG', 'POS', 'POS', 'NEG', 'NEG', 'NEG', 'NEG', 'NEG', 'POS', 'NEG', 'POS', 'NEG', 'POS', 'POS', 'NEG', 'POS', 'POS', 'POS', 'POS', 'NEG', 'POS', 'POS', 'NEG', 'NEG', 'POS', 'POS', 'NEG', 'POS', 'POS', 'NEG', 'POS', 'POS', 'NEG', 'NEG', 'POS', 'POS', 'POS', 'POS', 'POS', 'NEG', 'POS', 'POS', 'NEG', 'POS', 'NEG', 'NEG', 'NEG', 'POS', 'POS', 'POS', 'NEG', 'POS', 'NEG', 'POS', 'POS', 'NEG', 'POS', 'POS', 'NEG', 'POS', 'NEG', 'POS', 'NEG', 'POS', 'NEG', 'POS', 'NEG', 'POS', 'POS', 'NEG', 'POS', 'NEG', 'POS', 'POS', 'NEG', 'NEG', 'POS', 'POS', 'POS', 'POS', 'POS', 'NEG', 'POS', 'NEG', 'NEG', 'POS', 'POS', 'POS', 'POS', 'POS', 'NEG', 'POS', 'NEG', 'POS', 'POS', 'NEG', 'POS', 'NEG', 'POS', 'POS', 'POS', 'NEG', 'POS', 'NEG', 'POS', 'POS', 'NEG', 'POS', 'NEG', 'NEG', 'POS', 'NEG', 'POS', 'POS', 'POS', 'NEG', 'NEG', 'POS', 'NEG', 'NEG', 'NEG', 'NEG', 'POS', 'POS', 'NEG', 'POS', 'POS', 'POS', 'POS', 'POS', 'NEG', 'NEG', 'POS', 'POS', 'NEG', 'POS', 'POS', 'POS', 'POS', 'POS', 'NEG', 'NEG', 'NEG', 'POS', 'NEG', 'NEG', 'NEG', 'POS', 'POS', 'POS', 'NEG', 'POS', 'NEG', 'NEG', 'POS', 'POS', 'POS', 'POS', 'POS', 'NEG', 'POS', 'NEG', 'POS', 'POS', 'POS', 'POS', 'NEG', 'NEG', 'NEG', 'POS', 'POS', 'POS', 'POS', 'POS', 'POS', 'POS', 'POS', 'NEG', 'POS', 'POS', 'NEG', 'POS', 'NEG', 'POS', 'POS', 'NEG', 'POS', 'NEG', 'POS', 'NEG', 'POS', 'POS', 'POS', 'NEG', 'NEG', 'POS', 'POS', 'POS', 'POS', 'NEG', 'NEG', 'POS', 'NEG', 'NEG', 'POS', 'NEG', 'NEG', 'NEG', 'POS', 'NEG', 'POS', 'POS', 'POS', 'POS', 'POS', 'NEG', 'POS', 'NEG', 'POS', 'NEG', 'NEG', 'NEG', 'POS', 'POS', 'NEG', 'POS', 'POS', 'NEG', 'POS', 'NEG', 'POS', 'POS', 'NEG', 'NEG', 'POS', 'POS', 'POS', 'NEG', 'NEG', 'POS', 'POS', 'NEG', 'POS', 'POS', 'POS', 'POS', 'POS', 'NEG', 'POS', 'NEG', 'NEG', 'POS', 'NEG', 'POS', 'NEG', 'NEG', 'NEG', 'POS', 'NEG', 'POS', 'POS', 'POS', 'POS', 'NEG', 'NEG', 'POS', 'POS', 'POS', 'POS', 'POS', 'NEG', 'NEG', 'NEG', 'POS', 'POS', 'NEG', 'POS', 'NEG', 'POS', 'NEG', 'POS', 'POS', 'NEG', 'NEG', 'NEG', 'NEG', 'POS', 'NEG', 'NEG', 'NEG', 'NEG', 'POS', 'POS', 'POS', 'POS', 'POS', 'POS', 'POS', 'NEG', 'NEG', 'POS', 'NEG', 'NEG', 'POS', 'POS', 'POS', 'NEG', 'NEG', 'POS', 'NEG', 'POS', 'POS', 'POS', 'POS', 'POS', 'POS', 'POS', 'POS', 'NEG', 'NEG', 'NEG', 'POS', 'POS', 'POS', 'POS', 'POS', 'NEG', 'NEG', 'NEG', 'NEG', 'NEG', 'POS', 'POS', 'POS', 'NEG', 'NEG', 'NEG', 'NEG', 'NEG', 'NEG', 'POS', 'POS', 'POS', 'NEG', 'POS', 'NEG', 'NEG', 'NEG', 'POS', 'POS', 'POS', 'POS', 'POS', 'NEG', 'POS', 'NEG', 'POS', 'NEG', 'NEG', 'POS', 'NEG', 'POS', 'NEG', 'NEG', 'POS', 'NEG', 'POS', 'POS', 'POS', 'POS', 'POS', 'NEG', 'POS', 'NEG', 'NEG', 'POS', 'POS', 'POS', 'POS', 'NEG', 'POS', 'POS', 'POS', 'POS', 'NEG', 'NEG', 'NEG', 'POS', 'POS', 'POS', 'POS', 'POS', 'NEG', 'NEG', 'POS', 'POS', 'POS', 'POS', 'POS', 'POS', 'POS', 'NEG', 'POS', 'POS', 'POS', 'NEG', 'NEG', 'NEG', 'NEG', 'POS', 'NEG', 'NEG', 'POS', 'POS', 'POS', 'NEG', 'POS', 'POS', 'POS', 'POS', 'NEG', 'POS', 'NEG', 'POS', 'POS', 'POS', 'POS', 'POS', 'NEG', 'NEG', 'NEG', 'POS', 'POS', 'NEG', 'POS', 'NEG', 'NEG', 'POS', 'POS', 'POS', 'POS', 'POS', 'NEG', 'NEG', 'NEG', 'POS', 'POS', 'NEG', 'NEG', 'POS', 'NEG', 'POS', 'POS', 'NEG', 'POS', 'POS', 'POS', 'POS', 'POS', 'NEG', 'POS', 'NEG', 'POS', 'POS', 'POS', 'NEG', 'NEG', 'NEG', 'POS', 'POS', 'POS', 'NEG', 'NEG', 'POS', 'POS', 'NEG', 'NEG', 'POS', 'NEG', 'POS', 'NEG', 'NEG', 'POS', 'POS', 'NEG', 'POS', 'POS', 'POS', 'POS', 'NEG', 'POS', 'NEG', 'POS', 'POS', 'NEG', 'NEG', 'POS', 'POS', 'POS', 'NEG', 'POS', 'POS', 'NEG', 'POS', 'POS', 'POS', 'POS', 'NEG', 'POS', 'POS', 'POS', 'POS', 'POS', 'NEG', 'NEG', 'POS', 'POS', 'NEG', 'NEG', 'POS', 'POS', 'NEG', 'POS', 'NEG', 'NEG', 'POS', 'POS', 'POS', 'POS', 'POS', 'POS', 'NEG', 'NEG', 'POS', 'POS', 'POS', 'POS', 'POS', 'NEG', 'POS', 'NEG', 'NEG', 'POS', 'NEG', 'NEG', 'POS', 'NEG', 'POS', 'POS', 'NEG', 'POS', 'POS', 'POS', 'NEG', 'POS', 'POS', 'NEG', 'POS', 'POS', 'POS', 'POS', 'NEG', 'POS', 'POS', 'POS', 'POS', 'POS', 'POS', 'POS', 'POS', 'NEG', 'POS', 'NEG', 'NEG', 'NEG', 'NEG', 'NEG', 'POS', 'POS', 'NEG', 'POS', 'POS', 'NEG', 'POS', 'NEG', 'POS', 'POS', 'NEG', 'NEG', 'POS', 'POS', 'POS', 'NEG', 'NEG', 'POS', 'POS', 'POS', 'NEG', 'NEG', 'POS', 'NEG', 'NEG', 'NEG', 'POS', 'NEG', 'POS', 'POS', 'NEG', 'POS', 'POS', 'POS', 'NEG', 'POS', 'POS', 'POS', 'POS', 'POS', 'POS', 'POS', 'NEG', 'NEG', 'POS', 'POS', 'POS', 'POS', 'POS', 'NEG', 'POS', 'NEG', 'POS', 'POS', 'POS', 'POS', 'NEG', 'POS', 'POS', 'POS', 'NEG', 'NEG', 'POS', 'POS', 'POS', 'NEG', 'POS', 'POS', 'NEG', 'POS', 'POS', 'NEG', 'NEG', 'NEG', 'POS', 'POS', 'NEG', 'NEG', 'NEG', 'POS', 'NEG', 'NEG', 'POS', 'NEG', 'NEG', 'POS', 'NEG', 'NEG', 'NEG', 'NEG', 'NEG', 'POS', 'NEG', 'NEG', 'POS', 'POS', 'POS', 'POS', 'POS', 'NEG', 'POS', 'NEG', 'POS', 'NEG', 'NEG', 'NEG', 'NEG', 'POS', 'POS', 'NEG', 'POS', 'POS', 'POS', 'POS', 'POS', 'POS', 'NEG', 'POS', 'NEG', 'POS', 'NEG', 'POS', 'NEG', 'POS', 'POS', 'NEG', 'NEG', 'POS', 'POS', 'NEG', 'POS', 'NEG', 'POS', 'POS', 'POS', 'POS', 'NEG', 'NEG', 'NEG', 'NEG', 'POS', 'POS', 'NEG', 'POS', 'NEG', 'POS', 'NEG', 'NEG', 'POS', 'NEG', 'POS', 'POS', 'POS', 'POS', 'NEG', 'NEG', 'POS', 'NEG', 'POS', 'NEG', 'NEG', 'POS', 'POS', 'POS', 'POS', 'POS', 'NEG', 'POS', 'NEG', 'POS', 'POS', 'NEG', 'POS', 'POS', 'NEG', 'NEG', 'POS', 'POS', 'POS', 'NEG', 'POS', 'POS', 'POS', 'NEG', 'NEG', 'NEG', 'POS', 'POS', 'POS', 'POS', 'POS', 'NEG', 'NEG', 'POS', 'NEG', 'POS', 'NEG', 'NEG', 'POS', 'POS', 'POS', 'POS', 'NEG', 'POS', 'NEG', 'NEG', 'NEG', 'NEG', 'NEG', 'NEG', 'NEG', 'POS', 'POS', 'POS', 'POS', 'NEG', 'NEG', 'NEG', 'NEG', 'POS', 'NEG', 'NEG', 'POS', 'POS', 'POS', 'POS', 'POS', 'NEG', 'NEG', 'POS', 'POS', 'NEG', 'POS', 'NEG', 'NEG', 'POS', 'POS', 'POS', 'NEG', 'NEG', 'POS', 'POS', 'POS', 'NEG', 'POS', 'POS', 'POS', 'POS', 'POS', 'NEG', 'NEG', 'NEG', 'POS', 'NEG', 'POS', 'NEG', 'POS', 'POS', 'NEG', 'NEG', 'NEG', 'POS', 'POS', 'POS', 'NEG', 'POS', 'POS', 'POS', 'POS', 'POS', 'POS', 'POS', 'NEG', 'POS', 'POS', 'POS', 'POS', 'POS', 'POS', 'POS', 'NEG', 'NEG', 'POS', 'POS', 'POS', 'POS', 'POS', 'POS', 'POS', 'NEG', 'NEG', 'NEG', 'NEG', 'POS', 'POS', 'NEG', 'POS', 'POS', 'NEG', 'POS', 'POS', 'POS', 'POS', 'NEG', 'NEG', 'NEG', 'NEG', 'NEG', 'NEG', 'NEG', 'NEG', 'POS', 'POS', 'NEG', 'POS', 'NEG', 'POS', 'POS', 'POS', 'NEG', 'NEG', 'POS', 'POS', 'POS', 'POS', 'POS', 'NEG', 'POS', 'POS', 'POS', 'NEG', 'POS', 'POS', 'POS', 'POS', 'POS', 'NEG', 'POS', 'NEG', 'NEG', 'NEG', 'POS', 'NEG', 'NEG', 'POS', 'POS', 'POS', 'NEG', 'NEG', 'NEG', 'NEG', 'POS', 'NEG', 'POS', 'NEG', 'NEG', 'NEG', 'NEG', 'NEG', 'POS', 'POS', 'NEG', 'POS', 'POS', 'POS', 'NEG', 'POS', 'POS', 'NEG', 'POS', 'NEG', 'POS', 'POS', 'POS', 'POS', 'NEG', 'POS', 'NEG', 'POS', 'POS', 'NEG', 'NEG', 'POS', 'NEG', 'POS', 'NEG', 'NEG', 'POS', 'POS', 'POS', 'POS', 'NEG', 'NEG', 'NEG', 'POS', 'NEG', 'POS', 'POS', 'NEG', 'NEG', 'POS', 'NEG', 'POS', 'NEG', 'POS', 'NEG', 'NEG', 'POS', 'POS', 'POS', 'POS', 'POS', 'POS', 'POS', 'POS', 'POS', 'NEG', 'POS', 'POS', 'POS', 'POS', 'POS', 'NEG', 'POS', 'POS', 'POS', 'NEG', 'POS', 'POS', 'NEG', 'NEG', 'NEG', 'POS', 'NEG', 'POS', 'POS', 'POS', 'POS', 'POS', 'NEG', 'POS', 'NEG', 'POS', 'NEG', 'NEG', 'POS', 'POS', 'NEG', 'NEG', 'POS', 'POS', 'NEG', 'NEG', 'NEG', 'POS', 'POS', 'POS', 'POS', 'POS', 'NEG', 'POS', 'NEG', 'POS', 'NEG', 'NEG', 'POS', 'POS', 'NEG', 'NEG', 'NEG', 'POS', 'NEG', 'POS', 'NEG', 'NEG', 'NEG', 'NEG', 'POS', 'NEG', 'POS', 'NEG', 'POS', 'POS', 'NEG', 'NEG', 'POS', 'POS', 'NEG', 'NEG', 'POS', 'POS', 'POS', 'POS', 'POS', 'POS', 'POS', 'POS', 'POS', 'POS', 'POS', 'NEG', 'POS', 'POS', 'NEG', 'NEG', 'NEG', 'POS', 'NEG', 'POS', 'NEG', 'NEG', 'POS', 'NEG', 'POS', 'POS', 'POS', 'NEG', 'NEG', 'POS', 'POS', 'POS', 'POS', 'NEG', 'POS', 'POS', 'NEG', 'POS', 'POS', 'POS', 'NEG', 'POS', 'POS', 'POS', 'NEG', 'NEG', 'POS', 'NEG', 'POS', 'NEG', 'NEG', 'NEG', 'NEG', 'NEG', 'NEG', 'NEG', 'POS', 'NEG', 'NEG', 'NEG', 'POS', 'POS', 'POS', 'POS', 'POS', 'NEG', 'NEG', 'NEG', 'NEG', 'POS', 'NEG', 'NEG', 'POS', 'POS', 'NEG', 'NEG', 'NEG', 'POS', 'POS', 'POS', 'POS', 'POS', 'POS', 'POS', 'NEG', 'POS', 'NEG', 'POS', 'NEG', 'POS', 'NEG', 'POS', 'NEG', 'POS', 'POS', 'NEG', 'POS', 'POS', 'POS', 'POS', 'NEG', 'NEG', 'POS', 'POS', 'POS', 'POS', 'POS', 'NEG', 'POS', 'POS', 'POS', 'POS', 'NEG', 'NEG', 'POS', 'POS', 'POS', 'NEG', 'POS', 'POS', 'NEG', 'NEG', 'NEG', 'NEG', 'NEG', 'NEG', 'NEG', 'NEG', 'POS', 'POS', 'POS', 'POS', 'POS', 'POS', 'NEG', 'POS', 'NEG', 'NEG', 'POS', 'POS', 'NEG', 'POS', 'NEG', 'POS', 'NEG', 'POS', 'POS', 'POS', 'POS', 'NEG', 'POS', 'NEG', 'NEG', 'POS', 'POS', 'POS', 'POS', 'NEG', 'POS', 'POS', 'POS', 'POS', 'NEG', 'NEG', 'NEG', 'NEG', 'NEG', 'NEG', 'POS', 'POS', 'NEG', 'NEG', 'POS', 'POS', 'NEG', 'NEG', 'POS', 'NEG', 'POS', 'POS', 'NEG', 'NEG', 'POS', 'POS', 'NEG', 'POS', 'NEG', 'NEG', 'NEG', 'NEG', 'POS', 'POS', 'NEG', 'POS', 'POS', 'NEG', 'NEG', 'NEG', 'POS', 'POS', 'POS', 'POS', 'NEG', 'POS', 'NEG', 'POS', 'POS', 'NEG', 'POS', 'NEG', 'NEG', 'NEG', 'NEG', 'NEG', 'NEG', 'POS', 'NEG', 'POS', 'POS', 'POS', 'POS', 'POS', 'NEG', 'POS', 'POS', 'POS', 'NEG', 'NEG', 'NEG', 'NEG', 'POS', 'POS', 'NEG', 'POS', 'NEG', 'POS', 'NEG', 'NEG', 'POS', 'POS', 'NEG', 'NEG', 'NEG', 'POS', 'POS', 'NEG', 'POS', 'POS', 'POS', 'POS', 'NEG', 'POS', 'POS', 'NEG', 'NEG', 'NEG', 'POS', 'POS', 'POS', 'POS', 'NEG', 'POS', 'NEG', 'NEG', 'POS', 'POS', 'NEG', 'POS', 'NEG', 'POS', 'NEG', 'POS', 'NEG', 'POS', 'NEG', 'NEG', 'NEG', 'POS', 'NEG', 'POS', 'NEG', 'POS', 'NEG', 'NEG', 'NEG', 'POS', 'POS', 'POS', 'POS', 'POS', 'NEG', 'POS', 'POS', 'NEG', 'POS', 'POS', 'POS', 'POS', 'POS', 'NEG', 'NEG', 'POS', 'NEG', 'NEG', 'NEG', 'NEG', 'POS', 'NEG', 'POS', 'NEG', 'POS', 'NEG', 'NEG', 'NEG', 'POS', 'POS', 'POS', 'POS', 'POS', 'NEG', 'POS', 'POS', 'NEG', 'NEG', 'NEG', 'NEG', 'POS', 'NEG', 'POS', 'POS', 'NEG', 'NEG', 'NEG', 'POS', 'NEG', 'NEG', 'POS', 'NEG', 'NEG', 'NEG', 'NEG', 'POS', 'POS', 'POS', 'POS', 'POS', 'NEG', 'NEG', 'NEG', 'POS', 'NEG', 'POS', 'POS', 'NEG', 'NEG', 'POS', 'NEG', 'POS', 'POS', 'NEG', 'POS', 'NEG', 'NEG', 'NEG', 'NEG', 'NEG', 'POS', 'NEG', 'POS', 'NEG', 'NEG', 'POS', 'POS', 'NEG', 'NEG', 'NEG', 'POS', 'NEG', 'NEG', 'POS', 'POS', 'NEG', 'POS', 'POS', 'POS', 'NEG', 'POS', 'NEG', 'NEG', 'NEG', 'NEG', 'POS', 'POS', 'NEG', 'POS', 'POS', 'POS', 'POS', 'POS', 'NEG', 'POS', 'POS', 'NEG', 'NEG', 'POS', 'POS', 'POS', 'NEG', 'POS', 'NEG', 'POS', 'POS', 'POS', 'POS', 'POS', 'NEG', 'NEG', 'POS', 'NEG', 'NEG', 'NEG', 'NEG', 'POS', 'NEG', 'POS', 'POS', 'POS', 'POS', 'NEG', 'NEG', 'POS', 'NEG', 'NEG', 'POS', 'POS', 'POS', 'POS', 'POS', 'NEG', 'NEG', 'NEG', 'NEG', 'POS', 'POS', 'POS', 'NEG', 'NEG', 'NEG', 'NEG', 'NEG', 'NEG', 'POS', 'NEG', 'POS', 'NEG', 'POS', 'POS', 'POS', 'NEG', 'NEG', 'NEG', 'NEG', 'POS', 'NEG', 'NEG', 'POS', 'POS', 'NEG', 'POS', 'POS', 'NEG', 'NEG', 'NEG', 'POS', 'POS', 'NEG', 'POS', 'POS', 'POS', 'NEG', 'POS', 'NEG', 'POS', 'NEG', 'NEG', 'NEG', 'NEG', 'POS', 'NEG', 'NEG', 'NEG', 'POS', 'POS', 'POS', 'NEG', 'POS', 'POS', 'POS', 'POS', 'POS', 'NEG', 'POS', 'POS', 'POS', 'POS', 'POS', 'NEG', 'POS', 'NEG', 'NEG', 'NEG', 'NEG', 'NEG', 'POS', 'NEG', 'NEG', 'POS', 'POS', 'NEG', 'POS', 'NEG', 'NEG', 'NEG', 'POS', 'NEG', 'NEG', 'POS', 'NEG', 'POS', 'NEG', 'POS', 'POS', 'POS', 'POS', 'POS', 'POS', 'NEG', 'NEG', 'NEG', 'POS', 'NEG', 'POS', 'POS', 'NEG', 'NEG', 'POS', 'NEG', 'NEG', 'NEG', 'NEG', 'POS', 'POS', 'POS', 'NEG', 'NEG', 'NEG', 'NEG', 'POS', 'POS', 'NEG', 'NEG', 'POS', 'POS', 'POS', 'NEG', 'POS', 'POS', 'POS', 'POS', 'NEG', 'NEG', 'POS', 'POS', 'POS', 'NEG', 'POS', 'POS', 'POS', 'NEG', 'NEG', 'POS', 'NEG', 'POS', 'NEG', 'POS', 'POS', 'NEG', 'POS', 'POS', 'NEG', 'NEG', 'POS', 'POS', 'NEG', 'POS', 'POS', 'NEG', 'NEG', 'POS', 'POS', 'NEG', 'POS', 'POS', 'POS', 'NEG', 'NEG', 'POS', 'POS', 'POS', 'NEG', 'POS', 'NEG', 'POS', 'POS', 'NEG', 'POS', 'NEG', 'POS', 'POS', 'POS', 'NEG', 'NEG', 'NEG', 'POS', 'POS', 'POS', 'POS', 'NEG', 'POS', 'NEG', 'NEG', 'POS', 'NEG', 'POS', 'NEG', 'NEG', 'NEG', 'POS', 'POS', 'NEG', 'POS', 'POS', 'NEG', 'NEG', 'POS', 'POS', 'POS', 'NEG', 'NEG', 'POS', 'POS', 'NEG', 'POS', 'POS', 'NEG', 'POS', 'NEG', 'NEG', 'POS', 'POS', 'POS', 'POS', 'POS', 'POS', 'POS', 'NEG', 'POS', 'POS', 'POS', 'NEG', 'NEG', 'POS', 'POS', 'POS', 'POS', 'NEG', 'POS']\n",
      "  (0, 11)\t1.0\n",
      "  (1, 23)\t1.0\n",
      "  (2, 106)\t0.7428929019850633\n",
      "  (2, 109)\t0.6694102898672915\n",
      "  (3, 2)\t0.7239435293019861\n",
      "  (3, 76)\t0.6898592366430882\n",
      "  (4, 2)\t1.0\n",
      "  (5, 31)\t0.2982719919140815\n",
      "  (5, 43)\t0.4804755452588008\n",
      "  (5, 55)\t0.45223598139307275\n",
      "  (5, 66)\t0.28560022079691116\n",
      "  (5, 75)\t0.4642206384827288\n",
      "  (5, 85)\t0.422600756114742\n",
      "  (6, 12)\t0.5206858612507507\n",
      "  (6, 45)\t0.5499883619434964\n",
      "  (6, 68)\t0.6529923702619148\n",
      "  (7, 48)\t0.6992970303575745\n",
      "  (7, 67)\t0.7148312131776825\n",
      "  (8, 8)\t0.455118718210807\n",
      "  (8, 27)\t0.6311070160237707\n",
      "  (8, 99)\t0.6281487774880439\n",
      "  (9, 91)\t1.0\n",
      "  (10, 88)\t1.0\n",
      "  (11, 0)\t0.28808685110947874\n",
      "  (11, 12)\t0.43042701326999433\n",
      "  :\t:\n",
      "  (4037, 13)\t0.2959040353298682\n",
      "  (4037, 40)\t0.3130354972151325\n",
      "  (4037, 76)\t0.9024686029767325\n",
      "  (4038, 82)\t0.6121514871379856\n",
      "  (4038, 94)\t0.48257108671196086\n",
      "  (4038, 111)\t0.6264149607603492\n",
      "  (4039, 4)\t0.48923613513309083\n",
      "  (4039, 16)\t0.4646537253727002\n",
      "  (4039, 31)\t0.32747666848727097\n",
      "  (4039, 34)\t0.4746402506099215\n",
      "  (4039, 84)\t0.4606740536157166\n",
      "  (4040, 49)\t1.0\n",
      "  (4041, 18)\t0.4906516125299063\n",
      "  (4041, 45)\t0.4181066710927187\n",
      "  (4041, 84)\t0.5609163357412443\n",
      "  (4041, 96)\t0.5194426542056239\n",
      "  (4042, 42)\t0.6007539702053972\n",
      "  (4042, 82)\t0.7994339668055472\n",
      "  (4043, 26)\t0.3762094669084868\n",
      "  (4043, 34)\t0.3848541072171672\n",
      "  (4043, 91)\t0.737857008728806\n",
      "  (4043, 100)\t0.4073337548451981\n",
      "  (4044, 45)\t0.509388381401191\n",
      "  (4044, 68)\t0.6047886638539758\n",
      "  (4044, 88)\t0.6121716662564493\n",
      "['NEG', 'POS', 'POS', 'POS', 'POS', 'POS', 'POS', 'POS', 'NEG', 'NEG', 'POS', 'NEG', 'POS', 'NEG', 'POS', 'NEG', 'NEG', 'POS', 'NEG', 'NEG', 'NEG', 'NEG', 'NEG', 'NEG', 'POS', 'POS', 'NEG', 'POS', 'POS', 'NEG', 'POS', 'POS', 'POS', 'NEG', 'POS', 'POS', 'NEG', 'POS', 'POS', 'POS', 'POS', 'POS', 'POS', 'NEG', 'POS', 'POS', 'POS', 'POS', 'NEG', 'POS', 'NEG', 'POS', 'NEG', 'POS', 'POS', 'NEG', 'NEG', 'NEG', 'POS', 'POS', 'POS', 'NEG', 'NEG', 'NEG', 'POS', 'POS', 'NEG', 'NEG', 'NEG', 'NEG', 'NEG', 'NEG', 'NEG', 'NEG', 'NEG', 'POS', 'NEG', 'POS', 'NEG', 'NEG', 'NEG', 'POS', 'NEG', 'POS', 'POS', 'NEG', 'POS', 'POS', 'POS', 'POS', 'NEG', 'POS', 'NEG', 'POS', 'POS', 'NEG', 'POS', 'POS', 'POS', 'POS', 'POS', 'POS', 'POS', 'POS', 'POS', 'POS', 'POS', 'NEG', 'NEG', 'POS', 'NEG', 'POS', 'POS', 'POS', 'NEG', 'POS', 'POS', 'POS', 'NEG', 'POS', 'NEG', 'NEG', 'POS', 'NEG', 'NEG', 'NEG', 'NEG', 'POS', 'POS', 'POS', 'NEG', 'NEG', 'POS', 'POS', 'POS', 'POS', 'POS', 'NEG', 'POS', 'POS', 'POS', 'POS', 'NEG', 'POS', 'NEG', 'POS', 'POS', 'POS', 'NEG', 'NEG', 'POS', 'NEG', 'POS', 'POS', 'NEG', 'NEG', 'NEG', 'POS', 'NEG', 'NEG', 'NEG', 'POS', 'POS', 'NEG', 'NEG', 'NEG', 'POS', 'NEG', 'NEG', 'NEG', 'NEG', 'NEG', 'NEG', 'NEG', 'POS', 'POS', 'POS', 'POS', 'POS', 'NEG', 'NEG', 'POS', 'NEG', 'NEG', 'NEG', 'NEG', 'POS', 'NEG', 'NEG', 'POS', 'POS', 'POS', 'POS', 'POS', 'NEG', 'POS', 'NEG', 'NEG', 'POS', 'POS', 'POS', 'NEG', 'NEG', 'NEG', 'POS', 'NEG', 'POS', 'NEG', 'POS', 'NEG', 'POS', 'NEG', 'NEG', 'NEG', 'POS', 'NEG', 'NEG', 'NEG', 'NEG', 'NEG', 'POS', 'NEG', 'POS', 'POS', 'NEG', 'NEG', 'POS', 'NEG', 'POS', 'POS', 'NEG', 'POS', 'POS', 'POS', 'NEG', 'NEG', 'NEG', 'NEG', 'POS', 'NEG', 'POS', 'POS', 'NEG', 'POS', 'POS', 'POS', 'NEG', 'POS', 'NEG', 'NEG', 'POS', 'POS', 'POS', 'POS', 'POS', 'NEG', 'POS', 'POS', 'POS', 'POS', 'NEG', 'NEG', 'POS', 'NEG', 'NEG', 'POS', 'POS', 'POS', 'NEG', 'NEG', 'NEG', 'POS', 'NEG', 'NEG', 'POS', 'POS', 'POS', 'POS', 'POS', 'NEG', 'POS', 'POS', 'NEG', 'NEG', 'NEG', 'POS', 'NEG', 'POS', 'NEG', 'NEG', 'NEG', 'POS', 'NEG', 'POS', 'NEG', 'POS', 'NEG', 'NEG', 'NEG', 'NEG', 'POS', 'NEG', 'NEG', 'POS', 'POS', 'NEG', 'NEG', 'POS', 'POS', 'NEG', 'POS', 'POS', 'NEG', 'POS', 'POS', 'POS', 'POS', 'NEG', 'POS', 'POS', 'NEG', 'NEG', 'NEG', 'NEG', 'POS', 'POS', 'NEG', 'NEG', 'NEG', 'NEG', 'NEG', 'NEG', 'POS', 'NEG', 'NEG', 'NEG', 'POS', 'POS', 'NEG', 'POS', 'NEG', 'NEG', 'NEG', 'POS', 'NEG', 'POS', 'POS', 'POS', 'NEG', 'NEG', 'NEG', 'NEG', 'NEG', 'POS', 'POS', 'POS', 'POS', 'NEG', 'NEG', 'NEG', 'NEG', 'POS', 'POS', 'NEG', 'POS', 'POS', 'POS', 'POS', 'NEG', 'NEG', 'POS', 'POS', 'POS', 'POS', 'NEG', 'NEG', 'NEG', 'POS', 'POS', 'NEG', 'NEG', 'POS', 'POS', 'POS', 'POS', 'NEG', 'NEG', 'POS', 'POS', 'NEG', 'NEG', 'POS', 'POS', 'NEG', 'POS', 'NEG', 'NEG', 'POS', 'NEG', 'POS', 'POS', 'POS', 'NEG', 'NEG', 'NEG', 'NEG', 'NEG', 'NEG', 'POS', 'NEG', 'POS', 'POS', 'POS', 'POS', 'POS', 'NEG', 'NEG', 'POS', 'POS', 'POS', 'NEG', 'POS', 'POS', 'NEG', 'POS', 'NEG', 'NEG', 'POS', 'NEG', 'NEG', 'POS', 'NEG', 'NEG', 'POS', 'NEG', 'NEG', 'NEG', 'NEG', 'NEG', 'POS', 'POS', 'NEG', 'NEG', 'NEG', 'NEG', 'NEG', 'NEG', 'NEG', 'NEG', 'NEG', 'POS', 'POS', 'POS', 'POS', 'NEG', 'NEG', 'NEG', 'NEG', 'POS', 'POS', 'NEG', 'NEG', 'POS', 'POS', 'POS', 'NEG', 'POS', 'NEG', 'POS', 'NEG', 'NEG', 'POS', 'NEG', 'POS', 'NEG', 'NEG', 'NEG', 'NEG', 'NEG', 'NEG', 'NEG', 'POS', 'POS', 'NEG', 'POS', 'POS', 'POS', 'NEG', 'NEG', 'POS', 'POS', 'POS', 'POS', 'POS', 'POS', 'POS', 'POS', 'NEG', 'NEG', 'POS', 'NEG', 'POS', 'POS', 'NEG', 'NEG', 'POS', 'POS', 'NEG', 'POS', 'NEG', 'NEG', 'NEG', 'NEG', 'NEG', 'POS', 'NEG', 'POS', 'POS', 'NEG', 'NEG', 'POS', 'POS', 'POS', 'POS', 'POS', 'NEG', 'POS', 'POS', 'POS', 'POS', 'NEG', 'POS', 'NEG', 'NEG', 'POS', 'NEG', 'NEG', 'NEG', 'POS', 'POS', 'POS', 'POS', 'POS', 'POS', 'POS', 'POS', 'POS', 'NEG', 'POS', 'NEG', 'POS', 'NEG', 'NEG', 'POS', 'POS', 'POS', 'POS', 'NEG', 'POS', 'NEG', 'POS', 'NEG', 'NEG', 'NEG', 'POS', 'POS', 'NEG', 'POS', 'NEG', 'POS', 'POS', 'POS', 'POS', 'NEG', 'NEG', 'NEG', 'POS', 'POS', 'POS', 'POS', 'POS', 'NEG', 'POS', 'NEG', 'POS', 'POS', 'POS', 'NEG', 'POS', 'NEG', 'NEG', 'NEG', 'NEG', 'NEG', 'NEG', 'POS', 'POS', 'POS', 'NEG', 'NEG', 'POS', 'NEG', 'NEG', 'POS', 'NEG', 'POS', 'POS', 'NEG', 'NEG', 'NEG', 'NEG', 'NEG', 'NEG', 'NEG', 'NEG', 'NEG', 'NEG', 'POS', 'POS', 'POS', 'NEG', 'NEG', 'POS', 'NEG', 'POS', 'NEG', 'POS', 'POS', 'POS', 'NEG', 'NEG', 'NEG', 'NEG', 'NEG', 'NEG', 'POS', 'NEG', 'NEG', 'NEG', 'POS', 'NEG', 'NEG', 'NEG', 'POS', 'POS', 'NEG', 'POS', 'POS', 'NEG', 'POS', 'POS', 'POS', 'POS', 'POS', 'POS', 'NEG', 'POS', 'POS', 'POS', 'POS', 'POS', 'NEG', 'NEG', 'POS', 'NEG', 'NEG', 'NEG', 'NEG', 'NEG', 'POS', 'NEG', 'NEG', 'NEG', 'NEG', 'POS', 'NEG', 'NEG', 'POS', 'POS', 'POS', 'NEG', 'POS', 'NEG', 'NEG', 'POS', 'NEG', 'POS', 'NEG', 'POS', 'NEG', 'NEG', 'NEG', 'NEG', 'POS', 'POS', 'NEG', 'NEG', 'NEG', 'NEG', 'NEG', 'NEG', 'NEG', 'POS', 'POS', 'NEG', 'NEG', 'POS', 'NEG', 'NEG', 'NEG', 'POS', 'POS', 'POS', 'POS', 'NEG', 'POS', 'POS', 'NEG', 'NEG', 'POS', 'NEG', 'POS', 'NEG', 'NEG', 'POS', 'POS', 'NEG', 'NEG', 'POS', 'POS', 'NEG', 'POS', 'NEG', 'NEG', 'NEG', 'NEG', 'POS', 'POS', 'POS', 'NEG', 'POS', 'NEG', 'NEG', 'NEG', 'NEG', 'NEG', 'POS', 'NEG', 'POS', 'NEG', 'NEG', 'POS', 'POS', 'POS', 'NEG', 'POS', 'POS', 'POS', 'NEG', 'NEG', 'POS', 'NEG', 'POS', 'POS', 'NEG', 'POS', 'POS', 'POS', 'NEG', 'NEG', 'POS', 'NEG', 'POS', 'NEG', 'POS', 'POS', 'NEG', 'NEG', 'NEG', 'POS', 'NEG', 'POS', 'POS', 'POS', 'POS', 'NEG', 'NEG', 'NEG', 'POS', 'POS', 'POS', 'POS', 'POS', 'NEG', 'NEG', 'NEG', 'POS', 'NEG', 'NEG', 'NEG', 'POS', 'NEG', 'NEG', 'POS', 'NEG', 'NEG', 'POS', 'POS', 'NEG', 'NEG', 'NEG', 'POS', 'NEG', 'POS', 'NEG', 'POS', 'NEG', 'NEG', 'NEG', 'POS', 'NEG', 'POS', 'POS', 'POS', 'POS', 'POS', 'POS', 'POS', 'POS', 'POS', 'NEG', 'POS', 'POS', 'NEG', 'NEG', 'NEG', 'NEG', 'NEG', 'NEG', 'NEG', 'NEG', 'NEG', 'NEG', 'POS', 'NEG', 'POS', 'NEG', 'POS', 'NEG', 'NEG', 'NEG', 'NEG', 'NEG', 'POS', 'POS', 'POS', 'POS', 'POS', 'NEG', 'NEG', 'NEG', 'POS', 'POS', 'NEG', 'POS', 'NEG', 'NEG', 'NEG', 'NEG', 'NEG', 'POS', 'POS', 'POS', 'POS', 'NEG', 'POS', 'NEG', 'POS', 'POS', 'NEG', 'POS', 'POS', 'NEG', 'POS', 'NEG', 'NEG', 'POS', 'NEG', 'POS', 'POS', 'POS', 'NEG', 'NEG', 'POS', 'NEG', 'NEG', 'POS', 'POS', 'POS', 'POS', 'NEG', 'NEG', 'NEG', 'POS', 'NEG', 'NEG', 'NEG', 'POS', 'POS', 'NEG', 'NEG', 'POS', 'POS', 'POS', 'POS', 'POS', 'NEG', 'POS', 'NEG', 'NEG', 'NEG', 'POS', 'POS', 'NEG', 'POS', 'POS', 'POS', 'NEG', 'POS', 'NEG', 'NEG', 'POS', 'POS', 'NEG', 'NEG', 'POS', 'NEG', 'POS', 'NEG', 'NEG', 'NEG', 'NEG', 'POS', 'NEG', 'POS', 'NEG', 'POS', 'NEG', 'POS', 'POS', 'POS', 'POS', 'POS', 'NEG', 'POS', 'NEG', 'POS', 'NEG', 'NEG', 'POS', 'NEG', 'POS', 'POS', 'POS', 'POS', 'NEG', 'NEG', 'POS', 'NEG', 'POS', 'NEG', 'NEG', 'NEG', 'NEG', 'NEG', 'NEG', 'POS', 'NEG', 'POS', 'POS', 'NEG', 'POS', 'POS', 'POS', 'NEG', 'NEG', 'NEG', 'NEG', 'NEG', 'POS', 'POS', 'POS', 'POS', 'POS', 'NEG', 'NEG', 'NEG', 'POS', 'POS', 'NEG', 'NEG', 'POS', 'POS', 'POS', 'NEG', 'POS', 'POS', 'NEG', 'POS', 'POS', 'NEG', 'POS', 'POS', 'POS', 'POS', 'POS', 'NEG', 'POS', 'POS', 'POS', 'NEG', 'POS', 'NEG', 'NEG', 'POS', 'POS', 'NEG', 'POS', 'NEG', 'NEG', 'NEG', 'POS', 'NEG', 'POS', 'NEG', 'POS', 'NEG', 'POS', 'NEG', 'POS', 'NEG', 'NEG', 'NEG', 'POS', 'POS', 'NEG', 'POS', 'POS', 'NEG', 'NEG', 'NEG', 'POS', 'NEG', 'NEG', 'POS', 'POS', 'NEG', 'POS', 'POS', 'NEG', 'POS', 'NEG', 'POS', 'POS', 'POS', 'NEG', 'POS', 'POS', 'POS', 'POS', 'POS', 'NEG', 'NEG', 'POS', 'POS', 'POS', 'POS', 'POS', 'NEG', 'NEG', 'POS', 'NEG', 'POS', 'NEG', 'POS', 'POS', 'NEG', 'NEG', 'NEG', 'POS', 'POS', 'POS', 'NEG', 'NEG', 'NEG', 'NEG', 'NEG', 'POS', 'NEG', 'NEG', 'NEG', 'POS', 'POS', 'NEG', 'NEG', 'NEG', 'POS', 'POS', 'NEG', 'POS', 'NEG', 'POS', 'NEG', 'POS', 'NEG', 'NEG', 'NEG', 'POS', 'POS', 'NEG', 'POS', 'NEG', 'POS', 'NEG', 'NEG', 'NEG', 'POS', 'POS', 'POS', 'NEG', 'POS', 'NEG', 'NEG', 'NEG', 'NEG', 'POS', 'NEG', 'POS', 'NEG', 'NEG', 'NEG', 'POS', 'POS', 'POS', 'NEG', 'POS', 'POS', 'NEG', 'NEG', 'POS', 'NEG', 'NEG', 'POS', 'NEG', 'POS', 'NEG', 'NEG', 'POS', 'NEG', 'NEG', 'POS', 'POS', 'POS', 'NEG', 'POS', 'NEG', 'POS', 'NEG', 'POS', 'POS', 'POS', 'POS', 'POS', 'POS', 'NEG', 'NEG', 'POS', 'NEG', 'NEG', 'NEG', 'POS', 'NEG', 'POS', 'NEG', 'POS', 'NEG', 'POS', 'NEG', 'POS', 'POS', 'NEG', 'POS', 'POS', 'POS', 'NEG', 'POS', 'POS', 'POS', 'POS', 'NEG', 'NEG', 'NEG', 'POS', 'NEG', 'NEG', 'POS', 'POS', 'POS', 'POS', 'POS', 'POS', 'POS', 'POS', 'POS', 'NEG', 'POS', 'NEG', 'POS', 'POS', 'POS', 'POS', 'POS', 'NEG', 'NEG', 'POS', 'POS', 'POS', 'NEG', 'POS', 'NEG', 'NEG', 'NEG', 'POS', 'POS', 'NEG', 'NEG', 'NEG', 'POS', 'NEG', 'POS', 'NEG', 'POS', 'POS', 'POS', 'NEG', 'NEG', 'POS', 'POS', 'NEG', 'NEG', 'NEG', 'NEG', 'POS', 'POS', 'POS', 'POS', 'POS', 'NEG', 'POS', 'NEG', 'POS', 'NEG', 'POS', 'NEG', 'POS', 'NEG', 'NEG', 'NEG', 'NEG', 'POS', 'NEG', 'NEG', 'NEG', 'NEG', 'POS', 'NEG', 'POS', 'NEG', 'NEG', 'NEG', 'NEG', 'NEG', 'POS', 'POS', 'POS', 'NEG', 'POS', 'NEG', 'POS', 'NEG', 'POS', 'NEG', 'POS', 'POS', 'NEG', 'NEG', 'NEG', 'POS', 'NEG', 'POS', 'NEG', 'POS', 'NEG', 'POS', 'POS', 'NEG', 'POS', 'NEG', 'POS', 'NEG', 'POS', 'POS', 'NEG', 'NEG', 'NEG', 'NEG', 'NEG', 'NEG', 'POS', 'POS', 'NEG', 'POS', 'POS', 'POS', 'POS', 'NEG', 'POS', 'POS', 'POS', 'NEG', 'POS', 'NEG', 'NEG', 'POS', 'NEG', 'NEG', 'POS', 'POS', 'POS', 'POS', 'POS', 'NEG', 'POS', 'NEG', 'POS', 'NEG', 'POS', 'NEG', 'NEG', 'POS', 'NEG', 'POS', 'POS', 'NEG', 'POS', 'NEG', 'POS', 'POS', 'POS', 'POS', 'NEG', 'POS', 'POS', 'NEG', 'NEG', 'POS', 'POS', 'NEG', 'POS', 'POS', 'POS', 'POS', 'POS', 'POS', 'NEG', 'NEG', 'POS', 'NEG', 'POS', 'POS', 'NEG', 'POS', 'POS', 'POS', 'POS', 'POS', 'POS', 'NEG', 'POS', 'NEG', 'POS', 'NEG', 'NEG', 'POS', 'POS', 'NEG', 'NEG', 'POS', 'NEG', 'POS', 'NEG', 'POS', 'POS', 'POS', 'NEG', 'NEG', 'POS', 'POS', 'NEG', 'NEG', 'POS', 'POS', 'POS', 'NEG', 'POS', 'POS', 'POS', 'POS', 'POS', 'NEG', 'NEG', 'POS', 'POS', 'NEG', 'POS', 'NEG', 'NEG', 'POS', 'NEG', 'NEG', 'POS', 'POS', 'POS', 'NEG', 'NEG', 'POS', 'POS', 'NEG', 'NEG', 'NEG', 'POS', 'POS', 'POS', 'NEG', 'NEG', 'NEG', 'POS', 'NEG', 'POS', 'POS', 'NEG', 'NEG', 'POS', 'NEG', 'POS', 'POS', 'NEG', 'POS', 'NEG', 'NEG', 'NEG', 'NEG', 'POS', 'POS', 'NEG', 'NEG', 'POS', 'POS', 'NEG', 'NEG', 'NEG', 'POS', 'POS', 'NEG', 'NEG', 'NEG', 'POS', 'NEG', 'NEG', 'POS', 'POS', 'NEG', 'POS', 'POS', 'POS', 'POS', 'POS', 'POS', 'NEG', 'POS', 'NEG', 'POS', 'POS', 'NEG', 'NEG', 'POS', 'POS', 'POS', 'POS', 'POS', 'NEG', 'POS', 'POS', 'NEG', 'NEG', 'NEG', 'NEG', 'NEG', 'NEG', 'POS', 'NEG', 'NEG', 'NEG', 'NEG', 'POS', 'NEG', 'NEG', 'POS', 'NEG', 'NEG', 'NEG', 'NEG', 'NEG', 'POS', 'POS', 'POS', 'POS', 'POS', 'POS', 'NEG', 'NEG', 'POS', 'NEG', 'POS', 'POS', 'POS', 'POS', 'NEG', 'NEG', 'POS', 'NEG', 'NEG', 'NEG', 'POS', 'POS', 'NEG', 'POS', 'POS', 'NEG', 'POS', 'NEG', 'NEG', 'NEG', 'NEG', 'POS', 'POS', 'NEG', 'NEG', 'POS', 'POS', 'POS', 'NEG', 'NEG', 'NEG', 'POS', 'NEG', 'POS', 'NEG', 'POS', 'POS', 'POS', 'NEG', 'POS', 'NEG', 'POS', 'NEG', 'NEG', 'POS', 'NEG', 'POS', 'POS', 'NEG', 'POS', 'POS', 'NEG', 'NEG', 'POS', 'POS', 'POS', 'NEG', 'NEG', 'NEG', 'POS', 'POS', 'NEG', 'POS', 'POS', 'NEG', 'POS', 'NEG', 'NEG', 'POS', 'NEG', 'POS', 'POS', 'NEG', 'POS', 'POS', 'NEG', 'NEG', 'POS', 'POS', 'POS', 'NEG', 'POS', 'POS', 'NEG', 'NEG', 'NEG', 'NEG', 'NEG', 'POS', 'POS', 'NEG', 'NEG', 'NEG', 'NEG', 'NEG', 'POS', 'NEG', 'NEG', 'NEG', 'NEG', 'POS', 'POS', 'POS', 'NEG', 'NEG', 'POS', 'POS', 'NEG', 'POS', 'NEG', 'POS', 'NEG', 'NEG', 'NEG', 'POS', 'POS', 'NEG', 'POS', 'NEG', 'POS', 'NEG', 'POS', 'POS', 'POS', 'POS', 'POS', 'NEG', 'POS', 'POS', 'NEG', 'NEG', 'POS', 'POS', 'NEG', 'POS', 'NEG', 'POS', 'NEG', 'NEG', 'NEG', 'NEG', 'POS', 'POS', 'NEG', 'POS', 'POS', 'POS', 'POS', 'POS', 'POS', 'NEG', 'POS', 'POS', 'POS', 'NEG', 'POS', 'NEG', 'NEG', 'NEG', 'NEG', 'POS', 'NEG', 'POS', 'NEG', 'POS', 'POS', 'POS', 'POS', 'POS', 'POS', 'POS', 'NEG', 'POS', 'POS', 'NEG', 'POS', 'NEG', 'NEG', 'NEG', 'POS', 'NEG', 'POS', 'POS', 'POS', 'POS', 'NEG', 'NEG', 'NEG', 'NEG', 'NEG', 'NEG', 'NEG', 'NEG', 'NEG', 'NEG', 'POS', 'NEG', 'NEG', 'POS', 'NEG', 'NEG', 'POS', 'NEG', 'NEG', 'POS', 'POS', 'POS', 'NEG', 'POS', 'POS', 'NEG', 'NEG', 'POS', 'POS', 'NEG', 'NEG', 'POS', 'NEG', 'POS', 'NEG', 'NEG', 'NEG', 'NEG', 'NEG', 'POS', 'NEG', 'NEG', 'POS', 'NEG', 'NEG', 'POS', 'NEG', 'POS', 'POS', 'POS', 'NEG', 'POS', 'POS', 'POS', 'POS', 'POS', 'NEG', 'POS', 'POS', 'NEG', 'POS', 'POS', 'POS', 'POS', 'NEG', 'NEG', 'POS', 'POS', 'POS', 'NEG', 'NEG', 'NEG', 'POS', 'NEG', 'NEG', 'POS', 'POS', 'POS', 'NEG', 'POS', 'POS', 'POS', 'POS', 'NEG', 'NEG', 'POS', 'POS', 'NEG', 'NEG', 'POS', 'POS', 'NEG', 'POS', 'NEG', 'NEG', 'POS', 'NEG', 'POS', 'POS', 'POS', 'NEG', 'NEG', 'NEG', 'POS', 'NEG', 'NEG', 'POS', 'NEG', 'NEG', 'POS', 'POS', 'NEG', 'POS', 'POS', 'POS', 'POS', 'NEG', 'POS', 'POS', 'POS', 'POS', 'NEG', 'POS', 'POS', 'POS', 'NEG', 'POS', 'POS', 'POS', 'POS', 'POS', 'POS', 'NEG', 'NEG', 'POS', 'POS', 'POS', 'NEG', 'POS', 'NEG', 'NEG', 'POS', 'NEG', 'POS', 'NEG', 'POS', 'POS', 'NEG', 'POS', 'POS', 'POS', 'NEG', 'NEG', 'NEG', 'NEG', 'POS', 'POS', 'POS', 'NEG', 'NEG', 'POS', 'POS', 'POS', 'NEG', 'NEG', 'NEG', 'POS', 'POS', 'NEG', 'NEG', 'NEG', 'NEG', 'NEG', 'POS', 'NEG', 'POS', 'NEG', 'POS', 'NEG', 'POS', 'POS', 'NEG', 'NEG', 'POS', 'NEG', 'NEG', 'POS', 'NEG', 'POS', 'NEG', 'NEG', 'POS', 'POS', 'POS', 'NEG', 'POS', 'POS', 'POS', 'POS', 'NEG', 'POS', 'NEG', 'NEG', 'NEG', 'NEG', 'POS', 'POS', 'NEG', 'NEG', 'POS', 'POS', 'POS', 'POS', 'NEG', 'NEG', 'NEG', 'NEG', 'POS', 'NEG', 'POS', 'NEG', 'POS', 'POS', 'NEG', 'POS', 'POS', 'POS', 'POS', 'POS', 'POS', 'POS', 'POS', 'POS', 'POS', 'POS', 'POS', 'POS', 'POS', 'POS', 'POS', 'POS', 'NEG', 'POS', 'POS', 'NEG', 'POS', 'NEG', 'NEG', 'NEG', 'POS', 'NEG', 'NEG', 'POS', 'NEG', 'NEG', 'POS', 'POS', 'POS', 'NEG', 'NEG', 'NEG', 'POS', 'POS', 'NEG', 'NEG', 'NEG', 'POS', 'POS', 'POS', 'POS', 'POS', 'POS', 'NEG', 'NEG', 'NEG', 'NEG', 'POS', 'POS', 'NEG', 'NEG', 'POS', 'POS', 'POS', 'NEG', 'NEG', 'POS', 'POS', 'POS', 'POS', 'POS', 'POS', 'POS', 'NEG', 'POS', 'NEG', 'NEG', 'POS', 'POS', 'NEG', 'POS', 'POS', 'POS', 'POS', 'POS', 'NEG', 'POS', 'NEG', 'NEG', 'NEG', 'POS', 'POS', 'POS', 'NEG', 'NEG', 'NEG', 'POS', 'POS', 'NEG', 'POS', 'POS', 'POS', 'POS', 'NEG', 'NEG', 'POS', 'NEG', 'NEG', 'POS', 'POS', 'POS', 'NEG', 'POS', 'POS', 'NEG', 'NEG', 'POS', 'NEG', 'POS', 'NEG', 'POS', 'POS', 'POS', 'POS', 'NEG', 'NEG', 'POS', 'POS', 'POS', 'POS', 'NEG', 'POS', 'POS', 'NEG', 'NEG', 'NEG', 'NEG', 'POS', 'POS', 'POS', 'POS', 'POS', 'POS', 'POS', 'POS', 'POS', 'POS', 'POS', 'POS', 'POS', 'POS', 'NEG', 'POS', 'POS', 'POS', 'POS', 'POS', 'POS', 'NEG', 'POS', 'NEG', 'NEG', 'NEG', 'POS', 'POS', 'POS', 'POS', 'NEG', 'NEG', 'POS', 'POS', 'NEG', 'POS', 'POS', 'POS', 'POS', 'POS', 'NEG', 'NEG', 'NEG', 'NEG', 'NEG', 'POS', 'NEG', 'POS', 'POS', 'POS', 'NEG', 'POS', 'NEG', 'POS', 'NEG', 'POS', 'POS', 'POS', 'NEG', 'POS', 'NEG', 'POS', 'NEG', 'NEG', 'NEG', 'POS', 'NEG', 'POS', 'POS', 'POS', 'POS', 'POS', 'POS', 'NEG', 'POS', 'POS', 'POS', 'POS', 'NEG', 'POS', 'POS', 'POS', 'NEG', 'POS', 'POS', 'NEG', 'NEG', 'NEG', 'POS', 'POS', 'NEG', 'POS', 'NEG', 'NEG', 'POS', 'POS', 'NEG', 'NEG', 'POS', 'NEG', 'NEG', 'NEG', 'NEG', 'NEG', 'POS', 'NEG', 'POS', 'POS', 'POS', 'POS', 'POS', 'NEG', 'POS', 'POS', 'NEG', 'NEG', 'NEG', 'NEG', 'NEG', 'NEG', 'NEG', 'NEG', 'NEG', 'POS', 'NEG', 'NEG', 'NEG', 'POS', 'NEG', 'POS', 'NEG', 'POS', 'POS', 'NEG', 'POS', 'NEG', 'POS', 'POS', 'POS', 'NEG', 'POS', 'NEG', 'NEG', 'NEG', 'NEG', 'NEG', 'POS', 'POS', 'POS', 'NEG', 'NEG', 'NEG', 'POS', 'NEG', 'POS', 'NEG', 'POS', 'NEG', 'NEG', 'NEG', 'NEG', 'POS', 'POS', 'NEG', 'POS', 'NEG', 'POS', 'NEG', 'POS', 'POS', 'POS', 'POS', 'NEG', 'POS', 'NEG', 'NEG', 'POS', 'POS', 'POS', 'POS', 'POS', 'POS', 'POS', 'POS', 'NEG', 'NEG', 'NEG', 'NEG', 'POS', 'POS', 'POS', 'POS', 'POS', 'NEG', 'NEG', 'NEG', 'POS', 'POS', 'POS', 'NEG', 'POS', 'POS', 'POS', 'POS', 'POS', 'POS', 'POS', 'NEG', 'NEG', 'POS', 'NEG', 'POS', 'NEG', 'NEG', 'NEG', 'POS', 'NEG', 'NEG', 'NEG', 'POS', 'NEG', 'POS', 'POS', 'POS', 'NEG', 'POS', 'POS', 'NEG', 'NEG', 'POS', 'POS', 'NEG', 'POS', 'NEG', 'POS', 'NEG', 'NEG', 'NEG', 'POS', 'NEG', 'POS', 'POS', 'POS', 'POS', 'POS', 'POS', 'NEG', 'NEG', 'NEG', 'POS', 'NEG', 'NEG', 'POS', 'POS', 'POS', 'NEG', 'POS', 'POS', 'NEG', 'POS', 'POS', 'POS', 'NEG', 'NEG', 'POS', 'NEG', 'POS', 'POS', 'NEG', 'POS', 'POS', 'NEG', 'POS', 'POS', 'POS', 'POS', 'NEG', 'POS', 'POS', 'NEG', 'POS', 'NEG', 'NEG', 'NEG', 'NEG', 'NEG', 'NEG', 'POS', 'NEG', 'POS', 'POS', 'NEG', 'POS', 'NEG', 'POS', 'NEG', 'POS', 'POS', 'POS', 'NEG', 'POS', 'NEG', 'POS', 'NEG', 'POS', 'POS', 'NEG', 'NEG', 'POS', 'NEG', 'NEG', 'NEG', 'NEG', 'POS', 'NEG', 'NEG', 'NEG', 'NEG', 'NEG', 'POS', 'POS', 'NEG', 'NEG', 'NEG', 'NEG', 'NEG', 'NEG', 'NEG', 'POS', 'POS', 'POS', 'POS', 'NEG', 'NEG', 'POS', 'POS', 'POS', 'NEG', 'POS', 'POS', 'NEG', 'POS', 'NEG', 'POS', 'NEG', 'NEG', 'POS', 'POS', 'NEG', 'POS', 'NEG', 'POS', 'POS', 'POS', 'NEG', 'POS', 'NEG', 'NEG', 'NEG', 'POS', 'POS', 'POS', 'POS', 'POS', 'POS', 'POS', 'POS', 'POS', 'POS', 'NEG', 'NEG', 'POS', 'POS', 'NEG', 'NEG', 'NEG', 'POS', 'POS', 'NEG', 'POS', 'NEG', 'NEG', 'NEG', 'POS', 'NEG', 'NEG', 'POS', 'NEG', 'POS', 'POS', 'NEG', 'NEG', 'POS', 'POS', 'POS', 'POS', 'NEG', 'POS', 'POS', 'POS', 'POS', 'POS', 'POS', 'POS', 'NEG', 'POS', 'POS', 'POS', 'POS', 'NEG', 'POS', 'POS', 'POS', 'POS', 'POS', 'NEG', 'POS', 'POS', 'POS', 'NEG', 'POS', 'POS', 'NEG', 'POS', 'NEG', 'POS', 'NEG', 'POS', 'POS', 'NEG', 'NEG', 'POS', 'POS', 'NEG', 'POS', 'NEG', 'NEG', 'POS', 'POS', 'POS', 'NEG', 'POS', 'POS', 'POS', 'POS', 'NEG', 'POS', 'NEG', 'NEG', 'NEG', 'POS', 'POS', 'NEG', 'POS', 'NEG', 'POS', 'NEG', 'NEG', 'NEG', 'POS', 'NEG', 'POS', 'NEG', 'POS', 'NEG', 'NEG', 'NEG', 'NEG', 'POS', 'POS', 'POS', 'POS', 'POS', 'POS', 'NEG', 'POS', 'POS', 'NEG', 'POS', 'NEG', 'POS', 'NEG', 'POS', 'POS', 'POS', 'POS', 'POS', 'NEG', 'NEG', 'POS', 'POS', 'POS', 'POS', 'POS', 'POS', 'POS', 'POS', 'NEG', 'POS', 'NEG', 'POS', 'POS', 'POS', 'POS', 'NEG', 'POS', 'NEG', 'POS', 'POS', 'NEG', 'NEG', 'POS', 'POS', 'NEG', 'POS', 'NEG', 'NEG', 'POS', 'NEG', 'POS', 'NEG', 'POS', 'POS', 'POS', 'NEG', 'POS', 'POS', 'NEG', 'POS', 'NEG', 'NEG', 'NEG', 'NEG', 'NEG', 'NEG', 'NEG', 'POS', 'NEG', 'NEG', 'POS', 'POS', 'POS', 'NEG', 'NEG', 'POS', 'NEG', 'NEG', 'NEG', 'POS', 'NEG', 'NEG', 'NEG', 'POS', 'NEG', 'POS', 'NEG', 'POS', 'POS', 'NEG', 'POS', 'NEG', 'NEG', 'NEG', 'NEG', 'POS', 'POS', 'POS', 'NEG', 'NEG', 'POS', 'NEG', 'POS', 'POS', 'POS', 'POS', 'NEG', 'POS', 'NEG', 'NEG', 'NEG', 'NEG', 'POS', 'NEG', 'NEG', 'NEG', 'POS', 'POS', 'NEG', 'NEG', 'POS', 'POS', 'NEG', 'POS', 'NEG', 'NEG', 'NEG', 'POS', 'POS', 'NEG', 'POS', 'NEG', 'NEG', 'NEG', 'POS', 'POS', 'NEG', 'NEG', 'POS', 'POS', 'POS', 'NEG', 'NEG', 'POS', 'POS', 'POS', 'POS', 'NEG', 'POS', 'POS', 'NEG', 'NEG', 'POS', 'POS', 'POS', 'POS', 'NEG', 'NEG', 'NEG', 'NEG', 'POS', 'POS', 'POS', 'POS', 'POS', 'POS', 'NEG', 'NEG', 'NEG', 'NEG', 'POS', 'POS', 'NEG', 'NEG', 'NEG', 'NEG', 'NEG', 'NEG', 'NEG', 'NEG', 'NEG', 'POS', 'NEG', 'NEG', 'POS', 'NEG', 'NEG', 'POS', 'POS', 'POS', 'POS', 'POS', 'NEG', 'NEG', 'NEG', 'NEG', 'NEG', 'POS', 'POS', 'NEG', 'NEG', 'NEG', 'POS', 'POS', 'POS', 'POS', 'POS', 'POS', 'NEG', 'POS', 'POS', 'NEG', 'NEG', 'NEG', 'POS', 'NEG', 'POS', 'POS', 'POS', 'POS', 'POS', 'POS', 'NEG', 'POS', 'POS', 'NEG', 'NEG', 'POS', 'POS', 'POS', 'POS', 'NEG', 'POS', 'NEG', 'POS', 'NEG', 'POS', 'POS', 'POS', 'POS', 'POS', 'NEG', 'NEG', 'POS', 'NEG', 'NEG', 'POS', 'POS', 'POS', 'NEG', 'POS', 'NEG', 'NEG', 'POS', 'NEG', 'POS', 'POS', 'POS', 'NEG', 'NEG', 'NEG', 'POS', 'POS', 'POS', 'NEG', 'POS', 'POS', 'POS', 'NEG', 'NEG', 'NEG', 'POS', 'POS', 'NEG', 'NEG', 'POS', 'POS', 'POS', 'POS', 'POS', 'POS', 'NEG', 'NEG', 'POS', 'NEG', 'POS', 'POS', 'POS', 'POS', 'NEG', 'POS', 'NEG', 'NEG', 'POS', 'POS', 'POS', 'POS', 'NEG', 'POS', 'NEG', 'NEG', 'POS', 'NEG', 'NEG', 'NEG', 'NEG', 'NEG', 'POS', 'POS', 'POS', 'POS', 'NEG', 'POS', 'NEG', 'NEG', 'NEG', 'POS', 'POS', 'NEG', 'POS', 'NEG', 'NEG', 'POS', 'POS', 'NEG', 'NEG', 'POS', 'POS', 'NEG', 'NEG', 'NEG', 'POS', 'NEG', 'POS', 'POS', 'NEG', 'POS', 'NEG', 'NEG', 'POS', 'NEG', 'NEG', 'NEG', 'NEG', 'POS', 'POS', 'POS', 'NEG', 'NEG', 'POS', 'POS', 'NEG', 'POS', 'NEG', 'POS', 'NEG', 'POS', 'POS', 'NEG', 'POS', 'POS', 'NEG', 'NEG', 'POS', 'POS', 'POS', 'NEG', 'POS', 'POS', 'NEG', 'NEG', 'POS', 'NEG', 'NEG', 'POS', 'POS', 'NEG', 'POS', 'NEG', 'POS', 'NEG', 'NEG', 'POS', 'NEG', 'NEG', 'NEG', 'NEG', 'POS', 'NEG', 'POS', 'NEG', 'POS', 'POS', 'POS', 'NEG', 'POS', 'POS', 'NEG', 'POS', 'POS', 'POS', 'POS', 'POS', 'POS', 'POS', 'NEG', 'NEG', 'NEG', 'NEG', 'POS', 'POS', 'NEG', 'NEG', 'NEG', 'POS', 'POS', 'POS', 'POS', 'NEG', 'POS', 'NEG', 'POS', 'NEG', 'POS', 'POS', 'POS', 'NEG', 'POS', 'POS', 'POS', 'NEG', 'POS', 'POS', 'NEG', 'NEG', 'NEG', 'POS', 'NEG', 'POS', 'POS', 'POS', 'NEG', 'NEG', 'POS', 'NEG', 'NEG', 'POS', 'POS', 'NEG', 'NEG', 'NEG', 'POS', 'POS', 'POS', 'POS', 'POS', 'NEG', 'NEG', 'NEG', 'POS', 'NEG', 'POS', 'NEG', 'POS', 'NEG', 'POS', 'NEG', 'NEG', 'POS', 'NEG', 'POS', 'POS', 'NEG', 'NEG', 'NEG', 'POS', 'NEG', 'POS', 'POS', 'POS', 'POS', 'POS', 'POS', 'POS', 'POS', 'NEG', 'POS', 'POS', 'POS', 'POS', 'NEG', 'NEG', 'NEG', 'POS', 'POS', 'POS', 'NEG', 'NEG', 'POS', 'POS', 'NEG', 'POS', 'NEG', 'POS', 'NEG', 'NEG', 'POS', 'POS', 'NEG', 'POS', 'NEG', 'NEG', 'POS', 'NEG', 'POS', 'NEG', 'NEG', 'POS', 'POS', 'NEG', 'NEG', 'POS', 'NEG', 'NEG', 'NEG', 'NEG', 'NEG', 'POS', 'NEG', 'NEG', 'NEG', 'POS', 'NEG', 'NEG', 'POS', 'NEG', 'NEG', 'NEG', 'POS', 'POS', 'NEG', 'NEG', 'POS', 'POS', 'POS', 'NEG', 'POS', 'POS', 'POS', 'POS', 'POS', 'POS', 'POS', 'POS', 'NEG', 'NEG', 'POS', 'NEG', 'NEG', 'POS', 'POS', 'NEG', 'POS', 'POS', 'NEG', 'POS', 'POS', 'POS', 'NEG', 'POS', 'NEG', 'NEG', 'POS', 'NEG', 'NEG', 'NEG', 'NEG', 'NEG', 'POS', 'POS', 'NEG', 'POS', 'POS', 'POS', 'POS', 'NEG', 'NEG', 'POS', 'NEG', 'POS', 'POS', 'NEG', 'NEG', 'POS', 'POS', 'NEG', 'POS', 'POS', 'NEG', 'POS', 'POS', 'POS', 'POS', 'NEG', 'NEG', 'NEG', 'POS', 'POS', 'POS', 'NEG', 'NEG', 'NEG', 'POS', 'NEG', 'POS', 'POS', 'POS', 'NEG', 'POS', 'POS', 'POS', 'POS', 'POS', 'NEG', 'POS', 'NEG', 'NEG', 'NEG', 'POS', 'NEG', 'NEG', 'POS', 'POS', 'POS', 'NEG', 'NEG', 'NEG', 'POS', 'POS', 'NEG', 'POS', 'NEG', 'NEG', 'POS', 'POS', 'POS', 'POS', 'POS', 'POS', 'NEG', 'POS', 'POS', 'NEG', 'NEG', 'POS', 'POS', 'POS', 'POS', 'NEG', 'NEG', 'POS', 'POS', 'NEG', 'POS', 'NEG', 'NEG', 'NEG', 'POS', 'NEG', 'POS', 'NEG', 'NEG', 'POS', 'NEG', 'POS', 'POS', 'NEG', 'NEG', 'POS', 'POS', 'NEG', 'POS', 'POS', 'POS', 'NEG', 'POS', 'NEG', 'NEG', 'NEG', 'NEG', 'POS', 'POS', 'POS', 'NEG', 'POS', 'NEG', 'POS', 'POS', 'NEG', 'POS', 'NEG', 'NEG', 'NEG', 'NEG', 'POS', 'NEG', 'POS', 'POS', 'POS', 'POS', 'POS', 'NEG', 'POS', 'NEG', 'NEG', 'NEG', 'POS', 'POS', 'NEG', 'POS', 'NEG', 'POS', 'POS', 'POS', 'POS', 'NEG', 'POS', 'POS', 'NEG', 'POS', 'POS', 'POS', 'NEG', 'POS', 'POS', 'NEG', 'NEG', 'NEG', 'NEG', 'POS', 'POS', 'POS', 'POS', 'NEG', 'POS', 'POS', 'NEG', 'POS', 'POS', 'POS', 'POS', 'POS', 'NEG', 'NEG', 'NEG', 'POS', 'POS', 'POS', 'POS', 'POS', 'NEG', 'NEG', 'POS', 'POS', 'NEG', 'POS', 'NEG', 'NEG', 'NEG', 'NEG', 'NEG', 'POS', 'NEG', 'POS', 'NEG', 'NEG', 'POS', 'POS', 'POS', 'POS', 'NEG', 'POS', 'NEG', 'NEG', 'POS', 'POS', 'NEG', 'NEG', 'NEG', 'NEG', 'NEG', 'POS', 'NEG', 'POS', 'POS', 'NEG', 'NEG', 'POS', 'POS', 'POS', 'POS', 'NEG', 'POS', 'POS', 'NEG', 'POS', 'POS', 'POS', 'NEG', 'POS', 'POS', 'POS', 'POS', 'POS', 'POS', 'NEG', 'POS', 'NEG', 'POS', 'NEG', 'NEG', 'POS', 'POS', 'NEG', 'NEG', 'POS', 'POS', 'POS', 'POS', 'NEG', 'POS', 'POS', 'NEG', 'POS', 'POS', 'NEG', 'POS', 'NEG', 'NEG', 'POS', 'NEG', 'NEG', 'POS', 'POS', 'NEG', 'POS', 'POS', 'NEG', 'POS', 'POS', 'POS', 'NEG', 'POS', 'POS', 'POS', 'POS', 'NEG', 'POS', 'POS', 'POS', 'NEG', 'POS', 'NEG', 'POS', 'POS', 'NEG', 'POS', 'NEG', 'NEG', 'NEG', 'POS', 'POS', 'NEG', 'POS', 'POS', 'NEG', 'POS', 'POS', 'POS', 'NEG', 'POS', 'NEG', 'POS', 'NEG', 'NEG', 'NEG', 'POS', 'NEG', 'POS', 'POS', 'NEG', 'NEG', 'NEG', 'NEG', 'NEG', 'NEG', 'NEG', 'POS', 'POS', 'NEG', 'NEG', 'POS', 'NEG', 'POS', 'POS', 'NEG', 'NEG', 'POS', 'POS', 'POS', 'POS', 'NEG', 'POS', 'POS', 'POS', 'POS', 'POS', 'POS', 'POS', 'NEG', 'NEG', 'POS', 'POS', 'NEG', 'POS', 'POS', 'NEG', 'NEG', 'NEG', 'NEG', 'POS', 'POS', 'NEG', 'NEG', 'POS', 'NEG', 'NEG', 'NEG', 'NEG', 'POS', 'POS', 'POS', 'NEG', 'POS', 'NEG', 'NEG', 'POS', 'POS', 'POS', 'NEG', 'NEG', 'POS', 'POS', 'NEG', 'POS', 'POS', 'NEG', 'POS', 'NEG', 'POS', 'POS', 'NEG', 'NEG', 'NEG', 'POS', 'POS', 'NEG', 'NEG', 'POS', 'POS', 'POS', 'NEG', 'POS', 'NEG', 'NEG', 'POS', 'NEG', 'NEG', 'POS', 'NEG', 'POS', 'NEG', 'NEG', 'POS', 'POS', 'NEG', 'POS', 'NEG', 'NEG', 'NEG', 'POS', 'NEG', 'POS', 'NEG', 'POS', 'POS', 'NEG', 'POS', 'NEG', 'POS', 'POS', 'NEG', 'NEG', 'NEG', 'NEG', 'POS', 'POS', 'NEG', 'NEG', 'POS', 'NEG', 'POS', 'NEG', 'NEG', 'NEG', 'NEG', 'NEG', 'POS', 'POS', 'NEG', 'POS', 'POS', 'NEG', 'NEG', 'POS', 'NEG', 'POS', 'POS', 'NEG', 'POS', 'POS', 'POS', 'NEG', 'POS', 'NEG', 'POS', 'NEG', 'POS', 'POS', 'POS', 'NEG', 'POS', 'POS', 'NEG', 'NEG', 'NEG', 'NEG', 'NEG', 'NEG', 'POS', 'POS', 'POS', 'POS', 'NEG', 'NEG', 'NEG', 'NEG', 'NEG', 'POS', 'NEG', 'POS', 'POS', 'NEG', 'NEG', 'POS', 'POS', 'NEG', 'POS', 'POS', 'POS', 'POS', 'POS', 'POS', 'NEG', 'POS', 'POS', 'NEG', 'NEG', 'POS', 'POS', 'POS', 'NEG', 'NEG', 'POS', 'POS', 'POS', 'POS', 'POS', 'POS', 'POS', 'NEG', 'NEG', 'POS', 'NEG', 'NEG', 'NEG', 'NEG', 'NEG', 'POS', 'POS', 'NEG', 'NEG', 'NEG', 'POS', 'POS', 'NEG', 'POS', 'POS', 'NEG', 'POS', 'NEG', 'NEG', 'NEG', 'POS', 'NEG', 'POS', 'POS', 'NEG', 'NEG', 'POS', 'NEG', 'NEG', 'POS', 'NEG', 'POS', 'NEG', 'POS', 'NEG', 'NEG', 'NEG', 'POS', 'NEG', 'POS', 'NEG', 'POS', 'POS', 'POS', 'NEG', 'POS', 'POS', 'NEG', 'NEG', 'POS', 'NEG', 'NEG', 'POS', 'POS', 'POS', 'POS', 'POS', 'POS', 'POS', 'NEG', 'POS', 'POS', 'POS', 'POS', 'NEG', 'POS', 'NEG', 'NEG', 'NEG', 'NEG', 'POS', 'NEG', 'POS', 'POS', 'POS', 'POS', 'POS', 'NEG', 'POS', 'POS', 'NEG', 'NEG', 'NEG', 'NEG', 'POS', 'POS', 'NEG', 'POS', 'POS', 'POS', 'POS', 'POS', 'NEG', 'NEG', 'NEG', 'POS', 'NEG', 'NEG', 'NEG', 'NEG', 'NEG', 'NEG', 'POS', 'NEG', 'POS', 'NEG', 'POS', 'POS', 'POS', 'NEG', 'POS', 'POS', 'POS', 'POS', 'NEG', 'NEG', 'POS', 'NEG', 'POS', 'NEG', 'NEG', 'POS', 'NEG', 'NEG', 'POS', 'POS', 'POS', 'NEG', 'NEG', 'NEG', 'POS', 'POS', 'POS', 'POS', 'NEG', 'POS', 'NEG', 'POS', 'POS', 'POS', 'NEG', 'POS', 'POS', 'POS', 'POS', 'POS', 'POS', 'NEG', 'NEG', 'POS', 'POS', 'NEG', 'NEG', 'POS', 'NEG', 'NEG', 'NEG', 'NEG', 'NEG', 'NEG', 'POS', 'NEG', 'NEG', 'POS', 'NEG', 'NEG', 'NEG', 'NEG', 'NEG', 'POS', 'NEG', 'NEG', 'POS', 'POS', 'POS', 'NEG', 'POS', 'POS', 'POS', 'POS', 'NEG', 'POS', 'POS', 'POS', 'POS', 'POS', 'NEG', 'POS', 'POS', 'POS', 'NEG', 'NEG', 'POS', 'POS', 'POS', 'POS', 'NEG', 'POS', 'NEG', 'NEG', 'NEG', 'NEG', 'POS', 'NEG', 'NEG', 'POS', 'NEG', 'NEG', 'POS', 'NEG', 'NEG', 'NEG', 'POS', 'NEG', 'NEG', 'POS', 'NEG', 'POS', 'POS', 'NEG', 'POS', 'POS', 'NEG', 'POS', 'POS', 'POS', 'POS', 'NEG', 'NEG', 'POS', 'NEG', 'POS', 'NEG', 'POS', 'POS', 'POS', 'POS', 'POS', 'POS', 'NEG', 'POS', 'NEG', 'POS', 'POS', 'POS', 'NEG', 'NEG', 'POS', 'NEG', 'NEG', 'NEG', 'POS', 'NEG', 'POS', 'POS', 'POS', 'POS', 'POS', 'NEG', 'NEG', 'NEG', 'POS', 'NEG', 'POS', 'NEG', 'POS', 'POS', 'POS', 'POS', 'NEG', 'POS', 'POS', 'NEG', 'NEG', 'NEG', 'NEG', 'POS', 'POS', 'POS', 'NEG', 'POS', 'NEG', 'POS', 'NEG', 'POS', 'POS', 'NEG', 'NEG', 'POS', 'POS', 'NEG', 'NEG', 'POS', 'NEG', 'POS', 'NEG', 'NEG', 'NEG', 'POS', 'POS', 'NEG', 'POS', 'NEG', 'NEG', 'NEG', 'POS', 'NEG', 'POS', 'POS', 'POS', 'NEG', 'NEG', 'POS', 'NEG', 'POS', 'POS', 'POS', 'NEG', 'NEG', 'NEG', 'NEG', 'NEG', 'POS', 'NEG', 'POS', 'POS', 'POS', 'POS', 'NEG', 'POS', 'NEG', 'POS', 'NEG', 'POS', 'POS', 'POS', 'NEG', 'NEG', 'NEG', 'NEG', 'NEG', 'NEG', 'NEG', 'NEG', 'POS', 'NEG', 'POS', 'POS', 'POS', 'NEG', 'POS', 'NEG', 'POS', 'POS', 'NEG', 'NEG', 'POS', 'NEG', 'NEG', 'POS', 'POS', 'NEG', 'POS', 'NEG', 'NEG', 'NEG', 'POS', 'POS', 'NEG', 'POS', 'POS', 'NEG', 'POS', 'NEG', 'POS', 'POS', 'NEG', 'POS', 'NEG', 'POS', 'POS', 'NEG', 'POS', 'NEG', 'NEG', 'POS', 'NEG', 'NEG', 'NEG', 'POS', 'POS', 'NEG', 'POS', 'POS', 'NEG', 'NEG', 'NEG', 'NEG', 'NEG', 'POS', 'POS', 'NEG', 'POS', 'NEG', 'POS', 'NEG', 'POS', 'NEG', 'POS']\n"
     ]
    }
   ],
   "source": [
    "## Build Naive Bayes classification model\n",
    "\n",
    "NB_model_ara = MultinomialNB(alpha = 1.0)\n",
    "NB_model_ara.fit(X_train_ara, y_train_ara)\n",
    "print(X_train_ara)\n",
    "print(y_train_ara)\n",
    "\n",
    "\n",
    "NB_model_tun = MultinomialNB(alpha = 1.0)\n",
    "NB_model_tun.fit(X_train_tun, y_train_tun)\n",
    "print(X_train_tun)\n",
    "print(y_train_tun)"
   ]
  },
  {
   "cell_type": "code",
   "execution_count": 50,
   "metadata": {},
   "outputs": [],
   "source": [
    "# Use this model to predict the sentiment category of test documents\n",
    "y_pred_NB_ara = NB_model_ara.predict(X_test_ara)\n",
    "y_pred_NB_tun = NB_model_tun.predict(X_test_tun)"
   ]
  },
  {
   "cell_type": "code",
   "execution_count": 51,
   "metadata": {},
   "outputs": [
    {
     "name": "stdout",
     "output_type": "stream",
     "text": [
      "0.8574138476130256 0.7923875432525952\n"
     ]
    }
   ],
   "source": [
    "# Classification rate\n",
    "print(metrics.accuracy_score(y_test_ara, y_pred_NB_ara),metrics.accuracy_score(y_test_tun, y_pred_NB_tun))"
   ]
  },
  {
   "cell_type": "markdown",
   "metadata": {},
   "source": [
    "****"
   ]
  },
  {
   "cell_type": "code",
   "execution_count": 52,
   "metadata": {},
   "outputs": [],
   "source": [
    "import pickle\n",
    "filename1 = 'sentiment_analysis_model_ara.sav'\n",
    "filename2 = 'sentiment_analysis_model_tun.sav'\n",
    "filename3 = 'bow_model_ara.sav'\n",
    "filename4 = 'bow_model_tun.sav'\n",
    "pickle.dump(NB_model_ara, open(filename1, 'wb'))\n",
    "pickle.dump(NB_model_tun, open(filename2, 'wb'))\n",
    "pickle.dump(bow_model_ara, open(filename3, 'wb'))\n",
    "pickle.dump(bow_model_tun, open(filename4, 'wb'))\n",
    "\n",
    "\n",
    "loaded_model_ara = pickle.load(open('sentiment_analysis_model_ara.sav', 'rb'))\n",
    "loaded_model_tun = pickle.load(open('sentiment_analysis_model_tun.sav', 'rb'))\n",
    "bow_model_ara = pickle.load(open('bow_model_ara.sav', 'rb'))\n",
    "bow_model_tun = pickle.load(open('bow_model_tun.sav', 'rb'))"
   ]
  },
  {
   "cell_type": "code",
   "execution_count": 54,
   "metadata": {},
   "outputs": [
    {
     "name": "stdout",
     "output_type": "stream",
     "text": [
      "0.721874882490942\n"
     ]
    },
    {
     "data": {
      "text/plain": [
       "'NEG'"
      ]
     },
     "execution_count": 54,
     "metadata": {},
     "output_type": "execute_result"
    }
   ],
   "source": [
    "def predict_sentiment_ara(text):\n",
    "    inst=[]\n",
    "    inst.append(text)\n",
    "    text_vect=bow_model_ara.transform(inst)\n",
    "    prob=loaded_model_ara.predict_proba(text_vect)[0]\n",
    "    x=prob[0]\n",
    "    print(x)\n",
    "    if x <0.8 and x>0.2:\n",
    "        return(\"neutre\")\n",
    "    else:\n",
    "        return loaded_model_ara.predict(text_vect)[0]\n",
    "\n",
    "def predict_sentiment_tun(text):\n",
    "    inst=[]\n",
    "    inst.append(text)\n",
    "    text_vect=bow_model_tun.transform(inst)\n",
    "    prob=loaded_model_tun.predict_proba(text_vect)[0]\n",
    "    x=prob[0]\n",
    "    print(x)\n",
    "    if x <0.7 and x>0.3:\n",
    "        return(\"neutre\")\n",
    "    else:\n",
    "        return loaded_model_tun.predict(text_vect)[0]\n",
    "    \n",
    "#predict_sentiment_ara(\" لحميد العيب \")\n",
    "predict_sentiment_tun(\"رة عملوها الفقراء والمحتاجين و المظلومين ثورة القضاء عالفقر و البطالة و الاحتياج أما هذا الكل مصارش منو شي ... الثورة فكوها الأحزاب و السياسيين ثورة الشباب فكوها الشياب و العجائز و فكوها السراق و المافيات .. البطالة في إرتفاع متزايد و الفقر في إرتفاع متزايد و حتى الطبقة المتوسطة قضاو علاها ... ثورة فيبالنا باش تحسن أوضاعنا المعيشية فجأة ركبو الشواذ و المثليين و العاهرات و القرودة عالحدث و ولاو تقول علاهم اصحاب حق في الثورة باش يحققو مطالبهم اللاأخلاقية ... ثورة زيادة العهر و زيادة الشواذ و المثليين و القرودة و زيادة البطالة و الفقر و التهميش الخ الخ الخ\")"
   ]
  },
  {
   "cell_type": "code",
   "execution_count": null,
   "metadata": {},
   "outputs": [],
   "source": []
  }
 ],
 "metadata": {
  "kernelspec": {
   "display_name": "Python 3",
   "language": "python",
   "name": "python3"
  },
  "language_info": {
   "codemirror_mode": {
    "name": "ipython",
    "version": 3
   },
   "file_extension": ".py",
   "mimetype": "text/x-python",
   "name": "python",
   "nbconvert_exporter": "python",
   "pygments_lexer": "ipython3",
   "version": "3.6.5"
  }
 },
 "nbformat": 4,
 "nbformat_minor": 2
}
